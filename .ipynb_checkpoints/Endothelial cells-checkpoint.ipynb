{
 "cells": [
  {
   "cell_type": "code",
   "execution_count": 1,
   "metadata": {},
   "outputs": [],
   "source": [
    "import pandas as pd\n",
    "\n",
    "from scipy.optimize import fsolve\n",
    "from openpyxl import load_workbook\n",
    "\n",
    "import numpy as np\n",
    "import uncertainties as uc\n",
    "\n",
    "pd.options.display.float_format ='{:,.3f}'.format\n",
    "import matplotlib.pyplot as plt\n",
    "%matplotlib inline  \n",
    "from IPython.display import Image\n",
    "from IPython.core.display import HTML \n",
    "\n",
    "from scipy import integrate\n",
    "import scipy.stats as stats\n",
    "from uncertainties import ufloat\n",
    "from uncertainties import unumpy\n",
    "from sklearn.linear_model import LinearRegression"
   ]
  },
  {
   "cell_type": "markdown",
   "metadata": {},
   "source": [
    "# Endothelial cells\n",
    "Cells that line the interior surface of blood vessels, forming an interface between circulating blood or lymph in the lumen and the rest of the vessel wall. In order to estimate their turnover rates, we update previous calculation of their number [Sender et al., 2016](https://journals.plos.org/plosbiology/article?id=10.1371/journal.pbio.1002533) and use review the literature for an estimate of their lifespan"
   ]
  },
  {
   "cell_type": "markdown",
   "metadata": {},
   "source": [
    "## Database for the results\n",
    "We defing a dataframe conatinig the parameters we are interested in\n"
   ]
  },
  {
   "cell_type": "code",
   "execution_count": 7,
   "metadata": {},
   "outputs": [],
   "source": [
    "endo_results = pd.DataFrame(index=['number','lifespan',\n",
    "                                   'cellular turnover rate','cell mass',\n",
    "                                   'cellular mass turnover rate','total cellular mass'],\n",
    "                            columns = ['Value','Units','Uncertainty','Formats','val+unc'])\n",
    "\n",
    "endo_results['Units'] = ['cells','days','cells per day','pg','grams per day', 'grams']\n",
    "endo_results['Formats'] = ['{:0.1eP}','{:0.1fP}','{:0.1eP}','{:0.0fP}','{:0.1fP}','{:0.0fP}']\n",
    "\n",
    "\n",
    "'''\n",
    "A utility method for printing a parameter with a multiplication uncertainty\n",
    " '''\n",
    "\n",
    "def print_res_param(param):\n",
    "    if isinstance(endo_results.loc[param,'val+unc'],uc.UFloat):\n",
    "        ref_value = endo_results.loc[param,'val+unc']\n",
    "    else:\n",
    "        ref_value = ufloat(endo_results.loc[param,'Value'],\n",
    "                           endo_results.loc[param,'Uncertainty'])\n",
    "    print('{} of neutrophils:'.format(param.capitalize()),\n",
    "          endo_results.loc[param,'Formats'].format(ref_value),\n",
    "          endo_results.loc[param,'Units'])"
   ]
  },
  {
   "cell_type": "markdown",
   "metadata": {},
   "source": [
    "## Numebr of endothelial cells\n",
    "Estimation of endothelial cells numebr was done by dividing the blood vessels system to the different types of blood vessels and estimating the overall surface area of each kind. Using the average area of single endothelium to derive their density, we compute their number by multiplication of the total surface area by the density (there is a single layer of endothelial cells coating the vessels)\n",
    "\n",
    "We base our estimates on [ICRP, 2002](http://www.icrp.org/publication.asp?id=ICRP%20Publication%2089) which summarize a literature survey. We use a comparison with some of the data they aggregated, to get an estimate for their error.  "
   ]
  },
  {
   "cell_type": "code",
   "execution_count": 2,
   "metadata": {},
   "outputs": [
    {
     "data": {
      "text/html": [
       "<div>\n",
       "<style scoped>\n",
       "    .dataframe tbody tr th:only-of-type {\n",
       "        vertical-align: middle;\n",
       "    }\n",
       "\n",
       "    .dataframe tbody tr th {\n",
       "        vertical-align: top;\n",
       "    }\n",
       "\n",
       "    .dataframe thead th {\n",
       "        text-align: right;\n",
       "    }\n",
       "</style>\n",
       "<table border=\"1\" class=\"dataframe\">\n",
       "  <thead>\n",
       "    <tr style=\"text-align: right;\">\n",
       "      <th></th>\n",
       "      <th>% of volume - ICRP, 2002</th>\n",
       "      <th>% of volume - Rothe, 1983</th>\n",
       "      <th>min diameter (cm)</th>\n",
       "      <th>max diameter (cm)</th>\n",
       "    </tr>\n",
       "    <tr>\n",
       "      <th>Vessel type</th>\n",
       "      <th></th>\n",
       "      <th></th>\n",
       "      <th></th>\n",
       "      <th></th>\n",
       "    </tr>\n",
       "  </thead>\n",
       "  <tbody>\n",
       "    <tr>\n",
       "      <th>Aorta and large arteries</th>\n",
       "      <td>0.060</td>\n",
       "      <td>0.110</td>\n",
       "      <td>0.200</td>\n",
       "      <td>0.600</td>\n",
       "    </tr>\n",
       "    <tr>\n",
       "      <th>small arteries</th>\n",
       "      <td>0.130</td>\n",
       "      <td>0.037</td>\n",
       "      <td>0.001</td>\n",
       "      <td>0.003</td>\n",
       "    </tr>\n",
       "    <tr>\n",
       "      <th>Capillaries</th>\n",
       "      <td>0.070</td>\n",
       "      <td>0.039</td>\n",
       "      <td>0.001</td>\n",
       "      <td>0.001</td>\n",
       "    </tr>\n",
       "    <tr>\n",
       "      <th>Small veins</th>\n",
       "      <td>0.470</td>\n",
       "      <td>0.442</td>\n",
       "      <td>0.002</td>\n",
       "      <td>0.004</td>\n",
       "    </tr>\n",
       "    <tr>\n",
       "      <th>Large veins</th>\n",
       "      <td>0.180</td>\n",
       "      <td>0.372</td>\n",
       "      <td>0.500</td>\n",
       "      <td>1.000</td>\n",
       "    </tr>\n",
       "  </tbody>\n",
       "</table>\n",
       "</div>"
      ],
      "text/plain": [
       "                          % of volume - ICRP, 2002  % of volume - Rothe, 1983  \\\n",
       "Vessel type                                                                     \n",
       "Aorta and large arteries                     0.060                      0.110   \n",
       "small arteries                               0.130                      0.037   \n",
       "Capillaries                                  0.070                      0.039   \n",
       "Small veins                                  0.470                      0.442   \n",
       "Large veins                                  0.180                      0.372   \n",
       "\n",
       "                          min diameter (cm)  max diameter (cm)  \n",
       "Vessel type                                                     \n",
       "Aorta and large arteries              0.200              0.600  \n",
       "small arteries                        0.001              0.003  \n",
       "Capillaries                           0.001              0.001  \n",
       "Small veins                           0.002              0.004  \n",
       "Large veins                           0.500              1.000  "
      ]
     },
     "execution_count": 2,
     "metadata": {},
     "output_type": "execute_result"
    }
   ],
   "source": [
    "vessels = pd.read_excel('Endothelial_cells_data.xlsx',\n",
    "                        'Blood_vessels_volume',\n",
    "                        index_col=0,usecols = range(5))\n",
    "vessels.head()"
   ]
  },
  {
   "cell_type": "markdown",
   "metadata": {},
   "source": [
    "The volume in  [ICRP, 2002](http://www.icrp.org/publication.asp?id=ICRP%20Publication%2089) estimate summed up for less than 100%, because about 10% of the blood volume is in the heart. We normalized the other data to match this:"
   ]
  },
  {
   "cell_type": "code",
   "execution_count": 3,
   "metadata": {},
   "outputs": [],
   "source": [
    "total_BV = 5.2 #blood volume of the ref. man. in liters\n",
    "\n",
    "#we use the difference between ICRP and the normalized value of Rothe, 1983 as the error estimates\n",
    "volume_SD = np.abs(vessels['% of volume - ICRP, 2002']-vessels['% of volume - Rothe, 1983']*vessels['% of volume - ICRP, 2002'].sum(axis=0))\n",
    "\n",
    "vessels['volume L'] = total_BV*unumpy.uarray(vessels['% of volume - ICRP, 2002'],volume_SD)\n",
    "\n",
    "#using the range for diameters to derive value and SD\n",
    "vessels['diameter cm'] = unumpy.uarray(vessels[['min diameter (cm)','max diameter (cm)']].mean(axis=1),(vessels['max diameter (cm)']-vessels['min diameter (cm)'])/2 )\n",
    "\n",
    "#using the volume and diameter to derive the total length of each vessel type:\n",
    "vessels['length cm'] = 1000*vessels['volume L']/(np.pi*(vessels['diameter cm']/2)**2) #moving from L to cm^3\n",
    "\n",
    "#from length we can compute the total surface area of each of the vessel types\n",
    "vessels['SA cm2'] = vessels['length cm']*vessels['diameter cm']*np.pi\n"
   ]
  },
  {
   "cell_type": "markdown",
   "metadata": {},
   "source": [
    "We now load the data regarding the properties of an endothelium cell, taken from [Félétou, 2011](https://www.ncbi.nlm.nih.gov/pubmed/21850763) and [Burton, 1954](https://www.ncbi.nlm.nih.gov/pubmed/13215088) and use them to derive the total number of endothelial cells"
   ]
  },
  {
   "cell_type": "code",
   "execution_count": 4,
   "metadata": {},
   "outputs": [
    {
     "data": {
      "text/html": [
       "<div>\n",
       "<style scoped>\n",
       "    .dataframe tbody tr th:only-of-type {\n",
       "        vertical-align: middle;\n",
       "    }\n",
       "\n",
       "    .dataframe tbody tr th {\n",
       "        vertical-align: top;\n",
       "    }\n",
       "\n",
       "    .dataframe thead th {\n",
       "        text-align: right;\n",
       "    }\n",
       "</style>\n",
       "<table border=\"1\" class=\"dataframe\">\n",
       "  <thead>\n",
       "    <tr style=\"text-align: right;\">\n",
       "      <th></th>\n",
       "      <th>units</th>\n",
       "      <th>value</th>\n",
       "      <th>SD</th>\n",
       "    </tr>\n",
       "    <tr>\n",
       "      <th>parameter</th>\n",
       "      <th></th>\n",
       "      <th></th>\n",
       "      <th></th>\n",
       "    </tr>\n",
       "  </thead>\n",
       "  <tbody>\n",
       "    <tr>\n",
       "      <th>length</th>\n",
       "      <td>µm</td>\n",
       "      <td>60</td>\n",
       "      <td>5.000</td>\n",
       "    </tr>\n",
       "    <tr>\n",
       "      <th>width</th>\n",
       "      <td>µm</td>\n",
       "      <td>20</td>\n",
       "      <td>5.000</td>\n",
       "    </tr>\n",
       "    <tr>\n",
       "      <th>depth</th>\n",
       "      <td>µm</td>\n",
       "      <td>1</td>\n",
       "      <td>0.300</td>\n",
       "    </tr>\n",
       "  </tbody>\n",
       "</table>\n",
       "</div>"
      ],
      "text/plain": [
       "          units  value    SD\n",
       "parameter                   \n",
       "length       µm     60 5.000\n",
       "width        µm     20 5.000\n",
       "depth        µm      1 0.300"
      ]
     },
     "execution_count": 4,
     "metadata": {},
     "output_type": "execute_result"
    }
   ],
   "source": [
    "endothelium = pd.read_excel('Endothelial_cells_data.xlsx',\n",
    "                            'Endothelium_properties',\n",
    "                            index_col=0,usecols = range(4))\n",
    "endothelium.head()"
   ]
  },
  {
   "cell_type": "code",
   "execution_count": 8,
   "metadata": {},
   "outputs": [
    {
     "name": "stdout",
     "output_type": "stream",
     "text": [
      "Endothelium sruface area (1.2±0.3)×10⁻⁵ squared cm\n",
      "Number of neutrophils: (5.6±2.3)×10¹¹ cells\n"
     ]
    }
   ],
   "source": [
    "endothelium['adj value'] = unumpy.uarray(endothelium['value'],endothelium['SD'])\n",
    "endothelium_SA = endothelium['adj value'].length*endothelium['adj value'].width*10**-8 #moving from µm^2 to cm^2\n",
    "\n",
    "print('Endothelium sruface area {:0.1eP} squared cm'.format(endothelium_SA))\n",
    "\n",
    "#using the average SA of a cell to estimate the total number of cells in each of the vessels type\n",
    "vessels['endth cells'] = vessels['SA cm2']/endothelium_SA\n",
    "\n",
    "\n",
    "# endothels_num = vessels['endth cells'].sum(axis=0)\n",
    "endo_results.loc['number','val+unc'] = vessels['endth cells'].sum(axis=0)\n",
    "print_res_param('number')\n",
    "\n",
    "\n",
    "# print('The total number of endothelial cells is {:0.1eP}'.format(endothels_num))\n"
   ]
  },
  {
   "cell_type": "markdown",
   "metadata": {},
   "source": [
    "We also can estimate the total mass of endotelial cells (using an estimate for the average endothelium)"
   ]
  },
  {
   "cell_type": "code",
   "execution_count": 10,
   "metadata": {},
   "outputs": [
    {
     "name": "stdout",
     "output_type": "stream",
     "text": [
      "Cell mass of neutrophils: 1200±479 pg\n",
      "Total cellular mass of neutrophils: 667.0±295.6 grams\n"
     ]
    }
   ],
   "source": [
    "endo_results.loc['cell mass','val+unc'] = endothelium['adj value'].length*endothelium['adj value'].width*endothelium['adj value'].depth \n",
    "#assuming density as water and moving from µm^3 to pg\n",
    "\n",
    "endo_results.loc['total cellular mass',\n",
    "                 'val+unc'] = endo_results.loc['cell mass','val+unc']*endo_results.loc['number','val+unc']*10**-12\n",
    "\n",
    "print_res_param('cell mass')\n",
    "print_res_param('total cellular mass')\n",
    "#in grams\n",
    "\n",
    "# total_endothels_mass = endothelium_mass*endothels_num*10**-12 #in grams\n",
    "# total_endothels_mass = ufloat(round(total_endothels_mass.nominal_value,-1),round(total_endothels_mass.std_dev,-1)) #rounding the values to nearest tens\n",
    "\n",
    "# endothelium_mass = ufloat(round(endothelium_mass.nominal_value,-1),round(endothelium_mass.std_dev,-1)) #rounding the values to nearest tens\n",
    "# print('Endothelium mass {:0.0fP} pg'.format(endothelium_mass))\n",
    "\n",
    "# print('The total mass of endothelial cells is {:0.0fP} grams'.format(total_endothels_mass))"
   ]
  },
  {
   "cell_type": "markdown",
   "metadata": {},
   "source": [
    "## Lifespan and turnoevr of endothelial cells\n",
    "Most of the data regarding the lifespan and turnoerv of endothelial cells comes from short time labeling method used in experiments on mice and rabbits during the 70's and 80's ([Spaet and Lejnieks, 1967](https://www.ncbi.nlm.nih.gov/pubmed/6042425),[Hobson and Denekamp, 1984](https://www.ncbi.nlm.nih.gov/pmc/articles/PMC1976759/),[Kliche et al., 2011](https://www.ncbi.nlm.nih.gov/pubmed/21318292)). Currently, the only estimate for the turnoevr of endothelial cells in the human body is given in [Bergmann et al., 2015](https://www.ncbi.nlm.nih.gov/pubmed/26073943) for endothelial cells in the heart.\n",
    "Studies on rodents showes that the lifespans of endothelial cells are affected by the tissues in which they are located, with a variation of an order of magnitude (endothelial cells are in the middle of the range).\n",
    "In our estimate we use the values measured for human endothelial cells in [Bergmann et al., 2015](https://www.ncbi.nlm.nih.gov/pubmed/26073943), which as expected are much longer than these measured for rodent. However, to accounth for the possible large variation between tissues, we use the researches on rodent to estimate the variation. "
   ]
  },
  {
   "cell_type": "code",
   "execution_count": 5,
   "metadata": {},
   "outputs": [
    {
     "data": {
      "text/html": [
       "<div>\n",
       "<style scoped>\n",
       "    .dataframe tbody tr th:only-of-type {\n",
       "        vertical-align: middle;\n",
       "    }\n",
       "\n",
       "    .dataframe tbody tr th {\n",
       "        vertical-align: top;\n",
       "    }\n",
       "\n",
       "    .dataframe thead th {\n",
       "        text-align: right;\n",
       "    }\n",
       "</style>\n",
       "<table border=\"1\" class=\"dataframe\">\n",
       "  <thead>\n",
       "    <tr style=\"text-align: right;\">\n",
       "      <th></th>\n",
       "      <th>specie</th>\n",
       "      <th>tissue</th>\n",
       "      <th>calculated lifespan (days)</th>\n",
       "      <th>soruce</th>\n",
       "      <th>comment</th>\n",
       "    </tr>\n",
       "  </thead>\n",
       "  <tbody>\n",
       "    <tr>\n",
       "      <th>0</th>\n",
       "      <td>human</td>\n",
       "      <td>heart</td>\n",
       "      <td>2,281.250</td>\n",
       "      <td>Bergmann et al., 2015</td>\n",
       "      <td>given as 16% turnover per year</td>\n",
       "    </tr>\n",
       "    <tr>\n",
       "      <th>1</th>\n",
       "      <td>mice</td>\n",
       "      <td>brain</td>\n",
       "      <td>395.037</td>\n",
       "      <td>Hobson and Denekamp, 1984</td>\n",
       "      <td>taken from 3d labeling calculation</td>\n",
       "    </tr>\n",
       "    <tr>\n",
       "      <th>2</th>\n",
       "      <td>mice</td>\n",
       "      <td>muscle</td>\n",
       "      <td>652.371</td>\n",
       "      <td>Hobson and Denekamp, 1984</td>\n",
       "      <td>taken from 3d labeling calculation</td>\n",
       "    </tr>\n",
       "    <tr>\n",
       "      <th>3</th>\n",
       "      <td>mice</td>\n",
       "      <td>jejunum</td>\n",
       "      <td>309.025</td>\n",
       "      <td>Hobson and Denekamp, 1984</td>\n",
       "      <td>taken from 3d labeling calculation</td>\n",
       "    </tr>\n",
       "    <tr>\n",
       "      <th>4</th>\n",
       "      <td>mice</td>\n",
       "      <td>skin</td>\n",
       "      <td>393.853</td>\n",
       "      <td>Hobson and Denekamp, 1984</td>\n",
       "      <td>taken from 3d labeling calculation</td>\n",
       "    </tr>\n",
       "    <tr>\n",
       "      <th>5</th>\n",
       "      <td>mice</td>\n",
       "      <td>heart</td>\n",
       "      <td>203.866</td>\n",
       "      <td>Hobson and Denekamp, 1984</td>\n",
       "      <td>taken from 3d labeling calculation</td>\n",
       "    </tr>\n",
       "    <tr>\n",
       "      <th>6</th>\n",
       "      <td>mice</td>\n",
       "      <td>kindy</td>\n",
       "      <td>180.476</td>\n",
       "      <td>Hobson and Denekamp, 1984</td>\n",
       "      <td>taken from 3d labeling calculation</td>\n",
       "    </tr>\n",
       "    <tr>\n",
       "      <th>7</th>\n",
       "      <td>mice</td>\n",
       "      <td>lung</td>\n",
       "      <td>276.375</td>\n",
       "      <td>Hobson and Denekamp, 1984</td>\n",
       "      <td>taken from 3d labeling calculation</td>\n",
       "    </tr>\n",
       "    <tr>\n",
       "      <th>8</th>\n",
       "      <td>mice</td>\n",
       "      <td>liver</td>\n",
       "      <td>80.348</td>\n",
       "      <td>Hobson and Denekamp, 1984</td>\n",
       "      <td>taken from 3d labeling calculation</td>\n",
       "    </tr>\n",
       "    <tr>\n",
       "      <th>9</th>\n",
       "      <td>mice</td>\n",
       "      <td>bladder</td>\n",
       "      <td>230.766</td>\n",
       "      <td>Hobson and Denekamp, 1984</td>\n",
       "      <td>taken from 3d labeling calculation</td>\n",
       "    </tr>\n",
       "  </tbody>\n",
       "</table>\n",
       "</div>"
      ],
      "text/plain": [
       "  specie   tissue  calculated lifespan (days)                     soruce  \\\n",
       "0  human    heart                   2,281.250      Bergmann et al., 2015   \n",
       "1   mice    brain                     395.037  Hobson and Denekamp, 1984   \n",
       "2   mice   muscle                     652.371  Hobson and Denekamp, 1984   \n",
       "3   mice  jejunum                     309.025  Hobson and Denekamp, 1984   \n",
       "4   mice     skin                     393.853  Hobson and Denekamp, 1984   \n",
       "5   mice    heart                     203.866  Hobson and Denekamp, 1984   \n",
       "6   mice    kindy                     180.476  Hobson and Denekamp, 1984   \n",
       "7   mice     lung                     276.375  Hobson and Denekamp, 1984   \n",
       "8   mice    liver                      80.348  Hobson and Denekamp, 1984   \n",
       "9   mice  bladder                     230.766  Hobson and Denekamp, 1984   \n",
       "\n",
       "                              comment  \n",
       "0      given as 16% turnover per year  \n",
       "1  taken from 3d labeling calculation  \n",
       "2  taken from 3d labeling calculation  \n",
       "3  taken from 3d labeling calculation  \n",
       "4  taken from 3d labeling calculation  \n",
       "5  taken from 3d labeling calculation  \n",
       "6  taken from 3d labeling calculation  \n",
       "7  taken from 3d labeling calculation  \n",
       "8  taken from 3d labeling calculation  \n",
       "9  taken from 3d labeling calculation  "
      ]
     },
     "execution_count": 5,
     "metadata": {},
     "output_type": "execute_result"
    }
   ],
   "source": [
    "turnover_data = pd.read_excel('Endothelial_cells_data.xlsx',\n",
    "                              'Endothel_turnoevr',usecols = range(5))\n",
    "turnover_data"
   ]
  },
  {
   "cell_type": "code",
   "execution_count": 9,
   "metadata": {},
   "outputs": [
    {
     "name": "stdout",
     "output_type": "stream",
     "text": [
      "Mean lifespan of endothelial cells is 2281±1250 days\n"
     ]
    },
    {
     "data": {
      "image/png": "[encoded data removed]",
      "text/plain": [
       "<Figure size 432x288 with 1 Axes>"
      ]
     },
     "metadata": {
      "needs_background": "light"
     },
     "output_type": "display_data"
    }
   ],
   "source": [
    "end_lifespan = turnover_data.loc[turnover_data['specie']=='human',\n",
    "                                 'calculated lifespan (days)'].mean(axis=0)\n",
    "\n",
    "lifespan_var = turnover_data.loc[turnover_data['specie']!='human',\n",
    "                                 'calculated lifespan (days)']\n",
    "plt.boxplot(lifespan_var)\n",
    "plt.ylabel('lifespan [d]')\n",
    "plt.xlabel('endothelial cells')\n",
    "plt.title('Variation in lifespan of mice endothelial cells')\n",
    "\n",
    "#as the distibution seems to be fitted better to log normal we use the coeffiecent of variation, as a multiplyer of the value\n",
    "#using the log of the distribution\n",
    "\n",
    "\n",
    "lifespan_CV = lifespan_var.std()/lifespan_var.mean()\n",
    "end_lifespan = ufloat(end_lifespan,round(lifespan_CV*end_lifespan,-1))\n",
    "\n",
    "\n",
    "# print('Mean lifespan of endothelial cells is {:0.0f} days'.format(end_lifespan))\n",
    "# print('Uncertainty associated with the lifespan of endothelial cells: {:0.1f}'.format(lifespan_geo_SD))\n",
    "# print('lifespan range for endothelial cells {:0.0f}'.format(end_lifespan.nominal_value/lifespan_geo_SD ),\n",
    "# '- {:0.0f} days'.format(end_lifespan.nominal_value*lifespan_geo_SD ))\n",
    "\n",
    "print('Mean lifespan of endothelial cells is {:0.0fP} days'.format(end_lifespan))"
   ]
  },
  {
   "cell_type": "markdown",
   "metadata": {},
   "source": [
    "Using the estimates for total number and lifespan we can compute the cellular and cellualr mass turnovers:"
   ]
  },
  {
   "cell_type": "code",
   "execution_count": 10,
   "metadata": {},
   "outputs": [
    {
     "name": "stdout",
     "output_type": "stream",
     "text": [
      "Cellular turnover of endothelial cells is (2.4±1.7)×10⁸ cells per day\n",
      "Cellular mass turnover of endothelial cells is 0.3±0.2 grams per day\n"
     ]
    }
   ],
   "source": [
    "endth_to = endothels_num/end_lifespan\n",
    "print('Cellular turnover of endothelial cells is {:0.1eP} cells per day'.format(endth_to))\n",
    "\n",
    "endth_mass_to = total_endothels_mass/end_lifespan\n",
    "print('Cellular mass turnover of endothelial cells is {:0.1fP} grams per day'.format(endth_mass_to))"
   ]
  },
  {
   "cell_type": "markdown",
   "metadata": {},
   "source": [
    "## Saving the results to excell\n",
    "So it can be used for summary "
   ]
  },
  {
   "cell_type": "code",
   "execution_count": 12,
   "metadata": {},
   "outputs": [],
   "source": [
    "\n",
    "\n",
    "results =pd.DataFrame(index = range(4), columns=['Parameter','Value','Units','Uncertainty']) \n",
    "results.loc[0] = pd.Series({\n",
    "                'Parameter': 'number',\n",
    "                'Value': endothels_num.nominal_value,\n",
    "                'Units': 'Cells',\n",
    "                'Uncertainty': endothels_num.std_dev\n",
    "                })\n",
    "\n",
    "results.loc[1] = pd.Series({\n",
    "                'Parameter': 'lifespan',\n",
    "                'Value': end_lifespan.nominal_value, #from years to days\n",
    "                'Units': 'days',\n",
    "                'Uncertainty': end_lifespan.std_dev #from years to days\n",
    "                })\n",
    "\n",
    "results.loc[2] = pd.Series({\n",
    "                'Parameter': 'cellular turnovr rate',\n",
    "                'Value': endth_to.nominal_value,\n",
    "                'Units': 'cells per day',\n",
    "                'Uncertainty':endth_to.std_dev\n",
    "                })\n",
    "\n",
    "results.loc[3] = pd.Series({\n",
    "                'Parameter': 'cell mass',\n",
    "                'Value': endothelium_mass.nominal_value,\n",
    "                'Units': 'pg',\n",
    "                'Uncertainty':endothelium_mass.std_dev\n",
    "                })\n",
    "\n",
    "results.loc[4] = pd.Series({\n",
    "                'Parameter': 'cellular mass turnovr rate',\n",
    "                'Value':endth_mass_to.nominal_value,\n",
    "                'Units': 'grams per day',\n",
    "                'Uncertainty': endth_mass_to.std_dev\n",
    "                })\n",
    "\n",
    "results.loc[5] = pd.Series({\n",
    "                'Parameter': 'total cellular mass',\n",
    "                'Value':total_endothels_mass.nominal_value,\n",
    "                'Units': 'grams per day',\n",
    "                'Uncertainty': total_endothels_mass.std_dev\n",
    "                })\n",
    "   \n",
    "\n",
    "%run Utility_Functions.ipynb\n",
    "#results\n",
    "file = 'Summary.xlsx'\n",
    "book = load_workbook(file)\n",
    "writer = pd.ExcelWriter(file, engine = 'openpyxl')\n",
    "writer.book = book\n",
    "\n",
    "writer.sheets = dict((ws.title, ws) for ws in book.worksheets)\n",
    "sheet=writer.book.active\n",
    "\n",
    "results.to_excel(writer, sheet_name = 'Endothelial cells',index=False)\n",
    "worksheet = writer.sheets['Endothelial cells']   \n",
    "#     using the colors defined in the color sheet to color the tabs. Using the extraction of the data in the Utility_Functions.ipynb notebook\n",
    "worksheet.sheet_properties.tabColor= colors_data.loc['Endothelial cells','hex'] \n",
    "\n",
    "writer.save()\n"
   ]
  },
  {
   "cell_type": "code",
   "execution_count": null,
   "metadata": {},
   "outputs": [],
   "source": []
  }
 ],
 "metadata": {
  "kernelspec": {
   "display_name": "Python 3",
   "language": "python",
   "name": "python3"
  },
  "language_info": {
   "codemirror_mode": {
    "name": "ipython",
    "version": 3
   },
   "file_extension": ".py",
   "mimetype": "text/x-python",
   "name": "python",
   "nbconvert_exporter": "python",
   "pygments_lexer": "ipython3",
   "version": "3.7.3"
  }
 },
 "nbformat": 4,
 "nbformat_minor": 2
}
