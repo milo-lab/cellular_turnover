{
 "cells": [
  {
   "cell_type": "code",
   "execution_count": 4,
   "metadata": {},
   "outputs": [],
   "source": [
    "import pandas as pd\n",
    "import numpy as np\n",
    "\n",
    "import uncertainties as uc\n",
    "from uncertainties import ufloat\n",
    "from uncertainties import unumpy\n",
    "\n",
    "from scipy.stats import gmean"
   ]
  },
  {
   "cell_type": "markdown",
   "metadata": {},
   "source": [
    "# Utility Functions"
   ]
  },
  {
   "cell_type": "markdown",
   "metadata": {},
   "source": [
    "## Colors for cell types\n",
    "We use the color index from the Summary file.\n",
    "the following code loa the data from the excell and translate it to hex format to be used"
   ]
  },
  {
   "cell_type": "code",
   "execution_count": 10,
   "metadata": {},
   "outputs": [],
   "source": [
    "colors_data = pd.read_excel('Summary.xlsx','Colors', index_col=0, usecols=range(4))\n",
    "\n",
    "#pharsing the colors in RGB format from excel (used there in the form suitable for Voroni diagram)\n",
    "colors_data['R'] = pd.to_numeric([(x.split(',')[0]).split('(')[1] for x in colors_data['colors']])\n",
    "colors_data['G'] = pd.to_numeric([x.split(',')[1] for x in colors_data['colors']])\n",
    "colors_data['B'] = pd.to_numeric([(x.split(',')[2]).split(')')[0] for x in colors_data['colors']])\n",
    "\n",
    "#using a for loop to convert the RGB values to hex format\n",
    "colors_data['hex']=0\n",
    "for cell in colors_data.index:\n",
    "    colors_data.loc[cell,'hex'] = '{:02x}{:02x}{:02x}'.format(colors_data.loc[cell,'R'],colors_data.loc[cell,'G'],colors_data.loc[cell,'B']) "
   ]
  },
  {
   "cell_type": "markdown",
   "metadata": {},
   "source": [
    "## Rounding the results\n",
    "We use the next funcion to round the results to the significant digits."
   ]
  },
  {
   "cell_type": "code",
   "execution_count": 36,
   "metadata": {},
   "outputs": [],
   "source": [
    "'''\n",
    "    This function help find how many digits needed to take in the round function\n",
    "    giving number that there first digit is 1 an additional digit \n",
    "\n",
    "    inputs:\n",
    "        values - np array or float\n",
    "    output:\n",
    "        np array with the number of digits to round for \n",
    "'''\n",
    "\n",
    "def _sign_digits(values):\n",
    "    if isinstance(values,float) or isinstance(values,int) :\n",
    "        log_vals = np.log10(values)\n",
    "        another_dig = 1*(log_vals %1 < 0.26)\n",
    "        return int(1 + another_dig - np.ceil(log_vals))\n",
    "        \n",
    "    else:\n",
    "        log_vals = np.log10(values.astype(float))    \n",
    "        # finding values that are \"1.x/1x/1xy..\" such that we still want the second digit\n",
    "        another_dig = 1*(log_vals %1 < 0.26)\n",
    "        return (1 + another_dig - np.ceil(log_vals)).astype(int)\n",
    "\n",
    "\n",
    "'''\n",
    "    This function get either a ufloat or a float numbers or a np.array or an uncertainty uarray to its significant digits \n",
    "    (regarding the uncertainties in case of uarray)\n",
    "    inputs:\n",
    "        vec -  a uncertainty.uarray object containing numbers \n",
    "    output:\n",
    "        rounded_vec - the values and uncertainies of the uarray are rounded to the significant digits\n",
    "'''\n",
    "def round_vec(vec):\n",
    "    \n",
    "    rounded_vec = vec\n",
    "    \n",
    "    if isinstance(vec,uc.UFloat):\n",
    "        num_dig = _sign_digits(vec.std_dev)\n",
    "        rounded_vec = ufloat(round(vec.nominal_value,num_dig),\n",
    "                             round(vec.std_dev,num_dig))\n",
    "    \n",
    "    elif isinstance(vec,float) or isinstance(vec,int) :\n",
    "        num_dig = _sign_digits(vec)+1  # +1 beacuse when looking at the values we want 2 significant digits\n",
    "        rounded_vec = round(vec,num_dig)\n",
    "                               \n",
    "    elif isinstance(vec[0],uc.UFloat):\n",
    "    #uarray we need to take in acount the significant digits of the uncertainty term         \n",
    "        \n",
    "        sig_vec = _sign_digits(unumpy.std_devs(vec)) \n",
    "        for indx, num_dig in enumerate(sig_vec):\n",
    "            rounded_vec[indx] = ufloat(round(vec[indx].nominal_value,num_dig),\n",
    "                                       round(vec[indx].std_dev,num_dig)) \n",
    "    elif isinstance(vec,np.ndarray):\n",
    "    #array we need to take in acound the significant digits of the uncertainty term         \n",
    "        sig_vec = _sign_digits(vec) + 1 #+1 beacuse when looking at the values we want 2 significant digits\n",
    "        for indx, num_dig in enumerate(sig_vec):\n",
    "            rounded_vec[indx] = round(vec[indx],num_dig)\n",
    "            \n",
    "    return rounded_vec\n",
    "\n",
    "\n",
    "'''\n",
    "    This function round the results to their significant digits\n",
    "    \n",
    "    inputs:\n",
    "        res - a data frame containting the results for a certain cell type.\n",
    "              each line is a parameter with column for values and uncertianty\n",
    "        unc_type - either 'add' for addative (regular) or 'mul' for multiplication facor.\n",
    "                   The default value is addative\n",
    "        \n",
    "    output:\n",
    "        res - the values and uncertainies are rounded to the significant digits\n",
    "'''\n",
    "def round_results(res, unc_type = 'add'):\n",
    "    \n",
    "    if unc_type =='add':\n",
    "    #for additive uncertainty we set the significant digits to be 1 for the uncertianty \n",
    "    # and we compute the same for the values\n",
    "         \n",
    "\n",
    "        sig_unc = _sign_digits(res['Uncertainty']) # np.ceil(np.log10(.astype(float)))\n",
    "        for indx,num_dig in enumerate(sig_unc):\n",
    "            res.loc[indx,'Value'] = round(res.loc[indx,'Value'],num_dig)\n",
    "            res.loc[indx,'Uncertainty'] = round(res.loc[indx,'Uncertainty'],num_dig)\n",
    "    \n",
    "    elif unc_type =='mul':\n",
    "    # for the multiplication factor we set round the muliplication factot to have one digit after the point (\"1.5\")\n",
    "    # and the the value significance is 2 digits  \n",
    "        sig_values = _sign_digits(res['Value'])\n",
    "        for indx,num_dig in enumerate(sig_values):\n",
    "            res.loc[indx,'Value'] = round(res.loc[indx,'Value'],num_dig+1)\n",
    "            res.loc[indx,'Uncertainty'] = round(res.loc[indx,'Uncertainty'],1)\n",
    "\n",
    "    return res\n",
    "\n"
   ]
  },
  {
   "cell_type": "markdown",
   "metadata": {},
   "source": [
    "## Printing results \n",
    "We have seperate functions for printing results that are saved as DataFrames in which each row is a cell type,\n",
    "and ech column is a parameter.\n",
    "We also divide are functions to these that handle parameters with additive error and these that work for parameters with error given with a mutliplication factor (log normal variables)\n"
   ]
  },
  {
   "cell_type": "code",
   "execution_count": null,
   "metadata": {},
   "outputs": [],
   "source": [
    "'''\n",
    "    Printing a certain paramter for given cell type, taken from a results DataFrame containing cell types as rows\n",
    "    and parameters as columns.\n",
    "    \n",
    "    input:\n",
    "        res - panda's DataFrame containing the results: row are cell types, columns are parameters, given as either\n",
    "              ufloat for an additive error, or a tuple for a multiplication factor\n",
    "        paramters  - list of parameters needed to be printed\n",
    "        formats - an optional variable that may contain specific formats to use for the print\n",
    "    output:\n",
    "        the function doesn't return any output\n",
    "'''\n",
    "\n",
    "def print_res_celltypes_df(res, parameters, *formats):\n",
    "    \n",
    "    PARAMETERS = ['number','lifespan','cellular turnovr rate','cell mass',\n",
    "                  'cellular mass turnovr rate','total cellular mass',\n",
    "                  'lifespan in rodents','extrapolated cellular turnover rate',\n",
    "                  'extrapolated cellular mass turnover rate']\n",
    "    \n",
    "    FORMATS =  dict(zip(lung_results.columns, ['{:0.1e}','{:0.0f}','{:0.1e}','{:0.0f}','{:0.1f}','{:0.0f}'])) \n",
    "    UNITS =dict(zip(lung_results.columns, ['cells','days','cells per day','pg','grams per day', 'grams']))\n",
    "\n",
    "'''\n",
    "A utility method for printing a parameter with a multiplication uncertainty\n",
    " '''\n",
    "def PrintMulParmeter(cell_type,param):\n",
    "    print(param.capitalize()+ ' of '+ cell_type+': '+ FORMATS.get(param).format(lung_results.loc[cell_type,param][0]),UNITS.get(param)+',',\n",
    "          'SD range: ' + FORMATS.get(param).format(lung_results.loc[cell_type,param][0]/lung_results.loc[cell_type,param][1]),\n",
    "          '- ' + FORMATS.get(param).format(lung_results.loc[cell_type,param][0]*lung_results.loc[cell_type,param][1]),\n",
    "            ' '+UNITS.get(param))\n",
    "    \n",
    "    "
   ]
  },
  {
   "cell_type": "code",
   "execution_count": 201,
   "metadata": {},
   "outputs": [],
   "source": [
    "class CellTypesResDF(object):\n",
    "    #initiating using list of cell types\n",
    "    def __init__(self, cell_types,un_type = 'additive'):\n",
    "        self.params = ['number','lifespan','cellular turnover rate','cell mass',\n",
    "                      'cellular mass turnover rate','total cellular mass',\n",
    "                      'lifespan in rodents','extrapolated cellular turnover rate',\n",
    "                      'extrapolated cellular mass turnover rate']\n",
    "        \n",
    "        #default formats for printing\n",
    "        if un_type == 'additive': \n",
    "            self.formats =  dict(zip(self.params,['{:0.1eP}','{:0.0fP}','{:0.1eP}','{:0.0fP}','{:0.1fP}',\n",
    "                                                  '{:0.0fP}','{:0.1fP}','{:0.1eP}','{:0.2fP}'])) \n",
    "        else:\n",
    "            self.formats =  dict(zip(self.params,['{:0.1e}','{:0.0f}','{:0.1e}','{:0.0f}','{:0.1f}',\n",
    "                                                  '{:0.0f}','{:0.1f}','{:0.1e}','{:0.2f}'])) \n",
    "        \n",
    "        \n",
    "        self.units = dict(zip(self.params, ['cells','days','cells per day','pg','grams per day',\n",
    "                                               'grams','days','cells per day','grams per day']))\n",
    "\n",
    "        \n",
    "        self.res = pd.DataFrame(index=cell_types, columns=self.params)\n",
    "        self.unc_type = un_type \n",
    "        \n",
    "\n",
    "    '''\n",
    "        Printing a certain paramter for given cell type, taken from a results object containing cell types as rows\n",
    "        and parameters as columns.\n",
    "\n",
    "        input:\n",
    "            cell_types - cell type for which we want to printe the paramters results\n",
    "            paramters  - list of parameters needed to be printed\n",
    "            formats - an optional variable that may contain specific formats to use for the print\n",
    "        output:\n",
    "            the function doesn't return any output\n",
    "    '''         \n",
    "    def print_params(self, parameters=None, cell_types=None, forms=None):\n",
    "        \n",
    "        #in cases cell_types or parameters contain only one entries we convert them to a list\n",
    "        if not cell_types:\n",
    "            cell_types = self.res.index\n",
    "        elif not isinstance(cell_types,list):\n",
    "                cell_types = [cell_types]\n",
    "        \n",
    "        if not parameters:\n",
    "            parameters = self.res.columns\n",
    "        elif not isinstance(parameters,list):\n",
    "            parameters = [parameters]\n",
    "        \n",
    "        #using none as a deafult value for forms to be replaced with the the existing formats attribute \n",
    "        if not forms:\n",
    "            forms = self.formats\n",
    "        else:\n",
    "            if not isinstance(cell_types,dict):\n",
    "                forms = dict(zip(parameters,forms))\n",
    " \n",
    "        \n",
    "        \n",
    "        if self.unc_type == 'additive':\n",
    "            self._add_print_params(cell_types, parameters,forms)\n",
    "        else:\n",
    "            self._mul_print_params(cell_types, parameters,forms)\n",
    "\n",
    "\n",
    "            \n",
    "    '''\n",
    "        Printing a certain paramter for given cell type, given as an ufloat with an additive term of unncertainty\n",
    "\n",
    "        input:\n",
    "            paramters  - list of parameters needed to be printed\n",
    "            formats - dictionary that contains specific formats to use for the print\n",
    "        output:\n",
    "            the function doesn't return any output\n",
    "    '''\n",
    "    def _add_print_params(self, cell_types, parameters,forms):\n",
    "        #using a flag to check whether there enough printing that should be divided by cell types\n",
    "        mult_flag = len(cell_types) > 1 and len(parameters) > 1  \n",
    "        \n",
    "        #going all over the cell_types and parameters and printing according to the formats.\n",
    "        #using round_vec to round the values to significant digits\n",
    "        for cell in cell_types:\n",
    "            if mult_flag:\n",
    "                if(cell != cell_types[0]):\n",
    "                    print('_'*30)\n",
    "                print('\\x1b[1m'+ cell +':' +'\\x1b[0m')  #using ANSI to print in bold     \n",
    "            for param in parameters:\n",
    "                value = round_vec(self.res.loc[cell,param])  \n",
    "                print('{} of {} is:'.format(param.capitalize(),cell),\n",
    "                        forms[param].format(value),self.units[param])\n",
    "                    \n",
    "    '''\n",
    "        Printing a certain paramter for given cell type, given as a tuple: containing the value and the uncertainty as \n",
    "        a multiplication factor\n",
    "        input:\n",
    "            paramters  - list of parameters needed to be printed\n",
    "            formats - an optional variable that may contain specific formats to use for the print\n",
    "        output:\n",
    "            the function doesn't return any output\n",
    "    '''                      \n",
    "    def _mul_print_params(self, cell_types, parameters,forms):\n",
    "        #using a flag to check whether there enough printing that should be divided by cell types\n",
    "        mult_flag = len(cell_types) > 1 and len(parameters) > 1 \n",
    "        \n",
    "        #going all over the cell_types and parameters and printing according to the formats.\n",
    "        #using round_vec to round the values to significant digits \n",
    "#         print(cell_types,parameters)\n",
    "        for cell in cell_types:\n",
    "            if mult_flag:\n",
    "                if(cell != cell_types[0]):\n",
    "                    print('_'*30)\n",
    "                print('\\x1b[1m'+ cell +':' +'\\x1b[0m')  #using ANSI to print in bold     \n",
    "            for param in parameters:\n",
    "#                 print(self.res.loc[cell,param])\n",
    "                if isinstance(self.res.loc[cell,param],tuple):\n",
    "#                   break\n",
    "                    value = self.res.loc[cell,param][0]\n",
    "                    unc_fac = self.res.loc[cell,param][1]\n",
    "                    print('{} of {} is:'.format(param.capitalize(),cell),\n",
    "                          forms[param].format(round_vec(value)),self.units[param],\n",
    "                          'SD range:', forms[param].format(round_vec(value/unc_fac)),\n",
    "                          '-', forms[param].format(round_vec(value*unc_fac)),self.units[param])\n",
    "\n",
    "    '''\n",
    "        Changin the formats of the uncertainties of the results from additive error to multiplication \n",
    "        factor. Thus, enabpling further error propagation \n",
    "    \n",
    "        going over the parameters for which there are results and converting them using the utility function\n",
    "    '''                      \n",
    "    def change_unc_to_mul(self):\n",
    "        if self.unc_type != 'mul':\n",
    "        \n",
    "            for param in self.params:\n",
    "                if self.res[param].any():\n",
    "                    self.res[param]= list(zip(unumpy.nominal_values(self.res[param]),\n",
    "                                              uarr_to_mulfac(self.res[param]).round(2)))\n",
    "            self.unc_type = 'mul'\n",
    "            self.formats =  dict(zip(self.params,['{:0.1e}','{:0.0f}','{:0.1e}','{:0.0f}','{:0.1f}',\n",
    "                                                      '{:0.0f}','{:0.1f}','{:0.1e}','{:0.2f}'])) \n",
    "        "
   ]
  },
  {
   "cell_type": "code",
   "execution_count": 199,
   "metadata": {},
   "outputs": [],
   "source": [
    "# lungs = CellTypesResDF(['a','b'])\n",
    "# lungs.formats\n",
    "# lungs.res.loc['a','number'] = ufloat(10**10,10**9)\n",
    "# lungs.res.loc['b','number'] = ufloat(10**10,2.2*10**9)\n",
    "# lungs.res.loc['a','lifespan'] = ufloat(303,13.33)\n",
    "# lungs.res.loc['b','lifespan'] = ufloat(43,53.33)\n",
    "\n",
    "\n",
    "\n",
    "# lungs.print_params('number')\n",
    "\n",
    "# lungs.change_unc_to_mul()\n",
    "\n",
    "# lungs.print_params('number')\n",
    "\n",
    "# # # lungs.print_params(['a','b'],['number','lifespan'],0)\n",
    "\n",
    "liver = CellTypesResDF(['c','d'], un_type='mul')\n",
    "\n",
    "liver.res.loc['c','number'] =(2.23*10**10,1.7)\n",
    "liver.res.loc['d','number'] =(7.23*10**10,1.2)\n",
    "liver.res.loc['c','lifespan'] = 300\n",
    "liver.res.loc['d','lifespan'] =(100,2.2)\n",
    "\n",
    "# liver.print_params()\n",
    "# not not lungs.res['number'].any()\n",
    "# round_vec(231)"
   ]
  },
  {
   "cell_type": "code",
   "execution_count": 88,
   "metadata": {},
   "outputs": [
    {
     "data": {
      "text/plain": [
       "False"
      ]
     },
     "execution_count": 88,
     "metadata": {},
     "output_type": "execute_result"
    }
   ],
   "source": [
    "isinstance('asd',list)"
   ]
  },
  {
   "cell_type": "markdown",
   "metadata": {},
   "source": [
    "## Uncertianty convertor - from additive to multiplicative\n",
    "Some time  in order to propagate errors we need to estimate an additive error by a muliplication factor"
   ]
  },
  {
   "cell_type": "code",
   "execution_count": 3,
   "metadata": {},
   "outputs": [],
   "source": [
    "def AddErr2MulF(value,err=0):\n",
    "    if(isinstance(value,uc.UFloat)):\n",
    "        unc_mul_fac = gmean([1+value.std_dev/value.nominal_value,1/(1-value.std_dev/value.nominal_value)])\n",
    "    else:\n",
    "        unc_mul_fac = gmean([1+err/value,1/(1-err/value)]) \n",
    "    return unc_mul_fac"
   ]
  },
  {
   "cell_type": "code",
   "execution_count": 178,
   "metadata": {},
   "outputs": [],
   "source": [
    "def ufloat_to_mulfac(value,err=0):\n",
    "    if(isinstance(value,uc.UFloat)):\n",
    "        unc_mul_fac = gmean([1+value.std_dev/value.nominal_value,1/(1-value.std_dev/value.nominal_value)])\n",
    "    else:\n",
    "        unc_mul_fac = gmean([1+err/value,1/(1-err/value)]) \n",
    "    return unc_mul_fac"
   ]
  },
  {
   "cell_type": "markdown",
   "metadata": {},
   "source": [
    "Convert an uarray (with uncertainty) to an array of uncertainty multiplication factors "
   ]
  },
  {
   "cell_type": "code",
   "execution_count": 173,
   "metadata": {},
   "outputs": [],
   "source": [
    "def Uarr2MulF(uarr):\n",
    "    means = unumpy.nominal_values(uarr)\n",
    "    low_er = 1+unumpy.std_devs(uarr)/means\n",
    "    upp_er = 1/(1-unumpy.std_devs(uarr)/means)\n",
    "    return gmean([low_er,upp_er])"
   ]
  },
  {
   "cell_type": "code",
   "execution_count": 174,
   "metadata": {},
   "outputs": [],
   "source": [
    "def uarr_to_mulfac(uarr):\n",
    "    means = unumpy.nominal_values(uarr)\n",
    "    low_er = 1+unumpy.std_devs(uarr)/means\n",
    "    upp_er = 1/(1-unumpy.std_devs(uarr)/means)\n",
    "    return gmean([low_er,upp_er])"
   ]
  },
  {
   "cell_type": "markdown",
   "metadata": {},
   "source": [
    "## Multiplication uncertainty propagation\n",
    "When we have two uncertainty given as a multiplication factor we can propagate the error of their multiplication by using the properties of the lognormal distribution:\n",
    "$$ Z_{1} = e^{X} $$ \n",
    "$$ Z_{2} = e^{Y} $$ \n",
    "where $X,Y$ are normal variables such that $X = N(0,\\sigma_{1}^{2}),Y= N(0,\\sigma_{2}^{2})$  ($ Z_{1}, Z_{2}$ are lognormal variables)\n",
    "\n",
    "Then: $Z_{1} Z_{2}$ is also lognormal variable, and if $ Z_{1}, Z_{2}$ are independant:\n",
    "$$Z_{1}Z_{2} = e^{X+Y}$$ \n",
    "Such that $X+Y$ has variance of $\\sigma_{1}^{2}+\\sigma_{2}^{2}$\n",
    "\n",
    "So, to propogate the error in a multplication of two uncertianty factor, we can move to the logspace and propogate the error easily there  \n"
   ]
  },
  {
   "cell_type": "code",
   "execution_count": 2,
   "metadata": {},
   "outputs": [],
   "source": [
    "'''\n",
    "factors is either:\n",
    "1. a numpy array containing all the factors of n lognormal variables that are being multiplied\n",
    "2. a regular list (or nested like [[1,1],[2,2]]) containing all the factors of n lognormal variables that are being multiplied\n",
    "3. a list containing a vector (row) of factors + a scalar \n",
    "    special case is for two arrays of the same size, in this case we do propagation of each pair\n",
    "'''\n",
    "def FacMulProp(factors):\n",
    "    if(isinstance(factors,np.ndarray)):\n",
    "         FF=factors\n",
    "    elif(isinstance(factors[-1],list) or isinstance(factors[-1],pd.Series)):\n",
    "        FF=factors\n",
    "    elif( isinstance(factors[-1],np.ndarray) and isinstance(factors[0],np.ndarray)):\n",
    "        FF=factors\n",
    "    elif(isinstance(factors[-1],float)): \n",
    "        if(isinstance(factors[0],float)):\n",
    "            FF=factors\n",
    "        else:\n",
    "            FF = np.array([factors[0],factors[-1]*np.ones(len(factors[0]))])     \n",
    "    logF = np.log10(FF) \n",
    "    ssq = np.sum(logF*logF,axis=0)\n",
    "    return 10**(np.sqrt(ssq))\n"
   ]
  },
  {
   "cell_type": "code",
   "execution_count": null,
   "metadata": {},
   "outputs": [],
   "source": [
    "'''\n",
    "factors is either:\n",
    "1. a numpy array containing all the factors of n lognormal variables that are being multiplied\n",
    "2. a regular list (or nested like [[1,1],[2,2]]) containing all the factors of n lognormal variables that are being multiplied\n",
    "3. a list containing a vector (row) of factors + a scalar \n",
    "    special case is for two arrays of the same size, in this case we do propagation of each pair\n",
    "'''\n",
    "def propgate_mul_facs(factors):\n",
    "    if(isinstance(factors,np.ndarray)):\n",
    "         FF=factors\n",
    "    elif(isinstance(factors[-1],list) or isinstance(factors[-1],pd.Series)):\n",
    "        FF=factors\n",
    "    elif( isinstance(factors[-1],np.ndarray) and isinstance(factors[0],np.ndarray)):\n",
    "        FF=factors\n",
    "    elif(isinstance(factors[-1],float)): \n",
    "        if(isinstance(factors[0],float)):\n",
    "            FF=factors\n",
    "        else:\n",
    "            FF = np.array([factors[0],factors[-1]*np.ones(len(factors[0]))])     \n",
    "    logF = np.log10(FF) \n",
    "    ssq = np.sum(logF*logF,axis=0)\n",
    "    return 10**(np.sqrt(ssq))\n"
   ]
  },
  {
   "cell_type": "markdown",
   "metadata": {},
   "source": [
    "## Extracting the geometric mean and the errors\n",
    "The next function take a vector, possibly with additave errors, and compute the geometric mean and errors (as the multiplication factor). \n",
    "Using converstion to log space, the function acount for both the inter-errors, which is derived from the variation between the vector values, and the intra-error, which is given as the average of the individual errors"
   ]
  },
  {
   "cell_type": "code",
   "execution_count": 77,
   "metadata": {},
   "outputs": [],
   "source": [
    "'''\n",
    "vec is either a vector of number or a uarray containing additive errors.\n",
    "The function is checking of what type is vec, and in case there it contain no error terms, it give an intra error of zero.\n",
    "The fucntion convert the values to logspace, there it compute the intra error from the average of individual error given in vec, \n",
    "and the inter error, derived from variation of the values themselves.\n",
    "\n",
    "The method return a tuple with the gmean and the uncertainty multiplication factor\n",
    "'''\n",
    "def GMeanWithErros(vec):\n",
    "    if(isinstance(vec[0],np.int32) or isinstance(vec[0],np.float)):  # in case vec is array of normal numbers\n",
    "        values = vec\n",
    "        intra_error = 0  #no intra error, because no individual errors were provided\n",
    "    elif(isinstance(vec[0],uc.UFloat)):   # in case vec is uarray of ufloats, containing additive errors\n",
    "        values = unumpy.nominal_values(vec)\n",
    "        errors = Uarr2MulF(vec) #converting the errors to multpilication factors, to enable tranformation to logspace\n",
    "        intra_error = np.log10(errors).mean()   #the intra error is computed in logspace, from the expected variation\n",
    "    mean = gmean(values)\n",
    "    log_inter_error = np.log10(values).std()/ np.sqrt(values.size) #the inter error is computed as the standard error of the nominal values of vec\n",
    "    ssq = log_inter_error**2 +intra_error**2 #error propogation in the logspace\n",
    "    err_fac = 10**(np.sqrt(ssq)) \n",
    "    return round(mean,2),round(err_fac,2) #return a tuple with the gmean and the uncertainty multiplication factor\n"
   ]
  },
  {
   "cell_type": "code",
   "execution_count": 96,
   "metadata": {},
   "outputs": [],
   "source": [
    "'''\n",
    "this method get a list of tuples that contains values and uncertainty factor and retrun the geometric mean of the values and the overall uncertainty \n",
    "multiplication factor derived from the inter and intra uncertainties in logspace\n",
    "'''\n",
    "def GMeanWithErrorsFromMul(tups):\n",
    "    values = np.array(list(zip(*tups))[0])\n",
    "    errors = np.array(list(zip(*tups))[1])\n",
    "    intra_error = np.log10(errors).mean()   #the intra error is computed in logspace, from the expected variation\n",
    "    mean = gmean(values)\n",
    "    log_inter_error = np.log10(values).std()/ np.sqrt(values.size) #the inter error is computed as the standard error of the nominal values of vec\n",
    "    ssq = log_inter_error**2 +intra_error**2 #error propogation in the logspace\n",
    "    err_fac = 10**(np.sqrt(ssq)) \n",
    "    return round(mean,2),round(err_fac,2) #return a tuple with the gmean and the uncertainty multiplication factor\n"
   ]
  },
  {
   "cell_type": "code",
   "execution_count": 79,
   "metadata": {},
   "outputs": [
    {
     "data": {
      "text/plain": [
       "(2.13, 1.33)"
      ]
     },
     "execution_count": 79,
     "metadata": {},
     "output_type": "execute_result"
    }
   ],
   "source": [
    "ua = unumpy.uarray([2,2,3],[0.5,1,0.2])\n",
    "\n",
    "type(ua)\n",
    "type(ua[1])\n",
    "# Uarr2MulF(ua)\n",
    "isinstance(ua,np.ndarray)\n",
    "ub=np.array([1.2,2,4])\n",
    "isinstance(ub,np.ndarray)\n",
    "isinstance(ua[0],uc.UFloat)\n",
    "# type(ua[0])\n",
    "\n",
    "AddErr2MulF(gmean(unumpy.nominal_values(ua)),unumpy.std_devs(ua).sum())\n",
    "errors = Uarr2MulF(ua)\n",
    "intra_error1 =10**(np.log10(errors).mean())\n",
    "intra_error1 \n",
    "\n",
    "GMeanWithErros(ua)\n",
    "GMeanWithErros(ub)"
   ]
  },
  {
   "cell_type": "code",
   "execution_count": 185,
   "metadata": {},
   "outputs": [],
   "source": [
    "# FacMulProp([[1.1,1.1,1.2],[1,3,2]])"
   ]
  },
  {
   "cell_type": "code",
   "execution_count": 187,
   "metadata": {},
   "outputs": [
    {
     "data": {
      "text/plain": [
       "1.5"
      ]
     },
     "execution_count": 187,
     "metadata": {},
     "output_type": "execute_result"
    }
   ],
   "source": [
    "X =[[1,2,1.2],1.5]\n",
    "X[1]\n",
    "# # ff = [[1.1,1.1],[1,1]]\n",
    "# # lo = np.log10(ff)\n",
    "# # 10**np.sqrt(np.sum(lo*lo,axis =0))\n",
    "# FacMulProp([[1.1,1.1],[1,1]])\n",
    "# # FacMulProp([1.5,1.1])\n",
    "\n",
    "# Y=[[1,2],[3,2]]\n",
    "# type(Y)\n",
    "# type(Y[-1])\n",
    "\n",
    "# # np.log10(Y)\n",
    "\n",
    "\n",
    "# # FacMulProp(X)\n",
    "# # FacMulProp(Y)\n",
    "# # FacMulProp(np.array(Y))\n",
    "# Z = [np.array([1,2,1.2]),1.4]\n",
    "# FacMulProp(Z)\n",
    "\n",
    "# # Z[0]\n",
    "\n",
    "# # FF = np.array([Z[0],Z[-1]*np.ones(len(Z[0]))])\n",
    "# # FF\n",
    "# # lf = np.log10(FF)\n",
    "\n",
    "# # 10**np.sum(lf*lf,axis=0)"
   ]
  },
  {
   "cell_type": "code",
   "execution_count": 87,
   "metadata": {},
   "outputs": [
    {
     "data": {
      "text/plain": [
       "1.414213562373095"
      ]
     },
     "execution_count": 87,
     "metadata": {},
     "output_type": "execute_result"
    }
   ],
   "source": [
    "AddErr2MulF(ufloat(3,1.2))\n",
    "AddErr2MulF(ufloat(300,100))"
   ]
  },
  {
   "cell_type": "code",
   "execution_count": 97,
   "metadata": {},
   "outputs": [
    {
     "data": {
      "text/plain": [
       "(2.47, 1.25)"
      ]
     },
     "execution_count": 97,
     "metadata": {},
     "output_type": "execute_result"
    }
   ],
   "source": [
    "x = 2,1.2\n",
    "y=3,1.4\n",
    "z = 2.5, 1.1\n",
    "\n",
    "tups=[x,y,z]\n",
    "list(zip(*tups))[0]\n",
    "GMeanWithErrorsFromMul(tups)"
   ]
  },
  {
   "cell_type": "code",
   "execution_count": 135,
   "metadata": {},
   "outputs": [
    {
     "data": {
      "text/plain": [
       "True"
      ]
     },
     "execution_count": 135,
     "metadata": {},
     "output_type": "execute_result"
    }
   ],
   "source": [
    "isinstance(X,list)"
   ]
  }
 ],
 "metadata": {
  "kernelspec": {
   "display_name": "Python 3",
   "language": "python",
   "name": "python3"
  },
  "language_info": {
   "codemirror_mode": {
    "name": "ipython",
    "version": 3
   },
   "file_extension": ".py",
   "mimetype": "text/x-python",
   "name": "python",
   "nbconvert_exporter": "python",
   "pygments_lexer": "ipython3",
   "version": "3.7.3"
  }
 },
 "nbformat": 4,
 "nbformat_minor": 2
}
