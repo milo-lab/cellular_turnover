{
 "cells": [
  {
   "cell_type": "code",
   "execution_count": 2,
   "metadata": {},
   "outputs": [],
   "source": [
    "# loading all the dependencies\n",
    "import pandas as pd\n",
    "from openpyxl import load_workbook\n",
    "import numpy as np\n",
    "import uncertainties as uc\n",
    "\n",
    "pd.options.display.float_format ='{:,.2f}'.format\n",
    "import matplotlib.pyplot as plt\n",
    "%matplotlib inline  \n",
    "\n",
    "import scipy.stats as stats\n",
    "from uncertainties import ufloat\n",
    "from uncertainties import unumpy\n"
   ]
  },
  {
   "cell_type": "markdown",
   "metadata": {},
   "source": [
    "# Adipocytes\n",
    "Adipocytes, also known as lipocytes and fat cells, are the cells that primarily compose adipose tissue, specialized in storing energy as fat.\n",
    "\n",
    "Our estimate rely on [Spalding et al., 2008](https://www.nature.com/articles/nature06902), who measured the number of adipocytes in adult humans, their mean volume and their turnover, based on the average age of adipocytes measured by C14 carbon. "
   ]
  },
  {
   "cell_type": "markdown",
   "metadata": {},
   "source": [
    "## Number and mass of adipocytes\n",
    "[Spalding et al., 2008](https://www.nature.com/articles/nature06902) estimated the fat contents of the subjects according to their BMI. They measured the mean adipocyte volume for each subject and calculated the total number of adipocytes by dividing the two.\n",
    "They divided the subject by age group and seperated between lean and obease. \n",
    "According to their theory, their is non-linear connection between the number of adipocyes, their average volume and the total fat mass of the subject. They postulate that for lean individual the fat mass increase due to mainly increase in the size of adipocytes, but in obease the increase in mass cause also by increase in the number of adipocytes. As expressed in the equation: \n",
    "$$n=n_{0}+k_{f}M$$\n",
    "Where, $n$ is the number of adipocytes, $n_{0}$ its lower limit and $k_{f}$ the proportial linearly increase adipocytes number with the body .\n",
    "From this equtaion, follow a saturation function for the mean volume of adipocytes ($V$) in respect to the total fat mass ($M$)  \n",
    "$$ V= \\frac{aM}{1+bM}$$  \n",
    "Where, $a=(g_{f}n_{0})^{-1}$, and $b=n_{0}^{-1}k_{f}$,$g_{f}$ is the density of body fat, \n",
    "\n",
    "We use the parameters they estimated by fitting the model to data of close to 200 men. \n",
    "\n",
    "We use the fat content of the ref. 70 kg man, according to [Snyder et al., 1975](http://www.icrp.org/publication.asp?id=ICRP%20Publication%2023) to derive his total fat mas"
   ]
  },
  {
   "cell_type": "code",
   "execution_count": 3,
   "metadata": {},
   "outputs": [
    {
     "data": {
      "text/html": [
       "<div>\n",
       "<style scoped>\n",
       "    .dataframe tbody tr th:only-of-type {\n",
       "        vertical-align: middle;\n",
       "    }\n",
       "\n",
       "    .dataframe tbody tr th {\n",
       "        vertical-align: top;\n",
       "    }\n",
       "\n",
       "    .dataframe thead th {\n",
       "        text-align: right;\n",
       "    }\n",
       "</style>\n",
       "<table border=\"1\" class=\"dataframe\">\n",
       "  <thead>\n",
       "    <tr style=\"text-align: right;\">\n",
       "      <th></th>\n",
       "      <th>value</th>\n",
       "      <th>SD</th>\n",
       "      <th>comment</th>\n",
       "      <th>source</th>\n",
       "    </tr>\n",
       "    <tr>\n",
       "      <th>parameter</th>\n",
       "      <th></th>\n",
       "      <th></th>\n",
       "      <th></th>\n",
       "      <th></th>\n",
       "    </tr>\n",
       "  </thead>\n",
       "  <tbody>\n",
       "    <tr>\n",
       "      <th>a</th>\n",
       "      <td>53.00</td>\n",
       "      <td>7.00</td>\n",
       "      <td>(gf n0)^-1</td>\n",
       "      <td>Spaldin et al., 2008</td>\n",
       "    </tr>\n",
       "    <tr>\n",
       "      <th>b</th>\n",
       "      <td>0.05</td>\n",
       "      <td>0.01</td>\n",
       "      <td>n0-1kf</td>\n",
       "      <td>Spaldin et al., 2008</td>\n",
       "    </tr>\n",
       "    <tr>\n",
       "      <th>gf</th>\n",
       "      <td>0.90</td>\n",
       "      <td>nan</td>\n",
       "      <td>in units: g/ml, 0.9*10^12 in kg/pL</td>\n",
       "      <td>Spaldin et al., 2008</td>\n",
       "    </tr>\n",
       "    <tr>\n",
       "      <th>ref. man fat content (%)</th>\n",
       "      <td>0.19</td>\n",
       "      <td>0.02</td>\n",
       "      <td>NaN</td>\n",
       "      <td>Snyder et al., 1975</td>\n",
       "    </tr>\n",
       "  </tbody>\n",
       "</table>\n",
       "</div>"
      ],
      "text/plain": [
       "                          value   SD                             comment  \\\n",
       "parameter                                                                  \n",
       "a                         53.00 7.00                          (gf n0)^-1   \n",
       "b                          0.05 0.01                              n0-1kf   \n",
       "gf                         0.90  nan  in units: g/ml, 0.9*10^12 in kg/pL   \n",
       "ref. man fat content (%)   0.19 0.02                                 NaN   \n",
       "\n",
       "                                        source  \n",
       "parameter                                       \n",
       "a                         Spaldin et al., 2008  \n",
       "b                         Spaldin et al., 2008  \n",
       "gf                        Spaldin et al., 2008  \n",
       "ref. man fat content (%)   Snyder et al., 1975  "
      ]
     },
     "execution_count": 3,
     "metadata": {},
     "output_type": "execute_result"
    }
   ],
   "source": [
    "adipo_data = pd.read_excel('Adipocytes_data.xlsx','adipocyte_volume',index_col=0)\n",
    "adipo_data.head()"
   ]
  },
  {
   "cell_type": "code",
   "execution_count": 4,
   "metadata": {},
   "outputs": [
    {
     "name": "stdout",
     "output_type": "stream",
     "text": [
      "Mean number of adipocytes in the ref. man (3.4±0.5)×10¹⁰ cells\n",
      "Mean volume of adipocyte in the ref. man 437±74 pL\n",
      "Mean mass of adipocyte in the ref. man (4±1)×10⁵ pg\n",
      "Total cellular mass of adipocyte in the ref. man 13300±1400 g\n"
     ]
    }
   ],
   "source": [
    "ref_man_total_fat = 70*ufloat(adipo_data.loc['ref. man fat content (%)','value'],adipo_data.loc['ref. man fat content (%)','SD'])\n",
    "#multiplying be the ref. man mass\n",
    "\n",
    "#using the parmeters and models to estimate the number of adipocytes for the ref man, and the mean volume of an adipocyte\n",
    "a = ufloat(adipo_data.loc['a','value'],adipo_data.loc['a','SD'])\n",
    "b = ufloat(adipo_data.loc['b','value'],adipo_data.loc['b','SD'])\n",
    "gf = adipo_data.loc['gf','value']\n",
    "\n",
    "#estimating the number of adipocytes using the equation from above\n",
    "n0= 1/(a*gf)*10**12 #because gf is given in the source in units of kg/pL \n",
    "kf = b*n0\n",
    "\n",
    "adipocyte_num = n0+kf*ref_man_total_fat\n",
    "print('Mean number of adipocytes in the ref. man {:0.1eP} cells'.format(adipocyte_num))\n",
    "\n",
    "#using the equation for adipocyte volume:\n",
    "mean_adi_volume = a*ref_man_total_fat/(1+b*ref_man_total_fat)  #in pico liter. \n",
    "print('Mean volume of adipocyte in the ref. man {:0.0fP} pL'.format(mean_adi_volume))\n",
    "\n",
    "#using the density of fat we can estimate the mass of an adipocyte from its volume \n",
    "mean_adi_mass = mean_adi_volume*gf*1000 #converting from pico L to cm^3\n",
    "print('Mean mass of adipocyte in the ref. man {:0.0eP} pg'.format(mean_adi_mass))\n",
    "\n",
    "\n",
    "total_adipo_mass = mean_adi_mass*adipocyte_num/10**12\n",
    "print('Total cellular mass of adipocyte in the ref. man {:0.0fP} g'.format(total_adipo_mass))"
   ]
  },
  {
   "cell_type": "markdown",
   "metadata": {},
   "source": [
    "## Lifespan and turnover rate of adipocytes\n",
    "[Spalding et al., 2008](https://www.nature.com/articles/nature06902) measured the c14 levels in the adipocytes and determine their age by comparison to c14 basic levels in the atmosphere.\n",
    "They fitted the cell age data to three models for the dynamic of the population, assuming that there is a constant death rate (in some of them they assumed that the population is fixed and other the assumed that the production rate could be different). The death rate estimates were very close in the all the different model. We choose to use the simplest one - constant production and constnat death rate. \n",
    "\n",
    "We can derive the mean lifespan of an adipocyte by taking 1 over the turnover rate. \n"
   ]
  },
  {
   "cell_type": "code",
   "execution_count": 5,
   "metadata": {},
   "outputs": [
    {
     "data": {
      "text/html": [
       "<div>\n",
       "<style scoped>\n",
       "    .dataframe tbody tr th:only-of-type {\n",
       "        vertical-align: middle;\n",
       "    }\n",
       "\n",
       "    .dataframe tbody tr th {\n",
       "        vertical-align: top;\n",
       "    }\n",
       "\n",
       "    .dataframe thead th {\n",
       "        text-align: right;\n",
       "    }\n",
       "</style>\n",
       "<table border=\"1\" class=\"dataframe\">\n",
       "  <thead>\n",
       "    <tr style=\"text-align: right;\">\n",
       "      <th></th>\n",
       "      <th>value</th>\n",
       "      <th>SD</th>\n",
       "      <th>comment</th>\n",
       "    </tr>\n",
       "    <tr>\n",
       "      <th>parameter</th>\n",
       "      <th></th>\n",
       "      <th></th>\n",
       "      <th></th>\n",
       "    </tr>\n",
       "  </thead>\n",
       "  <tbody>\n",
       "    <tr>\n",
       "      <th>turnover rate [% /year]</th>\n",
       "      <td>0.08</td>\n",
       "      <td>0.05</td>\n",
       "      <td>for lean. Took median +- average deviation, as...</td>\n",
       "    </tr>\n",
       "    <tr>\n",
       "      <th>mean age [years]</th>\n",
       "      <td>9.90</td>\n",
       "      <td>3.50</td>\n",
       "      <td>lean population</td>\n",
       "    </tr>\n",
       "  </tbody>\n",
       "</table>\n",
       "</div>"
      ],
      "text/plain": [
       "                         value   SD  \\\n",
       "parameter                             \n",
       "turnover rate [% /year]   0.08 0.05   \n",
       "mean age [years]          9.90 3.50   \n",
       "\n",
       "                                                                   comment  \n",
       "parameter                                                                   \n",
       "turnover rate [% /year]  for lean. Took median +- average deviation, as...  \n",
       "mean age [years]                                           lean population  "
      ]
     },
     "execution_count": 5,
     "metadata": {},
     "output_type": "execute_result"
    }
   ],
   "source": [
    "#loading the relevnat parameters according to Spalding et al., 2008\n",
    "adipo_data = pd.read_excel('Adipocytes_data.xlsx','number_and_turnover',index_col=0)\n",
    "adipo_data.head()"
   ]
  },
  {
   "cell_type": "code",
   "execution_count": 6,
   "metadata": {},
   "outputs": [
    {
     "name": "stdout",
     "output_type": "stream",
     "text": [
      "Adipocytes turnover is 8.2±5.3% per year\n",
      "Adipocytes cellular turnover rate is (2.8±1.8)×10⁹ cells per year\n",
      "Adipocytes cellular turnover rate is (7.6±5.1)×10⁶ cells per day\n",
      "_________________\n",
      "Adipocytes mean lifespan is 12.2±7.9 years\n"
     ]
    }
   ],
   "source": [
    "#turnover rate was given as % of cells that are being replace every year, not affected by age\n",
    "adi_to_rate =ufloat(adipo_data.loc['turnover rate [% /year]','value'],adipo_data.loc['turnover rate [% /year]','SD']) \n",
    "\n",
    "#multiplying the two values to get the cellular turonver rate in cells per day\n",
    "cellular_to_rate = adi_to_rate*adipocyte_num/365\n",
    "\n",
    "print(\"Adipocytes turnover is {:0.1fP}% per year\".format(100*adi_to_rate))\n",
    "print(\"Adipocytes cellular turnover rate is {:0.1eP} cells per year\".format(365*cellular_to_rate))\n",
    "print(\"Adipocytes cellular turnover rate is {:0.1eP} cells per day\".format(cellular_to_rate))\n",
    "print('_________________')\n",
    "\n",
    "#lifespan can be derive from turnover rate (in %) by 1/\n",
    "adi_lifespan = 1/adi_to_rate #in years units\n",
    "print(\"Adipocytes mean lifespan is {:0.1fP} years\".format(adi_lifespan))\n"
   ]
  },
  {
   "cell_type": "markdown",
   "metadata": {},
   "source": [
    "### Cellular mass turnover\n",
    "We now can integrate the mass and turnover rate data to get a cellular mass turnover rate estimate:  "
   ]
  },
  {
   "cell_type": "code",
   "execution_count": 7,
   "metadata": {},
   "outputs": [
    {
     "name": "stdout",
     "output_type": "stream",
     "text": [
      "Adipocytes cellular mass turnover rate is (1.1±0.7)×10³ grams per year\n",
      "Adipocytes cellular mass turnover rate is 3.0±2.0 grams per day\n"
     ]
    }
   ],
   "source": [
    "cellular_mass_to_rate = cellular_to_rate*mean_adi_mass/10**12 #moving from pf to grams\n",
    "\n",
    "print(\"Adipocytes cellular mass turnover rate is {:0.1eP} grams per year\".format(cellular_mass_to_rate*365))\n",
    "print(\"Adipocytes cellular mass turnover rate is {:0.1fP} grams per day\".format(cellular_mass_to_rate))\n"
   ]
  },
  {
   "cell_type": "markdown",
   "metadata": {},
   "source": [
    "## Saving the results to excell\n",
    "So it can be used for summary "
   ]
  },
  {
   "cell_type": "code",
   "execution_count": 9,
   "metadata": {},
   "outputs": [],
   "source": [
    "results =pd.DataFrame(index = range(4), columns=['Parameter','Value','Units','Uncertainty']) \n",
    "results.loc[0] = pd.Series({\n",
    "                'Parameter': 'number',\n",
    "                'Value': adipocyte_num.nominal_value,\n",
    "                'Units': 'Cells',\n",
    "                'Uncertainty': adipocyte_num.std_dev\n",
    "                })\n",
    "\n",
    "results.loc[1] = pd.Series({\n",
    "                'Parameter': 'lifespan',\n",
    "                'Value': 365*adi_lifespan.nominal_value, #from years to days\n",
    "                'Units': 'days',\n",
    "                'Uncertainty': 365*adi_lifespan.std_dev #from years to days\n",
    "                })\n",
    "\n",
    "results.loc[2] = pd.Series({\n",
    "                'Parameter': 'cellular turnovr rate',\n",
    "                'Value': cellular_to_rate.nominal_value,\n",
    "                'Units': 'cells per day',\n",
    "                'Uncertainty':cellular_to_rate.std_dev\n",
    "                })\n",
    "\n",
    "results.loc[3] = pd.Series({\n",
    "                'Parameter': 'cell mass',\n",
    "                'Value': mean_adi_mass.nominal_value,\n",
    "                'Units': 'pg',\n",
    "                'Uncertainty':mean_adi_mass.std_dev\n",
    "                })\n",
    "\n",
    "results.loc[4] = pd.Series({\n",
    "                'Parameter': 'cellular mass turnovr rate',\n",
    "                'Value':cellular_mass_to_rate.nominal_value,\n",
    "                'Units': 'grams per day',\n",
    "                'Uncertainty': cellular_mass_to_rate.std_dev\n",
    "                })\n",
    "\n",
    "results.loc[5] = pd.Series({\n",
    "                'Parameter': 'total cellular mass',\n",
    "                'Value':total_adipo_mass.nominal_value,\n",
    "                'Units': 'grams per day',\n",
    "                'Uncertainty': total_adipo_mass.std_dev\n",
    "                })\n",
    "\n",
    "%run Utility_Functions.ipynb\n",
    "#results\n",
    "file = 'Summary.xlsx'\n",
    "book = load_workbook(file)\n",
    "writer = pd.ExcelWriter(file, engine = 'openpyxl')\n",
    "writer.book = book\n",
    "\n",
    "writer.sheets = dict((ws.title, ws) for ws in book.worksheets)\n",
    "sheet=writer.book.active\n",
    "\n",
    "results.to_excel(writer, sheet_name = 'Adipocytes',index=False)\n",
    "worksheet = writer.sheets['Adipocytes']   \n",
    "#     using the colors defined in the color sheet to color the tabs. Using the extraction of the data in the Utility_Functions.ipynb notebook\n",
    "worksheet.sheet_properties.tabColor= colors_data.loc['Adipocytes','hex'] \n",
    "\n",
    "\n",
    "writer.save()\n"
   ]
  },
  {
   "cell_type": "code",
   "execution_count": null,
   "metadata": {},
   "outputs": [],
   "source": []
  }
 ],
 "metadata": {
  "kernelspec": {
   "display_name": "Python 3",
   "language": "python",
   "name": "python3"
  },
  "language_info": {
   "codemirror_mode": {
    "name": "ipython",
    "version": 3
   },
   "file_extension": ".py",
   "mimetype": "text/x-python",
   "name": "python",
   "nbconvert_exporter": "python",
   "pygments_lexer": "ipython3",
   "version": "3.7.3"
  }
 },
 "nbformat": 4,
 "nbformat_minor": 2
}
