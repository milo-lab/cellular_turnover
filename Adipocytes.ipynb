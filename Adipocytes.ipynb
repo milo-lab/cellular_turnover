{
 "cells": [
  {
   "cell_type": "code",
   "execution_count": 1,
   "metadata": {},
   "outputs": [],
   "source": [
    "# loading all the dependencies\n",
    "import pandas as pd\n",
    "\n",
    "from openpyxl import load_workbook\n",
    "\n",
    "import numpy as np\n",
    "import uncertainties as uc\n",
    "\n",
    "pd.options.display.float_format ='{:,.1f}'.format\n",
    "import matplotlib.pyplot as plt\n",
    "\n",
    "%matplotlib inline  \n",
    "\n",
    "import scipy.stats as stats\n",
    "from uncertainties import ufloat\n",
    "from uncertainties import unumpy\n",
    "from sklearn.linear_model import LinearRegression\n",
    "\n",
    "from scipy.stats import gmean\n",
    "%run Utility_Functions.ipynb"
   ]
  },
  {
   "cell_type": "markdown",
   "metadata": {},
   "source": [
    "## Methods and Statistics\n",
    "Ranges and values with ± are given as 1 standard error of the values "
   ]
  },
  {
   "cell_type": "markdown",
   "metadata": {},
   "source": [
    "# Adipocytes\n",
    "Adipocytes, also known as lipocytes and fat cells, are the cells that primarily compose adipose tissue, specialized in storing energy as fat.\n",
    "\n",
    "Our estimate rely on [Spalding et al., 2008](https://www.nature.com/articles/nature06902), who measured the number of adipocytes in adult humans, their mean volume and their turnover, based on the average age of adipocytes measured by C14 carbon. "
   ]
  },
  {
   "cell_type": "markdown",
   "metadata": {},
   "source": [
    "## Number and mass of adipocytes\n",
    "[Spalding et al., 2008](https://www.nature.com/articles/nature06902) estimated the fat contents of the subjects according to their BMI. They measured the mean adipocyte volume for each subject and calculated the total number of adipocytes by dividing the two.\n",
    "They divided the subject by age group and seperated between lean and obease. \n",
    "According to their theory, their is non-linear connection between the number of adipocyes, their average volume and the total fat mass of the subject. They postulate that for lean individual the fat mass increase due to mainly increase in the size of adipocytes, but in obease the increase in mass cause also by increase in the number of adipocytes. As expressed in the equation: \n",
    "$$n=n_{0}+k_{f}M$$\n",
    "Where, $n$ is the number of adipocytes, $n_{0}$ its lower limit and $k_{f}$ the proportial linearly increase adipocytes number with the body .\n",
    "From this equtaion, follow a saturation function for the mean volume of adipocytes ($V$) in respect to the total fat mass ($M$)  \n",
    "$$ V= \\frac{aM}{1+bM}$$  \n",
    "Where, $a=(g_{f}n_{0})^{-1}$, and $b=n_{0}^{-1}k_{f}$,$g_{f}$ is the density of body fat, \n",
    "\n",
    "We use the parameters they estimated by fitting the model to data of close to 200 men. \n",
    "\n",
    "We use the fat content of the ref. 70 kg man, according to [Snyder et al., 1975](http://www.icrp.org/publication.asp?id=ICRP%20Publication%2023) to derive his total fat mas"
   ]
  },
  {
   "cell_type": "code",
   "execution_count": 2,
   "metadata": {},
   "outputs": [
    {
     "data": {
      "text/html": [
       "<div>\n",
       "<style scoped>\n",
       "    .dataframe tbody tr th:only-of-type {\n",
       "        vertical-align: middle;\n",
       "    }\n",
       "\n",
       "    .dataframe tbody tr th {\n",
       "        vertical-align: top;\n",
       "    }\n",
       "\n",
       "    .dataframe thead th {\n",
       "        text-align: right;\n",
       "    }\n",
       "</style>\n",
       "<table border=\"1\" class=\"dataframe\">\n",
       "  <thead>\n",
       "    <tr style=\"text-align: right;\">\n",
       "      <th></th>\n",
       "      <th>value</th>\n",
       "      <th>SD</th>\n",
       "      <th>comment</th>\n",
       "      <th>source</th>\n",
       "    </tr>\n",
       "    <tr>\n",
       "      <th>parameter</th>\n",
       "      <th></th>\n",
       "      <th></th>\n",
       "      <th></th>\n",
       "      <th></th>\n",
       "    </tr>\n",
       "  </thead>\n",
       "  <tbody>\n",
       "    <tr>\n",
       "      <th>a</th>\n",
       "      <td>53.0</td>\n",
       "      <td>7.0</td>\n",
       "      <td>(gf n0)^-1</td>\n",
       "      <td>Spaldin et al., 2008</td>\n",
       "    </tr>\n",
       "    <tr>\n",
       "      <th>b</th>\n",
       "      <td>0.0</td>\n",
       "      <td>0.0</td>\n",
       "      <td>n0-1kf</td>\n",
       "      <td>Spaldin et al., 2008</td>\n",
       "    </tr>\n",
       "    <tr>\n",
       "      <th>gf</th>\n",
       "      <td>0.9</td>\n",
       "      <td>nan</td>\n",
       "      <td>in units: g/ml, 0.9*10^12 in kg/pL</td>\n",
       "      <td>Spaldin et al., 2008</td>\n",
       "    </tr>\n",
       "    <tr>\n",
       "      <th>ref. man fat content (%)</th>\n",
       "      <td>0.2</td>\n",
       "      <td>0.0</td>\n",
       "      <td>NaN</td>\n",
       "      <td>Snyder et al., 1975</td>\n",
       "    </tr>\n",
       "  </tbody>\n",
       "</table>\n",
       "</div>"
      ],
      "text/plain": [
       "                          value  SD                             comment  \\\n",
       "parameter                                                                 \n",
       "a                          53.0 7.0                          (gf n0)^-1   \n",
       "b                           0.0 0.0                              n0-1kf   \n",
       "gf                          0.9 nan  in units: g/ml, 0.9*10^12 in kg/pL   \n",
       "ref. man fat content (%)    0.2 0.0                                 NaN   \n",
       "\n",
       "                                        source  \n",
       "parameter                                       \n",
       "a                         Spaldin et al., 2008  \n",
       "b                         Spaldin et al., 2008  \n",
       "gf                        Spaldin et al., 2008  \n",
       "ref. man fat content (%)   Snyder et al., 1975  "
      ]
     },
     "execution_count": 2,
     "metadata": {},
     "output_type": "execute_result"
    }
   ],
   "source": [
    "adipo = CellTypesResDF(['adipocytes'])\n",
    "adipo_data = pd.read_excel('Adipocytes_data.xlsx','adipocyte_volume',index_col=0)\n",
    "adipo_data.head()"
   ]
  },
  {
   "cell_type": "code",
   "execution_count": 3,
   "metadata": {},
   "outputs": [
    {
     "name": "stdout",
     "output_type": "stream",
     "text": [
      "Number of adipocytes is: (3.4±0.5)×10¹⁰ cells\n",
      "Cell mass of adipocytes is: (3.9±0.7)×10⁵ pg\n",
      "Total cellular mass of adipocytes is: 13300±1400 grams\n"
     ]
    }
   ],
   "source": [
    "ref_man_total_fat = 70*ufloat(adipo_data.loc['ref. man fat content (%)','value'],adipo_data.loc['ref. man fat content (%)','SD'])\n",
    "#multiplying be the ref. man mass\n",
    "\n",
    "#using the parmeters and models to estimate the number of adipocytes for the ref man, and the mean volume of an adipocyte\n",
    "a = ufloat(adipo_data.loc['a','value'],adipo_data.loc['a','SD'])\n",
    "b = ufloat(adipo_data.loc['b','value'],adipo_data.loc['b','SD'])\n",
    "gf = adipo_data.loc['gf','value']\n",
    "\n",
    "#estimating the number of adipocytes using the equation from above\n",
    "n0= 1/(a*gf)*10**12 #because gf is given in the source in units of kg/pL \n",
    "kf = b*n0\n",
    "\n",
    "adipocyte_num = n0+kf*ref_man_total_fat\n",
    "adipo.res['number'] = adipocyte_num \n",
    "\n",
    "#using the equation for adipocyte volume:\n",
    "mean_adi_volume = a*ref_man_total_fat/(1+b*ref_man_total_fat)  #in pico liter. \n",
    "\n",
    "#using the density of fat we can estimate the mass of an adipocyte from its volume \n",
    "mean_adi_mass = mean_adi_volume*gf*1000 #converting from pico L to cm^3\n",
    "adipo.res['cell mass'] = mean_adi_mass \n",
    "\n",
    "adipo.res['total cellular mass'] = mean_adi_mass*adipocyte_num/10**12\n",
    "\n",
    "adipo.print_params(['number','cell mass','total cellular mass'])\n"
   ]
  },
  {
   "cell_type": "markdown",
   "metadata": {},
   "source": [
    "## Lifespan and turnover rate of adipocytes\n",
    "[Spalding et al., 2008](https://www.nature.com/articles/nature06902) measured the c14 levels in the adipocytes and determine their age by comparison to c14 basic levels in the atmosphere.\n",
    "They fitted the cell age data to three models for the dynamic of the population, assuming that there is a constant death rate (in some of them they assumed that the population is fixed and other the assumed that the production rate could be different). The death rate estimates were very close in the all the different model. We choose to use the simplest one - constant production and constnat death rate. \n",
    "\n",
    "We can derive the mean lifespan of an adipocyte by taking 1 over the turnover rate. \n"
   ]
  },
  {
   "cell_type": "code",
   "execution_count": 4,
   "metadata": {},
   "outputs": [
    {
     "data": {
      "text/html": [
       "<div>\n",
       "<style scoped>\n",
       "    .dataframe tbody tr th:only-of-type {\n",
       "        vertical-align: middle;\n",
       "    }\n",
       "\n",
       "    .dataframe tbody tr th {\n",
       "        vertical-align: top;\n",
       "    }\n",
       "\n",
       "    .dataframe thead th {\n",
       "        text-align: right;\n",
       "    }\n",
       "</style>\n",
       "<table border=\"1\" class=\"dataframe\">\n",
       "  <thead>\n",
       "    <tr style=\"text-align: right;\">\n",
       "      <th></th>\n",
       "      <th>value</th>\n",
       "      <th>SD</th>\n",
       "      <th>comment</th>\n",
       "    </tr>\n",
       "    <tr>\n",
       "      <th>parameter</th>\n",
       "      <th></th>\n",
       "      <th></th>\n",
       "      <th></th>\n",
       "    </tr>\n",
       "  </thead>\n",
       "  <tbody>\n",
       "    <tr>\n",
       "      <th>turnover rate [% /year]</th>\n",
       "      <td>0.1</td>\n",
       "      <td>0.1</td>\n",
       "      <td>for lean. Took median +- average deviation, as...</td>\n",
       "    </tr>\n",
       "    <tr>\n",
       "      <th>mean age [years]</th>\n",
       "      <td>9.9</td>\n",
       "      <td>3.5</td>\n",
       "      <td>lean population</td>\n",
       "    </tr>\n",
       "  </tbody>\n",
       "</table>\n",
       "</div>"
      ],
      "text/plain": [
       "                         value  SD  \\\n",
       "parameter                            \n",
       "turnover rate [% /year]    0.1 0.1   \n",
       "mean age [years]           9.9 3.5   \n",
       "\n",
       "                                                                   comment  \n",
       "parameter                                                                   \n",
       "turnover rate [% /year]  for lean. Took median +- average deviation, as...  \n",
       "mean age [years]                                           lean population  "
      ]
     },
     "execution_count": 4,
     "metadata": {},
     "output_type": "execute_result"
    }
   ],
   "source": [
    "#loading the relevnat parameters according to Spalding et al., 2008\n",
    "adipo_data = pd.read_excel('Adipocytes_data.xlsx','number_and_turnover',index_col=0)\n",
    "adipo_data.head()"
   ]
  },
  {
   "cell_type": "code",
   "execution_count": 5,
   "metadata": {},
   "outputs": [
    {
     "name": "stdout",
     "output_type": "stream",
     "text": [
      "Adipocytes turnover is 8.2±5.3% per year\n",
      "Cellular turnover rate of adipocytes is: (3±2)×10⁹ cells per year\n",
      "Lifespan of adipocytes is: 12±8 years\n",
      "Cellular turnover rate of adipocytes is: (8.0±5.0)×10⁶ cells per day\n",
      "Lifespan of adipocytes is: 4000±3000 days\n"
     ]
    }
   ],
   "source": [
    "#turnover rate was given as % of cells that are being replace every year, not affected by age\n",
    "adi_to_rate =ufloat(adipo_data.loc['turnover rate [% /year]','value'],adipo_data.loc['turnover rate [% /year]','SD']) \n",
    "\n",
    "#multiplying the two values to get the cellular turonver rate in cells per day\n",
    "adipo.res['cellular turnover rate'] = adi_to_rate*adipocyte_num/365\n",
    "\n",
    "print(\"Adipocytes turnover is {:0.1fP}% per year\".format(100*adi_to_rate))\n",
    "\n",
    "#lifespan can be derive from turnover rate (in %) by 1/\n",
    "adipo.res['lifespan'] = 365/adi_to_rate #in years units\n",
    "\n",
    "#using utility method to print the results in units of years too\n",
    "adipo.print_in_years(['cellular turnover rate','lifespan'])\n",
    "adipo.print_params(['cellular turnover rate','lifespan'])\n"
   ]
  },
  {
   "cell_type": "markdown",
   "metadata": {},
   "source": [
    "### Cellular mass turnover\n",
    "We now can integrate the mass and turnover rate data to get a cellular mass turnover rate estimate:  "
   ]
  },
  {
   "cell_type": "code",
   "execution_count": 6,
   "metadata": {},
   "outputs": [
    {
     "name": "stdout",
     "output_type": "stream",
     "text": [
      "Cellular turnover rate of adipocytes is: (3±2)×10⁹ cells per year\n",
      "Cellular turnover rate of adipocytes is: (8.0±5.0)×10⁶ cells per day\n"
     ]
    }
   ],
   "source": [
    "adipo.res['cellular mass turnover rate'] = adipo.res.loc['adipocytes','cellular turnover rate']*mean_adi_mass/10**12 #moving from pf to grams\n",
    "\n",
    "adipo.print_in_years('cellular turnover rate')\n",
    "adipo.print_params('cellular turnover rate')\n",
    "# print(\"Adipocytes cellular mass turnover rate is {:0.1fP} grams per day\".format(cellular_mass_to_rate))\n"
   ]
  },
  {
   "cell_type": "markdown",
   "metadata": {},
   "source": [
    "## Saving the results to excell\n",
    "So it can be used for summary "
   ]
  },
  {
   "cell_type": "code",
   "execution_count": 7,
   "metadata": {},
   "outputs": [],
   "source": [
    "adipo.export_to_excel('Summary.xlsx')"
   ]
  }
 ],
 "metadata": {
  "kernelspec": {
   "display_name": "Python 3",
   "language": "python",
   "name": "python3"
  },
  "language_info": {
   "codemirror_mode": {
    "name": "ipython",
    "version": 3
   },
   "file_extension": ".py",
   "mimetype": "text/x-python",
   "name": "python",
   "nbconvert_exporter": "python",
   "pygments_lexer": "ipython3",
   "version": "3.7.3"
  }
 },
 "nbformat": 4,
 "nbformat_minor": 2
}
