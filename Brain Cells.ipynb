{
 "cells": [
  {
   "cell_type": "code",
   "execution_count": 16,
   "metadata": {},
   "outputs": [],
   "source": [
    "# loading all the dependencies\n",
    "import pandas as pd\n",
    "from openpyxl import load_workbook\n",
    "from scipy.optimize import fsolve\n",
    "from scipy.optimize import curve_fit\n",
    "\n",
    "import numpy as np\n",
    "import uncertainties as uc\n",
    "\n",
    "pd.options.display.float_format ='{:,.2f}'.format\n",
    "import matplotlib.pyplot as plt\n",
    "%matplotlib inline  \n",
    "from IPython.display import Image\n",
    "from IPython.core.display import HTML \n",
    "\n",
    "\n",
    "import scipy.stats as stats\n",
    "from uncertainties import ufloat\n",
    "from uncertainties import unumpy\n",
    "\n",
    "from sklearn.linear_model import LinearRegression\n",
    "import statsmodels.api as sm\n",
    "\n",
    "%run Utility_Functions.ipynb"
   ]
  },
  {
   "cell_type": "markdown",
   "metadata": {},
   "source": [
    "## Methods and Statistics\n",
    "Ranges and values with ± are given as 1 standard error of the values "
   ]
  },
  {
   "cell_type": "markdown",
   "metadata": {},
   "source": [
    "# Brain cells\n",
    "Consist mainly of neurons and non-neuron cells: glial and endothelial cells"
   ]
  },
  {
   "cell_type": "markdown",
   "metadata": {},
   "source": [
    "## Number of cells\n",
    "The number of different cells were estimated by several different methods over the years, including: stereology, histology and (recently) Isotropic Fractionator. Using these kinds of methods, researches have refuted the well known claim that glial cells overwhelm the nueron cells by factor of 10.\n",
    "In this section we base our estimates for the number of the cells of the different cell types, on three main sources:\n",
    "[Azevedo et al., 2009](https://www.ncbi.nlm.nih.gov/pubmed/19226510)\n",
    "[Andrade-Moraes et al., 2013](https://www.ncbi.nlm.nih.gov/pubmed/24136825)\n",
    "[von Bartheld et al., 2016](https://www.ncbi.nlm.nih.gov/pmc/articles/PMC5063692/#R105)\n",
    "\n",
    "We average the estimates from  [Azevedo et al., 2009](https://www.ncbi.nlm.nih.gov/pubmed/19226510) and [Andrade-Moraes et al., 2013](https://www.ncbi.nlm.nih.gov/pubmed/24136825) to get the numbers for neurons and non-neurons cells in the different segments of the brain. Then, we use the estimates of [von Bartheld et al., 2016](https://www.ncbi.nlm.nih.gov/pmc/articles/PMC5063692/#R105) for the distribution of non-neuron cells, to diffrentiate between them.\n",
    "\n"
   ]
  },
  {
   "cell_type": "code",
   "execution_count": 3,
   "metadata": {},
   "outputs": [
    {
     "name": "stdout",
     "output_type": "stream",
     "text": [
      "Neurons : (7.7±1.1)×10¹⁰ \n",
      "Oligodendrocytes : (4.0±0.4)×10¹⁰ \n",
      "Astrocytes : (1.8±0.2)×10¹⁰ \n",
      "Microglia : (5.9±1.2)×10⁹ \n",
      "endothelial cells : (1.7±0.2)×10¹⁰ \n"
     ]
    }
   ],
   "source": [
    "#reading from excel the neuron and non-neuron cell pupulation estimates (average from Azevedo and Andeade-Moraes)\n",
    "cells_populations = pd.read_excel('Brain_data.xlsx','Neuron_and_nonN_populations',index_col=0, usecols = range(10))\n",
    "\n",
    "\n",
    "nonN_dist = pd.read_excel('Brain_data.xlsx','nonNeuron_population',index_col=0, usecols = range(9))\n",
    "#nonN_dist.head()\n",
    "\n",
    "\n",
    "\n",
    "#joining the two data frames, considering the type (gery/white) matter of the brain part\n",
    "cells_populations=cells_populations.join(nonN_dist, on='type')\n",
    "\n",
    "\n",
    "nonN_types = ['Oligodendrocytes','Astrocytes','Microglia','endothelial cells']\n",
    "\n",
    "#computing the total numbers of different non_N cells. using the uncertainty package for uncertainties computations\n",
    "dist_matrix = unumpy.umatrix(cells_populations[nonN_types].values,\n",
    "            cells_populations[['std olig.','std Ast.','std Microg.','std end.']].values)\n",
    "\n",
    "total_nonN = unumpy.uarray(cells_populations.loc[:,'Absolute non-neuronal number (billion)'].values,\n",
    "                  cells_populations.loc[:,'Delta non-neuronal number (billion)'].values)\n",
    "\n",
    "#transposing the matrix and using the dot methodfor scallar multiplication \n",
    "#nonN_nums = np.dot(dist_matrix.transpose(1,0),total_nonN)\n",
    "#nonN_nums = np.array(nonN_nums).ravel()  #using ravel to transform from matrix to an array\n",
    "\n",
    "#by matrix multiplication by a diagonal matrix create martix where each row represent cell type and columns are brain part \n",
    "nonN_nums =dist_matrix.transpose(1,0)*np.diag(total_nonN)\n",
    "\n",
    "#computing the total number of neurons and its uncertainty\n",
    "Neu_num = unumpy.uarray(cells_populations.loc[:,'Absolute neuronal number (billion)'].values,\n",
    "                  cells_populations.loc[:,'Delta neuronal number (billion)'].values)\n",
    "\n",
    "#combining into a single data frame the numebr estimates for all the different cells           \n",
    "total_cells= pd.DataFrame(Neu_num.reshape(1,-1), index=['Neurons'], columns= cells_populations.index)\n",
    "total_cells = total_cells.append(pd.DataFrame(nonN_nums,index=nonN_types,columns= cells_populations.index))\n",
    "\n",
    "\n",
    "#printing the number of different cells\n",
    "for cell_type in total_cells.index :\n",
    "    print(cell_type,': {:0.1eP} '.format(10**9*total_cells.loc[cell_type,:].sum()))\n",
    "\n",
    "    \n",
    "#initiating a CellTypeResDF object to save results and print them:\n",
    "brain_cells = CellTypesResDF(['Neurons','Glial cells'])\n",
    "brain_cells.res.loc['Neurons','number'] = 10**9*total_cells.loc['Neurons'].sum()\n",
    "brain_cells.res.loc['Glial cells','number'] = 10**9*total_cells.loc[['Oligodendrocytes','Astrocytes','Microglia']].sum().sum()\n"
   ]
  },
  {
   "cell_type": "markdown",
   "metadata": {},
   "source": [
    "## Age and Lifespans\n",
    "\n",
    "There is a ongoing debate regarding the occurrence of neurongenesis in human brain, specificly in the hippocampus.\n",
    "[Sorrells et al., 2018](https://www.nature.com/articles/nature25975) foung no evidence of new neurons in adults hippocampus. They used DCX and PSA-NCAM markers. Didn't find double positive (DCX+PSA-NCAM+) marked cells  (\"young neurons\") in the hilus or GCL of the hippocampuses brains of adults (17 individuals, aged 18-77 years).\n",
    "However, [Moreno-Jiménez et al., 2019](https://www.nature.com/articles/s41591-019-0375-9) used an improved method and found population of young neurons (positive for DCX plus other markers as PSA-NCAM+ and more) in the hippocampus of adult patients, up to the ninth decade of their life. They postulate that [Sorrells et al., 2018](https://www.nature.com/articles/nature25975) negative results might have been due to the prolonged or uncontrolled fixation conditions to which humansamples are typically exposed in brain banks worldwide, which as they demonstrated, lead to a sharp reduction in the number of DCX+ cells detected.\n",
    "[Boldrini et al., 2018](https://www.sciencedirect.com/science/article/pii/S1934590918301218?via%3Dihub) also shows a young neuron population in the dentate gyri in the hippocampus of adults.\n",
    "\n",
    "\n",
    "We integrated several quantitative sources regarding the average age and turnover of neurons and brain cells in general.\n",
    "neuronogenesis is limited to only few parts in the human brain:\n",
    "\n",
    "[Bhardwaj et al., 2006](https://www.pnas.org/content/103/33/12564) - no neuronogenesis in the cortex. \n",
    "upper bound - 0.07% of cells are new (5 years) - under the threshold of measurement\n",
    "\n",
    "[Spalding et al., 2013](https://www.sciencedirect.com/science/article/pii/S0092867413005333?via%3Dihub#mmc1) - neuronogenesis in the hippocampus !\n",
    "matched several models for the data. Seems that the best model was taking in acount 2 different population, one that is regenerated and one that isn't (only dying). Their results indicate that over half of the non-neurons cells of the hippocampus are turnover, and about third of the neurons. Fitting the theory that most of the regeneration is in the dentate gyrus part.\n",
    "\n",
    "\n",
    "[Spalding et al., 2005](https://www.ncbi.nlm.nih.gov/pubmed/16009139) - age of neurons in cerebellum and occipital-cortex is about the age of the person. Non-nuerons cells are younger by~10 years\n",
    "\n",
    "[Ernst et al., 2014](https://www.ncbi.nlm.nih.gov/pubmed/24561062) - There is neurogenesis in the Striatum. With a similar 2 population model they showed that about quarter of the neurons in the Striatum are turnover in reletivly fast rate.\n",
    "They also differentiated between Oligodendrocytes and the other non-neurons and measured their turnover rate.\n",
    "\n",
    "[Bergmann et al., 2012](https://www.sciencedirect.com/science/article/pii/S0896627312003418) - The average age of neurons in the olfactory bulb is the same as the person, therfore no nuerogensis in the olfactory bulb, in humans. As opposed to a known phenomena of neurogenesis in the olfactory bulb of rodents.\n",
    "\n",
    "\n",
    "[Reu et al., 2017](https://www.cell.com/cell-reports/fulltext/S2211-1247(17)30943-9) - The average age of microglia in the cortex is a about 4.2 years, indicating a turnover of 28% yearly."
   ]
  },
  {
   "cell_type": "markdown",
   "metadata": {},
   "source": [
    "### The turnover of non-Neurons in the cortex\n",
    "Using data from [Bhardwaj et al., 2006](https://www.pnas.org/content/103/33/12564) and [Spalding et al., 2005](https://www.ncbi.nlm.nih.gov/pubmed/16009139) we estimate the turnover rate of non-Neuron cells in the cortex, based on their measured average age. \n",
    "We base our estimate on two simple models: \n",
    "1. All cells were born with the person, but for a constant small production and turnover rate\n",
    "2. Same as 1, only with a specific sub-population (fraction) that are being subjected to turnover. \n",
    "\n",
    "equation for 1:\n",
    "constant production and turnover rate $\\beta = \\gamma$ (units: 1/year),  \n",
    "$$\\frac{dN}{dt} =(\\beta-\\gamma)N = 0.$$\n",
    "$$ N(t) = N_{0}$$\n",
    "\n",
    "$ n(t,a) = \\gamma N e^{-\\gamma a}$  ,for $a<t$ ($a$ is the age of cells, and $t$ the age of the person\n",
    "$$ n(t,t) = N_{0}e^{-\\gamma t} $$\n",
    "\n",
    "We can get an experssion for the average age of the cells:\n",
    "$$<a> =\\frac{\\int a n(t,a)da}{N(t)} = \\frac{\\int \\gamma N_{0}a e^{-\\gamma a}da}{N_{0}}=\\gamma \\int a e^{-\\gamma a}da+te^{-\\gamma t} = \\frac{1-e^{-\\gamma t}}{\\gamma}$$\n",
    "\n",
    "\n",
    "for 2 we get similary:\n",
    "f is the fraction of the population that undergo turnover\n",
    "\n",
    "$$<a> = (1-f)t+ f\\frac{1-e^{-\\gamma t}}{\\gamma}$$\n",
    "\n",
    "\n",
    "\n"
   ]
  },
  {
   "cell_type": "code",
   "execution_count": 18,
   "metadata": {},
   "outputs": [
    {
     "name": "stdout",
     "output_type": "stream",
     "text": [
      "patient specific turnover rate:\n",
      "average turnover rate: 0.8±0.1%\n"
     ]
    },
    {
     "data": {
      "image/png": "[encoded data removed]",
      "text/plain": [
       "<Figure size 432x288 with 1 Axes>"
      ]
     },
     "metadata": {
      "needs_background": "light"
     },
     "output_type": "display_data"
    },
    {
     "name": "stdout",
     "output_type": "stream",
     "text": [
      "RMSE: 3.9 \n"
     ]
    }
   ],
   "source": [
    "age_cortex = pd.read_excel('Brain_data.xlsx','age_neuN_Cortex',index_col=0, usecols = range(7))\n",
    "age_cortex= age_cortex.sort_values('patient age [y]',ascending = 0) #sorting by the age of the patients. easyer to plot\n",
    "\n",
    "t=age_cortex.loc[:,'patient age [y]'].values\n",
    "neuN_ages=age_cortex.loc[:,'neuN age [y]'].values \n",
    "#t=53\n",
    "#neuN_ages=42\n",
    "\n",
    "\n",
    "#defining the equation (average age of cell when there is constant production) as a function that can be numerily solved\n",
    "equation = lambda g,a : (1 - np.exp(-g*t))/g - a\n",
    "#defining initial geuss. we now that gamma is <1 \n",
    "\n",
    "gamma_initial_guess=0.01*np.ones(len(age_cortex))\n",
    "\n",
    "#print(gamma_initial_guess.shape)\n",
    "#print(t.shape)\n",
    "#print(neuN_ages.shape)\n",
    "gamma = fsolve(equation, gamma_initial_guess, args=neuN_ages)\n",
    "\n",
    "\n",
    "##estimating the error by solving the equation for the limits of possible range\n",
    "neuN_ages_hi = neuN_ages + 2*np.ones(len(age_cortex)) # the precision of the measuring the average age method bt c14 is +- 2 years\n",
    "neuN_ages_low = neuN_ages - 2*np.ones(len(age_cortex))\n",
    "\n",
    "gamma_hi = fsolve(equation, gamma_initial_guess ,args=neuN_ages_low)\n",
    "gamma_low = fsolve(equation, gamma_initial_guess ,args=neuN_ages_hi)\n",
    "\n",
    "\n",
    "#and now we store the value in ufloat\n",
    "gamma = unumpy.uarray(gamma, (gamma_hi-gamma_low)/2)\n",
    "\n",
    "print('patient specific turnover rate:')\n",
    "#for g in gamma :\n",
    "#    print('{:0.1fP}%'.format(100*g))\n",
    "\n",
    "\n",
    "cortical_nonN_turnover = gamma.mean()\n",
    "print('average turnover rate: {:0.1fP}%'.format(100*cortical_nonN_turnover))\n",
    "\n",
    "\n",
    "\n",
    "################################################\n",
    "#Altrnative method is to try to fit the different models to the average age data from the sourcses\n",
    "# as will show, it gives the same results\n",
    "###############################################\n",
    "\n",
    "#the essence of the first model to fit is the same as solving the simple equation of average age with constant turnover\n",
    "\n",
    "#defining the fucntion of average age for constant turnover\n",
    "const_turn = lambda t,gamma : (1 - np.exp(-gamma*t))/gamma\n",
    "\n",
    "#fitting the data using curve_fit\n",
    "popt, pcov = curve_fit(const_turn, t, neuN_ages)\n",
    "\n",
    "#ploting the data and the fit\n",
    "plt.plot(t, neuN_ages, 'b.', label='data')\n",
    "plt.plot(t, const_turn(t, *popt), 'r-',label='fit: gamma=%0.3f' % tuple(popt))\n",
    "\n",
    "\n",
    "#defining the fucntion of average age for 2 population, one of which has constant turnover\n",
    "pop2 = lambda t,f,gamma: (1-f)*t+ f*(1 - np.exp(-gamma*t))/gamma\n",
    "\n",
    "#fitting the data using curve_fit\n",
    "popt, pcov =curve_fit(pop2, t, neuN_ages,bounds=(0, [1., 1.]))\n",
    "\n",
    "#ploting the data and the fit\n",
    "plt.plot(t, pop2(t, *popt), 'g-',label='fit: f=%0.3f, gamma=%0.1f'  % tuple(popt))\n",
    "plt.xlabel('Age')\n",
    "plt.ylabel('Age of non-Neuron cells')\n",
    "plt.legend()\n",
    "plt.show()    \n",
    "\n",
    "#caclulating measures of goodnes of fit\n",
    "absError = pop2(t, *popt) - neuN_ages\n",
    "SE = np.square(absError) \n",
    "MSE = np.mean(SE) # mean squared errors\n",
    "RMSE = np.sqrt(MSE)\n",
    "\n",
    "# print('MSE: ',MSE)\n",
    "print('RMSE: {:0.1f} '.format(RMSE))\n",
    "\n"
   ]
  },
  {
   "cell_type": "markdown",
   "metadata": {},
   "source": [
    "And we can see that in the 2 population model we get a trivial case, all the population is under constant turnover rate. \n",
    "we will use this value for non-neuron cell in the cortex\n"
   ]
  },
  {
   "cell_type": "markdown",
   "metadata": {},
   "source": [
    "## Turnover rate for different brain segments\n",
    "We use the data gather from: [Bhardwaj et al., 2006](https://www.pnas.org/content/103/33/12564), \n",
    "[Spalding et al., 2013](https://www.sciencedirect.com/science/article/pii/S0092867413005333?via%3Dihub#mmc1) \n",
    "[Spalding et al., 2005](https://www.ncbi.nlm.nih.gov/pubmed/16009139)\n",
    "[Ernst et al., 2014](https://www.ncbi.nlm.nih.gov/pubmed/24561062)\n",
    "[Bergmann et al., 2012](https://www.sciencedirect.com/science/article/pii/S0896627312003418)\n",
    "[Reu et al., 2017](https://www.cell.com/cell-reports/fulltext/S2211-1247(17)30943-9)\n",
    "\n",
    "We assume the non-zero turnoevr rates for neurons is restricted to the regions in which it was found. \n",
    "for non neuron cells, we assume:\n",
    "1. Microglial turnover rates that were measured in the Cortex are representative for the entire brain\n",
    "2. Oligodendrocytes turnover rates that were measured in the Striatum are representative for the entire brain\n",
    "3. Endothelial turnover rates are similiar to the other non-neuron cells. In [Bergmann et al., 2015](https://www.ncbi.nlm.nih.gov/pubmed/26073943)  it was etimated that in the heart, endothelial cells turvnoer is 17% per year, but it seems that it doesn't hold for the ednothalial cells in the brain, as the overall age of Cortex cells is too high. We think that that might be due to lower erosion of the blood vessels in the brain.\n",
    "We compare the expected turnover rate of non-neuron cells that was measured in the different parts of the brian, to these we compute from indivdual cell type prevalence and measured turnover and conclude a reference turnover for the population of glial cells.\n"
   ]
  },
  {
   "cell_type": "code",
   "execution_count": 5,
   "metadata": {},
   "outputs": [
    {
     "data": {
      "text/html": [
       "<div>\n",
       "<style scoped>\n",
       "    .dataframe tbody tr th:only-of-type {\n",
       "        vertical-align: middle;\n",
       "    }\n",
       "\n",
       "    .dataframe tbody tr th {\n",
       "        vertical-align: top;\n",
       "    }\n",
       "\n",
       "    .dataframe thead th {\n",
       "        text-align: right;\n",
       "    }\n",
       "</style>\n",
       "<table border=\"1\" class=\"dataframe\">\n",
       "  <thead>\n",
       "    <tr style=\"text-align: right;\">\n",
       "      <th>brain part</th>\n",
       "      <th>Cortex</th>\n",
       "      <th>Subcortical White Matter</th>\n",
       "      <th>Cerebellum</th>\n",
       "      <th>Striatum</th>\n",
       "      <th>Hippocampus</th>\n",
       "      <th>ROB</th>\n",
       "    </tr>\n",
       "  </thead>\n",
       "  <tbody>\n",
       "    <tr>\n",
       "      <th>Neurons</th>\n",
       "      <td>0.0+/-0</td>\n",
       "      <td>NaN</td>\n",
       "      <td>0.0+/-0</td>\n",
       "      <td>0.027+/-0</td>\n",
       "      <td>0.0175+/-0</td>\n",
       "      <td>NaN</td>\n",
       "    </tr>\n",
       "    <tr>\n",
       "      <th>Oligodendrocytes</th>\n",
       "      <td>NaN</td>\n",
       "      <td>NaN</td>\n",
       "      <td>NaN</td>\n",
       "      <td>0.013+/-0.005</td>\n",
       "      <td>NaN</td>\n",
       "      <td>NaN</td>\n",
       "    </tr>\n",
       "    <tr>\n",
       "      <th>Astrocytes</th>\n",
       "      <td>NaN</td>\n",
       "      <td>NaN</td>\n",
       "      <td>NaN</td>\n",
       "      <td>NaN</td>\n",
       "      <td>NaN</td>\n",
       "      <td>NaN</td>\n",
       "    </tr>\n",
       "    <tr>\n",
       "      <th>Microglia</th>\n",
       "      <td>0.28+/-0.15</td>\n",
       "      <td>NaN</td>\n",
       "      <td>NaN</td>\n",
       "      <td>NaN</td>\n",
       "      <td>NaN</td>\n",
       "      <td>NaN</td>\n",
       "    </tr>\n",
       "    <tr>\n",
       "      <th>endothelial cells</th>\n",
       "      <td>NaN</td>\n",
       "      <td>NaN</td>\n",
       "      <td>NaN</td>\n",
       "      <td>NaN</td>\n",
       "      <td>NaN</td>\n",
       "      <td>NaN</td>\n",
       "    </tr>\n",
       "  </tbody>\n",
       "</table>\n",
       "</div>"
      ],
      "text/plain": [
       "brain part              Cortex Subcortical White Matter Cerebellum  \\\n",
       "Neurons                0.0+/-0                      NaN    0.0+/-0   \n",
       "Oligodendrocytes           NaN                      NaN        NaN   \n",
       "Astrocytes                 NaN                      NaN        NaN   \n",
       "Microglia          0.28+/-0.15                      NaN        NaN   \n",
       "endothelial cells          NaN                      NaN        NaN   \n",
       "\n",
       "brain part              Striatum Hippocampus  ROB  \n",
       "Neurons                0.027+/-0  0.0175+/-0  NaN  \n",
       "Oligodendrocytes   0.013+/-0.005         NaN  NaN  \n",
       "Astrocytes                   NaN         NaN  NaN  \n",
       "Microglia                    NaN         NaN  NaN  \n",
       "endothelial cells            NaN         NaN  NaN  "
      ]
     },
     "execution_count": 5,
     "metadata": {},
     "output_type": "execute_result"
    }
   ],
   "source": [
    "#uploading the data regarding the turnover of the different cell type and different brain parts  \n",
    "turnover_data = pd.read_excel('Brain_data.xlsx','Cells_turnover',index_col=0, usecols = range(0,7))\n",
    "\n",
    "renewing_popul = pd.DataFrame(index=total_cells.index, columns=total_cells.columns) #stores the fraction of renewing population\n",
    "rp_turnover_rates = pd.DataFrame(index=total_cells.index, columns=total_cells.columns)  #stores the turnover rate of the renewing populatio\n",
    "\n",
    "\n",
    "#assiging the turvnoer data by brain part and cell type\n",
    "for cell_type in renewing_popul.index:  #going over all cell types\n",
    "    for part in renewing_popul.columns:  #going over all brain parts\n",
    "        current_turnover = turnover_data.loc[(turnover_data.index == part) & (turnover_data['cells'] == cell_type)]\n",
    "        #chechking if their is relevant data\n",
    "        if len(current_turnover.index)>0:\n",
    "            renewing_popul.loc[cell_type,part] = ufloat(current_turnover['% population regenerated'].mean(axis=0),\n",
    "                                                        current_turnover['std population regenerated'].mean(axis=0))\n",
    "            #assigning the mean of all relevant entries and the standard deviations\n",
    "            rp_turnover_rates.loc[cell_type,part] = ufloat(current_turnover['turnover rate % per y'].mean(axis=0),\n",
    "                                                           current_turnover['turover rate std'].mean(axis=0))\n",
    "\n",
    "\n",
    "rp_turnover_rates"
   ]
  },
  {
   "cell_type": "markdown",
   "metadata": {},
   "source": [
    "### Non-neuron cells turnover\n",
    "We first estiamate the turnover and lifespan of non-Neuron cells"
   ]
  },
  {
   "cell_type": "code",
   "execution_count": 6,
   "metadata": {},
   "outputs": [
    {
     "name": "stdout",
     "output_type": "stream",
     "text": [
      "estimated turnoevr of non-neurons in Cortex : 0.8±0.1% per year\n",
      "estimated turnoevr of non-neurons in Striatum : 2.5±0.5% per year\n",
      "estimated turnoevr of non-neurons in Hippocampus : 2.7±0.7% per year\n",
      "______________\n",
      "lower bound for non-neuron cells turnoevr: 2.7±1.2% per year\n"
     ]
    }
   ],
   "source": [
    "\n",
    "#glial and endothelial cells \n",
    "\n",
    "##using an assumption that the turnover rates that was measured for glial cells in certain brain parts hold for the rest\n",
    "#we use the expected turnover rate for the comparison - given by the multiplication of the fraction of renewed population in its turnover rate \n",
    "exp_to = renewing_popul*rp_turnover_rates\n",
    "\n",
    "#removing the neurons for convenient\n",
    "exp_to = exp_to.drop('Neurons')\n",
    "\n",
    "exp_to = exp_to.sum(axis=1)\n",
    "\n",
    "\n",
    "\n",
    "#assigning the expected turnover of non-Neuron cells from the literature, by brain part\n",
    "measured_turnover = pd.DataFrame(index=['non-Neurons','non-Neurons, non Oligodendrocytes'], columns=total_cells.columns)  #stores the turnover rate of the renewing populatio\n",
    "for cell_type in measured_turnover .index:  #going over the two indices\n",
    "    for part in measured_turnover .columns:  #going over all brain parts\n",
    "        current_turnover = turnover_data.loc[(turnover_data.index == part) & (turnover_data['cells'] ==cell_type)]\n",
    "        if len(current_turnover.index)>0:\n",
    "            measured_turnover.loc[cell_type,part] = ufloat(current_turnover.loc[:,'% population regenerated'].mean(axis=0),\n",
    "                                                        current_turnover.loc[:,'std population regenerated'].mean(axis=0))\n",
    "            measured_turnover.loc[cell_type,part]=measured_turnover.loc[cell_type,part]*ufloat(current_turnover.loc[:,'turnover rate % per y'].mean(axis=0),\n",
    "                                                        current_turnover.loc[:,'turover rate std'].mean(axis=0))\n",
    "\n",
    "#adding the turnover rate for non-Neurons in the cortex we estimated from previous data:\n",
    "measured_turnover.loc['non-Neurons','Cortex'] = cortical_nonN_turnover\n",
    "\n",
    "#deriving estimatr for the overall non-Neuron cells in the Striatum using known values for Oligodendrocytes and non-Neurons, non Oligodendrocytes'\n",
    "ind = ~measured_turnover.loc['non-Neurons, non Oligodendrocytes',:].isnull()# indices with second entry not triviall\n",
    "\n",
    "#dist_matrix is the distribution of non-neuron cells\n",
    "dist_nonN = pd.DataFrame(dist_matrix.T, index=nonN_types, columns=total_cells.columns) #stores the fraction of renewing population\n",
    "\n",
    "nonO= nonN_types.copy()\n",
    "nonO.remove('Oligodendrocytes')\n",
    "\n",
    "measured_turnover.loc['non-Neurons',ind] = exp_to['Oligodendrocytes'].nominal_value*unumpy.nominal_values(dist_nonN.loc['Oligodendrocytes',ind]).mean()\n",
    "measured_turnover.loc['non-Neurons',ind] =measured_turnover.loc['non-Neurons',ind]+measured_turnover.loc['non-Neurons, non Oligodendrocytes',ind]*dist_nonN.loc[nonO,ind].sum(axis=0)\n",
    "\n",
    "for part in measured_turnover.columns[~measured_turnover.loc['non-Neurons',:].isnull()]:\n",
    "     print('estimated turnoevr of non-neurons in',part,': {:0.1fP}% per year'.format(100*measured_turnover.loc['non-Neurons',part]))\n",
    "\n",
    "######\n",
    "#deriving computed lower bound for non-Neuron cells turnover from known turnover of cells types (Oligodendrocytes and Microglia)\n",
    "nonN_to_lo_bound = pd.Series(np.dot(exp_to,dist_nonN),index = dist_nonN.columns)\n",
    "\n",
    "#and beacuse the difference between the estimates is well within the uncertainty we take the mean\n",
    "nonN_to_lo_bound = np.dot(exp_to,dist_nonN).mean()\n",
    "print('______________')\n",
    "print('lower bound for non-neuron cells turnoevr: {:0.1fP}% per year'.format(100*nonN_to_lo_bound))\n"
   ]
  },
  {
   "cell_type": "markdown",
   "metadata": {},
   "source": [
    "As we can see there is a discrepancy between the bound we get, and the turnover we estimate for the non-neuron in the cortex.\n",
    "Possible explanation for the discrepancy are the use of different models to assess the turnover from average age data,  large errors in the measurements, or the difference between brain parts. However, Microglia turnvoer was assessed in the cortex, in its turnvoer alone is higher than we estimated for the all non-neuron population in the cortex.\n",
    "\n",
    "We chose to take the average of the two extremist with the uncertainty deriven from it, to take into consideration the large discrepancy and to reflect the uncertainty.  \n"
   ]
  },
  {
   "cell_type": "code",
   "execution_count": 8,
   "metadata": {},
   "outputs": [
    {
     "name": "stdout",
     "output_type": "stream",
     "text": [
      "Glial turnover rate:1.7±0.9 % per year\n",
      "Lifespan of Glial cells is: 60±30 years\n",
      "Cellular turnover rate of Glial cells is: (1±1)×10⁹ cells per year\n",
      "Lifespan of Glial cells is: 21000±11000 days\n",
      "Cellular turnover rate of Glial cells is: (3.1±1.6)×10⁶ cells per day\n",
      "Brain endothelial cells turnover rate:(3.1±1.6)×10⁸ cells per year\n"
     ]
    }
   ],
   "source": [
    "glia_per_to = ufloat(0.5*(measured_turnover.loc['non-Neurons','Cortex'].nominal_value+nonN_to_lo_bound.nominal_value),\n",
    "                        0.5*(nonN_to_lo_bound.nominal_value-measured_turnover.loc['non-Neurons','Cortex'].nominal_value))\n",
    "#the reference turnover in % per year\n",
    "\n",
    "#the total effective lifespan is given as 1 over the percentage turnover, converted to years\n",
    "brain_cells.res.loc['Glial cells','lifespan'] = 365/glia_per_to\n",
    "brain_cells.res.loc['Glial cells','cellular turnover rate'] = brain_cells.res.loc['Glial cells','number']*glia_per_to/365\n",
    " \n",
    "\n",
    "    \n",
    "print('Glial turnover rate:{:0.1fP} % per year'.format(100*glia_per_to ))\n",
    "#using a dedicated method that prints the results in years:\n",
    "brain_cells.print_in_years(['lifespan','cellular turnover rate'],'Glial cells')\n",
    "\n",
    "brain_cells.print_params(['lifespan','cellular turnover rate'],'Glial cells')\n",
    "\n",
    "\n",
    "endothel_num = 10**9*total_cells.loc['endothelial cells'].sum()\n",
    "print('Brain endothelial cells turnover rate:{:0.1eP} cells per year'.format(endothel_num*glia_per_to ))\n",
    "\n",
    "\n",
    "\n",
    "\n"
   ]
  },
  {
   "cell_type": "markdown",
   "metadata": {},
   "source": [
    "### Neuron turnvoer and lifespan\n",
    "We first estimate the turnover of neuron according to the sources mentioned, assuming  the non-zero turnoevr rates for neurons is restricted to the regions in which it was found. "
   ]
  },
  {
   "cell_type": "code",
   "execution_count": 9,
   "metadata": {},
   "outputs": [
    {
     "name": "stdout",
     "output_type": "stream",
     "text": [
      "Neurons renewing turnover rate:(9.5±3.1)×10⁵ cells per year\n",
      "Neurons renewing turnover rate:(2.6±0.8)×10³ cells per day\n",
      "Neurons renewing turnover rate:0.0012±0.0004 % per year\n",
      "mean neuron lifespan from renewing turnover:(8±3)×10⁴ years\n"
     ]
    }
   ],
   "source": [
    "#assuming no neurogensis in other parts of the brain.         \n",
    "\n",
    "renewing_popul.loc['Neurons',renewing_popul.isnull().loc['Neurons',:]] = 0\n",
    "rp_turnover_rates.loc['Neurons',rp_turnover_rates.isnull().loc['Neurons',:]] = 0\n",
    "              \n",
    "neurons_renewing_turnoevr = 10**9*np.dot(total_cells.loc['Neurons',:],(renewing_popul*rp_turnover_rates).loc['Neurons',:])  #neurons per y\n",
    "print('Neurons renewing turnover rate:{:0.1eP} cells per year'.format(neurons_renewing_turnoevr))\n",
    "print('Neurons renewing turnover rate:{:0.1eP} cells per day'.format(neurons_renewing_turnoevr/365))\n",
    "\n",
    "# neurons_num = total_cells.loc['Neurons',:].sum(axis=0)\n",
    "neu_percent_turvnoer = neurons_renewing_turnoevr/brain_cells.res.loc['Neurons','number']\n",
    "print('Neurons renewing turnover rate:{:0.4fP} % per year'.format(100*neu_percent_turvnoer ))\n",
    "\n",
    "neuron_lifespan_from_to = 1/neu_percent_turvnoer  #aggregate lifespan in years\n",
    "print('mean neuron lifespan from renewing turnover:{:0.0eP} years'.format(neuron_lifespan_from_to))\n"
   ]
  },
  {
   "cell_type": "markdown",
   "metadata": {},
   "source": [
    "In addition there could be loss of neurons over the year in the non-renewing population. Such loss of cell would not affect the measurement of average age and so won't change the previous results.\n",
    "\n",
    "The effect of age on the number of cortical neurons was estimated by [Pakkenberg and Gundersen, 1997](https://www.ncbi.nlm.nih.gov/pubmed/9215725) to be 10% over the range between 20 and 90 years old.\n",
    "Assuming constant rate of death we can have another estimate for the lifespan of neurons in the cortex (and we can assume it represent the whole brain)"
   ]
  },
  {
   "cell_type": "code",
   "execution_count": 26,
   "metadata": {},
   "outputs": [
    {
     "name": "stdout",
     "output_type": "stream",
     "text": [
      "The regression show poor correlation:R**2=0.24\n"
     ]
    },
    {
     "data": {
      "image/png": "[encoded data removed]",
      "text/plain": [
       "<Figure size 432x288 with 1 Axes>"
      ]
     },
     "metadata": {
      "needs_background": "light"
     },
     "output_type": "display_data"
    },
    {
     "name": "stdout",
     "output_type": "stream",
     "text": [
      "Neuron death rate is  0.13±0.08% per year\n",
      "Neuron lifespan is 800±500 years\n"
     ]
    }
   ],
   "source": [
    "cor_neu_age = pd.read_excel('Brain_data.xlsx','Pakkenberg and Gundersen, 1997', usecols = range(0,4))\n",
    "y = cor_neu_age[['cortex neurons (billions)']]\n",
    "X=cor_neu_age[['male','age']]\n",
    "y=np.log(y)  #assuming constant death rate gives an exponential model as we saw in details earlier \n",
    "\n",
    "# simple way to do regression but without estimation of the error \n",
    "#model = LinearRegression().fit(X,y)\n",
    "#r_sq= model.score(X,y)\n",
    "#print(model.coef_)\n",
    "\n",
    "#using OLS method from statsmodels.api to do regression with error estimate for the coefficient\n",
    "# include constant in ols models, which is not done by default\n",
    "X = sm.add_constant(X)\n",
    "\n",
    "model = sm.OLS(y,X)\n",
    "results = model.fit()\n",
    "\n",
    "#poor regression results:\n",
    "print('The regression show poor correlation:R**2={:0.2f}'.format(results.rsquared))\n",
    "\n",
    "#seperating the male and females for plotting\n",
    "X['age'].where(X['male']==1)\n",
    "males_age = X[X['male']==1]['age']\n",
    "females_age = X[X['male']==0]['age']\n",
    "#returning from log to regular units\n",
    "males_co_ne=np.exp(y[X['male']==1])\n",
    "females_co_ne=np.exp(y[X['male']==0])\n",
    "\n",
    "#for ploting, using the parameters from the model\n",
    "x_for_pred = np.linspace(10,100).reshape(-1,1)\n",
    "\n",
    "\n",
    "#calculating the model predictions, including the standard error for the age slopes\n",
    "y_pred_male = np.exp(results.params.const +results.params.male + results.params.age*x_for_pred)\n",
    "y_pred_male_hi = np.exp(results.params.const +results.params.male + (results.params.age+results.bse.age)*x_for_pred)\n",
    "y_pred_male_low = np.exp(results.params.const +results.params.male +(results.params.age-results.bse.age)*x_for_pred)\n",
    "\n",
    "\n",
    "y_pred_female = np.exp(results.params.const + results.params.age*x_for_pred)\n",
    "y_pred_female_hi = np.exp(results.params.const + (results.params.age+results.bse.age)*x_for_pred)\n",
    "y_pred_female_low = np.exp(results.params.const +(results.params.age-results.bse.age)*x_for_pred)\n",
    "\n",
    "\n",
    "#plotting the data and the models, including the possible ranges of error (1 SE)\n",
    "plt.plot(males_age, males_co_ne, 'b.', label='males')\n",
    "plt.plot(females_age, females_co_ne, 'r.', label='females')\n",
    "\n",
    "plt.plot(x_for_pred , y_pred_male, 'b-', label='males prediction')\n",
    "plt.plot(x_for_pred , y_pred_male_hi, 'b--')\n",
    "plt.plot(x_for_pred , y_pred_male_low, 'b--')\n",
    "\n",
    "\n",
    "plt.plot(x_for_pred , y_pred_female, 'r-', label='females prediction')\n",
    "plt.plot(x_for_pred , y_pred_female_hi, 'r--')\n",
    "plt.plot(x_for_pred , y_pred_female_low, 'r--')\n",
    "\n",
    "plt.xlabel('Age [years]')\n",
    "plt.ylabel('Cortical Neurons [billions]')\n",
    "plt.title('Number of Cortical Neurons Vs. Age (data from Pakkenberg and Gundersen, 1997)')\n",
    "plt.legend()\n",
    "plt.show()\n",
    "\n",
    "\n",
    "#concluding the death rate of cortical neurons and its uncertainty:\n",
    "neuron_death_rate=ufloat(-results.params['age'],results.bse['age'])\n",
    "print('Neuron death rate is {: 0.2fP}% per year'.format(100*neuron_death_rate))\n",
    "print('Neuron lifespan is {:0.0fP} years'.format(round_vec(1/neuron_death_rate)))\n"
   ]
  },
  {
   "cell_type": "markdown",
   "metadata": {},
   "source": [
    "As the estimated death rate is dominant in comparison with the turnover rate in the Hippocampus and Striatum, we get a similar estimate for the overall lifespan of Neurons"
   ]
  },
  {
   "cell_type": "code",
   "execution_count": 27,
   "metadata": {},
   "outputs": [
    {
     "name": "stdout",
     "output_type": "stream",
     "text": [
      "Neurons production rate:(9.5±3.1)×10⁵ cells per year\n",
      "Neurons production rate:(2.6±0.8)×10³ cells per day\n",
      "______________________\n",
      "Neurons death rates:\n",
      "Cellular turnover rate of Neurons is: (1±1)×10⁸ cells per year\n",
      "Cellular turnover rate of Neurons is: (3.0±2.0)×10⁵ cells per day\n",
      "______________________\n",
      "Lifespan of Neurons is: 800±500 years\n",
      "Lifespan of Neurons is: (3.0±2.0)×10⁵ days\n"
     ]
    }
   ],
   "source": [
    "total_neuron_death_rate = neuron_death_rate+neu_percent_turvnoer #combining the turnover with death rate, to get % death/year\n",
    "\n",
    "brain_cells.res.loc['Neurons','lifespan'] = 365/total_neuron_death_rate #in days\n",
    "brain_cells.res.loc['Neurons','cellular turnover rate'] = brain_cells.res.loc['Neurons','number']/brain_cells.res.loc['Neurons','lifespan']  \n",
    "\n",
    "neuron_lifespan = 1/total_neuron_death_rate\n",
    "neuron_lifespan = ufloat(round(neuron_lifespan.nominal_value,-2),round(neuron_lifespan.std_dev,-2))\n",
    "\n",
    "print('Neurons production rate:{:0.1eP} cells per year'.format(neurons_renewing_turnoevr))\n",
    "print('Neurons production rate:{:0.1eP} cells per day'.format(neurons_renewing_turnoevr/365))\n",
    "print('______________________')\n",
    "print('Neurons death rates:')\n",
    "brain_cells.print_in_years('cellular turnover rate','Neurons')\n",
    "brain_cells.print_params('cellular turnover rate','Neurons')\n",
    "print('______________________')\n",
    "brain_cells.print_in_years('lifespan','Neurons')\n",
    "brain_cells.print_params('lifespan','Neurons')\n"
   ]
  },
  {
   "cell_type": "markdown",
   "metadata": {},
   "source": [
    "### Cellular mass and cellular mass turnover\n",
    "We use data regarding the total cellular mass of cells in the brain and the cell population to estimate the cellular mass and through it the cellular mass turnoevr.\n",
    "We use the formula from [Wang et al., 2004](https://www.ncbi.nlm.nih.gov/pubmed/14532167)) to get an estimate for the total cellular mass in the brain, based on the potassium concentration from [Snyder et al., 1975](http://www.icrp.org/publication.asp?id=ICRP%20Publication%2023).\n",
    "Assuming that neuron and glia has similar mass, and endothelial cells have an average mass of approximatly 1000pg [Félétou, 2011](https://www.ncbi.nlm.nih.gov/books/NBK57145/), we compute the average mass of neuron and glial cells.\n"
   ]
  },
  {
   "cell_type": "code",
   "execution_count": 28,
   "metadata": {},
   "outputs": [
    {
     "name": "stdout",
     "output_type": "stream",
     "text": [
      "total cellular mass of neuron and glial cells: 1000±300 g\n",
      "Cell mass of Neurons is: 7000±2000 pg\n",
      "Cell mass of Glial cells is: 7000±2000 pg\n"
     ]
    }
   ],
   "source": [
    "#uploading the data regarding the cellular mass of brain cells  \n",
    "mass_data = pd.read_excel('Brain_data.xlsx','Cellular_mass',index_col=0)\n",
    "#combining the values and uncertainties for computations\n",
    "cmdt = pd.Series(unumpy.uarray(mass_data['value'].values,mass_data['SD'].values), index =mass_data.index ) #cell mass data\n",
    "\n",
    "brain_cell_mass = ((cmdt['brain total potassium']/cmdt['potassium molar mass'])*cmdt['cell mass/potassium conc.'])*1000 #convert from mmol to mol\n",
    "#result in kg\n",
    "\n",
    "neuron_glia_total_mass = brain_cell_mass*1000 - endothel_num*cmdt['endothelial cell mass']*10**(-12) #moving to grams in both (from kg and pg)\n",
    "\n",
    "#estimating the mean neuron/glial cell mass by dividing by their total numbers \n",
    "brain_cells.res['cell mass'] = 10**12*neuron_glia_total_mass/brain_cells.res['number'].sum() #in pico grams.\n",
    "\n",
    "print('total cellular mass of neuron and glial cells: {:0.0fP} g'.format(round_vec(neuron_glia_total_mass)))\n",
    "brain_cells.print_params('cell mass')"
   ]
  },
  {
   "cell_type": "markdown",
   "metadata": {},
   "source": [
    "Using the average mass we compute the average cellular mass turnover of the cells:"
   ]
  },
  {
   "cell_type": "code",
   "execution_count": 29,
   "metadata": {},
   "outputs": [
    {
     "name": "stdout",
     "output_type": "stream",
     "text": [
      "\u001b[1mGlial cells:\u001b[0m\n",
      "Total cellular mass of Glial cells is: 440±120 grams\n",
      "Cellular mass turnover rate of Glial cells is: 8.0±5.0 grams per year\n",
      "______________________________\n",
      "\u001b[1mNeurons:\u001b[0m\n",
      "Total cellular mass of Neurons is: 530±150 grams\n",
      "Cellular mass turnover rate of Neurons is: 0.7±0.5 grams per year\n",
      "cellular mass turnover production of renewing neurons (6.5±2.8)×10⁻³ grams per year\n",
      "______________________________\n",
      "cellular mass turnover rate of brain endothelial cells 0.4±0.2 grams per year or (1.0±0.6)×10⁻³ grams per day\n"
     ]
    }
   ],
   "source": [
    "\n",
    "brain_cells.res['total cellular mass'] = brain_cells.res['number']*brain_cells.res['cell mass']/10**12\n",
    "brain_cells.res['cellular mass turnover rate'] = brain_cells.res['cell mass']*brain_cells.res['cellular turnover rate']/10**12\n",
    "\n",
    "#calculating seperatly the rate of production from the renewing turnover \n",
    "neuron_mass_prod = neurons_renewing_turnoevr*brain_cells.res.loc['Neurons','cell mass']/10**12 #moving from cells/year and pg to grams/year\n",
    "\n",
    "\n",
    "brain_cells.print_in_years(['total cellular mass','cellular mass turnover rate'],['Glial cells','Neurons'])\n",
    "\n",
    "# glial_mass_to = 10**9*glial_year_turnover*mean_neuron_mass/10**12 #moving from billions cells/year and pg to grams/year\n",
    "\n",
    "\n",
    "print('cellular mass turnover production of renewing neurons {:0.1eP} grams per year'.format(neuron_mass_prod))\n",
    "\n",
    "brain_end_mass_to = endothel_num*glia_per_to*cmdt['endothelial cell mass']/10**12 #moving from billions cells/year and pg to grams/year\n",
    "print('_'*30)\n",
    "print('cellular mass turnover rate of brain endothelial cells {:0.1fP} grams per year'.format(brain_end_mass_to), 'or {:0.1eP} grams per day'.format(brain_end_mass_to/365))"
   ]
  },
  {
   "cell_type": "markdown",
   "metadata": {},
   "source": [
    "## Saving the results to excell\n",
    "So it can be used for summary "
   ]
  },
  {
   "cell_type": "code",
   "execution_count": 30,
   "metadata": {},
   "outputs": [],
   "source": [
    "brain_cells.export_to_excel('Summary.xlsx')"
   ]
  }
 ],
 "metadata": {
  "kernelspec": {
   "display_name": "Python 3",
   "language": "python",
   "name": "python3"
  },
  "language_info": {
   "codemirror_mode": {
    "name": "ipython",
    "version": 3
   },
   "file_extension": ".py",
   "mimetype": "text/x-python",
   "name": "python",
   "nbconvert_exporter": "python",
   "pygments_lexer": "ipython3",
   "version": "3.7.3"
  }
 },
 "nbformat": 4,
 "nbformat_minor": 2
}
