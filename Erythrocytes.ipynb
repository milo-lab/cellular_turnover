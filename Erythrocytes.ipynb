{
 "cells": [
  {
   "cell_type": "code",
   "execution_count": 1,
   "metadata": {},
   "outputs": [],
   "source": [
    "# loading all the dependencies\n",
    "import pandas as pd\n",
    "import numpy as np\n",
    "import uncertainties as uc\n",
    "\n",
    "from openpyxl import load_workbook\n",
    "pd.options.display.float_format ='{:,.1f}'.format\n",
    "import matplotlib.pyplot as plt\n",
    "%matplotlib inline  \n",
    "from IPython.display import Image\n",
    "from IPython.core.display import HTML \n",
    "\n",
    "from scipy import integrate\n",
    "import scipy.stats as stats\n",
    "from uncertainties import ufloat\n",
    "from uncertainties import unumpy\n",
    "%run Utility_Functions.ipynb\n"
   ]
  },
  {
   "cell_type": "markdown",
   "metadata": {},
   "source": [
    "## Methods and Statistics\n",
    "Ranges and values with ± are given as 1 standard error of the values.\n",
    "\n",
    "Boxplot showing the quartiles (25%-75%) and the median (orange horizontal line). In addition the vertical lines extending to the most extreme, non-outlier data points"
   ]
  },
  {
   "cell_type": "markdown",
   "metadata": {},
   "source": [
    "# Erythrocytes\n",
    "Red blood cells, also known as RBCs.\n",
    "\n",
    "We use an object of a class we define to save and print results (see Utility_Functions notebook). Initiating it for further use "
   ]
  },
  {
   "cell_type": "code",
   "execution_count": 5,
   "metadata": {},
   "outputs": [],
   "source": [
    "#We use the object to consider seperatly the circulating RBC and the ones from the bone marrow to help the calculation.\n",
    "# in the end we will remove those lines for saving only the total \n",
    "RBC = CellTypesResDF(['erythrocytes','circulating RBC','BM RBC'])"
   ]
  },
  {
   "cell_type": "markdown",
   "metadata": {},
   "source": [
    "## Circulating erythrocytes\n",
    "There is abundant data regarding the circulating RBC, and so we base our analysis on that population"
   ]
  },
  {
   "cell_type": "markdown",
   "metadata": {},
   "source": [
    "### Number of circulating erythrocytes\n",
    "As we did in [Sender et al., 2016](https://journals.plos.org/plosbiology/article?id=10.1371/journal.pbio.1002533), we can calculate the number of circulating erythrocytes by multiplying their concentration by the blood volume"
   ]
  },
  {
   "cell_type": "code",
   "execution_count": 6,
   "metadata": {},
   "outputs": [
    {
     "name": "stdout",
     "output_type": "stream",
     "text": [
      "Number of circulating RBC is: (2.5±0.1)×10¹³ cells\n"
     ]
    }
   ],
   "source": [
    "blood_volume_data = pd.read_excel('RBC_data.xlsx','Blood Volume',index_col=0)\n",
    "#print(blood_volume_data.loc[:,'Blood volume mean'])\n",
    "RBC_conc_data = pd.read_excel('RBC_data.xlsx','RBC concentration',index_col=0, usecols = range(4))\n",
    "#print(RBC_conc_data.loc[:,'10^12 cells/liter'])\n",
    "\n",
    "#using unumpy to store the values and their uncertainties\n",
    "BV= ufloat(blood_volume_data.loc[:,'Blood volume mean'].mean(), blood_volume_data.loc[:,'Blood volume mean'].sem()) \n",
    "RBC_conc= ufloat(RBC_conc_data.loc[:,'10^12 cells/liter'].mean(), RBC_conc_data.loc[:,'10^12 cells/liter'].sem())\n",
    "\n",
    "#unumpy also compute the error by propagation\n",
    "RBC.res.loc['circulating RBC','number'] = BV*RBC_conc*10**12\n",
    "RBC.print_params('number','circulating RBC')\n",
    "\n"
   ]
  },
  {
   "cell_type": "markdown",
   "metadata": {},
   "source": [
    "### lifespan of circulating erythrocytes\n",
    "Over the years the lifespan if circulating RBC was estimated by numerus experiments, most of them used labeling methods (pulse chase). It appear that many of the older labeling methods made use of radioactive substances that may had affected the values of lifespan observed due to their poisonous effects. Recent researches, use nonpoisonous substances such as 2H20. We use recent analysis  [Shrestha et al., 2016](https://www.ncbi.nlm.nih.gov/pmc/articles/PMC4887310/) that modeled the lifespan of RBC using different model assumptions, base on data from previous labeling experiments using 2H20.\n",
    "We use the estimate from their 3 models (all with great fit to the data) and average them "
   ]
  },
  {
   "cell_type": "code",
   "execution_count": 7,
   "metadata": {},
   "outputs": [
    {
     "name": "stdout",
     "output_type": "stream",
     "text": [
      "Lifespan of circulating RBC is: 116±3 days\n"
     ]
    }
   ],
   "source": [
    "circ_lifepan_data = pd.read_excel('RBC_data.xlsx','circ_RBC_lifespan',index_col=0, usecols = range(0,7))\n",
    "#circ_lifespan = unumpy.uarray(circ_lifepan_data.loc[:,'mean lifespan'], circ_lifepan_data.loc[:,'delta lifespan'])\n",
    "\n",
    "#the errors of the estimates are dependent and so we can't use their sum of squers like regulat independent errors\n",
    "RBC.res.loc['circulating RBC','lifespan'] = ufloat(circ_lifepan_data.loc[:,'mean lifespan'].mean(),circ_lifepan_data.loc[:,'delta lifespan'].max())\n",
    "RBC.print_params('lifespan','circulating RBC')\n",
    "\n",
    "\n"
   ]
  },
  {
   "cell_type": "markdown",
   "metadata": {},
   "source": [
    "### Circulating erythrocytes turnover rates\n",
    "we use the estimates for RBC numbers and lifespan to derive their cellular and mass turnover rates (using also data regarding the mass of erythrocytes from [Frank et al.,1997](https://www.ncbi.nlm.nih.gov/pubmed/9173974?dopt=Abstract) and [Child et al., 1967](https://onlinelibrary.wiley.com/doi/abs/10.1111/j.1365-2141.1967.tb08751.x))\n"
   ]
  },
  {
   "cell_type": "code",
   "execution_count": 8,
   "metadata": {},
   "outputs": [
    {
     "name": "stdout",
     "output_type": "stream",
     "text": [
      "Cell mass of circulating RBC is: 94±3 pg\n",
      "Total cellular mass of circulating RBC is: 2330±100 grams\n",
      "Cellular turnover rate of circulating RBC is: (2.1±0.1)×10¹¹ cells per day\n",
      "Cellular mass turnover rate of circulating RBC is: 20.0±1.0 grams per day\n"
     ]
    }
   ],
   "source": [
    "#reading the data regarding the mass of RBC and calculating mean and std and using it to compute the total cellular mass of cirulating RBCs\n",
    "RBC_mass_data = pd.read_excel('RBC_data.xlsx','RBC_mass',index_col=0, usecols = range(0,3))\n",
    "# RBC_mean_mass = ufloat(RBC_mass_data.loc[:,'mean mass [pg]'].mean(),RBC_mass_data.loc[:,'mean mass [pg]'].sem())\n",
    "RBC.res['cell mass'] = ufloat(RBC_mass_data['mean mass [pg]'].mean(),RBC_mass_data['mean mass [pg]'].sem())\n",
    "RBC.res.loc['circulating RBC','total cellular mass'] = RBC.res.loc['circulating RBC','number']*RBC.res.loc['circulating RBC','cell mass']/10**12 \n",
    "\n",
    "RBC.print_params(['cell mass','total cellular mass'],'circulating RBC')\n",
    "\n",
    "#computing the cellular turnover of circulating cells from the number and lifespan\n",
    "RBC.res.loc['circulating RBC','cellular turnover rate'] = RBC.res.loc['circulating RBC','number']/RBC.res.loc['circulating RBC','lifespan'] \n",
    "\n",
    "\n",
    "#computing the cellular mass turnover by multiplying by the cellular mass (converted to g)\n",
    "RBC.res.loc['circulating RBC',\n",
    "            'cellular mass turnover rate'] = RBC.res.loc['circulating RBC','total cellular mass']/RBC.res.loc['circulating RBC','lifespan'] \n",
    "\n",
    "RBC.print_params(['cellular turnover rate','cellular mass turnover rate'],'circulating RBC')"
   ]
  },
  {
   "cell_type": "markdown",
   "metadata": {},
   "source": [
    "## Bone marrow RBC progenitors - sanity check for the turnover of RBC\n",
    "In steady state, the number of RBC produced in the bone marrow is equal to the number of RBC that dies. There is limited data regarding the size of RBC progenitor’s population in the bone marrow, and so we use the existing data as a sanity check for the previous calculation. We use data from [Skarberg, 1974](https://www.ncbi.nlm.nih.gov/pubmed/4595255) and [Skarberg et al., 1974](https://www.ncbi.nlm.nih.gov/pubmed/4595256) regarding the numbers and distribution of RBC progenitors in the bone marrow and their generation time\n",
    "\n",
    "### Numebr of bone marrow RBC progenitors"
   ]
  },
  {
   "cell_type": "code",
   "execution_count": 24,
   "metadata": {},
   "outputs": [
    {
     "name": "stdout",
     "output_type": "stream",
     "text": [
      "BM cells (3.1±0.5)×10¹¹\n",
      "Boxplot representing the distribution of BM cells according to different sources\n",
      "The main body of the boxplot showing the quartiles (25%-75%) and the median (orange horizontal line)\n",
      "The vertical lines extending to the most extreme, non-outlier data points\n"
     ]
    },
    {
     "data": {
      "image/png": "[encoded data removed]",
      "text/plain": [
       "<Figure size 432x288 with 1 Axes>"
      ]
     },
     "metadata": {
      "needs_background": "light"
     },
     "output_type": "display_data"
    }
   ],
   "source": [
    "bm_total_cells = pd.read_excel('RBC_data.xlsx','total_marrow_cells',index_col=0,usecols = range(0,2))\n",
    "bm_total_cells.loc[:,'BM cells in 70kg man']= bm_total_cells.loc[:,'Erythroid marrow cells x10^9/kg']*70*10**9\n",
    "#print(bm_total_cells)\n",
    "plt.boxplot(bm_total_cells.loc[:,'BM cells in 70kg man'],whis=3)\n",
    "plt.ylabel('BM cells in 70kg man')\n",
    "plt.xticks([1],[''])\n",
    "\n",
    "# removing outliers\n",
    "z = np.abs(stats.zscore(bm_total_cells))\n",
    "threshold = 3\n",
    "#print(np.where(z > threshold))\n",
    "bm_total_cells = bm_total_cells[(z < threshold).all(axis=1)]\n",
    "\n",
    "\n",
    "BM_cells = ufloat(bm_total_cells.loc[:,'BM cells in 70kg man'].mean(),bm_total_cells.loc[:,'BM cells in 70kg man'].sem())\n",
    "print('BM cells {:0.1eP}'.format(BM_cells))\n",
    "print('Boxplot representing the distribution of BM cells according to different sources')\n",
    "print('The main body of the boxplot showing the quartiles (25%-75%) and the median (orange horizontal line)')\n",
    "print('The vertical lines extending to the most extreme, non-outlier data points')"
   ]
  },
  {
   "cell_type": "code",
   "execution_count": 16,
   "metadata": {},
   "outputs": [
    {
     "name": "stderr",
     "output_type": "stream",
     "text": [
      "C:\\Users\\ronse\\anaconda3\\lib\\site-packages\\numpy\\lib\\function_base.py:2167: RuntimeWarning: invalid value encountered in ? (vectorized)\n",
      "  outputs = ufunc(*inputs)\n"
     ]
    }
   ],
   "source": [
    "bm_cells_dis= pd.read_excel('RBC_data.xlsx','marrow_cell_distribution',index_col=0,usecols = range(0,6))\n",
    "#print(bm_cells_dis)\n",
    "cells_dis = unumpy.uarray(bm_cells_dis['% of erythroblast'], bm_cells_dis['delta % erytroblast'])\n",
    "erythroblast_num = BM_cells*cells_dis\n",
    "generation_time = unumpy.uarray(bm_cells_dis['generation [h]'], bm_cells_dis['gen error [h]'])\n",
    "\n",
    "#finding the index of reticulocytes and inserting the values from Skarberg et al., 1974, assuming body mass of 70 kg\n",
    "erythroblast_num[list(bm_cells_dis.index).index('Marrow reticulocytes ')]=ufloat(4.6,1.1)*70*10**9 \n",
    "#print(unumpy.nominal_values(erythroblast_num))\n"
   ]
  },
  {
   "cell_type": "markdown",
   "metadata": {},
   "source": [
    "### Lifespan in the bone marrow\n",
    "Assuming that there is one mitosis in each of the mitotic progenitors phases, the time the cell spend in the mitotic bone marrow can be calculated using their relative abundant.\n",
    "We derive also the time the cells spent in the non-mitotic bone marrow"
   ]
  },
  {
   "cell_type": "code",
   "execution_count": 17,
   "metadata": {},
   "outputs": [
    {
     "name": "stdout",
     "output_type": "stream",
     "text": [
      "lifespan in mitotic pool 32±6 hours\n",
      "lifespan in BM non-mitotic pool 71±15 hours\n"
     ]
    }
   ],
   "source": [
    "#for the mitotic population - how much time they spent in the pool, considering that there are some that being added in each stage\n",
    "#hence we average using weights of the population distribution\n",
    "#we first trunc the arrays of only mitotic phases \n",
    "mit_gen_time=generation_time[np.where(bm_cells_dis['mitotic']=='mitotic')]\n",
    "mit_time_in_bm = np.cumsum(mit_gen_time[::-1])[::-1]  #how much time to spent in the marrow has each cell\n",
    "#we also want the distribution of only mitotic erythroblast in the marrow\n",
    "mit_dist=cells_dis[np.where(bm_cells_dis['mitotic']=='mitotic')]/sum(cells_dis[np.where(bm_cells_dis['mitotic']=='mitotic')])\n",
    "mitotic_time = sum(mit_dist*mit_time_in_bm)\n",
    "print('lifespan in mitotic pool {:0.0fP} hours'.format(mitotic_time))\n",
    "\n",
    "nonmitotic_time = sum(generation_time[np.where(bm_cells_dis['mitotic']!='mitotic')])\n",
    "print('lifespan in BM non-mitotic pool {:0.0fP} hours'.format(nonmitotic_time))\n"
   ]
  },
  {
   "cell_type": "markdown",
   "metadata": {},
   "source": [
    "### production and turnover of RBC in the bone marrow\n",
    "We can get two estimates for the turnover of the RBC using the mitotic pool and the non-mitotic pool in the marrow, with the assumption that in steady state the turnover of these need to be equal"
   ]
  },
  {
   "cell_type": "code",
   "execution_count": 18,
   "metadata": {},
   "outputs": [
    {
     "name": "stdout",
     "output_type": "stream",
     "text": [
      "cells in BM mitotic pool (1.5±0.3)×10¹¹\n",
      "cells in BM non-mitotic pool (4.6±0.9)×10¹¹\n",
      "turnover rates of the cells in BM mitotic pool (1.2±0.3)×10¹¹ cells per day\n",
      "turnover rates of the cells in BM non-mitotic pool (1.6±0.4)×10¹¹ cells per day\n",
      "Number of BM RBC is: (6.2±1.0)×10¹¹ cells\n"
     ]
    }
   ],
   "source": [
    "mit_eryth = sum(erythroblast_num[np.where(bm_cells_dis['mitotic']=='mitotic')]) \n",
    "non_mit_eryth = sum(erythroblast_num[np.where(bm_cells_dis['mitotic']!='mitotic')]) \n",
    "   \n",
    "print('cells in BM mitotic pool {:0.1eP}'.format(mit_eryth))\n",
    "print('cells in BM non-mitotic pool {:0.1eP}'.format(non_mit_eryth))\n",
    "\n",
    "\n",
    "mit_turnover = mit_eryth/(mitotic_time/24)  #moving from units of hours to days \n",
    "non_mit_turnover = non_mit_eryth/(nonmitotic_time/24) #moving from units of hours to days \n",
    "\n",
    "\n",
    "print('turnover rates of the cells in BM mitotic pool {:0.1eP} cells per day'.format(mit_turnover))\n",
    "print('turnover rates of the cells in BM non-mitotic pool {:0.1eP} cells per day'.format(non_mit_turnover))\n",
    "\n",
    "\n",
    "RBC.res.loc['BM RBC','number'] = mit_eryth + non_mit_eryth\n",
    "RBC.res.loc['BM RBC','lifespan'] = nonmitotic_time/24\n",
    "RBC.print_params('number','BM RBC')"
   ]
  },
  {
   "cell_type": "markdown",
   "metadata": {},
   "source": [
    "It seems that there is a slightly underestimation from these cells. One explanation could be that there are more cells in the bone marrow pool, or that the the mitotic pool overall generation time is less (if for example there is more than one replication in the (final mitotic) polychromatic erythroblasts phase)"
   ]
  },
  {
   "cell_type": "markdown",
   "metadata": {},
   "source": [
    "## Total erythrocytes \n",
    "Summing the circulating and the bone marrow RBCs:"
   ]
  },
  {
   "cell_type": "code",
   "execution_count": 19,
   "metadata": {},
   "outputs": [
    {
     "name": "stdout",
     "output_type": "stream",
     "text": [
      "Number of erythrocytes is: (2.5±0.1)×10¹³ cells\n",
      "Lifespan of erythrocytes is: 119±3 days\n",
      "Cellular turnover rate of erythrocytes is: (2.1±0.1)×10¹¹ cells per day\n",
      "Cell mass of erythrocytes is: 94±3 pg\n",
      "Cellular mass turnover rate of erythrocytes is: 20.0±1.0 grams per day\n",
      "Total cellular mass of erythrocytes is: 2380±100 grams\n"
     ]
    }
   ],
   "source": [
    "#the total number and the total lifespan are the sum of the two components:\n",
    "RBC.res.loc['erythrocytes',['number','lifespan']] = RBC.res.loc['circulating RBC',['number','lifespan']] + RBC.res.loc['BM RBC',['number','lifespan']]\n",
    "\n",
    "#the reference turnover is from the circulating cells as they are much more easy to estimate:\n",
    "RBC.res.loc['erythrocytes','cellular turnover rate'] = RBC.res.loc['circulating RBC','cellular turnover rate'] \n",
    "\n",
    "RBC.res.loc['erythrocytes','total cellular mass'] = RBC.res.loc['erythrocytes','number']*RBC.res.loc['erythrocytes','cell mass']/10**12 \n",
    "RBC.res.loc['erythrocytes','cellular turnover rate'] = RBC.res.loc['erythrocytes','number']/RBC.res.loc['erythrocytes','lifespan'] \n",
    "RBC.res.loc['erythrocytes','cellular mass turnover rate'] = RBC.res.loc['erythrocytes','total cellular mass']/RBC.res.loc['erythrocytes','lifespan'] \n",
    "\n",
    "RBC.print_params(cell_types = 'erythrocytes')\n"
   ]
  },
  {
   "cell_type": "markdown",
   "metadata": {},
   "source": [
    "## Survival function and age\n",
    "We use the data gather for the lifespan of circulating cells (from  [Shrestha et al., 2016](https://www.ncbi.nlm.nih.gov/pmc/articles/PMC4887310/)) and transit time from the marrow to plot the relevant survival function and cells age\n",
    "\n",
    "### Survival function\n"
   ]
  },
  {
   "cell_type": "code",
   "execution_count": 20,
   "metadata": {},
   "outputs": [
    {
     "data": {
      "text/plain": [
       "Text(0.5, 1.0, 'Survival function of erythroctes')"
      ]
     },
     "execution_count": 20,
     "metadata": {},
     "output_type": "execute_result"
    },
    {
     "data": {
      "image/png": "[encoded data removed]",
      "text/plain": [
       "<Figure size 432x288 with 1 Axes>"
      ]
     },
     "metadata": {
      "needs_background": "light"
     },
     "output_type": "display_data"
    }
   ],
   "source": [
    "# Sample different time (days)\n",
    "days = np.linspace(0,200)\n",
    "\n",
    "Weibull_SF = lambda t,a,b: np.exp(-(np.maximum(t,0)/b)**a)\n",
    "lognormal_SF = lambda t,a,b: 1-stats.norm.cdf((np.log(np.maximum(t,1))-a)/b)\n",
    "\n",
    "#translating the trasnit time in the bone marrow from hours to days\n",
    "transit_t = (mitotic_time.nominal_value+nonmitotic_time.nominal_value)/24;\n",
    "\n",
    "#gamma = 1-stats.gamma.cdf(days , a=circ_lifepan_data.loc['gamma','alpha'], loc=circ_lifepan_data.loc['gamma','betta'])\n",
    "\n",
    "Sfun_Weibull = Weibull_SF(days-transit_t ,circ_lifepan_data.loc['Weibull','alpha'],circ_lifepan_data.loc['Weibull','betta'])\n",
    "Sfun_lognormal = lognormal_SF(days-transit_t ,circ_lifepan_data.loc['lognormal','alpha'],circ_lifepan_data.loc['lognormal','betta'])\n",
    "\n",
    "\n",
    "# Plot the survival functions vs. the time\n",
    "plt.plot(days,Sfun_Weibull)\n",
    "plt.plot(days,Sfun_lognormal,'r')\n",
    "#plt.plot(days,gamma ,'r')\n",
    "\n",
    "plt.xlabel('time [days]')\n",
    "plt.ylabel('% of survival')\n",
    "plt.legend(['Weibull','Lognormal'])\n",
    "plt.title('Survival function of erythroctes')"
   ]
  },
  {
   "cell_type": "markdown",
   "metadata": {},
   "source": [
    "### Cells age\n",
    "\n",
    "We know that the age distribution look like the survival functio, hence we can calculate the age cdf by integrating the survival function and normalize it:"
   ]
  },
  {
   "cell_type": "code",
   "execution_count": 21,
   "metadata": {},
   "outputs": [
    {
     "data": {
      "text/plain": [
       "Text(0.5, 1.0, 'Age distribution of erythroctes')"
      ]
     },
     "execution_count": 21,
     "metadata": {},
     "output_type": "execute_result"
    },
    {
     "data": {
      "image/png": "[encoded data removed]",
      "text/plain": [
       "<Figure size 432x288 with 1 Axes>"
      ]
     },
     "metadata": {
      "needs_background": "light"
     },
     "output_type": "display_data"
    }
   ],
   "source": [
    "sf_Wb_integral = integrate.cumtrapz(Sfun_Weibull, days, initial=0)\n",
    "age_Wb_cdf = sf_Wb_integral/max(sf_Wb_integral)\n",
    "\n",
    "sf_LN_integral = integrate.cumtrapz(Sfun_lognormal, days, initial=0)\n",
    "age_LN_cdf = sf_LN_integral/max(sf_LN_integral)\n",
    "\n",
    "\n",
    "# Plot the age functions vs. the time\n",
    "plt.plot(days,age_Wb_cdf)\n",
    "plt.plot(days,age_LN_cdf,'r')\n",
    "plt.xlabel('time [days]')\n",
    "plt.ylabel('age cdf')\n",
    "plt.legend(['Weibull','Lognormal'])\n",
    "plt.title('Age distribution of erythroctes')"
   ]
  },
  {
   "cell_type": "markdown",
   "metadata": {},
   "source": [
    "## Saving the results to excell\n",
    "So it can be used for summary \n"
   ]
  },
  {
   "cell_type": "code",
   "execution_count": 22,
   "metadata": {},
   "outputs": [],
   "source": [
    "#removing the circulating RBC and the ones from the bone marrow so only the total will be saved \n",
    "RBC.res = RBC.res.drop(['circulating RBC','BM RBC'])\n",
    "RBC.export_to_excel('Summary.xlsx')"
   ]
  }
 ],
 "metadata": {
  "kernelspec": {
   "display_name": "Python 3",
   "language": "python",
   "name": "python3"
  },
  "language_info": {
   "codemirror_mode": {
    "name": "ipython",
    "version": 3
   },
   "file_extension": ".py",
   "mimetype": "text/x-python",
   "name": "python",
   "nbconvert_exporter": "python",
   "pygments_lexer": "ipython3",
   "version": "3.7.3"
  }
 },
 "nbformat": 4,
 "nbformat_minor": 2
}
