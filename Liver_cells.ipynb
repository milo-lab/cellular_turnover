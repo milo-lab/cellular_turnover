{
 "cells": [
  {
   "cell_type": "code",
   "execution_count": 2,
   "metadata": {},
   "outputs": [],
   "source": [
    "import pandas as pd\n",
    "\n",
    "from openpyxl import load_workbook\n",
    "\n",
    "import numpy as np\n",
    "import uncertainties as uc\n",
    "\n",
    "pd.options.display.float_format ='{:,.1f}'.format\n",
    "import matplotlib.pyplot as plt\n",
    "\n",
    "%matplotlib inline  \n",
    "\n",
    "import scipy.stats as stats\n",
    "from uncertainties import ufloat\n",
    "from uncertainties import unumpy as unp \n",
    "# from uncertainties import unumpy.uarray as uarr\n",
    "\n",
    "from sklearn.linear_model import LinearRegression\n",
    "\n",
    "from scipy.stats import gmean\n",
    "%run Utility_Functions.ipynb"
   ]
  },
  {
   "cell_type": "markdown",
   "metadata": {},
   "source": [
    "## Methods and Statistics\n",
    "Ranges are given as 1 standard error of the values (not symmetrical). \n"
   ]
  },
  {
   "cell_type": "markdown",
   "metadata": {},
   "source": [
    "# Liver cells\n",
    "The main functional cells of the liver are the hepatocytes that compose most of its mass and are responsible for most of its function. In addition to them, in the liver there are several other type of cell with various functions.\n",
    "The main cells of the liver are:\n",
    "1. Hepatocytes -cells of the main parenchymal tissue of the liver. Involved in: protein synthesis,protein storage, transformation of carbohydrates, synthesis of cholesterol, bile salts and phospholipids, detoxification, modification, and excretion of exogenous and endogenous substances, initiation of formation and secretion of bile\n",
    "1. Kupffer cells - tissue resident macrophages\n",
    "2. Stellate cells - fat storing cells\n",
    "3. Endothelial cells- lining the blood cells in the liver"
   ]
  },
  {
   "cell_type": "code",
   "execution_count": 3,
   "metadata": {},
   "outputs": [],
   "source": [
    "cell_dist = pd.read_excel('Liver_cells_data.xlsx','Cell_dist',index_col=0,usecols = range(17),skipfooter=3)\n",
    "\n",
    "liver = CellTypesResDF(cell_dist.index[0:3],un_type='mul')"
   ]
  },
  {
   "cell_type": "markdown",
   "metadata": {},
   "source": [
    "## Hepatocytes - numbers and mass\n",
    "We integrate data regarding 3 parameters to conclude the estimate the number of hepatocytes and their total mass:\n",
    "1. The volume fraction of the liver made out of hepatocytes (could be acounted as parenchymal cell volume)\n",
    "2. The volume of a single hepatocyte\n",
    "3. The density of hepatocytes in 1 gram or 1 ml of liver tissue (reference density given in [Overmoyer et al., 1987](https://www.ncbi.nlm.nih.gov/pubmed/3579513))\n",
    "From the third parameter we can derive an estiamte for the total number of cells using the total mass of the liver [Snyder,1975](http://www.icrp.org/publication.asp?id=ICRP%20Publication%2023). \n",
    "Furthermore, the third parameter is the quotient of the first two, so we use the known values from some of the source to get an estimate for the third parameter for these that miss it ([Wiśniewski et al., 2016](https://www.ncbi.nlm.nih.gov/pubmed/26825538), [Yoshikado et al., 2017](http://dmd.aspetjournals.org/content/dmd/45/7/779.full.pdf?with-ds=yes)).\n",
    "\n",
    "We assume here that the hepatocytes density is representing for the entire liver, including residual blood etc. This may be causing some overestimation, to take this un account we compare the total cellular mass derived from the given data to the predicted cellular mass derived from the potassium content of the liver, and calibrate the relevant volume fraction factor accordingly.\n",
    " \n",
    "Sources:\n",
    "[Gates et al., 1961](https://www.ncbi.nlm.nih.gov/pubmed/13703917),\n",
    "[Rohr et al., 1976](https://link.springer.com/article/10.1007/BF00433072),\n",
    "[de la Iglesia et al., 1976](https://www.ncbi.nlm.nih.gov/pubmed/1247085),\n",
    "[Duarte et al., 1989](https://www.ncbi.nlm.nih.gov/pubmed/2752360),\n",
    "[Immamura et al., 1991](https://aasldpubs.onlinelibrary.wiley.com/doi/abs/10.1002/hep.1840140308),\n",
    "[Wiśniewski et al., 2016](https://www.ncbi.nlm.nih.gov/pubmed/26825538),\n",
    "[Yoshikado et al., 2017](http://dmd.aspetjournals.org/content/dmd/45/7/779.full.pdf?with-ds=yes).\n",
    "\n",
    "\n",
    "\n",
    "\n"
   ]
  },
  {
   "cell_type": "code",
   "execution_count": 4,
   "metadata": {},
   "outputs": [
    {
     "data": {
      "text/html": [
       "<div>\n",
       "<style scoped>\n",
       "    .dataframe tbody tr th:only-of-type {\n",
       "        vertical-align: middle;\n",
       "    }\n",
       "\n",
       "    .dataframe tbody tr th {\n",
       "        vertical-align: top;\n",
       "    }\n",
       "\n",
       "    .dataframe thead th {\n",
       "        text-align: right;\n",
       "    }\n",
       "</style>\n",
       "<table border=\"1\" class=\"dataframe\">\n",
       "  <thead>\n",
       "    <tr style=\"text-align: right;\">\n",
       "      <th></th>\n",
       "      <th>volume fraction of hepatocytes</th>\n",
       "      <th>SEM volume fraction of hepatocytes</th>\n",
       "      <th>hepatocytes volume [fl]</th>\n",
       "      <th>SEM hepatocytes volume [fl]</th>\n",
       "      <th>hepatocytes per ml</th>\n",
       "      <th>SEM hepatocytes per ml</th>\n",
       "      <th>hepatocytes per g</th>\n",
       "      <th>SEM hepatocytes per g</th>\n",
       "      <th>comments</th>\n",
       "    </tr>\n",
       "    <tr>\n",
       "      <th>source</th>\n",
       "      <th></th>\n",
       "      <th></th>\n",
       "      <th></th>\n",
       "      <th></th>\n",
       "      <th></th>\n",
       "      <th></th>\n",
       "      <th></th>\n",
       "      <th></th>\n",
       "      <th></th>\n",
       "    </tr>\n",
       "  </thead>\n",
       "  <tbody>\n",
       "    <tr>\n",
       "      <th>Gates et al., 1961</th>\n",
       "      <td>nan</td>\n",
       "      <td>nan</td>\n",
       "      <td>nan</td>\n",
       "      <td>nan</td>\n",
       "      <td>nan</td>\n",
       "      <td>nan</td>\n",
       "      <td>171,000,000.0</td>\n",
       "      <td>9,974,957.0</td>\n",
       "      <td>NaN</td>\n",
       "    </tr>\n",
       "    <tr>\n",
       "      <th>Wiśniewski et al., 2016</th>\n",
       "      <td>nan</td>\n",
       "      <td>nan</td>\n",
       "      <td>3,144.7</td>\n",
       "      <td>95.7</td>\n",
       "      <td>nan</td>\n",
       "      <td>nan</td>\n",
       "      <td>nan</td>\n",
       "      <td>nan</td>\n",
       "      <td>NaN</td>\n",
       "    </tr>\n",
       "    <tr>\n",
       "      <th>Rohr et al., 1976</th>\n",
       "      <td>0.8</td>\n",
       "      <td>0.0</td>\n",
       "      <td>11,300.0</td>\n",
       "      <td>800.0</td>\n",
       "      <td>102,000,000.0</td>\n",
       "      <td>11,000,000.0</td>\n",
       "      <td>nan</td>\n",
       "      <td>nan</td>\n",
       "      <td>NaN</td>\n",
       "    </tr>\n",
       "    <tr>\n",
       "      <th>Imamura et al., 1991</th>\n",
       "      <td>0.7</td>\n",
       "      <td>0.1</td>\n",
       "      <td>nan</td>\n",
       "      <td>nan</td>\n",
       "      <td>176,229,508.2</td>\n",
       "      <td>67,413,669.2</td>\n",
       "      <td>nan</td>\n",
       "      <td>nan</td>\n",
       "      <td>Cirrhotic Patients ,include non-hepatocytes th...</td>\n",
       "    </tr>\n",
       "    <tr>\n",
       "      <th>Yoshikado et al., 2017</th>\n",
       "      <td>nan</td>\n",
       "      <td>nan</td>\n",
       "      <td>2,300.0</td>\n",
       "      <td>190.5</td>\n",
       "      <td>nan</td>\n",
       "      <td>nan</td>\n",
       "      <td>nan</td>\n",
       "      <td>nan</td>\n",
       "      <td>NaN</td>\n",
       "    </tr>\n",
       "  </tbody>\n",
       "</table>\n",
       "</div>"
      ],
      "text/plain": [
       "                         volume fraction of hepatocytes  \\\n",
       "source                                                    \n",
       "Gates et al., 1961                                  nan   \n",
       "Wiśniewski et al., 2016                             nan   \n",
       "Rohr et al., 1976                                   0.8   \n",
       "Imamura et al., 1991                                0.7   \n",
       "Yoshikado et al., 2017                              nan   \n",
       "\n",
       "                         SEM volume fraction of hepatocytes  \\\n",
       "source                                                        \n",
       "Gates et al., 1961                                      nan   \n",
       "Wiśniewski et al., 2016                                 nan   \n",
       "Rohr et al., 1976                                       0.0   \n",
       "Imamura et al., 1991                                    0.1   \n",
       "Yoshikado et al., 2017                                  nan   \n",
       "\n",
       "                         hepatocytes volume [fl]  SEM hepatocytes volume [fl]  \\\n",
       "source                                                                          \n",
       "Gates et al., 1961                           nan                          nan   \n",
       "Wiśniewski et al., 2016                  3,144.7                         95.7   \n",
       "Rohr et al., 1976                       11,300.0                        800.0   \n",
       "Imamura et al., 1991                         nan                          nan   \n",
       "Yoshikado et al., 2017                   2,300.0                        190.5   \n",
       "\n",
       "                         hepatocytes per ml  SEM hepatocytes per ml  \\\n",
       "source                                                                \n",
       "Gates et al., 1961                      nan                     nan   \n",
       "Wiśniewski et al., 2016                 nan                     nan   \n",
       "Rohr et al., 1976             102,000,000.0            11,000,000.0   \n",
       "Imamura et al., 1991          176,229,508.2            67,413,669.2   \n",
       "Yoshikado et al., 2017                  nan                     nan   \n",
       "\n",
       "                         hepatocytes per g  SEM hepatocytes per g  \\\n",
       "source                                                              \n",
       "Gates et al., 1961           171,000,000.0            9,974,957.0   \n",
       "Wiśniewski et al., 2016                nan                    nan   \n",
       "Rohr et al., 1976                      nan                    nan   \n",
       "Imamura et al., 1991                   nan                    nan   \n",
       "Yoshikado et al., 2017                 nan                    nan   \n",
       "\n",
       "                                                                  comments  \n",
       "source                                                                      \n",
       "Gates et al., 1961                                                     NaN  \n",
       "Wiśniewski et al., 2016                                                NaN  \n",
       "Rohr et al., 1976                                                      NaN  \n",
       "Imamura et al., 1991     Cirrhotic Patients ,include non-hepatocytes th...  \n",
       "Yoshikado et al., 2017                                                 NaN  "
      ]
     },
     "execution_count": 4,
     "metadata": {},
     "output_type": "execute_result"
    }
   ],
   "source": [
    "hepato = pd.read_excel('Liver_cells_data.xlsx','Human_hepatocytes',index_col=0,usecols = range(10))\n",
    "liver_propert= pd.read_excel('Liver_cells_data.xlsx','Total_cell_mass_data',index_col=0,usecols = range(8))\n",
    "liv_den =ufloat(liver_propert.loc['liver density','value'],liver_propert.loc['liver density','SEM'])\n",
    "\n",
    "liv_mass = ufloat(liver_propert.loc['liver mass','value'],liver_propert.loc['liver mass','SEM'])\n",
    "hepato.head()\n"
   ]
  },
  {
   "cell_type": "code",
   "execution_count": 5,
   "metadata": {},
   "outputs": [
    {
     "name": "stdout",
     "output_type": "stream",
     "text": [
      "Before calibraton with total cellular mass data:\n",
      "Number of hepatocytes is: 3e+11 cells (SD range: 3e+11 - 4e+11 cells)\n"
     ]
    },
    {
     "name": "stderr",
     "output_type": "stream",
     "text": [
      "C:\\Users\\ronse\\anaconda3\\lib\\site-packages\\numpy\\lib\\function_base.py:2167: RuntimeWarning: invalid value encountered in ? (vectorized)\n",
      "  outputs = ufunc(*inputs)\n"
     ]
    }
   ],
   "source": [
    "#adding a column of total cells per gram of liver, including the error (as uarray)\n",
    "hepato['cells/g'] = unp.uarray(hepato['hepatocytes per g'],hepato['SEM hepatocytes per g'])\n",
    "\n",
    "#for the density given per 1ml we divide br the liver mass density\n",
    "hepato.loc[~np.isnan(hepato['hepatocytes per ml']), 'cells/g'] =  1/liv_den*unp.uarray(hepato['hepatocytes per ml'],\n",
    "                                                                             hepato['SEM hepatocytes per ml'])[~np.isnan(hepato['hepatocytes per ml'])]\n",
    "\n",
    "#computing the average volume fraction of hepatocyte out of the total liver, to enable derivation of estimates for the density where given the mean volume\n",
    "#of cells, and vice versa\n",
    "vol_frac = ufloat(np.nanmean(hepato['volume fraction of hepatocytes']),\n",
    "                  np.nanmean(hepato['SEM volume fraction of hepatocytes'])) + ufloat(0,np.nanstd(hepato['volume fraction of hepatocytes'])/np.sqrt(hepato['volume fraction of hepatocytes'].count()))\n",
    "\n",
    "#assigning the index of rows where only the mean volume of cells is given. So they can be chosen and the density estimated, base on the mean volume fraction\n",
    "indx = np.isnan(hepato['hepatocytes per ml']) & ~np.isnan(hepato['hepatocytes volume [fl]']) & np.isnan(hepato['hepatocytes per g'])\n",
    "\n",
    "#setting the density of heparocytes based on their mean volume\n",
    "hepato.loc[indx,'cells/g'] =  vol_frac*10**12/(liv_den*unp.uarray(hepato['hepatocytes volume [fl]'],hepato['SEM hepatocytes volume [fl]'])[indx])\n",
    "\n",
    "#using a utlity function GMeanWithErros that get a uarray vector with uncertainty and estimat the geomtric mean and errors, using converstion to \n",
    "# log space, and acounting for both the inter errors that is between the values and the intra error, that is given from the average of the individual errors\n",
    "\n",
    "print('Before calibraton with total cellular mass data:')\n",
    "liver.res.loc['hepatocytes','number'] = gmean_with_errors(hepato['cells/g']*liv_mass)\n",
    "liver.print_params('number','hepatocytes')\n",
    "\n"
   ]
  },
  {
   "cell_type": "markdown",
   "metadata": {},
   "source": [
    "We can use the reference values to get an estimate for the cellular mass and total cellular mass of hepatocytes. We use the volume fraction and density values to fill in the gaps for sources that didn't give estimate fot the mean volume: \n",
    "\n",
    "(Some values might be overestimating beacuse the use cells closer to the main blood vessels but it suppose to be balanced by sources that focus on cells in the intermediate lobular zone) "
   ]
  },
  {
   "cell_type": "code",
   "execution_count": 6,
   "metadata": {},
   "outputs": [
    {
     "name": "stdout",
     "output_type": "stream",
     "text": [
      "Cell mass of hepatocytes is: 4300 pg (SD range: 3400 - 5300 pg)\n",
      "Before calibraton with total cellular mass data:\n",
      "Total cellular mass of hepatocytes is: 1460 grams (SD range: 1140 - 1900 grams)\n"
     ]
    }
   ],
   "source": [
    "#for cells with known volume we use the density of the liver to derive an estimate for the cellular mass:\n",
    "hepato['cell mass [pg]'] =  liv_den*unp.uarray(hepato['hepatocytes volume [fl]'],hepato['SEM hepatocytes volume [fl]'])\n",
    "\n",
    "\n",
    "#assigning the index of rows where only the mean volume of cells is missing. So they can be chosen and the density estimated, \n",
    "#based on the mean volume fraction and density\n",
    "indx = ~np.isnan(hepato['hepatocytes per ml']) & np.isnan(hepato['hepatocytes volume [fl]']) &  ~np.isnan(hepato['volume fraction of hepatocytes'])\n",
    "\n",
    "#setting the mean volume using the volumatric density and the total volume fraction given in the source:\n",
    "hepato.loc[indx,'cell mass [pg]'] = liv_den*(unp.uarray(hepato['volume fraction of hepatocytes'],\n",
    "                                                        hepato['SEM volume fraction of hepatocytes'])[indx]* 10**12/(unp.uarray(hepato['hepatocytes per ml'],hepato['SEM hepatocytes per ml'])[indx]))\n",
    "\n",
    "#assigning the index of rows where only both mean volume of cells and the fraction of hepatocytes are missing, so they can be chosen and the density estimated, \n",
    "#based on the average volume fraction and the hepaocyte density per g from the source\n",
    "indx = ~np.isnan(hepato['hepatocytes per g']) & np.isnan(hepato['hepatocytes volume [fl]']) &  np.isnan(hepato['volume fraction of hepatocytes'])\n",
    "\n",
    "#setting the mean volume using the hepatocyte per g data  the mean total volume fraction estimated earlier given in the source:\n",
    "hepato.loc[indx,'cell mass [pg]'] = (vol_frac*10**12/(unp.uarray(hepato['hepatocytes per g'],hepato['SEM hepatocytes per g'])[indx]))\n",
    "\n",
    "\n",
    "#using a utlity function GMeanWithErros that get a uarray vector with uncertainty and estimat the geomtric mean and errors, using converstion to \n",
    "# log space, and acounting for both the inter errors that is between the values and the intra error, that is given from the average of the individual errors\n",
    "\n",
    "\n",
    "liver.res.loc['hepatocytes','cell mass'] = gmean_with_errors(hepato['cell mass [pg]'])\n",
    "liver.print_params('cell mass','hepatocytes')\n",
    "\n",
    "\n",
    "#Multiplication of the numebrs of cells and single cell mass give the total mass of hepatocytes:\n",
    "\n",
    "liver.res.loc['hepatocytes','total cellular mass'] = gmean_with_errors(hepato['cell mass [pg]']*hepato['cells/g']*liv_mass/10**12)\n",
    "\n",
    "#using function to print\n",
    "print('Before calibraton with total cellular mass data:')\n",
    "liver.print_params('total cellular mass','hepatocytes')\n",
    "\n"
   ]
  },
  {
   "cell_type": "markdown",
   "metadata": {},
   "source": [
    "This seems to be an overestimate, as the total cellular mass of the liver is less.\n",
    "\n",
    "We can use the total cellular mass of the liver to calibrate the results:\n",
    "As Most of the cellular mass of the liver reside in the hepatocytes, we can use the total cellular mass of the liver derived from  potasium concentraion to asses the fraction of cellular mass based on a furmola from [Wang et al., 2004](https://www.ncbi.nlm.nih.gov/pubmed/14532167) (potassium content taken from [Snyder et al., 1975](http://www.icrp.org/publication.asp?id=ICRP%20Publication%2023))"
   ]
  },
  {
   "cell_type": "code",
   "execution_count": 7,
   "metadata": {},
   "outputs": [
    {
     "name": "stdout",
     "output_type": "stream",
     "text": [
      "After calibraton with total cellular mass data derived from potassium content:\n",
      "Number of hepatocytes is: 2e+11 cells (SD range: 2e+11 - 3e+11 cells)\n",
      "Total cellular mass of hepatocytes is: 980 grams (SD range: 710 - 1350 grams)\n"
     ]
    }
   ],
   "source": [
    "liv_pot = ufloat(liver_propert.loc['liver potassium','value'],liver_propert.loc['liver potassium','SEM'])\n",
    "conv_f = ufloat(liver_propert.loc['cell mass/potassium conc.','value'],liver_propert.loc['cell mass/potassium conc.','SEM'])\n",
    "\n",
    "#following Wang et al., 2004 formula and converting from kg to g twice\n",
    "liver_cellular_mass = 10**6*liv_pot*conv_f/liver_propert.loc['potassium molar mass','value']\n",
    "\n",
    "total_hept_mass = liver_cellular_mass*ufloat(liver_propert.loc['volume fraction hepatocyte/total cells','value'],\n",
    "                                             liver_propert.loc['volume fraction hepatocyte/total cells','SEM'])\n",
    "\n",
    "\n",
    "liver.res.loc['hepatocytes','total cellular mass'] = round(total_hept_mass.nominal_value,-1),round(ufloat_to_mulfac(total_hept_mass),2)\n",
    "\n",
    "\n",
    "calibr_hepa_number = 10**12*liver.res.loc['hepatocytes','total cellular mass'][0]/liver.res.loc['hepatocytes','cell mass'][0]\n",
    "calibr_hepa_num_error = propagate_mul_facs([liver.res.loc['hepatocytes','total cellular mass'][1],\n",
    "                                            liver.res.loc['hepatocytes','cell mass'][1]])\n",
    "\n",
    "\n",
    "#using log10 to identefy the significant numbers and the round function to trim them\n",
    "liver.res.loc['hepatocytes','number'] = calibr_hepa_number, calibr_hepa_num_error\n",
    "\n",
    "\n",
    "print('After calibraton with total cellular mass data derived from potassium content:')\n",
    "liver.print_params(['number','total cellular mass'],'hepatocytes')"
   ]
  },
  {
   "cell_type": "markdown",
   "metadata": {},
   "source": [
    "## Kupffer and stellate cells\n",
    "The dircet measurements of non-parenchymal liver cells (liver cells other than hepatocytes) density in humans is [Gates et al., 1961](https://www.ncbi.nlm.nih.gov/pubmed/13703917), who measured the total cell density of non-parenchymal liver cells, not including endothelial and bile epithelium. There was no seperation to Kupffer and stellate cells.\n",
    "We base our estimates on their density, using the proportion of the two population, based on measurment in rodents ([Feudenberg et al., 1989](https://www.ncbi.nlm.nih.gov/pubmed/2569248), \n",
    "[Bouwen et al., 1986](https://www.ncbi.nlm.nih.gov/pubmed/3733004), \n",
    "[Knook and Sleyster, 1976](https://www.ncbi.nlm.nih.gov/pubmed/994558), \n",
    "[Baratta et al., 2009](https://www.ncbi.nlm.nih.gov/pubmed/19255771))\n",
    "\n"
   ]
  },
  {
   "cell_type": "code",
   "execution_count": 8,
   "metadata": {},
   "outputs": [],
   "source": [
    "Gates_1961 = pd.read_excel('Liver_cells_data.xlsx','Gates et al., 1961',index_col=0,usecols = range(9))\n",
    "cell_dist_data= pd.read_excel('Liver_cells_data.xlsx','Cell_dist',index_col=0,usecols = range(17),skipfooter=3)\n"
   ]
  },
  {
   "cell_type": "code",
   "execution_count": 9,
   "metadata": {},
   "outputs": [
    {
     "name": "stdout",
     "output_type": "stream",
     "text": [
      "The proportion of Kupffer cells out of Littoral cells: 65±4%\n"
     ]
    }
   ],
   "source": [
    "#We want to extract the fraction of Kupffer fraction out of Kupffer and Stellate cells\n",
    "#first we put in relevant columns the values with their uncertainty\n",
    "\n",
    "cell_dist_data['[2]'] = cell_dist_data['% of mice  non-parenchymal cells [2]']\n",
    "cell_dist_data['[3]'] = unp.uarray(cell_dist_data['% of rat  non-parenchymal cells [3]'],cell_dist_data['% SD of rat  non-parenchymal cells [3]'])\n",
    "cell_dist_data['[5]'] = unp.uarray(cell_dist_data['% of mice hepatic cells [5]'],cell_dist_data['SEM % of mice hepatic cells [5]'])\n",
    "\n",
    "#then we take this columns and compute the proportion of Kupffer cells out of their sum with stellate cells \n",
    "Kupf_set_dist = cell_dist_data[['[2]','[3]','[5]']]\n",
    "Kupf_fractions = Kupf_set_dist.loc['Kupffer cells'] /(Kupf_set_dist.loc['Kupffer cells']+Kupf_set_dist.loc['stellate cells'])\n",
    "\n",
    "#Adding the two error terms: intra-error the average of the error from each sourcs, inter error the variation of the nominal values\n",
    "Kup_frac = Kupf_fractions.sum()/Kupf_fractions.size + ufloat(0,unp.nominal_values(Kupf_fractions).std()/Kupf_fractions.size)\n",
    "\n",
    "print('The proportion of Kupffer cells out of Littoral cells: {:0.0fP}%'.format(100*Kup_frac))"
   ]
  },
  {
   "cell_type": "markdown",
   "metadata": {},
   "source": [
    "We use the best estimate taken from the calibration of hepatocytes number, using mass data, to calibrate the total number of littoral cells (stellate and Kupffer cells) in the liver. This way we wish to cancel biases in the measurement of  [Gates et al., 1961](https://www.ncbi.nlm.nih.gov/pubmed/13703917), by using only the ratio of littoral cells to hepatocytes .\n",
    "Furthemore, we comapre the results to data regarding the prelevance and density of stellate cells from [Giampieri et al., 1981](https://www.karger.com/Article/PDF/198640) and [Sztark et al., 1986](https://www.sciencedirect.com/science/article/pii/S0168827886800472).\n",
    "We emphisize that the density was mesured in small section in a manner that tend to overestimate."
   ]
  },
  {
   "cell_type": "code",
   "execution_count": 10,
   "metadata": {},
   "outputs": [
    {
     "name": "stdout",
     "output_type": "stream",
     "text": [
      "Total littoral cells: 4.2e+10 SD range 2.8e+10 - 6.2e+10 cells\n",
      "Number of Kupffer cells is: 3e+10 cells (SD range: 2e+10 - 4e+10 cells)\n",
      "Number of stellate cells is: 1e+10 cells (SD range: 1e+10 - 2e+10 cells)\n",
      "_______\n",
      "Sztark et al., 1986 density derived estimate for the number of stellate cells: 3.1e+10\n",
      "That overstimate might be due to the small section that was taken just from the parenchymal volume, not calibrated as the results derived from Gates et al., 1981\n",
      "\n",
      "Estimated stellate cell to hepatocyte ratio: 6.3%\n",
      "Giampieri et al., 1981 stellate cell to hepatocyte ratio: 6.4%\n"
     ]
    }
   ],
   "source": [
    "cell_density = pd.Series(unp.uarray(Gates_1961.loc[['hepatocytes','stellate and Kupffer cells'],'average number of cells per mg'],\n",
    "                          Gates_1961.loc[['hepatocytes','stellate and Kupffer cells'],'SEM number of cells per mg']),index =['hepatocytes','stellate and Kupffer cells'])\n",
    "\n",
    "#using the calibrated number of hepatocyte to estiamte the littoral cells number, using the measured ratio of hepatocyte to littoral cells in human\n",
    "total_littoral_cells = cell_density['stellate and Kupffer cells']*calibr_hepa_number/cell_density['hepatocytes']\n",
    "#using the utilities function to translate the uncertainty into multiplication factor and to propogate the errors\n",
    "littoral_cells_unc = propagate_mul_facs([ufloat_to_mulfac(total_littoral_cells),calibr_hepa_num_error]) \n",
    "total_littoral_cells = total_littoral_cells.nominal_value\n",
    "\n",
    "print('Total littoral cells: {:0.1e}'.format(total_littoral_cells),\n",
    "          'SD range {:0.1e}'.format(total_littoral_cells/littoral_cells_unc),\n",
    "          '- {:0.1e} cells'.format(total_littoral_cells*littoral_cells_unc))\n",
    "\n",
    "#using the fracion of kupffer cells out of the littoral cells\n",
    "Kupf_num = Kup_frac.nominal_value * total_littoral_cells\n",
    "Kupf_num_unc = propagate_mul_facs([ufloat_to_mulfac(Kup_frac),littoral_cells_unc]) \n",
    "\n",
    "#using log10 to identefy the significant numbers and the round function to trim them\n",
    "liver.res.loc['Kupffer cells','number'] = Kupf_num,Kupf_num_unc\n",
    "\n",
    "#using the fracion of kupffer cells out of the littoral cells to estimate the stellate cells num\n",
    "ste_num = (1-Kup_frac.nominal_value)* total_littoral_cells\n",
    "ste_num_unc = propagate_mul_facs([ufloat_to_mulfac(Kup_frac),littoral_cells_unc]) \n",
    "\n",
    "#using log10 to identefy the significant numbers and the round function to trim them\n",
    "liver.res.loc['stellate cells','number'] = ste_num, ste_num_unc\n",
    "\n",
    "liver.print_params('number',['Kupffer cells','stellate cells'])\n",
    "\n",
    "\n",
    "print('_______')\n",
    "\n",
    "# Sztark et al., 1986 density derived estimate for the number of stellate cells\n",
    "szt_stell_num = (cell_dist_data.loc['stellate cells','cells per ml [7]']*liv_mass/liv_den).nominal_value\n",
    "print('Sztark et al., 1986 density derived estimate for the number of stellate cells: {:0.1e}'.format(szt_stell_num))\n",
    "print('That overstimate might be due to the small section that was taken just from the parenchymal volume, not calibrated as the results derived from Gates et al., 1981')\n",
    "print('')\n",
    "#comaprison to Giampieri et al., 1981 data regarding the ratio of stellate cells to hepatocytes:\n",
    "print('Estimated stellate cell to hepatocyte ratio: {:0.1f}%'.format(100*liver.res.loc['stellate cells',\n",
    "                                                                                           'number'][0]/liver.res.loc['hepatocytes','number'][0])  )\n",
    "print('Giampieri et al., 1981 stellate cell to hepatocyte ratio: {:0.1f}%'.format(100*cell_dist_data.loc['stellate cells','ratio cells/heparocytes [6]']))\n",
    "\n",
    "\n"
   ]
  },
  {
   "cell_type": "markdown",
   "metadata": {},
   "source": [
    "### Cellular mass of Kupffer and stellate cells\n",
    "By [Damania et al., 2014](https://www.ncbi.nlm.nih.gov/pubmed/26202404) stellate and Kupffer cells have similar sizes. There is no direct measurements of their mass or volumes, but [Bouwen et al., 1986](https://www.ncbi.nlm.nih.gov/pubmed/3733004),  gives measurements of both diameter and area of profiles of mice Kupffer cells. We combine these with comparison with the volume distriution of liver cell volume that wass assesed in rats [Blouin et al., 1977](http://jcb.rupress.org/content/72/2/441.abstract).\n",
    "\n",
    "The shape of these cells is said to be stralike, and it difficult to estimate their volume from the diameter. We assume that the shape conversion factor between the volume of a sphere with the maximal diameter and the true volume of the cells, can be estimated by taking the conversion factor of the profile area to a bounding circle, with a power of 3/2.\n"
   ]
  },
  {
   "cell_type": "code",
   "execution_count": 11,
   "metadata": {},
   "outputs": [
    {
     "name": "stdout",
     "output_type": "stream",
     "text": [
      "Based only on diameter and area measurments:\n",
      "Cell mass of Kupffer cells is: 220 pg (SD range: 136 - 360 pg)\n",
      "Total cellular mass of Kupffer cells is: 6 grams (SD range: 3 - 11 grams)\n",
      "Cell mass of stellate cells is: 220 pg (SD range: 136 - 360 pg)\n",
      "Total cellular mass of stellate cells is: 3 grams (SD range: 2 - 6 grams)\n"
     ]
    }
   ],
   "source": [
    "kupf_sizes = pd.read_excel('Liver_cells_data.xlsx','Kupffer_cells_size',index_col=0,usecols = range(4))\n",
    "\n",
    "kupf_sizes['2D conv'] =  kupf_sizes['area [µm^2]']/(np.pi*(kupf_sizes['diameter [µm] ']/2)**2)\n",
    "kupf_sizes['3D conv'] =kupf_sizes['2D conv']**1.5\n",
    "\n",
    "kupf_sizes['sphere volume'] = 4*np.pi/3*(kupf_sizes['diameter [µm] ']/2)**3\n",
    "\n",
    "kupf_sizes['volume'] = kupf_sizes['3D conv']*kupf_sizes['sphere volume']\n",
    "\n",
    "\n",
    "#saving the results of the method based on diameters temporarly to the liver_results\n",
    "print('Based only on diameter and area measurments:')\n",
    "for cell in ['Kupffer cells','stellate cells']: \n",
    "    liver.res.loc[cell,'cell mass'] = gmean_with_errors(kupf_sizes['volume'])\n",
    "    total_mass = liver.res.loc[cell,'number'][0]*liver.res.loc[cell,'cell mass'][0]/10**12\n",
    "    total_mass_unc = propagate_mul_facs([liver.res.loc[cell,'number'][1],liver.res.loc[cell,'cell mass'][1]])\n",
    "    liver.res.loc[cell,'total cellular mass'] = total_mass,total_mass_unc\n",
    "    liver.print_params(['cell mass','total cellular mass'],cell)\n"
   ]
  },
  {
   "cell_type": "markdown",
   "metadata": {},
   "source": [
    "[Sasse et al., 1992](https://www.ncbi.nlm.nih.gov/pubmed/1289084) gives a value of 250 µm3 with no primary reference, similar to the value we got.\n",
    "However in comparison to [Blouin et al., 1977](http://jcb.rupress.org/content/72/2/441.abstract) it seems to be an underestimate. The sum of the overall mass of them together amount to less than 1% of the total volume of the hepatocyte, in contrast to more than 4% in the measurements in rat (and 1-2% of stellate cells in measured in humans: [Giampieri et al., 1981](https://www.karger.com/Article/PDF/198640), [Sztark et al., 1986](https://www.sciencedirect.com/science/article/pii/S0168827886800472)).\n"
   ]
  },
  {
   "cell_type": "code",
   "execution_count": 12,
   "metadata": {},
   "outputs": [
    {
     "data": {
      "text/html": [
       "<div>\n",
       "<style scoped>\n",
       "    .dataframe tbody tr th:only-of-type {\n",
       "        vertical-align: middle;\n",
       "    }\n",
       "\n",
       "    .dataframe tbody tr th {\n",
       "        vertical-align: top;\n",
       "    }\n",
       "\n",
       "    .dataframe thead th {\n",
       "        text-align: right;\n",
       "    }\n",
       "</style>\n",
       "<table border=\"1\" class=\"dataframe\">\n",
       "  <thead>\n",
       "    <tr style=\"text-align: right;\">\n",
       "      <th></th>\n",
       "      <th>vol dist</th>\n",
       "      <th>numbers</th>\n",
       "      <th>predicted total mass</th>\n",
       "      <th>predicted cell mass</th>\n",
       "      <th>predicted cell mass unc</th>\n",
       "    </tr>\n",
       "    <tr>\n",
       "      <th>cells</th>\n",
       "      <th></th>\n",
       "      <th></th>\n",
       "      <th></th>\n",
       "      <th></th>\n",
       "      <th></th>\n",
       "    </tr>\n",
       "  </thead>\n",
       "  <tbody>\n",
       "    <tr>\n",
       "      <th>hepatocytes</th>\n",
       "      <td>0.8</td>\n",
       "      <td>230,265,863,085.8</td>\n",
       "      <td>980.0</td>\n",
       "      <td>4,255.9</td>\n",
       "      <td>1.5</td>\n",
       "    </tr>\n",
       "    <tr>\n",
       "      <th>Kupffer cells</th>\n",
       "      <td>0.0</td>\n",
       "      <td>27,120,607,952.5</td>\n",
       "      <td>26.5</td>\n",
       "      <td>975.4</td>\n",
       "      <td>1.5</td>\n",
       "    </tr>\n",
       "    <tr>\n",
       "      <th>stellate cells</th>\n",
       "      <td>0.0</td>\n",
       "      <td>14,450,412,864.6</td>\n",
       "      <td>17.6</td>\n",
       "      <td>1,220.4</td>\n",
       "      <td>1.5</td>\n",
       "    </tr>\n",
       "  </tbody>\n",
       "</table>\n",
       "</div>"
      ],
      "text/plain": [
       "                vol dist           numbers  predicted total mass  \\\n",
       "cells                                                              \n",
       "hepatocytes          0.8 230,265,863,085.8                 980.0   \n",
       "Kupffer cells        0.0  27,120,607,952.5                  26.5   \n",
       "stellate cells       0.0  14,450,412,864.6                  17.6   \n",
       "\n",
       "                predicted cell mass  predicted cell mass unc  \n",
       "cells                                                         \n",
       "hepatocytes                 4,255.9                      1.5  \n",
       "Kupffer cells                 975.4                      1.5  \n",
       "stellate cells              1,220.4                      1.5  "
      ]
     },
     "execution_count": 12,
     "metadata": {},
     "output_type": "execute_result"
    }
   ],
   "source": [
    "vol_dist =pd.DataFrame(cell_dist_data['% of rat parenchymal vol [1]'])\n",
    "vol_dist = vol_dist.rename(columns={'% of rat parenchymal vol [1]': 'vol dist'}).drop('endothelial cells')\n",
    "vol_dist['numbers'] = liver.get_param_vals('number')\n",
    "\n",
    "vol_dist['predicted total mass'] = vol_dist['vol dist']*liver.res.loc['hepatocytes','total cellular mass'][0]/vol_dist.loc['hepatocytes','vol dist']\n",
    "\n",
    "vol_dist['predicted cell mass']= 10**12*vol_dist['predicted total mass']/vol_dist['numbers']\n",
    "\n",
    "#The major uncertianty evolve from thr hepatocytes mass uncertainty which is the major factor in the numbers uncertainty too.  \n",
    "# vol_dist['predicted cell mass unc'] =  list(zip(*liver_results['number']))[1]\n",
    "vol_dist['predicted cell mass unc'] = liver.get_param_unc('number')\n",
    "vol_dist"
   ]
  },
  {
   "cell_type": "markdown",
   "metadata": {},
   "source": [
    "We take the geometrical mean of the two estimates (from diameter, and from overall volume distribution):\n"
   ]
  },
  {
   "cell_type": "code",
   "execution_count": 13,
   "metadata": {},
   "outputs": [
    {
     "name": "stdout",
     "output_type": "stream",
     "text": [
      "Best estimate, including calibration from volume fraction data\n",
      "Cell mass of Kupffer cells is: 470 pg (SD range: 230 - 930 pg)\n",
      "Total cellular mass of Kupffer cells is: 13 grams (SD range: 6 - 28 grams)\n",
      "Cell mass of stellate cells is: 520 pg (SD range: 250 - 1100 pg)\n",
      "Total cellular mass of stellate cells is: 8 grams (SD range: 3 - 18 grams)\n"
     ]
    }
   ],
   "source": [
    "print('Best estimate, including calibration from volume fraction data')\n",
    "for cell in ['Kupffer cells','stellate cells']:\n",
    "    #setting the cell mass we got from the volume fraction estimate with its uncertainty\n",
    "    cell_mass_from_vols = tuple([vol_dist.loc[cell,'predicted cell mass'],vol_dist.loc[cell,'predicted cell mass unc']])\n",
    "    #using the utility function 'gmean_with_errors_from_mul' to get the geomtrical mean of the estimates and the uncertainty, taking in acount the current multiplicatino factors \n",
    "    liver.res.loc[cell,'cell mass'] =  gmean_with_errors_from_mul([liver.res.loc[cell,'cell mass'],\n",
    "                                                                   cell_mass_from_vols])\n",
    "\n",
    "    #using the new cell mass estimate to get a total cellular mass of each of them\n",
    "    total_mass = liver.res.loc[cell,'number'][0]*liver.res.loc[cell,'cell mass'][0]/10**12\n",
    "    total_mass_unc = propagate_mul_facs([liver.res.loc[cell,'number'][1],liver.res.loc[cell,'cell mass'][1]])\n",
    "    #setting the results\n",
    "    liver.res.loc[cell,'total cellular mass'] = total_mass,total_mass_unc\n",
    "    liver.print_params(['cell mass','total cellular mass'],cell)\n"
   ]
  },
  {
   "cell_type": "markdown",
   "metadata": {},
   "source": [
    "## Lifespan and cellular turnover\n",
    "We could find in the literature few sources with measurements of hepatocytes cell cycle in humans ([King et al., 1998](https://www.ncbi.nlm.nih.gov/pubmed/9570240), \n",
    "[Werling et al., 2001](https://www.ncbi.nlm.nih.gov/pubmed/11396526), \n",
    "[Marshall et al., 2005](https://www.ncbi.nlm.nih.gov/pubmed/15633121), \n",
    "[Mun et al., 2006](https://www.ncbi.nlm.nih.gov/pubmed/18376794)).\n",
    "However there is no concentrated analysis of their results. Moreover, some of the soruces seemed to be of poor quality, and the variation between their results exceeds 2 order of magnitude. Thus we don't provide estimate for the hepatocyte lifespan from human measurements, but only give reference values for lifespan of liver cells taken from measurements in rodents (rats). Those enable an extrapolation of cellular turnover rate, that can serve as an upper bound for human liver cells. \n",
    "\n",
    "\n",
    "Lifespan values in rodents were taken from two sources that made use of either labeling technique using H3-thymidine [MacDonald, 1961]() or Metaphase Index using Vinblastine sulfate [Bouwens et al., 1986](https://www.ncbi.nlm.nih.gov/pubmed/3733004). "
   ]
  },
  {
   "cell_type": "code",
   "execution_count": 14,
   "metadata": {},
   "outputs": [],
   "source": [
    "rod_lifespans = pd.read_excel('Liver_cells_data.xlsx','Lifespan_rodents',index_col=0,usecols = range(6),skipfooter=3)\n",
    "\n",
    "#extracting the uncertainties and translating them to multiplication factors: \n",
    "rod_ls_unc = uarr_to_mulfac(unp.uarray(rod_lifespans['lifespan in rodent [d]'],\n",
    "                                       rod_lifespans['lifespan SD in rodent [d]'])).round(2)\n",
    "\n",
    "#assigning the values to new paramter in the results\n",
    "liver.res['lifespan in rodents'] = list(zip(rod_lifespans['lifespan in rodent [d]'],rod_ls_unc))\n",
    "\n",
    "\n",
    "# using the lifespan from rodents to extrapolate potential cellular turnover rates values:\n",
    "ext_turnover = vol_dist['numbers']/rod_lifespans['lifespan in rodent [d]']\n",
    "ext_turnover_unc = propagate_mul_facs([liver.get_param_unc('number'),rod_ls_unc]).round(1)\n",
    "\n",
    "liver.res['extrapolated cellular turnover rate'] = list(zip(ext_turnover,ext_turnover_unc))\n",
    "\n",
    "\n",
    "ext_mass_turnover = (liver.get_param_vals('total cellular mass')/rod_lifespans['lifespan in rodent [d]']).round(2)\n",
    "ext_mass_turnover_unc = propagate_mul_facs([liver.get_param_unc('total cellular mass'),rod_ls_unc]).round(1)\n",
    "\n",
    "liver.res['extrapolated cellular mass turnover rate'] = list(zip(ext_mass_turnover,ext_mass_turnover_unc))"
   ]
  },
  {
   "cell_type": "markdown",
   "metadata": {},
   "source": [
    "By extrapolation from lifespan measured in rodents (assuming similar lifespan in humans) we can get an upper bound for the cellular turnover rates in humans:"
   ]
  },
  {
   "cell_type": "code",
   "execution_count": 15,
   "metadata": {},
   "outputs": [
    {
     "name": "stdout",
     "output_type": "stream",
     "text": [
      "\u001b[1mhepatocytes:\u001b[0m\n",
      "Lifespan in rodents of hepatocytes is: 360 days (SD range: 310 - 420 days)\n",
      "Extrapolated cellular turnover rate of hepatocytes is: 6e+08 cells per day (SD range: 4e+08 - 1e+09 cells per day)\n",
      "Extrapolated cellular mass turnover rate of hepatocytes is: 3 grams per day (SD range: 2 - 4 grams per day)\n",
      "______________________________\n",
      "\u001b[1mKupffer cells:\u001b[0m\n",
      "Lifespan in rodents of Kupffer cells is: 400 days (SD range: 190 - 830 days)\n",
      "Extrapolated cellular turnover rate of Kupffer cells is: 7e+07 cells per day (SD range: 3e+07 - 2e+08 cells per day)\n",
      "Extrapolated cellular mass turnover rate of Kupffer cells is: 0.0300 grams per day (SD range: 0.0100 - 0.0900 grams per day)\n",
      "______________________________\n",
      "\u001b[1mstellate cells:\u001b[0m\n",
      "Lifespan in rodents of stellate cells is: 30 days (SD range: 13 - 67 days)\n",
      "Extrapolated cellular turnover rate of stellate cells is: 5e+08 cells per day (SD range: 2e+08 - 1e+09 cells per day)\n",
      "Extrapolated cellular mass turnover rate of stellate cells is: 0.25 grams per day (SD range: 0.08 - 0.80 grams per day)\n"
     ]
    }
   ],
   "source": [
    "liver.print_params(['lifespan in rodents','extrapolated cellular turnover rate',\n",
    "                    'extrapolated cellular mass turnover rate'])"
   ]
  },
  {
   "cell_type": "markdown",
   "metadata": {},
   "source": [
    "## Saving the results to excell"
   ]
  },
  {
   "cell_type": "code",
   "execution_count": 16,
   "metadata": {},
   "outputs": [
    {
     "name": "stdout",
     "output_type": "stream",
     "text": [
      "no color as Kupffer cells is not in the cell types list\n",
      "no color as stellate cells is not in the cell types list\n"
     ]
    }
   ],
   "source": [
    "liver.export_to_excel('Summary.xlsx')"
   ]
  }
 ],
 "metadata": {
  "kernelspec": {
   "display_name": "Python 3",
   "language": "python",
   "name": "python3"
  },
  "language_info": {
   "codemirror_mode": {
    "name": "ipython",
    "version": 3
   },
   "file_extension": ".py",
   "mimetype": "text/x-python",
   "name": "python",
   "nbconvert_exporter": "python",
   "pygments_lexer": "ipython3",
   "version": "3.7.3"
  }
 },
 "nbformat": 4,
 "nbformat_minor": 2
}
