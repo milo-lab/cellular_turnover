{
 "cells": [
  {
   "cell_type": "code",
   "execution_count": 1,
   "metadata": {},
   "outputs": [],
   "source": [
    "import pandas as pd\n",
    "\n",
    "from openpyxl import load_workbook\n",
    "\n",
    "import numpy as np\n",
    "import uncertainties as uc\n",
    "\n",
    "pd.options.display.float_format ='{:,.1f}'.format\n",
    "import matplotlib.pyplot as plt\n",
    "\n",
    "%matplotlib inline  \n",
    "\n",
    "import scipy.stats as stats\n",
    "from uncertainties import ufloat\n",
    "from uncertainties import unumpy\n",
    "from sklearn.linear_model import LinearRegression\n",
    "\n",
    "from scipy.stats import gmean\n",
    "%run Utility_Functions.ipynb"
   ]
  },
  {
   "cell_type": "markdown",
   "metadata": {},
   "source": [
    "## Methods and Statistics\n",
    "Ranges and values with ± are given as 1 standard error of the values.\n",
    "\n",
    "Ranges in cases of large uncertainty are not necessarily symmetrical.\n",
    "\n",
    "Boxplot showing the quartiles (25%-75%) and the median (orange horizontal line). In addition the vertical lines extending to the most extreme, non-outlier data points"
   ]
  },
  {
   "cell_type": "markdown",
   "metadata": {},
   "source": [
    "# Lung cells\n",
    "There are several distinct population of cellss in the lungs. The main cell types we take in account in our estimates are:\n",
    "1. alveolar epithelial cells - there are two types (I,II) that lines the lung alveoli, which are the ends of the respiratory tree. Type I cells are involved in the process of gas exchange between the alveoli and blood. Type II are the progenitor stem cells of type I cells\n",
    "2. The alveolar macrophages reside on the internal lumenal surfaces of the alveoli, the alveolar ducts, and the bronchioles. They are mobile scavengers that serve to engulf foreign particles in the lungs, such as dust, bacteria, carbon particles, and blood cells from injuries\n",
    "3. Bronchial and bronchioles epithelial cells that lined the respiratory tract.\n",
    "4. Interstitial cells -  interstitium  is the tissue and space around the alveoli. There are different cells in this area, one of the important is fibroblast, which is responsible for the extracellular matrix.\n",
    "5. Endothelial cells- makes the numerous blood vessels in the lungs. As we acounted for their number and turnover in the estimate for the total endothelial turnover we *don't include* them in the current estimate "
   ]
  },
  {
   "cell_type": "markdown",
   "metadata": {},
   "source": [
    "## Number of cells\n",
    "We use data from three sources that estiamted the number of different cells in the lungs of adult humans and average their results: [Crapo et al., 1982](https://www.ncbi.nlm.nih.gov/pubmed/7103258), [Stone et al., 1992](https://www.ncbi.nlm.nih.gov/pubmed/1540387), [Mercer et al.,1994](https://www.ncbi.nlm.nih.gov/pubmed/8003339)"
   ]
  },
  {
   "cell_type": "code",
   "execution_count": 3,
   "metadata": {},
   "outputs": [
    {
     "name": "stdout",
     "output_type": "stream",
     "text": [
      "Number of alveolar epithelial cells is: (1.1±0.2)×10¹¹ cells\n",
      "Number of alveolar macrophages is: (2.9±0.7)×10¹⁰ cells\n",
      "Number of bronchial epithelial cells is: (1.0±0.1)×10¹⁰ cells\n",
      "Number of lung interstitial cells is: (1.4±0.2)×10¹¹ cells\n"
     ]
    }
   ],
   "source": [
    "#laoding the data from excel\n",
    "cell_num_data = pd.read_excel('Lung_cells_data.xlsx','Cell_number', index_col=0, usecols=range(8))\n",
    "#droping the endothelial cells, which were analysed in a specific manner\n",
    "cell_num_data = cell_num_data.drop('Endothelial cells')\n",
    "\n",
    "#combining the measured mean values and their SEM using uncertainty package \n",
    "cell_num_data['Crapo'] = unumpy.uarray(cell_num_data['number of cell (Crapo et al., 1982)'],\n",
    "                                       cell_num_data['SEM of cells (Crapo et al., 1982)'])\n",
    "cell_num_data['Stone'] = unumpy.uarray(cell_num_data['number of cell (Stone et al., 1992)'],\n",
    "                                       cell_num_data['SEM of cells (Stone et al., 1992)'])\n",
    "cell_num_data['number']  = (cell_num_data['Crapo']+cell_num_data['Stone'])/2\n",
    "\n",
    "#adding the borncial epithelial cells wich were estimated only in a seperated source\n",
    "cell_num_data.loc[['Bronchi epithelia','Bronchioles epithelia'],\n",
    "                  'number'] = unumpy.uarray(cell_num_data.loc[['Bronchi epithelia',\n",
    "                                                               'Bronchioles epithelia'],\n",
    "                                                              'number of cell (Mercer et al., 1994)'],\n",
    "                                            cell_num_data.loc[['Bronchi epithelia','Bronchioles epithelia'],\n",
    "                                                              'SEM of cells (Mercer et al., 1994)'])\n",
    "\n",
    "\n",
    "lungs = CellTypesResDF(cell_num_data.groupby('cell type').sum().index)\n",
    "lungs.res['number'] = cell_num_data[['cell type','number']].groupby('cell type').sum()\n",
    "\n",
    "lungs.print_params('number')\n"
   ]
  },
  {
   "cell_type": "markdown",
   "metadata": {},
   "source": [
    "## Cellular mass\n",
    "Using the volume measurements of the different cells from the same sources we get and estimate for the total cellular mass in the lungs.\n",
    "[Crapo et al., 1982](https://www.ncbi.nlm.nih.gov/pubmed/7103258), [Stone et al., 1992](https://www.ncbi.nlm.nih.gov/pubmed/1540387), [Mercer et al.,1994](https://www.ncbi.nlm.nih.gov/pubmed/8003339)"
   ]
  },
  {
   "cell_type": "code",
   "execution_count": 4,
   "metadata": {},
   "outputs": [],
   "source": [
    "#laoding the data from excel\n",
    "cell_volume_data = pd.read_excel('Lung_cells_data.xlsx','Cellular_volume', index_col=0, usecols=range(8))\n",
    "#droping the endothelial cells, which were analysed in a specific manner\n",
    "cell_volume_data = cell_volume_data.drop('Endothelial cells')\n",
    "\n",
    "cell_density = 1.05 #taking 1.05 density pg/fl\n",
    "\n",
    "#combining the measured mean values and their SEM using uncertainty package \n",
    "cell_volume_data['Crapo'] = unumpy.uarray(cell_volume_data['volume [fl] (Crapo et al., 1982)'],\n",
    "                                          cell_volume_data['SEM of volume [fl] (Crapo et al., 1982)'])\n",
    "cell_volume_data['Stone'] = unumpy.uarray(cell_volume_data['volume [fl] (Stone et al., 1992)'],\n",
    "                                          cell_volume_data['SEM of volume [fl] (Stone et al., 1992)'])\n",
    "cell_volume_data['cell mass']  = cell_density*(cell_volume_data['Crapo']+cell_volume_data['Stone'])/2 \n",
    "\n",
    "#adding the borncial epithelial cells wich were estimated only in a seperated source\n",
    "cell_volume_data.loc[['Bronchi epithelia','Bronchioles epithelia'],'cell mass'] = cell_density*unumpy.uarray(cell_volume_data.loc[['Bronchi epithelia','Bronchioles epithelia'],'volume [fl] (Mercer et al., 1994)'],\n",
    "                                                                                       cell_volume_data.loc[['Bronchi epithelia','Bronchioles epithelia'],'SEM of volume [fl] (Mercer et al., 1994)'])\n",
    "\n",
    "#defining weighted mean function to compute the average mass using groupby  \n",
    "wm = lambda x: np.average(x, weights=cell_num_data.loc[x.index, 'number'])\n",
    "\n",
    "\n",
    "#combining the results and saving them in a dedicated data frame using the weighted mean function we defined\n",
    "lungs.res['cell mass'] = cell_volume_data[['cell type','cell mass']].groupby('cell type').agg(wm)\n",
    "\n",
    "lungs.res['total cellular mass'] = lungs.res['cell mass']*lungs.res['number']/10**12 #from pg to g\n",
    "\n",
    "# lungs.print_params(['cell mass','total cellular mass'])\n"
   ]
  },
  {
   "cell_type": "code",
   "execution_count": 5,
   "metadata": {},
   "outputs": [
    {
     "name": "stdout",
     "output_type": "stream",
     "text": [
      "\u001b[1malveolar epithelial cells:\u001b[0m\n",
      "Number of alveolar epithelial cells is: 1e+11 cells (SD range: 9e+10 - 1e+11 cells)\n",
      "Cell mass of alveolar epithelial cells is: 2200 pg (SD range: 1900 - 2500 pg)\n",
      "Total cellular mass of alveolar epithelial cells is: 240 grams (SD range: 190 - 300 grams)\n",
      "______________________________\n",
      "\u001b[1malveolar macrophages:\u001b[0m\n",
      "Number of alveolar macrophages is: 3e+10 cells (SD range: 2e+10 - 4e+10 cells)\n",
      "Cell mass of alveolar macrophages is: 2100 pg (SD range: 1900 - 2300 pg)\n",
      "Total cellular mass of alveolar macrophages is: 60 grams (SD range: 46 - 79 grams)\n",
      "______________________________\n",
      "\u001b[1mbronchial epithelial cells:\u001b[0m\n",
      "Number of bronchial epithelial cells is: 1e+10 cells (SD range: 9e+09 - 1e+10 cells)\n",
      "Cell mass of bronchial epithelial cells is: 890 pg (SD range: 790 - 1010 pg)\n",
      "Total cellular mass of bronchial epithelial cells is: 9 grams (SD range: 8 - 11 grams)\n",
      "______________________________\n",
      "\u001b[1mlung interstitial cells:\u001b[0m\n",
      "Number of lung interstitial cells is: 1e+11 cells (SD range: 1e+11 - 2e+11 cells)\n",
      "Cell mass of lung interstitial cells is: 740 pg (SD range: 670 - 820 pg)\n",
      "Total cellular mass of lung interstitial cells is: 101 grams (SD range: 86 - 118 grams)\n"
     ]
    }
   ],
   "source": [
    "'''\n",
    "Until now we used uncertainty package as our errors were linear and relativly small compare to the values themselves.\n",
    "Now we want to translate them to terms of uncertainy multiplication factor, as the uncertainty of lifespan values is great,\n",
    "similar to the values themselves.\n",
    "We want all the error to be in the same style in order to allow easy error propagation \n",
    " '''\n",
    "\n",
    "lungs.change_unc_to_mul()\n",
    "lungs.print_params(['number', 'cell mass','total cellular mass'])\n"
   ]
  },
  {
   "cell_type": "markdown",
   "metadata": {},
   "source": [
    "## Lifespan and turnove of lung cells\n",
    "There is no one source concentrating the lifespan or turnover of the various cells of the lungs in human, only different sources discussing either the lifespan of cells in rodents ([Bowden,1983](https://www.ncbi.nlm.nih.gov/pubmed/6881708)) or specific cells proliferation in human ([Pforte et al., 1993](https://www.ncbi.nlm.nih.gov/pubmed/8370443), [Uebelhoer et al., 1995](https://www.ncbi.nlm.nih.gov/pubmed/7616760), etc.)\n",
    "We go over the different sources trying to get the best estimates for the different cells types:\n",
    "1. We find a human based estimate for the alveolar marophages and bronchial epithelial cells.\n",
    "2. We extrapolated from mice measurements for estimates for alveolar epithelial cells and interstitial cells."
   ]
  },
  {
   "cell_type": "markdown",
   "metadata": {},
   "source": [
    "### Alveolar macrophages turnover\n",
    "\n",
    "We estimate the lifespan of alveolar macrophages on the basis of proliferation index measurements of cells taken from  bronchoalveolar lavage (BAL) fluid, using Ki-67 marker. This index indicates the percentage of cells that are in cell cycle [Pforte et al., 1993](https://www.ncbi.nlm.nih.gov/pubmed/8370443), [Uebelhoer et al., 1995](https://www.ncbi.nlm.nih.gov/pubmed/7616760), . Unlike other labels as BrdU+ that mark cells which enter the S phase of the cell cycl, Ki-67 mark all cells that enter the cell cycle from G1 stage onward (not including G0 stage).\n",
    "\n",
    "We use measurements of cell cycle length of macrophages to translate the labeling index of Ki-67 measurements to terms of cellular turnover.\n",
    "Macrophage cell cycle measured in mice in: [Askew et al., 2017](https://www.cell.com/cell-reports/fulltext/S2211-1247(16)31746-6), [Kueh et al., 2013](https://www.ncbi.nlm.nih.gov/pubmed/23868921). It seems that the cell cycle is long for this type of cells in comparison to other human cells. However the uncertainty is not small \n",
    "\n",
    "The turnover rate is given by the cell cycle length ($T_{c}$) divided bt the labeling index $LI$, or the formula: $rate = \\frac{T_{c}}{LI}$\n",
    "\n",
    "We use measurement of BrdU+ labeling of lungs alveolar and interestitial macrophages from [Cai et al., 2014](https://www.jimmunol.org/content/192/6/2821.long) to sanity check our estimates."
   ]
  },
  {
   "cell_type": "code",
   "execution_count": 6,
   "metadata": {},
   "outputs": [
    {
     "name": "stdout",
     "output_type": "stream",
     "text": [
      "Lifespan of alveolar macrophages is: 165 days (SD range: 96 - 280 days)\n",
      "Rhesus macaque mean lungs macrophages lifespn: 104\n"
     ]
    }
   ],
   "source": [
    "mac_to_data = pd.read_excel('Lung_cells_data.xlsx','Macrophages_turnover', index_col=0, usecols=range(8))\n",
    "\n",
    "mac_Tc =  mac_to_data[['value','SD','N']].iloc[:3]\n",
    "\n",
    "#translating the values to log space and propogating the error there\n",
    "#the value is given for 95% confidence interval, hence divided by 1.96 it gives the SD\n",
    "#the intra error is derived from the SD of each of the sources\n",
    "Tc_log_er = np.log10(mac_Tc['SD'])/1.96/np.sqrt(mac_Tc['N'])\n",
    "# the intra error is the mean of all the SEM of values \n",
    "Tc_intra_error = Tc_log_er.mean()\n",
    "# Tc_intra_error = np.sqrt((Tc_log_er*Tc_log_er).sum())\n",
    "\n",
    "#the inter error is derived from the variance of the values of the various sources\n",
    "Tc_inter_error = np.log10(mac_Tc['value']).std()/np.sqrt(mac_Tc['value'].size)\n",
    "\n",
    "\n",
    "#propofation of the error in the log space as we consider them as lognormal variables\n",
    "mac_Tc_unc = 10**(np.sqrt(Tc_inter_error**2+Tc_intra_error**2))\n",
    "mac_Tc_mean = gmean(mac_Tc['value'])\n",
    "\n",
    "\n",
    "'''\n",
    "Labeling index:\n",
    "To calculate the mean and its uncertainty we: \n",
    "1. take the geometric mean of the two method as the ref value\n",
    "2. We compute the intra method uncertainty using a utility function we define to estimate a linear uncertainty (of an uarray) by a multiplication factor\n",
    "3. We use a log10 to translate the error into trems of linear error in logspace (as logX is a normal variable)\n",
    "4. We use the SEM of the inter-estimates by computing the STD of the log values and divid by sqrt(2)\n",
    "5. We combine the two types of error: intra/inter-estimate in the logspace using euclidean error propogation \n",
    "6. We take the 10th power of the error in the logspace as the multiplication uncertainty error for the reference values\n",
    "'''\n",
    "\n",
    "#choosing only the relevant lines of the data\n",
    "LIs = mac_to_data[['value','SEM']][ mac_to_data.index == 'alveolar macrophages Ki-67 LI']\n",
    "\n",
    "#using the geometrical mean as the reference value\n",
    "mac_LI = gmean(LIs['value'])\n",
    "\n",
    "#using the uarr_to_mulfac function we defined to estimate a linear error term using a multiplication factor, it's input is a unumpy uarray\n",
    "LI_log_er = np.log10(uarr_to_mulfac(unumpy.uarray(LIs['value'],LIs['SEM'])))\n",
    "# the intra error is the mean of all the SEM of values \n",
    "LI_intra_error = LI_log_er.mean()\n",
    "\n",
    "#the inter error is derived from the variance of the mean values \n",
    "LI_inter_error = np.log10(LIs['value']).std()/np.sqrt(LIs['value'].size)\n",
    "#combining the two terms of error\n",
    "mac_LI_unc = 10**(np.sqrt(LI_intra_error**2+LI_inter_error**2))\n",
    "\n",
    "\n",
    "'''\n",
    "using the labeling index combined with the cell cycle length to estimate the lifespan:\n",
    "the uncertainty is propogated using the 'FacMulProp' utility function \n",
    "'''\n",
    "\n",
    "mac_lifespan =mac_Tc_mean/24/mac_LI #converting from hours to days\n",
    "mac_lifespan_unc = propagate_mul_facs([mac_LI_unc,mac_Tc_unc])\n",
    "\n",
    "lungs.res.loc['alveolar macrophages','lifespan'] = mac_lifespan,mac_lifespan_unc.round(2)\n",
    "# print(lungs.formats)\n",
    "lungs.print_params('lifespan','alveolar macrophages')\n",
    "\n",
    "\n",
    "'''\n",
    "using BrdU measurements from rhesus macaque as a sanity check\n",
    "two population Im with very short turnover and AM with long turnover\n",
    "'''\n",
    "RM_mac = pd.DataFrame(index = ['AM','IM'], columns = ['proportion','labeled after 2 days'])\n",
    "\n",
    "RM_mac['proportion'] = mac_to_data.loc[['AM % out of lung macrophages','IM % out of lung macrophages'],'value'].values\n",
    "RM_mac['labeled after 2 days'] = mac_to_data.loc[['BrdU+ labeled AM after 2 days','BrdU+ labeled IM after 2 days'],'value'].values\n",
    "\n",
    "RM_mac_mean_lifespan = np.sum(RM_mac['proportion']*2/RM_mac['labeled after 2 days'])\n",
    "print('Rhesus macaque mean lungs macrophages lifespn: {:0.0f}'.format(RM_mac_mean_lifespan))"
   ]
  },
  {
   "cell_type": "markdown",
   "metadata": {},
   "source": [
    "The value for Rhesus macaque is in the range of our estimate for human."
   ]
  },
  {
   "cell_type": "markdown",
   "metadata": {},
   "source": [
    "### Bronchial epithelial cells turnover\n",
    "\n",
    "We estimate the lifespan of bronchial epithelial turnover on the basis of proliferation index measurements of cells taken from biopsies, using MIB-1 label for Ki-67. This index indicates the percentage of cells that are in cell cycle\n",
    "[Boers et al., 1996](https://www.ncbi.nlm.nih.gov/pubmed/8810616), [Boers et al., 1998](https://www.ncbi.nlm.nih.gov/pubmed/9620938),\n",
    "[Boers et al., 1999](https://www.atsjournals.org/doi/full/10.1164/ajrccm.159.5.9806044) . Unlike other labels as BrdU+ that mark cells which enter the S phase of the cell cycl, Ki-67 mark all cells that enter the cell cycle from G1 stage onward (not including G0 stage).\n",
    "\n",
    "We don't have direct measurements of cell cycle length of bronchial epithelial cell lenght, so we look at the general case of human cell cycle time ([Baserga ,1985](https://bionumbers.hms.harvard.edu/bionumber.aspx?id=108549&ver=3&trm=cell+cycle&org=), [Hahn et al., 2009](https://www.ncbi.nlm.nih.gov/pubmed/19270522) ) to translate the labeling index of Ki-67 measurements to terms of cellular turnover.\n",
    "\n",
    "The turnover rate is given by the cell cycle length ($T_{c}$) divided bt the labeling index $LI$, or the formula: $rate = \\frac{T_{c}}{LI}$\n"
   ]
  },
  {
   "cell_type": "code",
   "execution_count": 10,
   "metadata": {},
   "outputs": [
    {
     "data": {
      "image/png": "[encoded data removed]",
      "text/plain": [
       "<Figure size 432x288 with 1 Axes>"
      ]
     },
     "metadata": {
      "needs_background": "light"
     },
     "output_type": "display_data"
    },
    {
     "name": "stdout",
     "output_type": "stream",
     "text": [
      "Boxplot representing the distribution of cell cycle times\n",
      "The main body of the boxplot showing the quartiles (25%-75%) and the median (green horizontal line)\n",
      "The vertical lines extending to the most extreme, non-outlier data points\n",
      "Lifespan of bronchial epithelial cells is: 139 days (SD range: 108 - 180 days)\n"
     ]
    }
   ],
   "source": [
    "#loading the labeling index data\n",
    "bronc_LI_data = pd.read_excel('Lung_cells_data.xlsx','Bronchi_turnover', index_col=0, usecols=range(7))\n",
    "\n",
    "#As the uncertainty is small in comparison to the value themselves we use the uncertainty package to propogate the errors\n",
    "#the total uncertainti is the euclidean sum of the inter and intra errors.\n",
    "bronc_LI = ufloat(bronc_LI_data['bronchi epithel LI'].mean(),bronc_LI_data['SEM'].mean())+ ufloat(0,bronc_LI_data['bronchi epithel LI'].std()/np.sqrt(bronc_LI_data['bronchi epithel LI'].size))\n",
    "\n",
    "#transfering the value from linear uncertainty to multiplication fator\n",
    "bronc_LI_unc = ufloat_to_mulfac(bronc_LI )\n",
    "bronc_LI=bronc_LI.nominal_value\n",
    "\n",
    "#loading the cell cycles time data\n",
    "cell_cycle_data = pd.read_excel('Lung_cells_data.xlsx','Cell_cycle_times', index_col=0, usecols=range(7))\n",
    "\n",
    "cycles = cell_cycle_data[['in vivo/vitro','TC']].boxplot(by = 'in vivo/vitro', figsize= (6,4))\n",
    "# set your own proper title\n",
    "plt.title('Boxplot of cell cycle time')\n",
    "# get rid of the automatic 'Boxplot grouped by group_by_column_name' title\n",
    "plt.suptitle('')\n",
    "plt.ylabel('Cell cycle time [h]')\n",
    "plt.show()\n",
    "print('Boxplot representing the distribution of cell cycle times')\n",
    "print('The main body of the boxplot showing the quartiles (25%-75%) and the median (green horizontal line)')\n",
    "print('The vertical lines extending to the most extreme, non-outlier data points')\n",
    "\n",
    "#deifing a function for extracting the standard error of the relevant data\n",
    "geo_sem = lambda x: 10**(np.log10(x).std()/np.sqrt(x.size))\n",
    " \n",
    "cycles = cell_cycle_data[['in vivo/vitro','TC']].groupby('in vivo/vitro').agg(gmean)\n",
    "cycles['SEM'] = cell_cycle_data[['in vivo/vitro','TC']].groupby('in vivo/vitro').agg(geo_sem)\n",
    "\n",
    "\n",
    "'''\n",
    "we want to use the cell cycle of cells in vivo, but we want to tale in acount that there is data just on limited number of tissues.\n",
    "in order to do that we combine the uncertainty with that of the in vitro cells:\n",
    "1. We use a log10 to translate the error into trems of linear error in logspace (as logX is a normal variable)\n",
    "2. We use the SEM of the inter-estimates by computing the STD of the log values and divid by sqrt(2)\n",
    "3. We combine the two types of error: intra/inter-estimate in the logspace using euclidean error propogation \n",
    "4. We take the 10th power of the error in the logspace as the multiplication uncertainty error for the reference values\n",
    "'''\n",
    "\n",
    "#\n",
    "#using the Uarr2MulF function we defined to estimate a linear error term using a multiplication factor, it's input is a unumpy uarray\n",
    "Tc_log_er = np.log10(cycles['SEM'])\n",
    "# the intra error is the mean of all the SEM of values \n",
    "Tc_intra_error = Tc_log_er.mean()\n",
    "\n",
    "#the inter error is derived from the variance of the mean values \n",
    "Tc_inter_error = np.log10(cycles['TC']).std()/np.sqrt(cycles['TC'].size)\n",
    "#combining the two terms of error\n",
    "bronc_Tc_unc = 10**(np.sqrt(Tc_inter_error**2+Tc_intra_error**2))\n",
    "bronc_Tc = cycles.loc['in vivo','TC']\n",
    "\n",
    "'''\n",
    "using the labeling index combined with the cell cycle length to estimate the lifespan:\n",
    "the uncertainty is propogated using the 'FacMulProp' utility function \n",
    "'''\n",
    "\n",
    "bronc_lifespan =bronc_Tc/24/bronc_LI #converting from hours to days\n",
    "bronc_lifespan_unc = propagate_mul_facs([bronc_Tc_unc,bronc_LI_unc])\n",
    "\n",
    "lungs.res.loc['bronchial epithelial cells',\n",
    "              'lifespan'] = bronc_lifespan,bronc_lifespan_unc.round(2)\n",
    "lungs.print_params('lifespan','bronchial epithelial cells')\n"
   ]
  },
  {
   "cell_type": "markdown",
   "metadata": {},
   "source": [
    "### Alveolar epithelium and Interstitial cells turnover\n",
    "As we could't find any source that measured the cellular turnover or lifespan of these cells in human, we use sources for the lifespan in mice ([Shorter et al., 1964](https://www.ncbi.nlm.nih.gov/pubmed/14148147), [Bowden, 1983](https://www.ncbi.nlm.nih.gov/pubmed/6881708), [Seyed-Razavi et al., 2013](https://www.ncbi.nlm.nih.gov/pubmed/24014685)) and use it only to extrapolate an upper bound for the turnover in human tissue"
   ]
  },
  {
   "cell_type": "code",
   "execution_count": 11,
   "metadata": {},
   "outputs": [
    {
     "name": "stdout",
     "output_type": "stream",
     "text": [
      "Lifespan in rodents of alveolar epithelial cells is: 32 days (SD range: 28 - 35 days)\n",
      "Lifespan in rodents of lung interstitial cells is: 44 days (SD range: 23 - 84 days)\n"
     ]
    }
   ],
   "source": [
    "mice_to_data = pd.read_excel('Lung_cells_data.xlsx','Mice_turnover', index_col=0, usecols=range(5), skipfooter=1)\n",
    "\n",
    "# %run Mouse_comparison.ipynb\n",
    "\n",
    "mice_to_data['mul unc'] = uarr_to_mulfac(unumpy.uarray(mice_to_data['lifespan [d]'],mice_to_data['SD']))\n",
    "mice_to_data['ref lifespan + un'] = list(zip(mice_to_data['lifespan [d]']\n",
    "                                             ,mice_to_data['mul unc']))\n",
    "\n",
    "lungs.res['lifespan in rodents'] = mice_to_data['ref lifespan + un'] \n",
    "lungs.res['lifespan in rodents'] = lungs.res['lifespan in rodents'].apply(lambda y: (np.nan,np.nan) if y is np.nan else y)\n",
    "lungs.print_params('lifespan in rodents')\n"
   ]
  },
  {
   "cell_type": "markdown",
   "metadata": {},
   "source": [
    "## Cellular and cellular mass turnover rates\n",
    "Using the lifespan, mass and number of cells we can estimate the cellular turnvoer and cellular mass turnover rates of the different cells and also extrapolate an upper bound from rodent data were human data is missing:"
   ]
  },
  {
   "cell_type": "code",
   "execution_count": 12,
   "metadata": {},
   "outputs": [
    {
     "name": "stdout",
     "output_type": "stream",
     "text": [
      "\u001b[1malveolar epithelial cells:\u001b[0m\n",
      "Extrapolated cellular turnover rate of alveolar epithelial cells is: 4e+09 cells per day (SD range: 3e+09 - 4e+09 cells per day)\n",
      "Extrapolated cellular mass turnover rate of alveolar epithelial cells is: 8 grams per day (SD range: 6 - 10 grams per day)\n",
      "______________________________\n",
      "\u001b[1malveolar macrophages:\u001b[0m\n",
      "Cellular turnover rate of alveolar macrophages is: 2e+08 cells per day (SD range: 1e+08 - 3e+08 cells per day)\n",
      "Cellular mass turnover rate of alveolar macrophages is: 0.4 grams per day (SD range: 0.2 - 0.7 grams per day)\n",
      "______________________________\n",
      "\u001b[1mbronchial epithelial cells:\u001b[0m\n",
      "Cellular turnover rate of bronchial epithelial cells is: 8e+07 cells per day (SD range: 6e+07 - 1e+08 cells per day)\n",
      "Cellular mass turnover rate of bronchial epithelial cells is: 0.07 grams per day (SD range: 0.05 - 0.09 grams per day)\n",
      "______________________________\n",
      "\u001b[1mlung interstitial cells:\u001b[0m\n",
      "Extrapolated cellular turnover rate of lung interstitial cells is: 3e+09 cells per day (SD range: 2e+09 - 6e+09 cells per day)\n",
      "Extrapolated cellular mass turnover rate of lung interstitial cells is: 2.3 grams per day (SD range: 1.2 - 4.5 grams per day)\n"
     ]
    }
   ],
   "source": [
    "#using the methods to extract only either the values or the uncertainties \n",
    "cell_turnover = lungs.get_param_vals('number')/lungs.get_param_vals('lifespan')\n",
    "cell_turnover_unc = propagate_mul_facs([lungs.get_param_unc('number'),\n",
    "                                        lungs.get_param_unc('lifespan')]).round(2)\n",
    "# using list(zip()) to get the two vectors into a list of tuples that we can put in the DataFrame\n",
    "lungs.res['cellular turnover rate'] = list(zip(cell_turnover,cell_turnover_unc))\n",
    "\n",
    "cell_mass_turnover = lungs.get_param_vals('total cellular mass')/lungs.get_param_vals('lifespan')\n",
    "cell_mass_turnover_unc = propagate_mul_facs([lungs.get_param_unc('total cellular mass'),\n",
    "                                             lungs.get_param_unc('lifespan')]).round(2)\n",
    "lungs.res['cellular mass turnover rate'] = list(zip(cell_mass_turnover,cell_mass_turnover_unc))\n",
    "\n",
    "ext_cell_turnover = lungs.get_param_vals('number')/lungs.get_param_vals('lifespan in rodents')\n",
    "ext_cell_turnover_unc = propagate_mul_facs([lungs.get_param_unc('number'),\n",
    "                                            lungs.get_param_unc('lifespan in rodents')]).round(2)\n",
    "lungs.res['extrapolated cellular turnover rate'] = list(zip(ext_cell_turnover,ext_cell_turnover_unc))\n",
    "\n",
    "\n",
    "ext_cell_mass_turnover = lungs.get_param_vals('total cellular mass')/lungs.get_param_vals('lifespan in rodents')\n",
    "ext_cell_mass_turnover_unc = propagate_mul_facs([lungs.get_param_unc('total cellular mass'),\n",
    "                                                 lungs.get_param_unc('lifespan in rodents')]).round(2)\n",
    "lungs.res['extrapolated cellular mass turnover rate'] = list(zip(ext_cell_mass_turnover, ext_cell_mass_turnover_unc))\n",
    "\n",
    "lungs.print_params(['cellular turnover rate', 'cellular mass turnover rate',\n",
    "                    'extrapolated cellular turnover rate','extrapolated cellular mass turnover rate'])\n"
   ]
  },
  {
   "cell_type": "markdown",
   "metadata": {},
   "source": [
    "## Saving the results to excell"
   ]
  },
  {
   "cell_type": "code",
   "execution_count": 13,
   "metadata": {},
   "outputs": [],
   "source": [
    "lungs.export_to_excel('Summary.xlsx')"
   ]
  }
 ],
 "metadata": {
  "kernelspec": {
   "display_name": "Python 3",
   "language": "python",
   "name": "python3"
  },
  "language_info": {
   "codemirror_mode": {
    "name": "ipython",
    "version": 3
   },
   "file_extension": ".py",
   "mimetype": "text/x-python",
   "name": "python",
   "nbconvert_exporter": "python",
   "pygments_lexer": "ipython3",
   "version": "3.7.3"
  }
 },
 "nbformat": 4,
 "nbformat_minor": 2
}
