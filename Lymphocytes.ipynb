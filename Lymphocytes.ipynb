{
 "cells": [
  {
   "cell_type": "code",
   "execution_count": 1,
   "metadata": {},
   "outputs": [],
   "source": [
    "# loading all the dependencies\n",
    "import pandas as pd\n",
    "import numpy as np\n",
    "import uncertainties as uc\n",
    "\n",
    "pd.options.display.float_format ='{:,.3f}'.format\n",
    "import matplotlib.pyplot as plt\n",
    "%matplotlib inline  \n",
    "from IPython.display import Image\n",
    "from IPython.core.display import HTML \n",
    "\n",
    "from openpyxl import load_workbook\n",
    "\n",
    "from scipy import integrate\n",
    "import scipy.stats as stats\n",
    "from uncertainties import ufloat\n",
    "from uncertainties import unumpy\n",
    "from itertools import groupby\n",
    "\n",
    "from scipy.stats import gmean\n",
    "\n",
    "%run Utility_Functions.ipynb"
   ]
  },
  {
   "cell_type": "markdown",
   "metadata": {},
   "source": [
    "## Methods and Statistics\n",
    "Ranges and values with ± are given as 1 standard error of the values.\n",
    "\n",
    "Ranges in cases of large uncertainty are not necessarily symmetrical.\n",
    "\n",
    "Boxplot showing the quartiles (25%-75%) and the median (orange horizontal line). In addition the vertical lines extending to the most extreme, non-outlier data points"
   ]
  },
  {
   "cell_type": "markdown",
   "metadata": {},
   "source": [
    "# Lympocytes \n",
    "Lymphocytes are white blood cells that serve a major part in the adaptive immune system. \n",
    "They include natural killer cells (which function in cell-mediated, cytotoxic innate immunity), T cells (for cell-mediated, cytotoxic adaptive immunity), and B cells (for humoral, antibody-driven adaptive immunity).\n",
    "\n"
   ]
  },
  {
   "cell_type": "code",
   "execution_count": 2,
   "metadata": {},
   "outputs": [],
   "source": [
    "#initiating a CellTypeResDF object to save results and print them:\n",
    "lym = CellTypesResDF(['Thymocytes', 'Mature T cells','B cells progenitors',\n",
    "                      'Transitional B cells', 'Mature B cells'],un_type='mul')   "
   ]
  },
  {
   "cell_type": "markdown",
   "metadata": {},
   "source": [
    "\n",
    "## Lymphocytes numbers and distribution\n",
    "Over the years there were few attempt to estimate the number and distribution of the lymphocytes in the human body.\n",
    "The dominant sources regarding the number and spatial distribution of lymphocytes in the human is [Trepel, 1974](https://link.springer.com/article/10.1007/BF01468720) who based his estimates mainly on extrapolation from cell density measured in  rats (arrived at a total of about 0.5 trillion cells).\n",
    "Over the years his estimates served as a base for most of the research. However, a research on monkeys by [Di Mascio et al., 2009](http://www.bloodjournal.org/content/114/2/328) demonstrated that larger lymphocytes densities could be found in the spleen and other organs, leading to an updated estimate of 1.9-2.9 trillion cells.  \n",
    "As both sources based on non-human to derive their estimates, we choose to refer to the average of those estimates, and include a large range for errors.\n",
    "\n",
    "The distribution of T cells, B cells and Natural Killer (NK) cells is taken from research done on humans [Westermann and Pabst, 1992](https://www.ncbi.nlm.nih.gov/pubmed/1392422). Data regarding the lymphocyte population distribution of different tissues was integrated with data regarding their overall numbers (from  [Trepel, 1974](https://link.springer.com/article/10.1007/BF01468720)) according to a method that was used in [Apostoaei and Trabalka, 2010](https://www.cdc.gov/niosh/docket/archive/pdfs/NIOSH-209/0209-010510-cllDoseReconstruction.pdf)   "
   ]
  },
  {
   "cell_type": "code",
   "execution_count": 3,
   "metadata": {},
   "outputs": [
    {
     "data": {
      "text/html": [
       "<div>\n",
       "<style scoped>\n",
       "    .dataframe tbody tr th:only-of-type {\n",
       "        vertical-align: middle;\n",
       "    }\n",
       "\n",
       "    .dataframe tbody tr th {\n",
       "        vertical-align: top;\n",
       "    }\n",
       "\n",
       "    .dataframe thead th {\n",
       "        text-align: right;\n",
       "    }\n",
       "</style>\n",
       "<table border=\"1\" class=\"dataframe\">\n",
       "  <thead>\n",
       "    <tr style=\"text-align: right;\">\n",
       "      <th></th>\n",
       "      <th>proportion</th>\n",
       "      <th>prop. unc</th>\n",
       "      <th>number of cells</th>\n",
       "      <th>cell num unc.</th>\n",
       "    </tr>\n",
       "  </thead>\n",
       "  <tbody>\n",
       "    <tr>\n",
       "      <th>T cells</th>\n",
       "      <td>0.650</td>\n",
       "      <td>1.080</td>\n",
       "      <td>712,039,324,756.714</td>\n",
       "      <td>2.198</td>\n",
       "    </tr>\n",
       "    <tr>\n",
       "      <th>B cells</th>\n",
       "      <td>0.300</td>\n",
       "      <td>1.183</td>\n",
       "      <td>328,633,534,503.099</td>\n",
       "      <td>2.229</td>\n",
       "    </tr>\n",
       "    <tr>\n",
       "      <th>NK cells</th>\n",
       "      <td>0.050</td>\n",
       "      <td>2.000</td>\n",
       "      <td>54,772,255,750.517</td>\n",
       "      <td>2.847</td>\n",
       "    </tr>\n",
       "  </tbody>\n",
       "</table>\n",
       "</div>"
      ],
      "text/plain": [
       "          proportion  prop. unc     number of cells  cell num unc.\n",
       "T cells        0.650      1.080 712,039,324,756.714          2.198\n",
       "B cells        0.300      1.183 328,633,534,503.099          2.229\n",
       "NK cells       0.050      2.000  54,772,255,750.517          2.847"
      ]
     },
     "execution_count": 3,
     "metadata": {},
     "output_type": "execute_result"
    }
   ],
   "source": [
    "total_lymph_data = pd.read_excel('Lymphocytes_data.xlsx','Total_lymph_data',usecols = range(0,5))\n",
    "total_lymph_data.head()\n",
    "\n",
    "#using gmean_with_errors to extract the geometrical mean and its error as a multplication factor\n",
    "# using conversion to lognormal space\n",
    "lymp_num, lymp_num_unc = gmean_with_errors(total_lymph_data['value'][total_lymph_data['parameter']=='total lymphocytes'])\n",
    "    \n",
    "lymp_dist =pd.DataFrame(total_lymph_data[['value','SD']][total_lymph_data['parameter']!='total lymphocytes'].values,index = ['T cells','B cells','NK cells'],columns=['proportion','prop. unc'])\n",
    "\n",
    "# using uarr_to_mulfac utlity function to move from additive error to multiplication factor\n",
    "lymp_dist['prop. unc'] = uarr_to_mulfac(unumpy.uarray(lymp_dist['proportion'] ,lymp_dist['prop. unc'] ))   \n",
    "    \n",
    "lymp_dist['number of cells'] = lymp_dist['proportion']*lymp_num\n",
    "\n",
    "#using the 'propagate_mul_facs' utility function defined in the designated notebook to propogate the uncertiatny given as  multiplication factor\n",
    "lymp_dist['cell num unc.'] = propagate_mul_facs([lymp_dist['prop. unc'].values,lymp_num_unc])\n",
    "\n",
    "lym.res.loc['Mature T cells','number'] = tuple([lymp_dist.loc['T cells','number of cells'],\n",
    "                                                round(lymp_dist.loc['T cells','cell num unc.'],1)])\n",
    "lymp_dist.head()"
   ]
  },
  {
   "cell_type": "markdown",
   "metadata": {},
   "source": [
    "## T cells production\n",
    "T cells production is composed of two main parts: \n",
    "1. Proliferation of mature cells (Naive/Memory)\n",
    "2. Production of young cells in the Thymus\n",
    "From the literature it seems that the major factor is the proliferation of mature cells, and that thymic production is less important in human. Furthermore, the tyhmic production is decreased with age as shown in the dedicated part. \n",
    "\n"
   ]
  },
  {
   "cell_type": "markdown",
   "metadata": {},
   "source": [
    "### Mature T cells proliferation\n",
    "\n",
    "As mentioned, this is the major factor in the production of T cells. \n",
    "To estimated the lifepsan of mature T cells, and their proliferaton we use data gathered in several sources, that measured the death and proliferation of T cells using lableling with 2H in glucose or water. These expermints usually measures the level of labels over period of several weeks. Because this is only small fraction of the total lifespan of naive T cells (as we show), there is still relative big uncertainty regarding their lifespan.\n",
    "\n",
    "We based our analysis on the sourcres selected in the reveiw by [Borghans et al.,2018](https://www.ncbi.nlm.nih.gov/pubmed/30129193). Their inclusion critreria related to the labeling technique and length of the experiments.\n"
   ]
  },
  {
   "cell_type": "code",
   "execution_count": 6,
   "metadata": {},
   "outputs": [
    {
     "name": "stdout",
     "output_type": "stream",
     "text": [
      "Boxplot representing the distribution of proliferation rates of T cells\n",
      "The main body of the boxplot showing the quartiles (25%-75%) and the median (green horizontal line)\n",
      "The vertical lines extending to the most extreme, non-outlier data points\n"
     ]
    },
    {
     "data": {
      "image/png": "[encoded data removed]",
      "text/plain": [
       "<Figure size 720x360 with 1 Axes>"
      ]
     },
     "metadata": {
      "needs_background": "light"
     },
     "output_type": "display_data"
    }
   ],
   "source": [
    "proliferation_data = pd.read_excel('Lymphocytes_data.xlsx','T_cells_proliferation',usecols = range(0,10))\n",
    "\n",
    "#show the data in bloxplot \n",
    "prol2plot =  pd.DataFrame() \n",
    "prol2plot.loc[:,'cells']= proliferation_data.loc[:,'cells']\n",
    "prol2plot.loc[:,'proliferation rate']= proliferation_data.loc[:,'proliferation rate (% per day) median']\n",
    "prol2plot.boxplot(by='cells',figsize= (10,5))\n",
    "plt.ylabel('rate of proliferation [1/d]')\n",
    "\n",
    "\n",
    "# defining a function to extract the standard deviation of a log normal distribution. Given as a multiplication factor\n",
    "geo_std = lambda x: 10**(np.log10(x).std()/np.sqrt(x.size))\n",
    " \n",
    "prol_sum = pd.DataFrame(prol2plot.groupby(['cells']).agg(gmean), columns=['proliferation rate'])\n",
    "prol_sum['prol unc.'] = prol2plot.groupby(['cells']).agg(geo_std)\n",
    "\n",
    "prol_sum['lifespan'] = 1/prol_sum['proliferation rate']\n",
    "prol_sum['lifespan unc.'] = prol_sum['prol unc.'] \n",
    "\n",
    "prol_sum.head()\n",
    "\n",
    "print('Boxplot representing the distribution of proliferation rates of T cells')\n",
    "print('The main body of the boxplot showing the quartiles (25%-75%) and the median (green horizontal line)')\n",
    "print('The vertical lines extending to the most extreme, non-outlier data points')"
   ]
  },
  {
   "cell_type": "markdown",
   "metadata": {},
   "source": [
    "Combining the proliferation data with data regarding the disbribution of the various mature T cells subpopulations "
   ]
  },
  {
   "cell_type": "code",
   "execution_count": 7,
   "metadata": {},
   "outputs": [
    {
     "name": "stdout",
     "output_type": "stream",
     "text": [
      "Number of Mature T cells is: 7e+11 cells (SD range: 3e+11 - 2e+12 cells)\n",
      "Cellular turnover rate of Mature T cells is: 2e+09 cells per day (SD range: 1e+09 - 5e+09 cells per day)\n",
      "Lifespan of Mature T cells is: 320 days (SD range: 240 - 440 days)\n"
     ]
    }
   ],
   "source": [
    "cells_subpop = pd.read_excel('Lymphocytes_data.xlsx','T_Cell_Distribution',usecols = range(0,7))\n",
    "\n",
    "#the data contain 2 rows that regard the total percentage of CD4+/CD8+ out of T cells and data regarding the distribution of \n",
    "#each subpoplation to different segments.\n",
    "#here we seperate the two types of data so it can be integrated by merge.\n",
    "primary_pop = cells_subpop.iloc[:2, :].rename(columns={\"%\": \"4+/8+ % of Tcells\",\"SD\": \"4+/8+ % SD\"}).drop(columns=['subpopulation', 'Cells', 'markers','comment'])\n",
    "minor_pop = cells_subpop.iloc[2:, ]\n",
    "\n",
    "#merging the two types of data to calculate the overall part of different subpopulation out of the total T cell population\n",
    "minor_pop = minor_pop.merge(primary_pop, how='left', on='population')\n",
    "minor_pop['% T cells'] = unumpy.uarray(minor_pop['4+/8+ % of Tcells'],\n",
    "                                       minor_pop['4+/8+ % SD'])*unumpy.uarray(minor_pop['%'],minor_pop['SD'])\n",
    "\n",
    "T_subpop = minor_pop[['subpopulation','% T cells']].groupby(['subpopulation']).sum()\n",
    "\n",
    "#we don't take in account the small population of gamam-delta, double positive/negative, Treg and more. \n",
    "#we normalize the distribution to get to 100% (to cancel possible biases)\n",
    "T_subpop['% T cells']=T_subpop['% T cells']/T_subpop['% T cells'].sum()\n",
    "\n",
    "#up until now we've taken in acount linear terms of error. We now translate them to multiplication factor for further error propagation \n",
    "T_subpop['% T cells unc.'] = uarr_to_mulfac(T_subpop['% T cells'])\n",
    "    \n",
    "T_subpop['% T cells'] = unumpy.nominal_values(T_subpop['% T cells'])\n",
    "    \n",
    "\n",
    "# combining the data regarding the distribution and the proliferation rates\n",
    "T_subpop = T_subpop.merge(prol_sum,left_index=True,right_index=True )\n",
    "\n",
    "\n",
    "#combining the data regarding the distribution of subpopulations and the overall numbers to get estiamtes for the number of each group\n",
    "T_subpop['num of cells'] = T_subpop['% T cells']*lymp_dist.loc['T cells','number of cells']\n",
    "#using the 'propagate_mul_facs' utility function defined in the designated notebook to propogate the uncertiatny given as  multiplication factor\n",
    "T_subpop['cell num unc.'] = propagate_mul_facs([T_subpop['% T cells unc.'],lymp_dist.loc['T cells','cell num unc.']]) \n",
    "\n",
    "#multiplying the number estimates by the proliferation rates to get the total cellular production\n",
    "T_subpop['cellular production'] = T_subpop['num of cells']*T_subpop['proliferation rate']\n",
    "#using the 'propagate_mul_facs' utility function defined in the designated notebook to propogate the uncertiatny given as  multiplication factor\n",
    "T_subpop['cellular production unc.'] = propagate_mul_facs([T_subpop['cell num unc.'],T_subpop['prol unc.']])\n",
    "\n",
    "#as the uncertianty factor is very close for each of the subpopulations, and the dominamnt population is this of CD+4 Memory we use its unc. factor\n",
    "total_T_production = T_subpop['cellular production'].sum()\n",
    "total_T_production_unc = T_subpop.loc['CD4+Memory','cellular production unc.']\n",
    "\n",
    "#saving the results to the results object\n",
    "lym.res.loc['Mature T cells','cellular turnover rate'] = total_T_production, total_T_production_unc \n",
    "\n",
    "#deriving the mean lifespan from the overall production and numbers\n",
    "#but the uncertainty is in the order of magnitude of the uncertainty of the lifespan of individual subpopulations\n",
    "# we take the max of their uncertainty and not the propogation of the error of cellular production as there is a large depended factor \n",
    "#owning to the large uncertianty in the number of total T cell\n",
    "\n",
    "T_mean_lifespan = lymp_dist.loc['T cells','number of cells']/total_T_production \n",
    "T_mean_lifespan_unc = T_subpop['lifespan unc.'].max()\n",
    "\n",
    "#saving the results to the results object and using it to print \n",
    "lym.res.loc['Mature T cells','lifespan'] = T_mean_lifespan,T_mean_lifespan_unc \n",
    "lym.print_params(['number','cellular turnover rate','lifespan'],'Mature T cells')\n",
    "\n"
   ]
  },
  {
   "cell_type": "markdown",
   "metadata": {},
   "source": [
    "\n"
   ]
  },
  {
   "cell_type": "markdown",
   "metadata": {},
   "source": [
    "### Production of T cells in the Thymus\n",
    "The thymus has a major contribution to production of cells in the first years of life but it is degrading with age, as the thymus shrinks in a process called \"thymic involution\" (unlike human, in mice the thymic contribution remains dominant throughout their lifespan)\n",
    "\n",
    "Thymocytes inside the Thymus undergo a rapid process of selection from which only few percents survive. \n",
    "\n",
    "We use measurments of thymic output taken from humans [den Braber et al., 2012](https://www.ncbi.nlm.nih.gov/pubmed/22365666) and combine it with estimate for the number of cells in the thymus and their survivability to estimate the death rate of the thymocytes.\n"
   ]
  },
  {
   "cell_type": "markdown",
   "metadata": {},
   "source": [
    "The number of cell in the Thymus was estimated based on three methods :\n",
    "1. [Trepel, 1974](https://link.springer.com/article/10.1007/BF01468720) - give an estimate for the total number of lymphocytes inside the Thymus (extrapolating from data regarding rats).\n",
    "2. [Marušić et al., 1998](https://www.ncbi.nlm.nih.gov/pmc/articles/PMC1904903/) measured the density of thymocytes per gram. We multiply it by the mass of the Thymus (of adults), taken from [Snyder et al., 1975](http://www.icrp.org/publication.asp?id=ICRP%20Publication%2023)\n",
    "3. Integration of thymic output taken from humans [den Braber et al., 2012](https://www.ncbi.nlm.nih.gov/pubmed/22365666) and the ratio of between cells output and the total numebr of cells taken from mice ([Thomas-Vaslin et al., 2008](https://www.ncbi.nlm.nih.gov/pubmed/18250431), [Scollay et al., 1986](https://www.ncbi.nlm.nih.gov/pubmed/3525392), [Penit, 1986](https://www.ncbi.nlm.nih.gov/pubmed/3093565), [Egerton et al., 1990](https://www.ncbi.nlm.nih.gov/pubmed/2138780))  \n"
   ]
  },
  {
   "cell_type": "code",
   "execution_count": 8,
   "metadata": {},
   "outputs": [
    {
     "name": "stdout",
     "output_type": "stream",
     "text": [
      "production of mature T cells from thymus: (3.3±0.9)×10⁷ cells per day\n",
      "Number of Thymocytes is: 2e+09 cells (SD range: 5e+08 - 1e+10 cells)\n",
      "Lifespan in rodents of Thymocytes is: 3.8 days (SD range: 1.6 - 8.7 days)\n",
      "Extrapolated cellular turnover rate of Thymocytes is: 6e+08 cells per day (SD range: 1e+08 - 4e+09 cells per day)\n"
     ]
    }
   ],
   "source": [
    "Thymus_data = pd.read_excel('Lymphocytes_data.xlsx','Thymus_data',usecols = range(0,6),index_col=0)\n",
    "\n",
    "Thymus_output = ufloat(Thymus_data.loc['thymic production of CD4+','value'],\n",
    "                       Thymus_data.loc['thymic production of CD4+','SD'])*(1+1/Thymus_data.loc['CD4+/CD8+ ratio in Thymus','value'])\n",
    "\n",
    "exported_thymocytes_perc = Thymus_data['value'][Thymus_data.index =='exported thymocytes as % of total thymocytes'].mean()\n",
    "\n",
    "#we define a serie to contain the different estimate for the number of cells in the thymus \n",
    "Thymus_cells_estimate = pd.Series(index = ['Treprel,1974 based','density based','output based'])\n",
    "\n",
    "Thymus_cells_estimate['output based']=Thymus_output.nominal_value/exported_thymocytes_perc\n",
    "Thymus_cells_estimate['Treprel,1974 based']= Thymus_data.loc['thymus lymphocytes','value']\n",
    "Thymus_cells_estimate['density based']=Thymus_data.loc['thymocytes density','value']*Thymus_data.loc['thymus mass','value']\n",
    "\n",
    "#we take the reference value to be the geometric mean of the different estimates, with its uncertainty derived from the log distribution\n",
    "#the uncertainty is calculated as the SEM (standard error of the mean = SD/sqrt(n))\n",
    "# using the gmean_with_errors utility function\n",
    "lym.res.loc['Thymocytes','number'] = gmean_with_errors(Thymus_cells_estimate)\n",
    "\n",
    "#the death rate equal to the proportion of thymocytes that are dying in relation to the  prodaction rate as % of total thymocytes \n",
    "#we use a simple model taken from [Thomas-Vaslin et al., 2008] - we assume their a constant rate of cells leaving the compartment\n",
    "#large percent of them die and the other part mature and being exported \n",
    "\n",
    "#we use the ratios to get an estimate for the lifespan of thymocytes in *mice*\n",
    "#we then use the connection between lifespan of cells in mouse and in human to derive an extrapolated\n",
    "#turnover estimate as a bound for human\n",
    "mouse_thymocytes_death_rate = Thymus_data.loc['daily production of thymocytes % of total','value']*Thymus_data.loc['thymocytes dying ','value']\n",
    "mouse_thymocytes_lifespan = 1/mouse_thymocytes_death_rate\n",
    "\n",
    "\n",
    "#the uncertainty in the estimate of the lifespan is due to the uncertainty in the estiamte of:\n",
    "# 'production of thymocytes as % of total thymocytes'\n",
    "#we can see that that uncertainty is connected to the uncertiany of the experssion for exported thymocytes as % of total thymocytes\n",
    "# as: (exported thymocytes as % of total thymocytes)*(thymocytes exported)= production of thymocytes as % of total thymocytes\n",
    "#while the uncertainty of 'thymocytes exported' is relativly small\n",
    "\n",
    "expor_thym_data = Thymus_data['value'][Thymus_data.index =='exported thymocytes as % of total thymocytes']\n",
    "exported_thymocytes_perc_unc = 10**(np.log10(expor_thym_data).sem())\n",
    "mouse_thymocytes_lifespan_unc = exported_thymocytes_perc_unc\n",
    "\n",
    "lym.res.loc['Thymocytes','lifespan in rodents'] = mouse_thymocytes_lifespan, mouse_thymocytes_lifespan_unc\n",
    "\n",
    "#using the lifespan in rodent to derive an extrapolated estimate for turnover in human\n",
    "# propagating the error of the log normal variables using the utility function\n",
    "ext_to_rate = lym.res.loc['Thymocytes','number'][0]/mouse_thymocytes_lifespan\n",
    "ext_to_rate_unc = propagate_mul_facs([lym.res.loc['Thymocytes','number'][1],mouse_thymocytes_lifespan_unc])\n",
    "\n",
    "lym.res.loc['Thymocytes','extrapolated cellular turnover rate'] = ext_to_rate, ext_to_rate_unc\n",
    "\n",
    "print('production of mature T cells from thymus: {:0.1eP} cells per day'.format(Thymus_output))\n",
    "lym.print_params(['number','lifespan in rodents','extrapolated cellular turnover rate'],'Thymocytes')\n"
   ]
  },
  {
   "cell_type": "markdown",
   "metadata": {},
   "source": [
    "## B cells production\n",
    "B cells production is composed of three main parts: \n",
    "1. production of transitional B cells from the B cell progenitors in the bone marrow (BM), including pro/pre B cells and immature B cells.\n",
    "2. maturation of transitional B cells in the spleen into naive mature cells\n",
    "3. Proliferation of mature cells (Naive/Memory)\n",
    "\n",
    "\n",
    "During the first two parts there is an excessive lose of cell due to strong selection. \n"
   ]
  },
  {
   "cell_type": "markdown",
   "metadata": {},
   "source": [
    "### Production of B cells from progenitors in the bone marrow\n",
    "Bone marrow cellularity data from [Harrison, 1962](https://www.ncbi.nlm.nih.gov/pmc/articles/PMC480393/), and the distribution of the various bone marrow progenitors was taken from [Agrawal et al., 2013](https://www.ncbi.nlm.nih.gov/pubmed/23731328)\n",
    "\n",
    "The BM pogenitors includes the pro/pre B cell and the immature B cells inside the BM. \n",
    "Pro-B and some of the Pre-B cells are undergo mitosis and thus produce constant flow of new cells that undergo selection. Some of them mature and some die in the process.\n",
    "\n",
    "Using similar model for selection and maturation in the bone marrow as for T cells in the Thymus- there is a constant flow of new cells produced by the mitotic population equal to the constant flow of cells that either die or mature.\n",
    "\n",
    "The death rate is calculated from the proportion of cells that are being lost (die) per day in relation to the total number of progenitors B cells in the bone marrow compartment \n",
    "\n",
    "We use data from mice regarding the turnoevr rate at the different stages, combined with data from human regarding the number cells to get an extrapolated turnover rate that can serve as an upper bound"
   ]
  },
  {
   "cell_type": "code",
   "execution_count": 9,
   "metadata": {},
   "outputs": [],
   "source": [
    "BM_cellularity_data= pd.read_excel('Lymphocytes_data.xlsx','BM_cellularity',usecols = range(0,4),index_col=0)\n",
    "B_prog_data= pd.read_excel('Lymphocytes_data.xlsx','B_progenitors_turnover',usecols = range(0,6),index_col=0)\n"
   ]
  },
  {
   "cell_type": "code",
   "execution_count": 10,
   "metadata": {},
   "outputs": [
    {
     "name": "stdout",
     "output_type": "stream",
     "text": [
      "Number of B cells progenitors is: 6e+09 cells (SD range: 4e+09 - 8e+09 cells)\n",
      "Extrapolated cellular turnover rate of B cells progenitors is: 7e+09 cells per day (SD range: 4e+09 - 1e+10 cells per day)\n",
      "Lifespan in rodents of B cells progenitors is: 0.8 days (SD range: 0.4 - 1.6 days)\n"
     ]
    }
   ],
   "source": [
    "#bone marrow cellularity data taken from Harrison, 1962\n",
    "BM_nuc_cell_per_kg = unumpy.uarray(BM_cellularity_data['value'].iloc[:2],BM_cellularity_data['SD'].iloc[:2]) \n",
    "BM_nuc_cell = BM_nuc_cell_per_kg.mean()*70\n",
    "\n",
    "#lympocytes line percentage out of BM nuclueted cells\n",
    "BM_lymp_perc = BM_cellularity_data.loc['Lymphocyte nuceleated cells','value']*ufloat(BM_cellularity_data.loc['bone marrow B cell proportion','value'],\n",
    "                                                                                     BM_cellularity_data.loc['bone marrow B cell proportion','SD'])\n",
    "\n",
    "total_BM_Bcells = BM_lymp_perc*BM_nuc_cell\n",
    "\n",
    "\n",
    "pre_proB =  total_BM_Bcells*(BM_cellularity_data.loc['Pre-B I /B lymph','value']+BM_cellularity_data.loc['Pre-B II/ B lymph','value'])\n",
    "ImmatureB_num = total_BM_Bcells*BM_cellularity_data.loc['Immature/ B lymph','value']\n",
    "\n",
    "#the difference in definitions of  Pre I and Pre II in from the srouce is not so clear.\n",
    "# we want to now the mitotic portion. We use the data from mice and rats to make up for the missing data\n",
    "\n",
    "mitotic_proportion = ufloat(B_prog_data[['value - rats','value - mice']].loc['mitotic (Pro/large Pre B) poportion'].mean(axis=0),\n",
    "                              B_prog_data[['value - rats','value - mice']].loc['mitotic (Pro/large Pre B) poportion'].std(axis=0))\n",
    "\n",
    "\n",
    "mitotic_prog = pre_proB*mitotic_proportion \n",
    "non_mitotic_preB = pre_proB-mitotic_prog\n",
    "\n",
    "#assuming the for turnover rates are close to that of rats, and the uncertainty is geomtrical,taken from the proportion of rats and mice.\n",
    "mitotic_rates = [B_prog_data.loc['production rate of cells (from mitotic)','value - mice'],B_prog_data.loc['production rate of cells (from mitotic)','value - rats']]\n",
    "\n",
    "#using the mice data to derive the lifespan in mice and from it the human lifespan\n",
    "mitot_prod_rate = B_prog_data.loc['production rate of cells (from mitotic)','value - mice']*24 \n",
    "\n",
    "#computing the uncertainty using the standard deviation of the values of mice and rats in logspace\n",
    "mitot_prod_rate_unc = 10**(np.log10(mitotic_rates).std())\n",
    "\n",
    "\n",
    "non_mitot_flow_rate = B_prog_data.loc['turnover rate of non-mitotic ','value - mice']*24 #the same for rat and mice, moving from 1/hour to 1/day\n",
    "\n",
    "#estimating the death rate in mice from the mitotic production minus the non-mitotic flow\n",
    "mouse_preB_death_rate = mitotic_proportion.nominal_value*mitot_prod_rate - (1-mitotic_proportion.nominal_value)*non_mitot_flow_rate\n",
    "mouse_preB_death_rate_unc = mitot_prod_rate_unc \n",
    "\n",
    "#geting teh lifespan in mouse from the average death rate\n",
    "perB_mouse_lifespan = 1/mouse_preB_death_rate\n",
    "perB_mouse_lifespan_unc = mitot_prod_rate_unc\n",
    "\n",
    "\n",
    "#calculating the extrapolated turnover rates from the death rate of the two population and from them\n",
    "# the overall lifespan in rodents\n",
    "\n",
    "BM_prog_ext_to = pre_proB.nominal_value/perB_mouse_lifespan\n",
    "BM_prog_ext_to_unc = propagate_mul_facs([ufloat_to_mulfac(pre_proB),perB_mouse_lifespan_unc])\n",
    "\n",
    "#using the death rate given for mice immature B cells\n",
    "mouse_im_B_death_rate  = ufloat(B_prog_data.loc['immature death rate','value - mice'],\n",
    "                                B_prog_data.loc['immature death rate','SD - mice'])\n",
    "\n",
    "#computing the extrapolated rate using the ufloats and then converting to multiplication factors\n",
    "Im_B_ext_to = (ImmatureB_num*mouse_im_B_death_rate).nominal_value\n",
    "Im_B_ext_to_unc = ufloat_to_mulfac(ImmatureB_num*mouse_im_B_death_rate)\n",
    "\n",
    "# summing the two turnover (death) rates and noticing that BM is much greater, \n",
    "# so we can use only its uncertainty\n",
    "prog_B_ext_to = BM_prog_ext_to + Im_B_ext_to\n",
    "prog_B_ext_to_unc = BM_prog_ext_to_unc\n",
    "\n",
    "lym.res.loc['B cells progenitors',\n",
    "            'extrapolated cellular turnover rate'] = prog_B_ext_to, prog_B_ext_to_unc\n",
    "\n",
    "\n",
    "#using the overall extrapolated death rates of the B progenitors we derive the effective lifespan\n",
    "# from rodents by dividing by their total numbers\n",
    "\n",
    "#Summing the two populations of progenitors cells and estimating their uncertainties, aggregated lifespan and turnover\n",
    "total_prog_num = (pre_proB+ImmatureB_num).nominal_value\n",
    "total_prog_num_unc = ufloat_to_mulfac(pre_proB+ImmatureB_num)\n",
    "\n",
    "lym.res.loc['B cells progenitors','number'] = total_prog_num, total_prog_num_unc\n",
    "\n",
    "\n",
    "prog_B_ls_in_rodents = total_prog_num/prog_B_ext_to\n",
    "prog_B_ls_in_rodents_unc = propagate_mul_facs([total_prog_num_unc,prog_B_ext_to_unc])\n",
    "\n",
    "lym.res.loc['B cells progenitors','lifespan in rodents'] = prog_B_ls_in_rodents, prog_B_ls_in_rodents_unc \n",
    "\n",
    "lym.print_params(['number','extrapolated cellular turnover rate',\n",
    "                  'lifespan in rodents'],'B cells progenitors')\n",
    "\n",
    "\n",
    "\n"
   ]
  },
  {
   "cell_type": "markdown",
   "metadata": {},
   "source": [
    "### Maturation and death of transitional B cells\n",
    "Transitional B cells are produced in the bone marrow from immature cells and emigrate to the spleen to mature there. Most of them reside in the spleen (such that the popultion in the bone marrow and blood are negligible). \n",
    "We estimate their numbers using estimate for the total B lymphocyte population of the spleen, based on [Trepel, 1974](https://link.springer.com/article/10.1007/BF01468720), [Di Mascio et al., 2009](http://www.bloodjournal.org/content/114/2/328), [Westermann and Pabst, 1992](https://www.ncbi.nlm.nih.gov/pubmed/1392422). \n",
    "\n",
    "We used data from [Palanichamy et al., 2009](https://www.ncbi.nlm.nih.gov/pubmed/19414749) and [Benitez et al., 2014](https://www.ncbi.nlm.nih.gov/pubmed/24719464) regarding the fraction of B transitional cells in the human spleen (seems to be much smaller than 20% mentioned for mice in [Rolink et al., 1998](https://www.ncbi.nlm.nih.gov/pubmed/9842916).\n",
    "There is a little confusion in the measurment as there are several schemes for sorting the cells according to various surface marker, but it seems our derivation converges to similar estimates.\n",
    "\n",
    "The lifespan of transitional B cells were estimated from mice data, based on death rate derived by [Rolink et al., 1998](https://www.ncbi.nlm.nih.gov/pubmed/9842916) and [Shahaf et al., 2016](https://www.ncbi.nlm.nih.gov/pubmed/27047488)"
   ]
  },
  {
   "cell_type": "code",
   "execution_count": 11,
   "metadata": {},
   "outputs": [
    {
     "name": "stdout",
     "output_type": "stream",
     "text": [
      "Number of Transitional B cells is: 3e+09 cells (SD range: 1e+09 - 7e+09 cells)\n",
      "Lifespan in rodents of Transitional B cells is: 10 days (SD range: 8 - 12 days)\n",
      "Extrapolated cellular turnover rate of Transitional B cells is: 3e+08 cells per day (SD range: 1e+08 - 7e+08 cells per day)\n",
      "____________\n",
      "For comparison we can look at the production of transitional cells from immature cells \n",
      "About 44±7% of the transitional B cells die before maturing\n"
     ]
    }
   ],
   "source": [
    "B_trans_data= pd.read_excel('Lymphocytes_data.xlsx','B_transitional',usecols = range(6),index_col=0)\n",
    "\n",
    "# we use the utitily function 'gmean_with_errors' to calculate the geometric mean and the error as a\n",
    "# multiplication factor\n",
    "spleen_lymp_data = B_trans_data['value'][B_trans_data.index=='spleen lymphocytes'].values\n",
    "spleen_total_lymp, spleen_total_lymp_unc = gmean_with_errors(spleen_lymp_data)\n",
    "\n",
    "\n",
    "#we estiamte the fraction of transitional B cells in the spleen according to two sources: Palanichamy et al., 2009 and Benitez et al., 2014\n",
    "spleen_fractions_transB = pd.Series(index = ['Palanichamy et al., 2009','Benitez et al., 2014']) \n",
    "#Palanichamy et al., 2009 give their estimate in the SI. the use a scheme that divide 3 types. It seems the third type (T3) is\n",
    "# not concerned in other schemes\n",
    "spleen_fractions_transB['Palanichamy et al., 2009'] = B_trans_data.loc['tansitional B cells /total B cells in spleen',\n",
    "                                                                       'value']\n",
    "\n",
    "#Benitez et al., 2014 gives the fraction of trans B cells in the spleen, out of non-memory B cell pool. \n",
    "# we use their approximation, that for adult human about 40% of B cells are memory, to estimate the overall fraction of transitional B cells \n",
    "spleen_fractions_transB['Benitez et al., 2014'] = B_trans_data.loc['adult Memory B cells/mature B cells',\n",
    "                                                                   'value']*B_trans_data.loc['spleen tranisional B/non-memory B cells','value']\n",
    "\n",
    "#we take the geomtric mean of the two values and estimate the multiplicating factor of uncertainty \n",
    "ref_frac_transB, ref_frac_transB_unc = gmean_with_errors(spleen_fractions_transB)\n",
    "\n",
    "\n",
    "#using the total number of B cells and the fraction of transitional B cells to estimate their total numbers\n",
    "spleen_tranB =spleen_total_lymp*ref_frac_transB*B_trans_data.loc['B cell proportion in spleen','value']\n",
    "#using the 'propagate_mul_facs' utility function defined in the designated notebook to propogate the uncertiatny given as  multiplication factor\n",
    "spleen_tranB_unc =  propagate_mul_facs([spleen_total_lymp_unc,ref_frac_transB_unc])\n",
    "\n",
    "#saving the total number of Transitional B cells in the results dataframe class\n",
    "lym.res.loc['Transitional B cells','number'] = spleen_tranB, spleen_tranB_unc\n",
    "\n",
    "#deriving the death rate for mice from two different sources:\n",
    "mouse_tranB_death_rate = pd.Series(index = ['Shahaf et al.,2016','Rolink et al.,1998']) \n",
    "\n",
    "#'Shahaf et al.,2016' is taken stright from their results (modeling mathematcly the population)\n",
    "mouse_tranB_death_rate['Shahaf et al.,2016'] = ufloat(B_prog_data.loc['transitional death rate','value - mice'],\n",
    "                                                      B_prog_data.loc['transitional death rate','SD - mice'])\n",
    "\n",
    "#'Rolink et al.,1998' is derivied from their estimate - how many cell survive, after what time\n",
    "percents_die = 1- B_prog_data.loc['% of transiltional cells mature ','value - mice']\n",
    "residence_time = ufloat(B_prog_data.loc['transitional residence time ','value - mice'],B_prog_data.loc['transitional residence time ','SD - mice'])\n",
    "\n",
    "mouse_tranB_death_rate['Rolink et al.,1998']=percents_die/residence_time\n",
    "\n",
    "mouse_tranB_death_rate = mouse_tranB_death_rate.sum()/2\n",
    "\n",
    "mouse_tranB_lifespan = 1/mouse_tranB_death_rate\n",
    "\n",
    "lym.res.loc['Transitional B cells','lifespan in rodents'] = tuple([mouse_tranB_lifespan.nominal_value,\n",
    "                                                                   ufloat_to_mulfac(mouse_tranB_lifespan)])\n",
    "\n",
    "#integrating the overall cellular death rate (turnover)\n",
    "total_tranB_death = spleen_tranB/ lym.res.loc['Transitional B cells','lifespan in rodents'][0]\n",
    "#using the 'propagate_mul_facs' utility function defined in the designated notebook to propogate the uncertiatny given as  multiplication factor\n",
    "total_tranB_death_unc =  propagate_mul_facs([spleen_tranB_unc,\n",
    "                                             lym.res.loc['Transitional B cells','lifespan in rodents'][1]])\n",
    "\n",
    "lym.res.loc['Transitional B cells',\n",
    "            'extrapolated cellular turnover rate'] = total_tranB_death, total_tranB_death_unc \n",
    "\n",
    "#printing using the restuls class method \n",
    "lym.print_params(['number','lifespan in rodents',\n",
    "                  'extrapolated cellular turnover rate'],'Transitional B cells') \n",
    "    \n",
    "    \n",
    "#for comparison we can look at the production rate of transitional cells from immature cells:\n",
    "#(as mentioned, most of them leave the bone marrow)\n",
    "print('____________')\n",
    "print('For comparison we can look at the production of transitional cells from immature cells ')\n",
    "# print('Production of transitional B cells in the BM (from immature B cells) {:0.1eP} cells per day'.format(immature_diff))\n",
    "\n",
    "dying_fraction = residence_time*mouse_tranB_death_rate\n",
    "print('About {:0.0fP}% of the transitional B cells die before maturing'.format(100*dying_fraction))\n"
   ]
  },
  {
   "cell_type": "markdown",
   "metadata": {},
   "source": [
    "Those two estimates seem close enough.\n",
    "\n",
    "We can look at the extrapolated production of mature B cells from the spleen (derived from mice data):"
   ]
  },
  {
   "cell_type": "code",
   "execution_count": 12,
   "metadata": {},
   "outputs": [
    {
     "name": "stdout",
     "output_type": "stream",
     "text": [
      "maturation of (4±1)×10⁸ B cells per day\n"
     ]
    }
   ],
   "source": [
    "maturating_fraction = 1-dying_fraction\n",
    "mature_prod = spleen_tranB*maturating_fraction/residence_time\n",
    "#using the 'FacMulProp' utility function defined in the designated notebook to propogate the uncertiatny given as  multiplication factor\n",
    "# mature_prod_unc =  FacMulProp([spleen_tranB_unc,tranB_death_rate_unc])\n",
    "  \n",
    "print('maturation of {:0.0eP} B cells per day'.format(mature_prod))\n"
   ]
  },
  {
   "cell_type": "markdown",
   "metadata": {},
   "source": [
    "### Mature B cells proliferation\n",
    "\n",
    "To estimated the lifespan of mature B cells, and their proliferation we use data gathered in several sources, that measured the death and proliferation of B cells using labeling with 2H in glucose or water. These experiments usually measures the level of labels over period of several weeks.\n",
    "We based our analysis on the sources selected in the review by [Borghans et al.,2018](https://www.ncbi.nlm.nih.gov/pubmed/30129193). Their inclusion criteria were related to the labeling technique and length of the experiments.\n",
    "\n",
    "We use reference data from, taken from blood, for the relative fraction of the different B cell subpopulations.\n",
    "We use data from [Apoil et al., 2017](https://www.ncbi.nlm.nih.gov/pubmed/28491945) and [Timmermans et al., 2016](https://journals.plos.org/plosone/article?id=10.1371/journal.pone.0160103#sec023). We should note that the two sources used differnt schemes for differentiating between the subpopulation and so we only concentrating on the three subpopulation for which we have proliferation rate data"
   ]
  },
  {
   "cell_type": "code",
   "execution_count": 15,
   "metadata": {},
   "outputs": [
    {
     "name": "stdout",
     "output_type": "stream",
     "text": [
      "Boxplot representing the distribution of proliferation rates of B cells\n",
      "The main body of the boxplot showing the quartiles (25%-75%) and the median (green horizontal line)\n",
      "The vertical lines extending to the most extreme, non-outlier data points\n"
     ]
    },
    {
     "data": {
      "image/png": "[encoded data removed]",
      "text/plain": [
       "<Figure size 720x360 with 1 Axes>"
      ]
     },
     "metadata": {
      "needs_background": "light"
     },
     "output_type": "display_data"
    }
   ],
   "source": [
    "Bproliferation_data = pd.read_excel('Lymphocytes_data.xlsx','B_cells_proliferation',usecols = range(6))\n",
    "\n",
    "#show in bloxplot the data\n",
    "prol2plot =  pd.DataFrame() \n",
    "prol2plot.loc[:,'cells']= Bproliferation_data.loc[:,'cells']\n",
    "prol2plot.loc[:,'proliferation rate']= Bproliferation_data.loc[:,'proliferation rate (1/d)']\n",
    "prol2plot.boxplot(by='cells',figsize= (10,5))\n",
    "plt.ylabel('rate of proliferation [1/d]')\n",
    "\n",
    "Bprol_sum = pd.DataFrame(prol2plot.groupby(['cells']).agg(gmean), columns=['proliferation rate'])\n",
    "Bprol_sum['prol unc.'] = prol2plot.groupby(['cells']).agg(geo_std)\n",
    "\n",
    "# Bprol_sum = pd.DataFrame(unumpy.uarray(prol2plot.groupby(['cells']).mean(),prol2plot.groupby(['cells']).std()/np.sqrt(2))\n",
    "#               ,index = prol2plot.groupby(['cells']).groups.keys(), columns=['proliferation rate'])\n",
    "\n",
    "#for natural effectors B cells we have only 1 value, so we use the SD of the the source as a Standard error of the mean\n",
    "Bprol_sum.loc['Natural effectors',\n",
    "              'prol unc.'] = ufloat_to_mulfac(Bprol_sum.loc['Natural effectors','proliferation rate'],\n",
    "                                              Bproliferation_data['SD proliferation (1/d)'][Bproliferation_data['cells'] == 'Natural effectors'].values)\n",
    "\n",
    "Bprol_sum['lifespan'] = 1/Bprol_sum['proliferation rate']\n",
    "\n",
    "Bprol_sum.head()\n",
    "\n",
    "print('Boxplot representing the distribution of proliferation rates of B cells')\n",
    "print('The main body of the boxplot showing the quartiles (25%-75%) and the median (green horizontal line)')\n",
    "print('The vertical lines extending to the most extreme, non-outlier data points')"
   ]
  },
  {
   "cell_type": "markdown",
   "metadata": {},
   "source": [
    "We combined the proliferation data for the subpopulations with data regarding their fraction of B cell population to compute the overall turnoevr. We can compare the results we get from the subpopulations (which acount for ≈90% of the cells) to that of the total B cell population and derive the turnover of the fraction we didn't acount for. This way we get an estimates for the lifespan of the rest of the cells, and we can check if it is reasnoable.     "
   ]
  },
  {
   "cell_type": "code",
   "execution_count": 16,
   "metadata": {},
   "outputs": [
    {
     "name": "stdout",
     "output_type": "stream",
     "text": [
      "Mean lifespan of the unaccounted B cells is 13 days\n"
     ]
    }
   ],
   "source": [
    "B_subpop = pd.read_excel('Lymphocytes_data.xlsx','B_Cell_Distribution',usecols = range(5),index_col=0)\n",
    "\n",
    "#merging the two data sources, such that only cells we acounted for remain\n",
    "B_subpop= Bprol_sum.merge(B_subpop,left_index=True,right_index=True)\n",
    "\n",
    "\n",
    "\n",
    "\n",
    "\n",
    "# converting error given as additive to multiplication factors using 'uarr_to_mulfac' utility function\n",
    "# that take a unumpy.uarray\n",
    "B_subpop['popul frac unc.'] = uarr_to_mulfac(unumpy.uarray(B_subpop['%'],B_subpop['SD']))\n",
    "\n",
    "B_subpop['total cells'] = (lymp_dist.loc['B cells','number of cells']-spleen_tranB-total_prog_num)*B_subpop['%']\n",
    "\n",
    "#error propogation for the uncertainty in total cells,using the 'propagate_mul_facs' utility function defined in the designated notebook to propogate the uncertiatny given as  multiplication factor\n",
    "B_subpop['total cells unc.'] =  propagate_mul_facs([B_subpop['popul frac unc.'],lymp_dist.loc['B cells','cell num unc.']])\n",
    "\n",
    "#computing the turnvoer using the proliferation rate and the total cell number\n",
    "B_subpop['turnover rates'] = B_subpop['total cells']*B_subpop['proliferation rate']\n",
    "# using the 'propagate_mul_facs' utility function defined in the designated notebook to propogate the uncertiatny given as  multiplication factor\n",
    "B_subpop['turnover rates unc.'] =  propagate_mul_facs([B_subpop['total cells unc.'],B_subpop['prol unc.']])\n",
    "\n",
    "#caculating the turnover from either the subpopulation fractions and the totalpopulation\n",
    "to_from_subp= B_subpop['turnover rates'][B_subpop.index!='total B cells'].sum(axis=0)\n",
    "to_from_totalB = B_subpop['turnover rates'][B_subpop.index=='total B cells'].sum(axis=0)\n",
    "\n",
    "#the difference need to be explained by the fraction of unaccounted cells:\n",
    "remain_cells = B_subpop.loc['total B cells','total cells']-B_subpop['total cells'][B_subpop.index!='total B cells'].sum(axis=0)\n",
    "remain_to = to_from_totalB-to_from_subp\n",
    "\n",
    "\n",
    "#we can estimate their lifespan using the ratio of turnover to number of cells\n",
    "remain_cells_lifespan = remain_cells/remain_to\n",
    "\n",
    "\n",
    "print('Mean lifespan of the unaccounted B cells is {:0.0f} days'.format(remain_cells_lifespan))\n"
   ]
  },
  {
   "cell_type": "markdown",
   "metadata": {},
   "source": [
    "That seems to be low estimate, as B memory cells have lifespan of 40 days in comparison. Closer to the value of transitional B cells.\n",
    "It could be due to underestimation of the memory cell fraction (as some source indicate they contibure larger portion). \n",
    "We assumed that the subpopulation fractions from the blood represent those of the total population, and it could be another source of error. \n",
    "\n",
    "For our concluding estimate for the turnoevr of mature B cell we use the estimate based on the mean proliferation rate of the total B population."
   ]
  },
  {
   "cell_type": "code",
   "execution_count": 17,
   "metadata": {},
   "outputs": [
    {
     "name": "stdout",
     "output_type": "stream",
     "text": [
      "Number of Mature B cells is: 3e+11 cells (SD range: 1e+11 - 7e+11 cells)\n",
      "Lifespan of Mature B cells is: 63 days (SD range: 52 - 76 days)\n",
      "Cellular turnover rate of Mature B cells is: 5e+09 cells per day (SD range: 2e+09 - 1e+10 cells per day)\n"
     ]
    }
   ],
   "source": [
    "lym.res.loc['Mature B cells','number'] = tuple([B_subpop.loc['total B cells','total cells'],\n",
    "                                                lymp_dist.loc['B cells','cell num unc.']])\n",
    "\n",
    "lym.res.loc['Mature B cells','lifespan'] = tuple([B_subpop.loc['total B cells','lifespan'],\n",
    "                                                  B_subpop.loc['total B cells','prol unc.']])\n",
    "#the uncertainty is as the proliferation rate unc.\n",
    "\n",
    "lym.res.loc['Mature B cells','cellular turnover rate'] = tuple([B_subpop.loc['total B cells','turnover rates'],\n",
    "                                                                B_subpop.loc['total B cells','turnover rates unc.']])\n",
    "\n",
    "lym.print_params(['number','lifespan','cellular turnover rate'],'Mature B cells')\n"
   ]
  },
  {
   "cell_type": "markdown",
   "metadata": {},
   "source": [
    "## Lymphoctes mass and cellular mass turnover rates\n",
    "\n",
    "We use measurement of lymphocyes from the literature, taken by two main methods:  Coulter counter and Flow Cytometer.\n",
    "We gathered the data from 5 primary sources:  [Schmid-Schönbein et al., 1980](https://www.ncbi.nlm.nih.gov/pubmed/6775712?dopt=Abstract), [Segel et al., 1981](https://www.ncbi.nlm.nih.gov/pubmed/7214019), [Kuse et al., 1985](https://link.springer.com/article/10.1007/BF00320301), [Downey et al., 1990](https://www.ncbi.nlm.nih.gov/pubmed/2272970) and [Zheng et al., 2015](https://www.ncbi.nlm.nih.gov/pmc/articles/PMC4287721/).\n",
    "\n",
    "We use density measured in [Grover et al., 2011](https://www.pnas.org/content/108/27/10992) to derive the mass from the volume measurments.\n",
    "\n",
    "Du to lack of relevant information, We don't differentiate between the different lymphocytes subpopulations.\n",
    "\n"
   ]
  },
  {
   "cell_type": "code",
   "execution_count": 18,
   "metadata": {},
   "outputs": [],
   "source": [
    "lymp_mass_data =  pd.read_excel('Lymphocytes_data.xlsx','Lymph_mass',usecols = range(0,4),index_col=0)\n",
    "lymp_density = 1.077 #pg/fl Zipursky et al., 1976\n",
    "lymp_mass = lymp_density*ufloat(lymp_mass_data['value (fl)'].mean(axis=0),\n",
    "                                lymp_mass_data['value (fl)'].sem(axis=0))\n"
   ]
  },
  {
   "cell_type": "markdown",
   "metadata": {},
   "source": [
    "Now we can use the reference mass to estimate the cellular mass turnoevr of each of the subpopulations:"
   ]
  },
  {
   "cell_type": "code",
   "execution_count": 19,
   "metadata": {},
   "outputs": [
    {
     "name": "stdout",
     "output_type": "stream",
     "text": [
      "\u001b[1mThymocytes:\u001b[0m\n",
      "Total cellular mass of Thymocytes is: 0.43 grams (SD range: 0.09 - 2.10 grams)\n",
      "Extrapolated cellular mass turnover rate of Thymocytes is: 0.11 grams per day (SD range: 0.02 - 0.69 grams per day)\n",
      "______________________________\n",
      "\u001b[1mMature T cells:\u001b[0m\n",
      "Total cellular mass of Mature T cells is: 132 grams (SD range: 60 - 290 grams)\n",
      "Cellular mass turnover rate of Mature T cells is: 0.4 grams per day (SD range: 0.2 - 0.9 grams per day)\n",
      "______________________________\n",
      "\u001b[1mB cells progenitors:\u001b[0m\n",
      "Total cellular mass of B cells progenitors is: 1.0 grams (SD range: 0.7 - 1.5 grams)\n",
      "Extrapolated cellular mass turnover rate of B cells progenitors is: 1.2 grams per day (SD range: 0.7 - 2.2 grams per day)\n",
      "______________________________\n",
      "\u001b[1mTransitional B cells:\u001b[0m\n",
      "Total cellular mass of Transitional B cells is: 0.5 grams (SD range: 0.2 - 1.3 grams)\n",
      "Extrapolated cellular mass turnover rate of Transitional B cells is: 0.05 grams per day (SD range: 0.02 - 0.13 grams per day)\n",
      "______________________________\n",
      "\u001b[1mMature B cells:\u001b[0m\n",
      "Total cellular mass of Mature B cells is: 59 grams (SD range: 27 - 133 grams)\n",
      "Cellular mass turnover rate of Mature B cells is: 0.9 grams per day (SD range: 0.4 - 2.2 grams per day)\n"
     ]
    }
   ],
   "source": [
    "\n",
    "#approximating the low uncertainties of the mass with a mupltiplication factor to enable propogation\n",
    "lymp_mass_unc= round(ufloat_to_mulfac(lymp_mass),2)\n",
    "lymp_mass = lymp_mass.nominal_value\n",
    "# using the 'propagate_mul_facs' utility function defined in the designated notebook to propogate the uncertiatny given as  multiplication factor\n",
    "# B_subpop['turnover rates unc.'] = propagate_mul_facs([B_subpop['total cells unc.'],B_subpop['prol unc.']])\n",
    "\n",
    "# we use list and zip to enable assingment of tuple to the entire column\n",
    "cell_types_num = lym.res.index.size\n",
    "lym.res['cell mass'] = list(zip(lymp_mass*np.ones(cell_types_num),\n",
    "                                lymp_mass_unc*np.ones(cell_types_num)))\n",
    "\n",
    "# we comute the total cellular mass from the mupltilication of the number and cell mass\n",
    "#using list and zip to wrap the vectors into a vector of tuples (value, uncertainty) \n",
    "#the same done for computing the cellular mass turnover, using cellular turnover instead of numbers\n",
    "\n",
    "lym.res['total cellular mass']  = list(zip(lym.get_param_vals('number')*lymp_mass/10**12,\n",
    "                                          propagate_mul_facs([lym.get_param_unc('number'),lymp_mass_unc])))\n",
    "\n",
    "\n",
    "lym.res['cellular mass turnover rate']  = list(zip(lym.get_param_vals('cellular turnover rate')*lymp_mass/10**12,\n",
    "                                                   propagate_mul_facs([lym.get_param_unc('cellular turnover rate'),lymp_mass_unc])))\n",
    "\n",
    "lym.res['extrapolated cellular mass turnover rate']  = list(zip(lym.get_param_vals('extrapolated cellular turnover rate')*lymp_mass/10**12,\n",
    "                                                       propagate_mul_facs([lym.get_param_unc('extrapolated cellular turnover rate'),lymp_mass_unc])))\n",
    "\n",
    "\n",
    "lym.print_params(['total cellular mass','cellular mass turnover rate',\n",
    "                 'extrapolated cellular mass turnover rate'])"
   ]
  },
  {
   "cell_type": "markdown",
   "metadata": {},
   "source": [
    "## Saving the results to excell\n",
    "For further use"
   ]
  },
  {
   "cell_type": "code",
   "execution_count": 20,
   "metadata": {},
   "outputs": [],
   "source": [
    "lym.export_to_excel('Summary.xlsx')"
   ]
  }
 ],
 "metadata": {
  "kernelspec": {
   "display_name": "Python 3",
   "language": "python",
   "name": "python3"
  },
  "language_info": {
   "codemirror_mode": {
    "name": "ipython",
    "version": 3
   },
   "file_extension": ".py",
   "mimetype": "text/x-python",
   "name": "python",
   "nbconvert_exporter": "python",
   "pygments_lexer": "ipython3",
   "version": "3.7.3"
  }
 },
 "nbformat": 4,
 "nbformat_minor": 2
}
