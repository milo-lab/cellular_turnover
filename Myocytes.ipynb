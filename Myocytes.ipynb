{
 "cells": [
  {
   "cell_type": "code",
   "execution_count": 2,
   "metadata": {},
   "outputs": [],
   "source": [
    "# loading all the dependencies\n",
    "import pandas as pd\n",
    "\n",
    "from scipy.optimize import fsolve\n",
    "from openpyxl import load_workbook\n",
    "\n",
    "import numpy as np\n",
    "import uncertainties as uc\n",
    "\n",
    "pd.options.display.float_format ='{:,.3f}'.format\n",
    "import matplotlib.pyplot as plt\n",
    "%matplotlib inline  \n",
    "from IPython.display import Image\n",
    "from IPython.core.display import HTML \n",
    "\n",
    "from scipy import integrate\n",
    "import scipy.stats as stats\n",
    "from uncertainties import ufloat\n",
    "from uncertainties import unumpy\n",
    "from sklearn.linear_model import LinearRegression\n",
    "\n",
    "%run Utility_Functions.ipynb"
   ]
  },
  {
   "cell_type": "markdown",
   "metadata": {},
   "source": [
    "## Methods and Statistics\n",
    "Ranges and values with ± are given as 1 standard error of the values.\n",
    "\n",
    "Ranges in cases of large uncertainty are not necessarily symmetrical.\n"
   ]
  },
  {
   "cell_type": "markdown",
   "metadata": {},
   "source": [
    "# Myocytes - Skeltal Muscle cells\n",
    "\n",
    "Muscle cells are the biggest cells in the body"
   ]
  },
  {
   "cell_type": "markdown",
   "metadata": {},
   "source": [
    "## Myocytes number\n",
    "In previous research [Sender et al., 2016](https://journals.plos.org/plosbiology/article?id=10.1371/journal.pbio.1002533) we used estimates given at [Bianconi et al., 2013](https://www.ncbi.nlm.nih.gov/pubmed/23829164). Their estimate originate in Howell WH, Fulton JF. 1949. A textbook of physiology which have no primary source for that claim. Here we check the previous estimate by comparison with relevant new data from 3 sources:  [Holzbaur et al., 2007](https://www.ncbi.nlm.nih.gov/pubmed/17241636) , [Lube et al., 2016](https://www.ncbi.nlm.nih.gov/pubmed/26251021) and [Zheng et al., 2013](https://www.ncbi.nlm.nih.gov/pubmed/23351366) "
   ]
  },
  {
   "cell_type": "code",
   "execution_count": 5,
   "metadata": {},
   "outputs": [
    {
     "name": "stdout",
     "output_type": "stream",
     "text": [
      "R square for low volumes fit (green): 0.42 mediocre correlation\n",
      "R square for high volumes fit (yellow): 0.07 poor correlation\n",
      "total number of cells 2.9e+07\n"
     ]
    },
    {
     "name": "stderr",
     "output_type": "stream",
     "text": [
      "C:\\Users\\ronse\\anaconda3\\lib\\site-packages\\numpy\\core\\fromnumeric.py:56: FutureWarning: Series.nonzero() is deprecated and will be removed in a future version.Use Series.to_numpy().nonzero() instead\n",
      "  return getattr(obj, method)(*args, **kwds)\n"
     ]
    },
    {
     "data": {
      "image/png": "[encoded data removed]",
      "text/plain": [
       "<Figure size 432x288 with 1 Axes>"
      ]
     },
     "metadata": {
      "needs_background": "light"
     },
     "output_type": "display_data"
    }
   ],
   "source": [
    "volume_data = pd.read_excel('Myocytes_data.xlsx','volume_data',index_col=0)\n",
    "volume_data.head()\n",
    "\n",
    "\n",
    "\n",
    "# \n",
    "plt.scatter(volume_data.loc[:,'volume (ml)'],volume_data.loc[:,'length (cm)'])\n",
    "ax = plt.gca()\n",
    "\n",
    "plt.ylabel('length [cm]')\n",
    "plt.xlabel('volume [ml]')\n",
    "\n",
    "\n",
    "\n",
    "###regression to fill in the length for the data from 2 sources that don't have length measurements\n",
    "y = volume_data.loc[:,'length (cm)']\n",
    "x = volume_data.loc[:,'volume (ml)']\n",
    "\n",
    "x = x[np.argwhere(~np.isnan(y))]\n",
    "y = y[np.argwhere(~np.isnan(y))]\n",
    "\n",
    "cutoff = 100\n",
    "\n",
    "x_low = x[x<=cutoff]\n",
    "y_low = y[x<=cutoff]\n",
    "x_low = x_low.reshape(-1,1)\n",
    "#use of rehsape so x would be in the right shape for the regression model fit\n",
    "\n",
    "x_hi = x[x>cutoff]\n",
    "y_hi = y[x>cutoff]\n",
    "x_hi = x_hi.reshape(-1,1)\n",
    "#use of rehsape so x would be in the right shape for the regression model fit\n",
    "\n",
    "#creating two models, one for the data above the threshold and one for below\n",
    "model_low = LinearRegression().fit(x_low, y_low)\n",
    "r_sq_low = model_low.score(x_low, y_low)\n",
    "print('R square for low volumes fit (green): {:0.2f}'.format(r_sq_low), 'mediocre correlation')\n",
    "\n",
    "model_hi = LinearRegression().fit(x_hi, y_hi)\n",
    "r_sq_hi = model_hi.score(x_hi, y_hi)\n",
    "print('R square for high volumes fit (yellow): {:0.2f}'.format(r_sq_hi), 'poor correlation')\n",
    "\n",
    "\n",
    "\n",
    "\n",
    "xsapce_low = np.linspace(0,cutoff).reshape(-1,1)\n",
    "xsapce_hi = np.linspace(cutoff,500).reshape(-1,1)\n",
    "\n",
    "y_pred_low = model_low.predict(xsapce_low)\n",
    "y_pred_hi = model_hi.predict(xsapce_hi)\n",
    "\n",
    "plt.plot(xsapce_low,y_pred_low,'g')\n",
    "plt.plot(xsapce_hi,y_pred_hi,'orange')\n",
    "\n",
    "\n",
    "#####################\n",
    "#defining columns for the values given by the regression model. the right values will be chosen, given the volume in relation to the cutoff\n",
    "volume_data.loc[:,'hi_len_est']= model_hi.predict(volume_data.loc[:,'volume (ml)'].values.reshape((-1,1)))\n",
    "volume_data.loc[:,'low_len_est']= model_low.predict(volume_data.loc[:,'volume (ml)'].values.reshape((-1,1)))\n",
    "\n",
    "\n",
    "#some of the muscles are bigger than waht we have data on. we use assumption regarding their length, instead of regression\n",
    "hi_cutoff = volume_data.loc[:,'length (cm)'].where(np.isnan(volume_data.loc[:,'length (cm)']),volume_data.loc[:,'volume (ml)']).max(axis=0)\n",
    "#print(hi_cutoff)\n",
    "\n",
    "hi_len_asmp = 30 #cm , assumption for very massive muscles\n",
    "\n",
    "#for i in volume_data.index:\n",
    "#    if ~np.isnan(volume_data.loc[i,'length (cm)']):\n",
    "#        volume_data.loc[i,'est_len'] = volume_data.loc[i,'length (cm)']\n",
    "#    elif volume_data.loc[i,'volume (ml)'] <= cutoff:\n",
    "#        volume_data.loc[i,'est_len'] = volume_data.loc[i,'low_len_est']\n",
    "#    elif volume_data.loc[i,'volume (ml)'] > hi_cutoff:\n",
    "#         volume_data.loc[i,'est_len'] = hi_len_asmp\n",
    "#    else:\n",
    "#         volume_data.loc[i,'est_len'] = volume_data.loc[i,'hi_len_est']\n",
    "\n",
    "#using DataFrame where function to chose what length estimate to use\n",
    "#it seems that the condition in the where method is counterintuitive (reverased)\n",
    "volume_data.loc[: ,'est_len']= volume_data.loc[:,'low_len_est']\n",
    "volume_data.loc[: ,'est_len']= volume_data.loc[: ,'est_len'].where(volume_data.loc[:,'volume (ml)']<=cutoff,volume_data.loc[:,'hi_len_est'])\n",
    "volume_data.loc[: ,'est_len']= volume_data.loc[: ,'est_len'].where(volume_data.loc[:,'volume (ml)']<=hi_cutoff,hi_len_asmp )\n",
    "volume_data.loc[: ,'est_len']= volume_data.loc[: ,'est_len'].where(np.isnan(volume_data.loc[:,'length (cm)']),volume_data.loc[:,'length (cm)'])\n",
    "\n",
    "#print(volume_data[['est_len','hi_len_est','low_len_est']])\n",
    "\n",
    "\n",
    "###########\n",
    "#using length estimates to the number of cells. \n",
    "#based on assumpotion regarding the daimeter of the cells, and the fact that the length of individual cell is the same as \n",
    "#the length od the entire muscle\n",
    "\n",
    "volume_data.loc[: ,'est_cross_area'] = volume_data.loc[:,'volume (ml)']/volume_data.loc[: ,'est_len']\n",
    "volume_data.loc[: ,'est_diameter'] = 2*np.sqrt(volume_data.loc[: ,'est_cross_area']/np.pi)\n",
    "\n",
    "#number of cells is given by dividing the cross area by the cross area of single cell\n",
    "#we assume cross area based on the literature, assuming cell in large muscle has bigger diameter\n",
    "\n",
    "diameter_large = 60*10**-4 #60 microns moving to cm\n",
    "diameter_small = 30*10**-4 #30 microns moving to cm\n",
    "\n",
    "\n",
    "volume_data.loc[: ,'single_diameter']=diameter_small\n",
    "volume_data.loc[: ,'single_diameter']= volume_data.loc[: ,'single_diameter'].where(volume_data.loc[:,'volume (ml)']<=cutoff,diameter_large)\n",
    "\n",
    "\n",
    "volume_data.loc[: ,'single_area'] = np.pi*(volume_data.loc[: ,'single_diameter']/2)**2\n",
    "\n",
    "volume_data.loc[: ,'number of cells'] = volume_data.loc[: ,'est_cross_area']/volume_data.loc[: ,'single_area']\n",
    "\n",
    "#print(volume_data[['est_cross_area','est_diameter','single_area']])\n",
    "#print(volume_data.loc[: ,'number of cells'].sum)\n",
    "\n",
    "\n",
    "print('total number of cells {:0.1e}'.format(volume_data.loc[: ,'number of cells'].sum(axis=0)))\n"
   ]
  },
  {
   "cell_type": "markdown",
   "metadata": {},
   "source": [
    "We now have an estimate for the number of cell in 80 single muscle(from 1 side of the body), assuming that their pair has the same number of cells, we need to estimate the number of cells in the other 480/640 muscles.\n",
    "\n",
    "We can use the overall mass in the 80 muscles to estimate what mass there is need to come by.We need to take in acount that the patients' height in these research was higher than our reference man, and to compensate for it. We take the same 40% mass in skeletal muscle, and take a reference mass of 80 kg instead of 70\n"
   ]
  },
  {
   "cell_type": "code",
   "execution_count": 6,
   "metadata": {},
   "outputs": [
    {
     "name": "stdout",
     "output_type": "stream",
     "text": [
      "acounted mass 26.6 kg\n",
      "need to acounted for 3.4 kg more\n",
      "remaining cells: (1.8±2.9)×10⁸\n",
      "Number of myocytes is: (2.0±3.0)×10⁸ cells\n"
     ]
    }
   ],
   "source": [
    "##specific gravity of skeletal muscle tissue is 1.04 according to Snyder et al., 1975\n",
    "sp_g = 1.04\n",
    "\n",
    "#taking in acount the muscles and their pairs\n",
    "acounted_mass =2* volume_data.loc[:,'volume (ml)'].sum(axis=0)*sp_g/1000 #moving acounted mass to kg units\n",
    "print('acounted mass {:0.1f} kg'.format(acounted_mass))\n",
    "\n",
    "higher_mass = 75\n",
    "SM_prop = 0.4\n",
    "\n",
    "\n",
    "mass_left = higher_mass*SM_prop-acounted_mass\n",
    "print('need to acounted for {:0.1f} kg more'.format(mass_left ))\n",
    "\n",
    "\n",
    "##############\n",
    "#we get two estimates (low and hi) for the number of cells, using assumptions regarding their average length\n",
    "muscles_left = 480\n",
    "\n",
    "\n",
    "muscle_avg_mass = mass_left//1000 #in grams\n",
    "muscle_avg_volume = mass_left/sp_g # in ml\n",
    "\n",
    "hi_len = 3 #cm, given in \"Blue Histology - Muscle\"\n",
    "low_len = 0.5 #cm, taken as lower bound\n",
    "\n",
    "\n",
    "#deriving the number of cells by taking the cross section area and dividing by single cells area\n",
    "#and multiplying by the number of cells\n",
    "hi_num_cells = muscles_left*(muscle_avg_volume/low_len)/ (np.pi*(diameter_small/2)**2)\n",
    "low_num_cells = muscles_left*(muscle_avg_volume/hi_len)/ (np.pi*(diameter_small/2)**2)\n",
    "\n",
    "remain_cells =stats.gmean([hi_num_cells,low_num_cells])\n",
    "remain_cells = ufloat(remain_cells,np.sqrt(hi_num_cells/remain_cells)*remain_cells)\n",
    "\n",
    "#print('hi num {:0.1e}'.format(hi_num_cells))\n",
    "#print('low num {:0.1e}'.format(low_num_cells))\n",
    "\n",
    "print('remaining cells: {:0.1eP}'.format(remain_cells))\n",
    "\n",
    "#combining the number for the known 80 muscles and the remained cells\n",
    "\n",
    "#initiating myocytes CellTypeResDF object to save and print the results easily\n",
    "myocytes = CellTypesResDF(['myocytes'])\n",
    "\n",
    "myocytes.res['number']= remain_cells + 2*volume_data.loc[: ,'number of cells'].sum(axis=0)\n",
    "myocytes.print_params('number')"
   ]
  },
  {
   "cell_type": "markdown",
   "metadata": {},
   "source": [
    "The estimate we got for the number of muscle cells agrees with the previous estimate."
   ]
  },
  {
   "cell_type": "markdown",
   "metadata": {},
   "source": [
    "## Myocytes age"
   ]
  },
  {
   "cell_type": "markdown",
   "metadata": {},
   "source": [
    "The average cells age of skeletal muscle tissue was estimated using carbon 14, by [Spalding et al., 2005](https://www.ncbi.nlm.nih.gov/pubmed/16009139) for two patients at age 37-38 years. We use their estimate, combined with data regarding the prelevance of different cells in the skeletal muscle tissue to get an average age estimate for the myocytes alone.\n",
    "We use data regarding the population of satellite cells (accompanied myo-stem cells in the skeletal muscle tissue) from [Dumont et al., 2015](https://www.ncbi.nlm.nih.gov/pubmed/26140708) and endothelial (blood vessels) cells from [Zheng et al., 2007](https://www.ncbi.nlm.nih.gov/pubmed/17767154).\n",
    "\n",
    "We emphasize that myocytes are multinucleated cells, and so we are interested in the prelevance of cells in terms of nuclei, as that what affect the average age estimate.\n",
    "Using the nuceleardomain (volume per nucleus) and cell volume (derived from total cellular mass, according to potasium concentraion, based on a furmola from [Wang et al., 2004](https://www.ncbi.nlm.nih.gov/pubmed/14532167)) we get also the number of nuclei in muscle cells and the number of satellite cells (they have 1 nucleus)\n"
   ]
  },
  {
   "cell_type": "code",
   "execution_count": 7,
   "metadata": {},
   "outputs": [
    {
     "name": "stdout",
     "output_type": "stream",
     "text": [
      "numebr of satellite cells: (3.5±2.6)×10¹⁰ \n",
      "myocyte average age 16.4±0.8 years \n"
     ]
    }
   ],
   "source": [
    "cell_population = pd.read_excel('Myocytes_data.xlsx','cells_population',index_col=0,usecols = range(0,4))\n",
    "cell_population.loc[:,'% of total'] = cell_population.loc[:,'% of myonuclei']/ cell_population.loc[:,'% of myonuclei'].sum(axis=0) \n",
    "cell_population.loc[:,'delta % of total'] = cell_population.loc[:,'% delta']*cell_population.loc[:,'% of total']/cell_population.loc[:,'% of myonuclei']\n",
    "\n",
    "\n",
    "total_cellular_mass = ufloat(19800,2500) #g based on Snyder et al.,1975 and Wang et al., 2004\n",
    "#assuming the proportion of myocytes is as described from nuclei population data  \n",
    "\n",
    "myocyte_proportion = ufloat(cell_population.loc['myocytes','% of total'],cell_population.loc['myocytes','delta % of total'])\n",
    "average_myocte_volume =(myocyte_proportion*total_cellular_mass/myocytes.res.loc['myocytes','number']/sp_g)*10**12  #in fl units\n",
    "#print('{:0.1eP} fl'.format(average_myocte_volume))\n",
    "\n",
    "\n",
    "\n",
    "#Dumont gives values of 2-5*10^4 micron^3\n",
    "nuclear_domain = ufloat(3*10**4,10**4)  # mu^3/nucleus\n",
    "average_myocyte_nuclei = average_myocte_volume/nuclear_domain #per cells\n",
    "\n",
    "toatal_myocytes_nuclei = (myocyte_proportion*total_cellular_mass/sp_g)*10**12/nuclear_domain\n",
    "\n",
    "#print('{:0.1eP} '.format(average_myocyte_nuclei))\n",
    "#print('{:0.1eP} '.format(toatal_myocytes_nuclei))\n",
    "\n",
    "#using the uncertainty library to estimates the combined errors\n",
    "cell_prop = unumpy.uarray(cell_population.loc[:,'% of total'].values, cell_population.loc[:,'delta % of total'].values)\n",
    "cell_num = cell_prop*toatal_myocytes_nuclei/cell_prop[0]\n",
    "\n",
    "cell_population.loc[:,'nuclei num'] = unumpy.nominal_values(cell_num)\n",
    "cell_population.loc[:,'delta nuclei num'] = unumpy.std_devs(cell_num)\n",
    "\n",
    "\n",
    "print('numebr of satellite cells: {:0.1eP} '.format(cell_num[1]))\n",
    "\n",
    "#for the estimates of in the different types of cells we need to take in acount their mass proportion that consider their sizes: \n",
    "cell_population['ref cell volum'] = nuclear_domain  #assumin satellite cells have similar volume as the nuclear domain of myocytes \n",
    "cell_population.loc['endithelial cells','ref cell volum'] = 1200 #volume of endothelial cells in mu^3\n",
    "\n",
    "cell_population['mass proportion'] =cell_population['ref cell volum']*cell_population['% of total']/np.dot(cell_population['ref cell volum'],cell_population['% of total']) \n",
    "myocyte_mass_proportion = cell_population.loc['myocytes','mass proportion']\n",
    "##############################\n",
    "#using the average age estimated for endothelial cells in Bergman 2015, \n",
    "#we use different assumption regarding satellite cells age to estimate the average age of myocytes\n",
    "\n",
    "total_average_age = 15.1 #years, according to Spalding et al., 2005\n",
    "\n",
    "#estimate regarding the age of satellite cells\n",
    "sat_age_hi = 15\n",
    "sat_age_low= 3\n",
    "\n",
    "#computed age of myocytes by the opposite of weighted average\n",
    "myo_age_low = (total_average_age -np.dot(cell_prop[1:3], [sat_age_low,cell_population.loc['endithelial cells','average age']]))/cell_prop[0] \n",
    "myo_age_hi = (total_average_age -np.dot(cell_prop[1:3], [sat_age_hi,cell_population.loc['endithelial cells','average age']]))/cell_prop[0] \n",
    "\n",
    "#as the age of satellite cells has a minor effect on the estimate of myocytes age we use the average of the 2 estimate\n",
    "myoctes_age = (myo_age_low+myo_age_hi)/2\n",
    "\n",
    "print('myocyte average age {:0.1fP} years '.format(myoctes_age))\n"
   ]
  },
  {
   "cell_type": "markdown",
   "metadata": {},
   "source": [
    "### Myocytes mean mass\n",
    "We can use the number of Myocytes together with an estimate for the total cellualr mass in skeletal muscles to obtain the average mass of a myocyte."
   ]
  },
  {
   "cell_type": "code",
   "execution_count": 8,
   "metadata": {},
   "outputs": [
    {
     "name": "stdout",
     "output_type": "stream",
     "text": [
      "Cell mass of myocytes is: (8.0±9.0)×10⁷ pg\n",
      "Total cellular mass of myocytes is: 19000±2000 grams\n"
     ]
    }
   ],
   "source": [
    "myocytes.res['cell mass'] = myocyte_mass_proportion*total_cellular_mass/myocytes.res['number']*10**12\n",
    "myocytes.res['total cellular mass'] = myocyte_mass_proportion *total_cellular_mass\n",
    "\n",
    "\n",
    "myocytes.print_params(['cell mass','total cellular mass'])"
   ]
  },
  {
   "cell_type": "markdown",
   "metadata": {},
   "source": [
    "## Myocytes turnover rates\n",
    "We use the data regarding the average age of myocytes ( [Spalding et al., 2005](https://www.ncbi.nlm.nih.gov/pubmed/16009139) ) at the given age to estimate the lifespan and turnover rates of these cells. Given the available single data point, we use the simplest model to derive the lifespan from the average age, as described in [Bernard et al.,2010](https://www.sciencedirect.com/science/article/pii/S0168583X09012051).\n"
   ]
  },
  {
   "cell_type": "markdown",
   "metadata": {},
   "source": [
    "### Mathematical model of average age\n",
    "We use the simplels model: constant production rate $\\beta$ (units: cells/year), and constant death rate $\\gamma$ (units: 1/year) \n",
    "$$\\frac{dN}{dt} =\\beta-\\gamma N.$$\n",
    "$$ N(t) = \\frac{\\beta}{\\gamma}(1-e^{-\\gamma t})$$\n",
    "the survival function is given by: $SF(t) =e^{-\\gamma t}  $\n",
    "\n",
    "the distribution of ages of cells, is shaped like the survival function, only that its integral is equal to $N(t)$\n",
    "$ n(t,a) = \\beta e^{-\\gamma a}$ , where $a$ is the age of cells, and $t$ the age of the person\n",
    "\n",
    "We can get an experssion for the average age of the cells:\n",
    "$$<a> =\\frac{\\int a n(t,a)da}{N(t)} = \\frac{\\int \\beta a e^{-\\gamma a}da}{\\frac{\\beta}{\\gamma}(1-e^{-\\gamma t})}= \\frac{\\gamma \\int a e^{-\\gamma a}da}{(1-e^{-\\gamma t})} = \\frac {1-e^{-\\gamma t}(1+\\gamma t)}{\\gamma (1-e^{-\\gamma t})} = \\frac{1}{\\gamma} + t -\\frac{t}{1-e^{-\\gamma t}}$$\n",
    "\n",
    "Given data regarding $t$ and $<a>$ we can derive $\\gamma$ and the lifespan from it\n",
    "\n",
    "We need to mention that this in this model their is a change in the total number of cells, but for mature adult that change is very little.\n"
   ]
  },
  {
   "cell_type": "markdown",
   "metadata": {},
   "source": [
    "### Lifespan derivation from age \n",
    "We now use the expression we got to derive the death rate and lifespan of myocytes.\n",
    "We solve the equation using numeric method\n"
   ]
  },
  {
   "cell_type": "code",
   "execution_count": 9,
   "metadata": {},
   "outputs": [
    {
     "name": "stdout",
     "output_type": "stream",
     "text": [
      "Lifespan of myocytes is: 18000±7000 days\n",
      "Cellular turnover rate of myocytes is: 13000±16000 cells per day\n",
      "Cellular mass turnover rate of myocytes is: 0.9±0.4 grams per day\n",
      "______________________________\n",
      "Lifespan of myocytes is: 50±20 years\n",
      "Cellular turnover rate of myocytes is: (5±6)×10⁶ cells per year\n",
      "Cellular mass turnover rate of myocytes is: 340.0±130.0 grams per year\n"
     ]
    }
   ],
   "source": [
    "t=37.5 #age of patients\n",
    "a=myoctes_age.nominal_value\n",
    "\n",
    "#defining the equation as a function that can be numerily solved\n",
    "equation = lambda g,a : 1/g - t/(1 - np.exp(-g*t)) + t-a\n",
    "#defining initial geuss. we now that gamma is <1 \n",
    "gamma_initial_guess = 0.5\n",
    "\n",
    "gamma = fsolve(equation, gamma_initial_guess,args=a)\n",
    "\n",
    "####\n",
    "#we want to get an error estimate by using the errors estimate of a.\n",
    "##\n",
    "\n",
    "a_hi = a + myoctes_age.std_dev\n",
    "a_low = a - myoctes_age.std_dev\n",
    "\n",
    "\n",
    "gamma_low = fsolve(equation, gamma_initial_guess,a_hi)\n",
    "gamma_hi = fsolve(equation, gamma_initial_guess,a_low)\n",
    "\n",
    "#and now we store the value in ufloat\n",
    "gamma = ufloat(gamma, (gamma_hi-gamma_low)/2)\n",
    "\n",
    "####\n",
    "#the lifespan is given by 1/death rate and the cellular turnover rate ny N/lifespan\n",
    "\n",
    "\n",
    "myocytes_lifespan_years = 1/gamma #in years\n",
    "myocytes.res['lifespan'] = 365*myocytes_lifespan_years #in days\n",
    "myocytes.res['cellular turnover rate'] = myocytes.res['number']/ myocytes.res['lifespan']\n",
    "\n",
    "myocytes.res['cellular mass turnover rate'] = myocytes.res['cellular turnover rate']*average_myocte_volume*sp_g/10**12\n",
    "\n",
    "myocytes.print_params(['lifespan','cellular turnover rate','cellular mass turnover rate'])\n",
    "print('_'*30)\n",
    "#using method for printing in years units\n",
    "myocytes.print_in_years(['lifespan','cellular turnover rate','cellular mass turnover rate'])\n"
   ]
  },
  {
   "cell_type": "markdown",
   "metadata": {},
   "source": [
    "## Saving the results to excell\n",
    "So it can be used for summary "
   ]
  },
  {
   "cell_type": "code",
   "execution_count": 10,
   "metadata": {},
   "outputs": [],
   "source": [
    "myocytes.export_to_excel('Summary.xlsx')"
   ]
  }
 ],
 "metadata": {
  "kernelspec": {
   "display_name": "Python 3",
   "language": "python",
   "name": "python3"
  },
  "language_info": {
   "codemirror_mode": {
    "name": "ipython",
    "version": 3
   },
   "file_extension": ".py",
   "mimetype": "text/x-python",
   "name": "python",
   "nbconvert_exporter": "python",
   "pygments_lexer": "ipython3",
   "version": "3.7.3"
  }
 },
 "nbformat": 4,
 "nbformat_minor": 2
}
