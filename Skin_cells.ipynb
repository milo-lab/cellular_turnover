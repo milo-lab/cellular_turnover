{
 "cells": [
  {
   "cell_type": "code",
   "execution_count": 1,
   "metadata": {},
   "outputs": [],
   "source": [
    "import pandas as pd\n",
    "\n",
    "from scipy.optimize import fsolve\n",
    "from openpyxl import load_workbook\n",
    "\n",
    "import numpy as np\n",
    "import uncertainties as uc\n",
    "\n",
    "pd.options.display.float_format ='{:,.3f}'.format\n",
    "import matplotlib.pyplot as plt\n",
    "import matplotlib.colors as clr\n",
    "\n",
    "%matplotlib inline  \n",
    "from IPython.display import Image\n",
    "from IPython.core.display import HTML \n",
    "\n",
    "from scipy import integrate\n",
    "import scipy.stats as stats\n",
    "from uncertainties import ufloat\n",
    "from uncertainties import unumpy\n",
    "\n",
    "from scipy.stats import gmean\n",
    "\n",
    "%run Utility_Functions.ipynb"
   ]
  },
  {
   "cell_type": "markdown",
   "metadata": {},
   "source": [
    "## Methods and Statistics\n",
    "Ranges and values with ± are given as 1 standard error of the values.\n",
    "\n",
    "Ranges in cases of large uncertainty are not necessarily symmetrical.\n",
    "\n",
    "Boxplot showing the quartiles (25%-75%) and the median (orange horizontal line). In addition the vertical lines extending to the most extreme, non-outlier data points"
   ]
  },
  {
   "cell_type": "markdown",
   "metadata": {},
   "source": [
    "# Skin cells\n",
    "\n",
    "The skin is composed of two main layers:\n",
    "1. Epidermis - the outer layer. Contain tens of layers separated to 4-5 domains. Populated mostly by nucleated keratinocytes. The top 15-20 layers of cells are called Startum Corneum and are containing corneocytes, dead keratinocytes cells\n",
    "2. Dermis - the inner layer. Comprise of a connective tissue. The main cells populting it are fibroblast, responsible for the secration of the extracellular matrix. \n"
   ]
  },
  {
   "cell_type": "markdown",
   "metadata": {},
   "source": [
    "## Skin total mass and cellualr mass\n",
    "We use data summarized in [ICRP, 2002](http://www.icrp.org/publication.asp?id=ICRP%20Publication%2089) regarding the surface area and depth of the different segments of the body to determine the overall mass of the skin parts. We then use data from [Snyder et al., 1975](http://www.icrp.org/publication.asp?id=ICRP%20Publication%2023) regarding the potasium concentraion to asses the fraction of cellular mass based on a furmola from [Wang et al., 2004](https://www.ncbi.nlm.nih.gov/pubmed/14532167)"
   ]
  },
  {
   "cell_type": "code",
   "execution_count": 2,
   "metadata": {},
   "outputs": [],
   "source": [
    "skin_prop_data = pd.read_excel('Skin_cells_data.xlsx','Skin_properties',index_col=0,usecols = range(0,8),skipfooter = 1)\n",
    "#assigning the data including its uncertatinies to a new dataframe:\n",
    "skin_prop = pd.DataFrame(index = skin_prop_data.index) \n",
    "\n",
    "for parmeter in ['epidermis thickness (µm)','dermal thickness (µm)','total surface area (m^2)']:\n",
    "    skin_prop[parmeter] = unumpy.uarray(skin_prop_data[parmeter],skin_prop_data[parmeter +' SD'])\n",
    "    \n",
    "#calculating the total mass using the denisity. Translating all the length units to cm\n",
    "skin_prop['epidermis total mass (g)'] = skin_prop_data['mass density (g/cm^3)'] *(skin_prop['epidermis thickness (µm)']*10**(-4))*(skin_prop['total surface area (m^2)']*10**4) \n",
    "skin_prop['dermis total mass (g)'] = skin_prop_data['mass density (g/cm^3)'] *(skin_prop['dermal thickness (µm)']*10**(-4))*(skin_prop['total surface area (m^2)']*10**4) \n",
    "\n",
    "#creating a data frame which indices are dermis/epidermis and contain the total mass of them\n",
    "skin_part_mass=pd.DataFrame(skin_prop[['epidermis total mass (g)','dermis total mass (g)']].sum(axis=0)).rename(index={'epidermis total mass (g)':'epidermis',\n",
    "                                                                                                                         'dermis total mass (g)':'dermis'}, \n",
    "                                                                                                               columns={0:'total mass (g)'})\n"
   ]
  },
  {
   "cell_type": "code",
   "execution_count": 3,
   "metadata": {},
   "outputs": [
    {
     "data": {
      "text/html": [
       "<div>\n",
       "<style scoped>\n",
       "    .dataframe tbody tr th:only-of-type {\n",
       "        vertical-align: middle;\n",
       "    }\n",
       "\n",
       "    .dataframe tbody tr th {\n",
       "        vertical-align: top;\n",
       "    }\n",
       "\n",
       "    .dataframe thead th {\n",
       "        text-align: right;\n",
       "    }\n",
       "</style>\n",
       "<table border=\"1\" class=\"dataframe\">\n",
       "  <thead>\n",
       "    <tr style=\"text-align: right;\">\n",
       "      <th></th>\n",
       "      <th>total mass (g)</th>\n",
       "      <th>potassium content (g)</th>\n",
       "      <th>cellular mass (g)</th>\n",
       "    </tr>\n",
       "  </thead>\n",
       "  <tbody>\n",
       "    <tr>\n",
       "      <th>epidermis</th>\n",
       "      <td>121+/-20</td>\n",
       "      <td>0.46+/-0.15</td>\n",
       "      <td>(1.1+/-0.4)e+02</td>\n",
       "    </tr>\n",
       "    <tr>\n",
       "      <th>dermis</th>\n",
       "      <td>(3.21+/-0.31)e+03</td>\n",
       "      <td>1.1+/-0.4</td>\n",
       "      <td>(2.6+/-0.9)e+02</td>\n",
       "    </tr>\n",
       "  </tbody>\n",
       "</table>\n",
       "</div>"
      ],
      "text/plain": [
       "              total mass (g) potassium content (g) cellular mass (g)\n",
       "epidermis           121+/-20           0.46+/-0.15   (1.1+/-0.4)e+02\n",
       "dermis     (3.21+/-0.31)e+03             1.1+/-0.4   (2.6+/-0.9)e+02"
      ]
     },
     "execution_count": 3,
     "metadata": {},
     "output_type": "execute_result"
    }
   ],
   "source": [
    "#uploading the data regarding the cellular mass of the skin  \n",
    "mass_data = pd.read_excel('Skin_cells_data.xlsx','Cellular_mass',index_col=0, usecols=range(6))\n",
    "\n",
    "#assuming the variance in the estimate for the dermis and the epidermis is similiar\n",
    "mass_data.loc[['Epidermis potassium','Dermis potassium'],'SD'] = mass_data.loc[['Epidermis potassium','Dermis potassium'],'value']*mass_data.loc['Whole skin potassium','SD']/mass_data.loc['Whole skin potassium','value']\n",
    "\n",
    "# combining the values and uncertainties for computations. \n",
    "# cmdt =cellular mass data\n",
    "cmdt = pd.Series(unumpy.uarray(mass_data['value'],mass_data['SD']), index =mass_data.index ) #cell mass data\n",
    "\n",
    "#using Wang's formula to conclude the total cellular mass in each of the compartments\n",
    "skin_part_mass['potassium content (g)'] = cmdt[['Epidermis potassium','Dermis potassium']].values\n",
    "\n",
    "skin_part_mass['cellular mass (g)']= 1000*(skin_part_mass['potassium content (g)']/cmdt['potassium molar mass'])*cmdt['cell mass/potassium conc.']*1000 \n",
    "#convert from mmol to mol, and the results from kg to g\n",
    "skin_part_mass"
   ]
  },
  {
   "cell_type": "markdown",
   "metadata": {},
   "source": [
    "## Epidermal cells numbers and mass\n",
    "Combining the data regarding the surface area of the body (from [ICRP, 2002](http://www.icrp.org/publication.asp?id=ICRP%20Publication%2089)) with measurements of cellular area density from [Bauer et al., 2001](https://www.ncbi.nlm.nih.gov/pubmed/11180009) and [Hoath and Leahy, 2003](https://www.sciencedirect.com/science/article/pii/S0022202X1530556X) and [Bergstresser et al., 1978](https://www.sciencedirect.com/science/article/pii/S0022202X15452534) we can get an estimate for number of the different cells in the epidermis. We also use the data regarding the prevalence of melanocytes from [Quevedo et al., 1975](https://www.ncbi.nlm.nih.gov/pubmed/1211434) to estimates their contributions.\n",
    "\n",
    "We integrate the numbers of cells with their mean mass (taken from [Bergstresser et al., 1978](https://www.sciencedirect.com/science/article/pii/S0022202X15452534)) to get an estimate for the total cellular mass, which we can compare to the one we got from the potassium content. "
   ]
  },
  {
   "cell_type": "code",
   "execution_count": 4,
   "metadata": {},
   "outputs": [
    {
     "name": "stdout",
     "output_type": "stream",
     "text": [
      "Number of total epidermal nucleated cells: (1.2±0.3)×10¹¹\n",
      "Average mass of epidermal nucleated cells: 830±32 pg\n",
      "____ _____ _____\n",
      "Total cellular mass of epidermal nucleated cells based on number estimate: 97±22 g\n",
      "Total cellular mass of epidermal cells based on number estimate (including corneocytes): 139±24 g\n",
      "Total cellular mass of the epidermis based potassium content: 108±38 g out of total mass of 121±20 g\n"
     ]
    }
   ],
   "source": [
    "surface_density_data = pd.read_excel('Skin_cells_data.xlsx','Surface_density',index_col=0, usecols=range(7))\n",
    "\n",
    "#fill in the entries of the table using the given data. Note that corneocytes aren't included in the nucleated cells.\n",
    "\n",
    "#using the average of Bergstresser et al., 1978 and Bauer et al., 2001 estimates and calculating SEM from them.\n",
    "nucSD = surface_density_data.loc['total nucelated cells','surface density cells/mm^2'].std()/np.sqrt(surface_density_data.loc['total nucelated cells'].index.size)\n",
    "surface_density_data=surface_density_data.groupby('cells').mean()\n",
    "surface_density_data.loc['total nucelated cells','SD']= nucSD\n",
    "\n",
    "surface_density_data.loc['Langerhans cells','% of nucleated cells'] =surface_density_data.loc['Langerhans cells','surface density cells/mm^2']/ surface_density_data.loc['total nucelated cells','surface density cells/mm^2']\n",
    "surface_density_data.loc['melanocytes',['surface density cells/mm^2','SD']] =surface_density_data.loc['melanocytes','% of nucleated cells']*surface_density_data.loc['total nucelated cells',['surface density cells/mm^2','SD']]\n",
    "\n",
    "surface_density_data.loc['keratinocytes','% of nucleated cells'] = 1-surface_density_data.loc[['Langerhans cells','melanocytes'],'% of nucleated cells'].sum(axis=0) \n",
    "surface_density_data.loc['keratinocytes',['surface density cells/mm^2','SD']] = surface_density_data.loc['keratinocytes','% of nucleated cells']*surface_density_data.loc['total nucelated cells',['surface density cells/mm^2','SD']]\n",
    "surface_density_data.loc['corneocytes','SD'] = surface_density_data.loc['corneocytes','surface density cells/mm^2']*surface_density_data.loc['total nucelated cells','SD']/surface_density_data.loc['total nucelated cells','surface density cells/mm^2']\n",
    "\n",
    "\n",
    "#combining the values with the error for further computations\n",
    "surface_density_data['density + error (cells/mm^2)'] = unumpy.uarray(surface_density_data['surface density cells/mm^2'],surface_density_data['SD'])\n",
    "surface_density_data['total cells'] = skin_prop['total surface area (m^2)'].sum(axis=0)*10**6*surface_density_data['density + error (cells/mm^2)']  #usingt the total surface area and translating m^2 to mm^2\n",
    "\n",
    "#extracting the mean celllar mass of nucleated and corneocytes, according to Bergstresser et al., 1978 data\n",
    "nuc_cell_mass = ufloat(mass_data.loc['nucleated cell volume','value'],mass_data.loc['nucleated cell volume','SD'])*1.05 #assuming density of 1.05g/cm^3 as for other cells. results in pg.\n",
    "cor_cell_mass = ufloat(mass_data.loc['corneocytes cell volume','value'],mass_data.loc['corneocytes cell volume','SD'])*1.05 \n",
    "\n",
    "#using the mean mass to compute the total mass of each of the cell type\n",
    "surface_density_data['cellular mass']=0\n",
    "surface_density_data.loc[surface_density_data['nucleated']==1,'cellular mass'] = nuc_cell_mass*surface_density_data.loc[surface_density_data['nucleated']==1,'total cells']/10**12 #translating pg to grams\n",
    "surface_density_data.loc['corneocytes','cellular mass'] = cor_cell_mass*surface_density_data.loc['corneocytes','total cells']/10**12\n",
    "\n",
    "\n",
    "print('Number of total epidermal nucleated cells: {:0.1eP}'.format(surface_density_data.loc['total nucelated cells','total cells']))\n",
    "print('Average mass of epidermal nucleated cells: {:0.0fP} pg'.format(nuc_cell_mass))\n",
    "\n",
    "print('____ _____ _____')\n",
    "\n",
    "print('Total cellular mass of epidermal nucleated cells based on number estimate: {:0.0fP} g'.format(surface_density_data.loc['total nucelated cells','cellular mass']))\n",
    "print('Total cellular mass of epidermal cells based on number estimate (including corneocytes): {:0.0fP} g'.format(surface_density_data.loc[['total nucelated cells','corneocytes'],\n",
    "                                                                                                                                         'cellular mass'].sum(axis=0)))\n",
    "print('Total cellular mass of the epidermis based potassium content: {:0.0fP} g'.format(skin_part_mass.loc['epidermis','cellular mass (g)']),\n",
    "      'out of total mass of {:0.0fP} g'.format(skin_part_mass.loc['epidermis','total mass (g)']))\n",
    "\n"
   ]
  },
  {
   "cell_type": "markdown",
   "metadata": {},
   "source": [
    "The two estimates for the cellular mass overlap, as they should. \n",
    "\n",
    "As kertinocytes dominant the cell population we focus on them. As corneocytes are essentially dead cells, we don't count them.\n",
    "\n",
    "saving the results for future extraction.\n",
    ":"
   ]
  },
  {
   "cell_type": "code",
   "execution_count": 5,
   "metadata": {},
   "outputs": [
    {
     "name": "stdout",
     "output_type": "stream",
     "text": [
      "Number of Epidermal cells is: (1.2±0.3)×10¹¹ cells\n",
      "Cell mass of Epidermal cells is: 830±30 pg\n",
      "Total cellular mass of Epidermal cells is: 100±20 grams\n"
     ]
    }
   ],
   "source": [
    "skin = CellTypesResDF(['Epidermal cells','Dermal fibroblasts'])\n",
    "skin.res.loc['Epidermal cells','number'] = surface_density_data.loc['total nucelated cells','total cells']\n",
    "\n",
    "skin.res.loc['Epidermal cells','cell mass'] = nuc_cell_mass\n",
    "\n",
    "skin.res.loc['Epidermal cells',\n",
    "             'total cellular mass'] = surface_density_data.loc['total nucelated cells','cellular mass']\n",
    "skin.print_params(['number','cell mass','total cellular mass'],'Epidermal cells')"
   ]
  },
  {
   "cell_type": "markdown",
   "metadata": {},
   "source": [
    "## Epidermal cells turnover\n",
    "The lifespan of keratinocytes was estimated by integration of labeling measurement with modeling of the turnover through three distinguish compartments in the epidermis:\n",
    "1. The germinative cell layer - the basal layer in which the cells are being produced.\n",
    "2. The overlying viable epidermis - the layers in which the keratinocytes are still viable.\n",
    "3. The Startum Corneum - the layers at the top that contain only dead cells (corneocytes)\n",
    "\n",
    "We are interested in the lifespan that include only the viable compartments - e.g the first two.\n",
    "\n",
    "During the 1970's-1980's several studies used estimates for the duration of the DNA synthesis (S-phase) and labeling indices, and the relation of cell density in them to estimate the turnover through the three compartments [Halprin, 1972](https://www.ncbi.nlm.nih.gov/pubmed/4551262), [Bergstresser and Taylor, 1977](https://www.ncbi.nlm.nih.gov/pubmed/871385), [Weinstein et al., 1984](https://www.ncbi.nlm.nih.gov/pubmed/6725985). We look at their values for the turnover and use the average of the main values as our reference.\n"
   ]
  },
  {
   "cell_type": "code",
   "execution_count": 8,
   "metadata": {},
   "outputs": [
    {
     "name": "stdout",
     "output_type": "stream",
     "text": [
      "Boxplot representing the distribution of the lifespan in the keratinocyte compartment\n",
      "The main body of the boxplot showing the quartiles (25%-75%) and the median (green horizontal line)\n",
      "The vertical lines extending to the most extreme, non-outlier data points\n"
     ]
    },
    {
     "data": {
      "image/png": "[encoded data removed]",
      "text/plain": [
       "<Figure size 432x288 with 1 Axes>"
      ]
     },
     "metadata": {
      "needs_background": "light"
     },
     "output_type": "display_data"
    }
   ],
   "source": [
    "epi_to_data = pd.read_excel('Skin_cells_data.xlsx','epidermal_turnoevr',index_col=0, usecols=range(7))\n",
    "\n",
    "#showing using boxplot\n",
    "plt.boxplot(epi_to_data['keratinocyte compartment'])\n",
    "plt.ylabel('lifespan in keratinocyte compartment')\n",
    "plt.xlabel('epidermal cells');\n",
    "\n",
    "print('Boxplot representing the distribution of the lifespan in the keratinocyte compartment')\n",
    "print('The main body of the boxplot showing the quartiles (25%-75%) and the median (green horizontal line)')\n",
    "print('The vertical lines extending to the most extreme, non-outlier data points')"
   ]
  },
  {
   "cell_type": "markdown",
   "metadata": {},
   "source": [
    "As it easy to see, Halprin maximal estiamtes is very high relative to the other and therfore we remove it and calcaulate the average and standard error without it.\n",
    "Using the lifespan and previous estimate we compute the total turnover rates:"
   ]
  },
  {
   "cell_type": "code",
   "execution_count": 9,
   "metadata": {},
   "outputs": [
    {
     "name": "stdout",
     "output_type": "stream",
     "text": [
      "Lifespan of Epidermal cells is: 31±4 days\n",
      "Cellular turnover rate of Epidermal cells is: (3.7±0.9)×10⁹ cells per day\n",
      "Cellular mass turnover rate of Epidermal cells is: 3.1±0.8 grams per day\n"
     ]
    }
   ],
   "source": [
    "skin.res.loc['Epidermal cells','lifespan'] = ufloat(epi_to_data.loc[epi_to_data['description']!='maximal',\n",
    "                                                                    'keratinocyte compartment'].mean(),\n",
    "                                                    epi_to_data.loc[epi_to_data['description']!='maximal',\n",
    "                                                                    'keratinocyte compartment'].std()/np.sqrt(epi_to_data.loc[epi_to_data['description']!='maximal',\n",
    "                                                                                                                              'keratinocyte compartment'].size))\n",
    "#turnover = number/mass divided by the lifespan\n",
    "\n",
    "skin.res.loc['Epidermal cells','cellular turnover rate'] = skin.res.loc['Epidermal cells','number']/skin.res.loc['Epidermal cells','lifespan']\n",
    "skin.res.loc['Epidermal cells',\n",
    "             'cellular mass turnover rate'] = skin.res.loc['Epidermal cells','total cellular mass']/skin.res.loc['Epidermal cells','lifespan']\n",
    "\n",
    "skin.print_params(['lifespan','cellular turnover rate','cellular mass turnover rate'],'Epidermal cells')"
   ]
  },
  {
   "cell_type": "markdown",
   "metadata": {},
   "source": [
    "## Dermal fibroblast\n",
    "\n",
    "Estimated to be 0.1% of the cells in the body. They are responsible for the secreting of the dermal extracellular matrix.\n",
    "\n",
    "### Dermal fibroblast numbers and mass\n",
    "Repeating the estimates made in [Sender et al., 2016](https://journals.plos.org/plosbiology/article?id=10.1371/journal.pbio.1002533) we use the cellular density in two parts of the dermis: papillary  and reticular.\n",
    "Multiplying data regarding cellular density in the layers [Randolph and Simon, 1998](https://www.ncbi.nlm.nih.gov/pubmed/9740244), [Miller  et al., 2003](https://www.ncbi.nlm.nih.gov/pubmed/12930296)  with the general data regarding the surfcace area and thickness of the skin and the fraction of the two parts [McGrath et al., 2004](https://onlinelibrary.wiley.com/doi/10.1002/9781444317633.ch3)"
   ]
  },
  {
   "cell_type": "code",
   "execution_count": 10,
   "metadata": {},
   "outputs": [
    {
     "name": "stdout",
     "output_type": "stream",
     "text": [
      "Number of Dermal fibroblasts is: (3.8±1.6)×10¹⁰ cells\n",
      "Cell mass of Dermal fibroblasts is: 2300±200 pg\n",
      "Total cellular mass of Dermal fibroblasts is: 90±40 grams\n"
     ]
    }
   ],
   "source": [
    "derm_fib_data = pd.read_excel('Skin_cells_data.xlsx','dermal_fib_data',index_col=0, usecols=range(6))\n",
    "derm_fib_data.head()\n",
    "\n",
    "skin_prop['pap der thick'] = skin_prop['dermal thickness (µm)']* ufloat(derm_fib_data.loc['papillary dermis portion','value'],derm_fib_data.loc['papillary dermis portion','SD'])\n",
    "skin_prop['ret der thick'] = skin_prop['dermal thickness (µm)']* ufloat(derm_fib_data.loc['reticular dermis portion','value'],derm_fib_data.loc['reticular dermis portion','SD'])\n",
    "\n",
    "ret_den= ufloat(derm_fib_data.loc['mid dermis fibroblast density/skin unit volume','value'],derm_fib_data.loc['mid dermis fibroblast density/skin unit volume','SD'])\n",
    "cv_ret = derm_fib_data.loc['mid dermis fibroblast density/skin unit volume','SD']/derm_fib_data.loc['mid dermis fibroblast density/skin unit volume','value']\n",
    "#assuming similar fraction of uncertainty (CV)\n",
    "pap_den = ufloat(derm_fib_data.loc['papillary fibroblast density/skin unit volume','value'],\n",
    "                 derm_fib_data.loc['papillary fibroblast density/skin unit volume','value']*cv_ret)\n",
    "\n",
    "#using the SA, depth and density to estimate the total number\n",
    "skin_prop['papillary fibroblast'] = skin_prop['pap der thick']*skin_prop['total surface area (m^2)']*pap_den \n",
    "skin_prop['reticular fibroblast'] = skin_prop['ret der thick']*skin_prop['total surface area (m^2)']*ret_den \n",
    "\n",
    "#summing the numbers and saving it in the results:\n",
    "skin.res.loc['Dermal fibroblasts','number'] = skin_prop['papillary fibroblast'].sum() + skin_prop['reticular fibroblast'].sum()\n",
    "\n",
    "\n",
    "skin.res.loc['Dermal fibroblasts','cell mass'] = 1.05 *ufloat(derm_fib_data.loc['fibroblast volume','value'], \n",
    "                                                              derm_fib_data.loc['fibroblast volume','SD'])\n",
    "\n",
    "skin.res.loc['Dermal fibroblasts',\n",
    "             'total cellular mass'] = skin.res.loc['Dermal fibroblasts','cell mass']*skin.res.loc['Dermal fibroblasts','number']/10**12\n",
    "\n",
    "skin.print_params(['number','cell mass','total cellular mass'] ,'Dermal fibroblasts')"
   ]
  },
  {
   "cell_type": "markdown",
   "metadata": {},
   "source": [
    "### Dermal Fibroblast turnover\n",
    "\n",
    "There is no direct measurment of the lifespan of human dermal fibroblast in-vivo , only irrelevant data from in-vitro expermints.\n",
    "We therfore use the known data measured in mouse ([Ruchti et al., 1983](https://www.ncbi.nlm.nih.gov/pubmed/6883461)) to get an extrapolated estimate to serve as an upper bound for the turnover in human"
   ]
  },
  {
   "cell_type": "code",
   "execution_count": 11,
   "metadata": {},
   "outputs": [
    {
     "name": "stdout",
     "output_type": "stream",
     "text": [
      "Lifespan in rodents of Dermal fibroblasts is: 140±20 days\n",
      "Extrapolated cellular turnover rate of Dermal fibroblasts is: (2.7±1.2)×10⁸ cells per day\n",
      "Extrapolated cellular mass turnover rate of Dermal fibroblasts is: 0.6±0.3 grams per day\n"
     ]
    }
   ],
   "source": [
    "skin.res.loc['Dermal fibroblasts','lifespan in rodents'] = ufloat(derm_fib_data.loc['mouse dermal fibroblast lifespan','value'],\n",
    "                                                                  derm_fib_data.loc['mouse dermal fibroblast lifespan','SD'])\n",
    "\n",
    "skin.res.loc['Dermal fibroblasts',\n",
    "             'extrapolated cellular turnover rate'] = skin.res.loc['Dermal fibroblasts','number']/skin.res.loc['Dermal fibroblasts',\n",
    "                                                                                                               'lifespan in rodents']\n",
    "\n",
    "skin.res.loc['Dermal fibroblasts',\n",
    "             'extrapolated cellular mass turnover rate'] = skin.res.loc['Dermal fibroblasts',\n",
    "                                                                        'total cellular mass']/skin.res.loc['Dermal fibroblasts','lifespan in rodents']\n",
    "\n",
    "skin.print_params(['lifespan in rodents','extrapolated cellular turnover rate',\n",
    "                   'extrapolated cellular mass turnover rate'], 'Dermal fibroblasts')"
   ]
  },
  {
   "cell_type": "markdown",
   "metadata": {},
   "source": [
    "## Saving the results to excell"
   ]
  },
  {
   "cell_type": "code",
   "execution_count": 12,
   "metadata": {},
   "outputs": [],
   "source": [
    "skin.export_to_excel('Summary.xlsx')"
   ]
  }
 ],
 "metadata": {
  "kernelspec": {
   "display_name": "Python 3",
   "language": "python",
   "name": "python3"
  },
  "language_info": {
   "codemirror_mode": {
    "name": "ipython",
    "version": 3
   },
   "file_extension": ".py",
   "mimetype": "text/x-python",
   "name": "python",
   "nbconvert_exporter": "python",
   "pygments_lexer": "ipython3",
   "version": "3.7.3"
  }
 },
 "nbformat": 4,
 "nbformat_minor": 2
}
