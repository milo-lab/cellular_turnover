{
 "cells": [
  {
   "cell_type": "code",
   "execution_count": 453,
   "metadata": {},
   "outputs": [],
   "source": [
    "# loading all the dependencies\n",
    "import pandas as pd\n",
    "import numpy as np\n",
    "pd.options.display.float_format ='{:,.1f}'.format\n",
    "import matplotlib.pyplot as plt\n",
    "\n",
    "%matplotlib inline  \n",
    "from scipy.stats import gmean\n",
    "from scipy import integrate\n",
    "from openpyxl import load_workbook\n",
    "\n",
    "import uncertainties as uc\n",
    "from uncertainties import ufloat\n",
    "from uncertainties import unumpy\n",
    "%run Utility_Functions.ipynb"
   ]
  },
  {
   "cell_type": "markdown",
   "metadata": {},
   "source": [
    "# GIT Epithelial cells\n",
    "\n",
    "We refer to two main segments of the GI tract: small intestine and colon. We estimate the number of epithelial cell (enterocytes) lining the segments and their turnover rates, in terms of cell number and mass.\n",
    "\n",
    "## Small intestine epithelial cells\n",
    "\n",
    "We calculate the daily replacment rate of the small intestine epithelial cells in 3 steps:\n",
    "1. Updated estimates for the cell number - in two ways:\n",
    "    a. using the volume of the villi \n",
    "    b. using the surface area of the villi and crypt\n",
    "2. Updated cell turnover time estimate - using data from a recent meta-anlysis  \n",
    "3. Comprison to direct measurement of DNA driven from [Croft et al.,1968](http://www.thelancet.com/journals/lancet/article/PIIS0140-6736(68)90355-3/fulltext)  \n"
   ]
  },
  {
   "cell_type": "markdown",
   "metadata": {},
   "source": [
    "### Cells number \n",
    "previous estimate vary in the range of 0.2-7x10^11 cells ( [Snyder et al.,1975](http://www.icrp.org/publication.asp?id=ICRP%20Publication%2023) , [Bianconi et al.,2003](https://www.ncbi.nlm.nih.gov/pubmed/23829164) )  \n",
    "We use new data regarding the total surface area (SA) of the small intestine [Helander & Fändriks, 2014](https://www.ncbi.nlm.nih.gov/pubmed/24694282) to calculate the number of cells in two methods:\n",
    "1. calculation of villi and crypt numbers, and the number of cells in each: both from a volume prespective and from surface area considerations.\n",
    "2. sanity check, by dividing the total SA by a single cell SA "
   ]
  },
  {
   "cell_type": "markdown",
   "metadata": {},
   "source": [
    "### Revised estimate for total SA of small intestine\n",
    "The next table shows a previous ( [Snyder et al.,1975](http://www.icrp.org/publication.asp?id=ICRP%20Publication%2023)) and a recent    ([Helander & Fändriks, 2014](https://www.ncbi.nlm.nih.gov/pubmed/24694282)) estimates for the total SA of the small intestine.\n",
    "\n",
    "The revised values are taken from the recent [Helander & Fändriks, 2014](https://www.ncbi.nlm.nih.gov/pubmed/24694282) paper, in which, they measured the magnification factors due to each of the levels: subcellular (microvilli), cellular (villi) and morphological (plicae).They used biopsy samples to conclude that the overall surface area of the small intestine is about 30 m^2. In their paper they summerize neatly: \"The total area of the human adult gut mucosa is not in the order of tennis lawn, rather is that of half a badminton court\".\n",
    "\n",
    "Notice that the table includes also the magnification factors for each of the relevant levels. Consider that the villi level is the last level relevant for the epithel cells, as microvilli are subcellular size."
   ]
  },
  {
   "cell_type": "code",
   "execution_count": 2,
   "metadata": {},
   "outputs": [
    {
     "data": {
      "text/html": [
       "<div>\n",
       "<style scoped>\n",
       "    .dataframe tbody tr th:only-of-type {\n",
       "        vertical-align: middle;\n",
       "    }\n",
       "\n",
       "    .dataframe tbody tr th {\n",
       "        vertical-align: top;\n",
       "    }\n",
       "\n",
       "    .dataframe thead th {\n",
       "        text-align: right;\n",
       "    }\n",
       "</style>\n",
       "<table border=\"1\" class=\"dataframe\">\n",
       "  <thead>\n",
       "    <tr style=\"text-align: right;\">\n",
       "      <th></th>\n",
       "      <th>level</th>\n",
       "      <th>factor 1975</th>\n",
       "      <th>SA [m^2]</th>\n",
       "      <th>factor 2014</th>\n",
       "      <th>revised SA [m^2]</th>\n",
       "    </tr>\n",
       "  </thead>\n",
       "  <tbody>\n",
       "    <tr>\n",
       "      <th>0</th>\n",
       "      <td>cylinder approximation</td>\n",
       "      <td>1</td>\n",
       "      <td>0.3</td>\n",
       "      <td>1.0</td>\n",
       "      <td>0.2</td>\n",
       "    </tr>\n",
       "    <tr>\n",
       "      <th>1</th>\n",
       "      <td>Valves of Kerckring (plicae)</td>\n",
       "      <td>3</td>\n",
       "      <td>1.0</td>\n",
       "      <td>1.6</td>\n",
       "      <td>0.4</td>\n",
       "    </tr>\n",
       "    <tr>\n",
       "      <th>2</th>\n",
       "      <td>Villi</td>\n",
       "      <td>10</td>\n",
       "      <td>10.0</td>\n",
       "      <td>6.5</td>\n",
       "      <td>2.3</td>\n",
       "    </tr>\n",
       "    <tr>\n",
       "      <th>3</th>\n",
       "      <td>Microvilli</td>\n",
       "      <td>20</td>\n",
       "      <td>200.0</td>\n",
       "      <td>13.0</td>\n",
       "      <td>30.3</td>\n",
       "    </tr>\n",
       "  </tbody>\n",
       "</table>\n",
       "</div>"
      ],
      "text/plain": [
       "                          level  factor 1975  SA [m^2]  factor 2014  \\\n",
       "0        cylinder approximation            1       0.3          1.0   \n",
       "1  Valves of Kerckring (plicae)            3       1.0          1.6   \n",
       "2                         Villi           10      10.0          6.5   \n",
       "3                    Microvilli           20     200.0         13.0   \n",
       "\n",
       "   revised SA [m^2]   \n",
       "0                0.2  \n",
       "1                0.4  \n",
       "2                2.3  \n",
       "3               30.3  "
      ]
     },
     "execution_count": 2,
     "metadata": {},
     "output_type": "execute_result"
    }
   ],
   "source": [
    "# Load the data regarding the SA of the small intestine taken from Snyder and Helander & Fändriks.\n",
    "SAdata = pd.read_excel('GIT_epithel_data.xlsx','small_intestine_SA_data',skiprows=1)\n",
    "SAdata"
   ]
  },
  {
   "cell_type": "markdown",
   "metadata": {},
   "source": [
    "We consider the revised surface area from 2014 at the level of the villi"
   ]
  },
  {
   "cell_type": "code",
   "execution_count": 3,
   "metadata": {},
   "outputs": [
    {
     "name": "stdout",
     "output_type": "stream",
     "text": [
      "revised total SA 2.3 m^2\n"
     ]
    }
   ],
   "source": [
    "revised_SA = SAdata.loc[SAdata['level']=='Villi']['revised SA [m^2] ']\n",
    "print('revised total SA %.1f m^2' %revised_SA) \n"
   ]
  },
  {
   "cell_type": "markdown",
   "metadata": {},
   "source": [
    "### Number of epithel through villi and crypts\n",
    "Using the revised SA we use a method similiar to the one in [Snyder et al.,1975](http://www.icrp.org/publication.asp?id=ICRP%20Publication%2023) to calculate the number of epithel cells in the small intestine.\n",
    "\n",
    "We first summarize available data from literature regaring humans, and several additional animals:\n",
    "1. Rabbit - [Hyun et al., 1995](https://www.ncbi.nlm.nih.gov/pubmed/7797012)\n",
    "2. Rat - [Tasman-James et al., 1982](https://www.ncbi.nlm.nih.gov/pubmed/6282549), [Hosoyamada et al., 2005](https://www.ncbi.nlm.nih.gov/pubmed/16044319)\n",
    "3. Pig - [Lauronen et al.,1998](https://www.ncbi.nlm.nih.gov/pubmed/9517525) , [Mekbungwan et al., 2002]()\n",
    "4. Dog - Krogh, 1922\n",
    "5. Human - [Marsh & Swift, 1969](https://www.ncbi.nlm.nih.gov/pmc/articles/PMC1553048/), [Loehry & Creamer, 1969](https://www.ncbi.nlm.nih.gov/pmc/articles/PMC1552697/), Bohm & Von Davidoff, 1928, [Crowe et al., 1993](https://www.ncbi.nlm.nih.gov/pubmed/8333150)"
   ]
  },
  {
   "cell_type": "code",
   "execution_count": 353,
   "metadata": {
    "scrolled": false
   },
   "outputs": [
    {
     "data": {
      "text/html": [
       "<div>\n",
       "<style scoped>\n",
       "    .dataframe tbody tr th:only-of-type {\n",
       "        vertical-align: middle;\n",
       "    }\n",
       "\n",
       "    .dataframe tbody tr th {\n",
       "        vertical-align: top;\n",
       "    }\n",
       "\n",
       "    .dataframe thead th {\n",
       "        text-align: right;\n",
       "    }\n",
       "</style>\n",
       "<table border=\"1\" class=\"dataframe\">\n",
       "  <thead>\n",
       "    <tr style=\"text-align: right;\">\n",
       "      <th></th>\n",
       "      <th>rabbit</th>\n",
       "      <th>rat</th>\n",
       "      <th>pigs</th>\n",
       "      <th>dog</th>\n",
       "      <th>human</th>\n",
       "    </tr>\n",
       "    <tr>\n",
       "      <th>parameter</th>\n",
       "      <th></th>\n",
       "      <th></th>\n",
       "      <th></th>\n",
       "      <th></th>\n",
       "      <th></th>\n",
       "    </tr>\n",
       "  </thead>\n",
       "  <tbody>\n",
       "    <tr>\n",
       "      <th>villi height [mum]</th>\n",
       "      <td>630.0</td>\n",
       "      <td>475.0</td>\n",
       "      <td>350.0</td>\n",
       "      <td>550.0</td>\n",
       "      <td>nan</td>\n",
       "    </tr>\n",
       "    <tr>\n",
       "      <th>villi diameter [mum]</th>\n",
       "      <td>90.0</td>\n",
       "      <td>120.0</td>\n",
       "      <td>110.0</td>\n",
       "      <td>225.0</td>\n",
       "      <td>nan</td>\n",
       "    </tr>\n",
       "    <tr>\n",
       "      <th>villus surface area  [mum2]</th>\n",
       "      <td>nan</td>\n",
       "      <td>nan</td>\n",
       "      <td>0.0</td>\n",
       "      <td>430,000.0</td>\n",
       "      <td>nan</td>\n",
       "    </tr>\n",
       "    <tr>\n",
       "      <th>entrocytes/villus</th>\n",
       "      <td>194.0</td>\n",
       "      <td>nan</td>\n",
       "      <td>nan</td>\n",
       "      <td>nan</td>\n",
       "      <td>nan</td>\n",
       "    </tr>\n",
       "    <tr>\n",
       "      <th>No. of villi /mm (1-d section)</th>\n",
       "      <td>nan</td>\n",
       "      <td>nan</td>\n",
       "      <td>6.0</td>\n",
       "      <td>nan</td>\n",
       "      <td>nan</td>\n",
       "    </tr>\n",
       "  </tbody>\n",
       "</table>\n",
       "</div>"
      ],
      "text/plain": [
       "                                rabbit   rat  pigs       dog  human\n",
       "parameter                                                          \n",
       "villi height [mum]               630.0 475.0 350.0     550.0    nan\n",
       "villi diameter [mum]              90.0 120.0 110.0     225.0    nan\n",
       "villus surface area  [mum2]        nan   nan   0.0 430,000.0    nan\n",
       "entrocytes/villus                194.0   nan   nan       nan    nan\n",
       "No. of villi /mm (1-d section)     nan   nan   6.0       nan    nan"
      ]
     },
     "execution_count": 353,
     "metadata": {},
     "output_type": "execute_result"
    }
   ],
   "source": [
    "VnCdata = pd.read_excel('GIT_epithel_data.xlsx','villi_and_crypts_data',skiprows=1,index_col=0,usecols = 'A:F')\n",
    "VnCdata.head()"
   ]
  },
  {
   "cell_type": "markdown",
   "metadata": {},
   "source": [
    "Focusing on the data regarding humans, we drop some of the less relevant parameters"
   ]
  },
  {
   "cell_type": "code",
   "execution_count": 356,
   "metadata": {},
   "outputs": [],
   "source": [
    "humanVnC = VnCdata['human']\n",
    "humanVnC\n",
    "\n",
    "humanVnC = humanVnC.drop(['No. of villi /mm (1-d section)','villus density - Ileum [vill./m2]','villus density - Jejunum [vill./m2]',\n",
    "                  'No. of cryptes /mm (1-d section)','epithelial cells in villi  [per mum]','villus surface area  [mum2]',\n",
    "               'entrocytes/villus','villus density [vill./m2]','Crypts cells  [per mum]'])\n"
   ]
  },
  {
   "cell_type": "markdown",
   "metadata": {},
   "source": [
    "We now use the data taken from the animals studies as estimates for the human villi's and crypt's parameters, by taking the means of the relevant data "
   ]
  },
  {
   "cell_type": "code",
   "execution_count": 357,
   "metadata": {},
   "outputs": [
    {
     "data": {
      "text/plain": [
       "parameter\n",
       "villi height [mum]                      501.2\n",
       "villi diameter [mum]                    136.2\n",
       "crypts depths [mum]                     385.0\n",
       "crypts diameter [mum]                   100.0\n",
       "Crypts density [crypts/m2]                nan\n",
       "epithelial cells diameter [mum]           7.5\n",
       "calculated epithelial cells SA [mum2]    44.2\n",
       "epithelial cell volume [mum3]           800.0\n",
       "epithelial cell volume error [mum3]     150.0\n",
       "crypt to villi ratio                      3.0\n",
       "Name: human, dtype: float64"
      ]
     },
     "execution_count": 357,
     "metadata": {},
     "output_type": "execute_result"
    }
   ],
   "source": [
    "humanVnC[['villi height [mum]','villi diameter [mum]']] = VnCdata.loc[['villi height [mum]','villi diameter [mum]']].mean(axis=1)\n",
    "humanVnC"
   ]
  },
  {
   "cell_type": "markdown",
   "metadata": {},
   "source": [
    "#### Method for enterocytes number estimations from villi and crypts data\n",
    "In order to estimate the number of epithelial cell, we calculte the number of cell in each villi in two ways:\n",
    "1. looking at the volume of a villous, and dividing by the volume of a single entrocytes.\n",
    "2. looking at the villous surface area and dividing by the surface area if a single entrocytes.\n",
    "we then multiply by the total number of villi to get a an estimate for the total number of villi entrocytes. \n",
    "\n",
    "For the crypts we use only the surface area method, combined with the number of crypts, given by the villi to ctrypt ratio .  \n",
    "\n",
    "Summing the two parts we get two estimates for the number of entrocytes, which we average for a reference value."
   ]
  },
  {
   "cell_type": "markdown",
   "metadata": {},
   "source": [
    "#### villi entrocytes density calculation from volume \n",
    "we repeat the calculation from [Crosby, 1961](https://link.springer.com/article/10.1007/BF02231066) using the inside volume of the villus, that is filled with entrocytes:\n",
    "\n",
    "we first calculate the number of entrocytes in a villus, from volume considerations:"
   ]
  },
  {
   "cell_type": "code",
   "execution_count": 7,
   "metadata": {},
   "outputs": [],
   "source": [
    "villus_total_volume =  humanVnC['villi height [mum]']*np.pi*( humanVnC['villi diameter [mum]']/2)**2\n",
    "villus_inside_diameter =  50 #asuming width for calculation\n",
    "villus_core_volume =  humanVnC['villi height [mum]']*np.pi*(villus_inside_diameter/2)**2 #the volume surrunded by the villi\n",
    "villus_cells_volume = villus_total_volume - villus_core_volume \n",
    "cells_per_villus = villus_cells_volume / humanVnC['epithelial cell volume [mum3]'] \n"
   ]
  },
  {
   "cell_type": "markdown",
   "metadata": {},
   "source": [
    "we then multiply by the number of villi to conclude:"
   ]
  },
  {
   "cell_type": "code",
   "execution_count": 8,
   "metadata": {},
   "outputs": [
    {
     "name": "stdout",
     "output_type": "stream",
     "text": [
      "7.9e+10 villi enterocytes\n"
     ]
    }
   ],
   "source": [
    "villi_total_number = 10**7 #from Crosby\n",
    "vol_villi_entrocytes = villi_total_number * cells_per_villus\n",
    "\n",
    "print('%.1e villi enterocytes' %(vol_villi_entrocytes))"
   ]
  },
  {
   "cell_type": "markdown",
   "metadata": {},
   "source": [
    "#### villi  entrocytes density calculation from surface area \n",
    "We now use use the surface area to calculate the overall number of entrocytes, first in  the villi and next in the cryptes. A similiar method was used in [Bianconi et al.,2003](https://www.ncbi.nlm.nih.gov/pubmed/23829164) ) "
   ]
  },
  {
   "cell_type": "code",
   "execution_count": 9,
   "metadata": {},
   "outputs": [
    {
     "name": "stdout",
     "output_type": "stream",
     "text": [
      "3.4e+10 villi entrocytes\n"
     ]
    }
   ],
   "source": [
    "cyl_villus_SA = np.pi * humanVnC['villi height [mum]']* humanVnC['villi diameter [mum]'] #asumming cylinder\n",
    "\n",
    "# we want to adjust the shape of the villus using data from pigs\n",
    "pig_cyl_villus_SA = np.pi*VnCdata['pigs']['villi height [mum]']*VnCdata['pigs']['villi diameter [mum]']\n",
    "factor_cyl2shapen = (VnCdata['pigs']['villus surface area  [mum2]']*10**12)/pig_cyl_villus_SA #[pig villus SA given in m^2\n",
    "#adjusting by the factor\n",
    "adj_villus_SA= factor_cyl2shapen * cyl_villus_SA\n",
    "\n",
    "#for reference SA we take the average of both estimates\n",
    "villus_SA = np.mean([adj_villus_SA, cyl_villus_SA])\n",
    "\n",
    "#concluding the number of villi entrocytes from SA calculations\n",
    "sa_cells_per_villus = villus_SA / humanVnC['calculated epithelial cells SA [mum2]'] \n",
    "\n",
    "sa_villi_entrocytes = villi_total_number * sa_cells_per_villus\n",
    "\n",
    "\n",
    "print('%.1e villi entrocytes' %(sa_villi_entrocytes))\n"
   ]
  },
  {
   "cell_type": "markdown",
   "metadata": {},
   "source": [
    "#### crypts entrocytes density calculation from surface area \n",
    "For crypts entrocytes we use the ratio between villi and crypts to calcultae their overall SA "
   ]
  },
  {
   "cell_type": "code",
   "execution_count": 10,
   "metadata": {
    "scrolled": true
   },
   "outputs": [
    {
     "name": "stdout",
     "output_type": "stream",
     "text": [
      "5.8e+10 crypts entrocytes\n"
     ]
    }
   ],
   "source": [
    "# calculating crypt SA as cylinder and adjusting as in villi \n",
    "cyl_crypt_SA = np.pi * humanVnC['crypts depths [mum]']* humanVnC['crypts diameter [mum]'] #asumming cylinder\n",
    "crypt_SA = cyl_crypt_SA * villus_SA/cyl_villus_SA\n",
    "\n",
    "sa_cells_per_crypt = crypt_SA/humanVnC['calculated epithelial cells SA [mum2]'] \n",
    "\n",
    "crypts_total_number = humanVnC['crypt to villi ratio'] * villi_total_number\n",
    "\n",
    "sa_crypt_entrocytes = crypts_total_number * sa_cells_per_crypt\n",
    "\n",
    "\n",
    "print('%.1e crypts entrocytes' %(sa_crypt_entrocytes))\n"
   ]
  },
  {
   "cell_type": "markdown",
   "metadata": {},
   "source": [
    "#### Total estimates from villi and crypt data\n",
    "We use the calculations from SA and volume to conclude two seperate estimate for the number of entrocytes, that would be integrated with the next method of estimation."
   ]
  },
  {
   "cell_type": "code",
   "execution_count": 11,
   "metadata": {},
   "outputs": [
    {
     "name": "stdout",
     "output_type": "stream",
     "text": [
      "1.4e+11 total entrocytes from volume estimates\n",
      "9.2e+10 total entrocytes from SA estimates\n"
     ]
    }
   ],
   "source": [
    "print('%.1e total entrocytes from volume estimates' %(sa_crypt_entrocytes + vol_villi_entrocytes))\n",
    "print('%.1e total entrocytes from SA estimates' %(sa_crypt_entrocytes + sa_villi_entrocytes))\n"
   ]
  },
  {
   "cell_type": "markdown",
   "metadata": {},
   "source": [
    "#### Method for entrocytes number estimations based on data from mucosa slices\n",
    "We can get another estimate using data regarding epithelial cell volume in mucaosal slices, from [Crowe et al., 1993](https://www.ncbi.nlm.nih.gov/pubmed/8333150) and [Marsh et al., 2000](https://www.ncbi.nlm.nih.gov/pubmed/21374437) \n",
    "\n",
    "Crowe et al. measured the volume of epithelial cells, in slices taken from muscularis mucosae.\n",
    "Using their measurments of entrocyte mean volume, and the surface area of the small intestine, we can derive the number of epithelial cells in the entire small intestine. \n"
   ]
  },
  {
   "cell_type": "code",
   "execution_count": 12,
   "metadata": {},
   "outputs": [
    {
     "name": "stdout",
     "output_type": "stream",
     "text": [
      "1.3e+11 total entrocytes estimate based on muscularis_mucosae slices\n"
     ]
    }
   ],
   "source": [
    "slices_area=10000 #  the area of slices thaken from the layer of the muscularis_mucosae, in µm2,\n",
    "volume_of_villi_epithelium = 2.3*10**6 #in µm3, for the slice\n",
    "volume_of_crypts_epithelium = 5*10**5  #in µm3, for the slice\n",
    "\n",
    "entrocyte_mass = humanVnC['epithelial cell volume [mum3]']  \n",
    "\n",
    "#dividing the total epithelium volume by the volume of a cell we get estimate for the number of cells in a slice\n",
    "villi_entrocytes_per_area=volume_of_villi_epithelium/entrocyte_mass\n",
    "crypts_entrocytes_per_area=volume_of_crypts_epithelium/entrocyte_mass\n",
    "\n",
    "#for the muscularis_mucosae we should take in acount the sruface area including the plicae\n",
    "# (SI = small intestine)\n",
    "relevant_SI_surface_area = SAdata.loc[SAdata['level']=='Valves of Kerckring (plicae)']['revised SA [m^2] ']\n",
    "relevant_SI_surface_area = relevant_SI_surface_area*10**12 #moving from m^2 to µm^2\n",
    "\n",
    "slices_in_SI =relevant_SI_surface_area/slices_area\n",
    "\n",
    "#multypling the number of cells in a slice by the number of slices we get the total number of cells\n",
    "total_villi_entrocytes = slices_in_SI*villi_entrocytes_per_area\n",
    "total_crypts_entrocytes = slices_in_SI*crypts_entrocytes_per_area\n",
    "\n",
    "total_entroctes_slices = total_villi_entrocytes+total_crypts_entrocytes \n",
    "\n",
    "print('%.1e total entrocytes estimate based on muscularis_mucosae slices' %total_entroctes_slices)\n"
   ]
  },
  {
   "cell_type": "markdown",
   "metadata": {},
   "source": [
    "#### Reference number of epithelial cells in the small intestine\n",
    "From the three ways to calculate the number of entrocytes in the small intestine (villi and crypts data and data from mucosa slices) we get a  value of about 10^11 cells.\n",
    "We save the results in a dataframe to be saved to excel later:"
   ]
  },
  {
   "cell_type": "code",
   "execution_count": 301,
   "metadata": {},
   "outputs": [
    {
     "name": "stdout",
     "output_type": "stream",
     "text": [
      "Reference numebr of small intestine epithelial cells: (1.2±0.2)×10¹¹\n"
     ]
    }
   ],
   "source": [
    "entrocyte_results = pd.DataFrame(index = ['Stomach','Small intestine','Colon'],\n",
    "                      columns=['number','lifespan','cellular turnovr rate','cell mass','cellular mass turnovr rate','total cellular mass'])\n",
    "\n",
    "\n",
    "ref_cells_num = np.mean([sa_crypt_entrocytes + vol_villi_entrocytes,sa_crypt_entrocytes + sa_villi_entrocytes,total_entroctes_slices])\n",
    "\n",
    "ref_cell_delta = np.std([sa_crypt_entrocytes + vol_villi_entrocytes,sa_crypt_entrocytes + sa_villi_entrocytes,total_entroctes_slices])\n",
    "\n",
    "entrocyte_results.loc['Small intestine','number'] = ufloat(np.mean([sa_crypt_entrocytes + vol_villi_entrocytes,sa_crypt_entrocytes + sa_villi_entrocytes,total_entroctes_slices]),\n",
    "                                                           np.std([sa_crypt_entrocytes + vol_villi_entrocytes,sa_crypt_entrocytes + sa_villi_entrocytes,total_entroctes_slices]))\n",
    "\n",
    "print('Reference numebr of small intestine epithelial cells: {:0.1eP}'.format(entrocyte_results.loc['Small intestine','number']))\n"
   ]
  },
  {
   "cell_type": "markdown",
   "metadata": {},
   "source": [
    "#### Sanity check for number of entrocytes - using total SA\n",
    " For reference we can compare to a value by dividing the total SA to entrocytes SA"
   ]
  },
  {
   "cell_type": "code",
   "execution_count": 14,
   "metadata": {},
   "outputs": [
    {
     "name": "stdout",
     "output_type": "stream",
     "text": [
      "SA sanity check: 5.3e+10 cells\n"
     ]
    }
   ],
   "source": [
    "print('SA sanity check: %.1e cells'% (revised_SA*10**12/humanVnC['calculated epithelial cells SA [mum2]'])) #revised SA given in m^2"
   ]
  },
  {
   "cell_type": "markdown",
   "metadata": {},
   "source": [
    "### Number of colon epithelial cells\n",
    "To estimate the number of cells in the colon we use data regarding the areal density of crypts ([Qi et al., 2008](https://www.ncbi.nlm.nih.gov/pubmed/19021435)) together with estimates for the surface area of the colon ([Helander and Fandriks, 2014](https://www.ncbi.nlm.nih.gov/pubmed/24694282)) and the number of cell in a given crypt ([Nooteboom et al., 2010](https://www.ncbi.nlm.nih.gov/pmc/articles/PMC2816353/)) \n",
    "\n",
    "We use an estimates based on extrapolation from rats ([Mehl, 1991](https://www.ncbi.nlm.nih.gov/pubmed/1650408)) as a sanity check "
   ]
  },
  {
   "cell_type": "code",
   "execution_count": 302,
   "metadata": {},
   "outputs": [
    {
     "name": "stdout",
     "output_type": "stream",
     "text": [
      "Reference numebr of colon epithelial cells: (5.6±2.0)×10¹⁰\n",
      "Sanity check - numebr of colon epithelial cells based on extrapolation from rat : 5.8e+10\n"
     ]
    }
   ],
   "source": [
    "colon_data = pd.read_excel('GIT_epithel_data.xlsx','colon_properties',index_col=0, usecols = range(6))\n",
    "\n",
    "#combining the mean value and the SD using uncertainty package\n",
    "colon_data['values + SD'] =unumpy.uarray(colon_data['value'],colon_data['SD']) \n",
    "\n",
    "#the number of crypt is given by the multiplication of the density of crypts by the surface area\n",
    "num_crypts = colon_data.loc['crypt density','values + SD']*colon_data.loc['colon surface area','values + SD']\n",
    "\n",
    "#the total number of cells is given by the number of crypts mutplied by the number of cell in each one\n",
    "entrocyte_results.loc['Colon','number'] = num_crypts*colon_data.loc['cells in crypt','values + SD']\n",
    "\n",
    "print('Reference numebr of colon epithelial cells: {:0.1eP}'.format(entrocyte_results.loc['Colon','number']))\n",
    "\n",
    "#for sanity check we can use the estimate from Mehl, 1991 based on extrapolation from rat:\n",
    "num_from_rat = colon_data.loc['cells in rat colon','value']*colon_data.loc['man mass','value']/colon_data.loc['rat mass','value']\n",
    "print('Sanity check - numebr of colon epithelial cells based on extrapolation from rat : {:0.1e}'.format(num_from_rat))\n"
   ]
  },
  {
   "cell_type": "markdown",
   "metadata": {},
   "source": [
    "### Mass of small intestine and colon epithelial cells\n",
    "We use data regarding the size of small intestine enterocyte from [Crow and Marsh, 1993](https://www.ncbi.nlm.nih.gov/pubmed/8333150).\n",
    "As the epithelial cells of the colon are very similar to these of the small intestine we use the same mass as reference for the colonic cells."
   ]
  },
  {
   "cell_type": "code",
   "execution_count": 362,
   "metadata": {},
   "outputs": [
    {
     "data": {
      "text/html": [
       "<div>\n",
       "<style scoped>\n",
       "    .dataframe tbody tr th:only-of-type {\n",
       "        vertical-align: middle;\n",
       "    }\n",
       "\n",
       "    .dataframe tbody tr th {\n",
       "        vertical-align: top;\n",
       "    }\n",
       "\n",
       "    .dataframe thead th {\n",
       "        text-align: right;\n",
       "    }\n",
       "</style>\n",
       "<table border=\"1\" class=\"dataframe\">\n",
       "  <thead>\n",
       "    <tr style=\"text-align: right;\">\n",
       "      <th></th>\n",
       "      <th>number</th>\n",
       "      <th>lifespan</th>\n",
       "      <th>cellular turnovr rate</th>\n",
       "      <th>cell mass</th>\n",
       "      <th>cellular mass turnovr rate</th>\n",
       "      <th>total cellular mass</th>\n",
       "    </tr>\n",
       "  </thead>\n",
       "  <tbody>\n",
       "    <tr>\n",
       "      <th>Stomach</th>\n",
       "      <td>(1.7+/-0.4)e+10</td>\n",
       "      <td>3.46+/-0.27</td>\n",
       "      <td>NaN</td>\n",
       "      <td>(8.1+/-0.9)e+02</td>\n",
       "      <td>NaN</td>\n",
       "      <td>14.1+/-2.5</td>\n",
       "    </tr>\n",
       "    <tr>\n",
       "      <th>Small intestine</th>\n",
       "      <td>(1.18+/-0.19)e+11</td>\n",
       "      <td>2.8+/-0.7</td>\n",
       "      <td>NaN</td>\n",
       "      <td>(8.4+/-1.6)e+02</td>\n",
       "      <td>NaN</td>\n",
       "      <td>99+/-25</td>\n",
       "    </tr>\n",
       "    <tr>\n",
       "      <th>Colon</th>\n",
       "      <td>(5.6+/-2.0)e+10</td>\n",
       "      <td>2.8+/-0.5</td>\n",
       "      <td>NaN</td>\n",
       "      <td>(8.4+/-1.6)e+02</td>\n",
       "      <td>NaN</td>\n",
       "      <td>47+/-19</td>\n",
       "    </tr>\n",
       "  </tbody>\n",
       "</table>\n",
       "</div>"
      ],
      "text/plain": [
       "                            number     lifespan cellular turnovr rate  \\\n",
       "Stomach            (1.7+/-0.4)e+10  3.46+/-0.27                   NaN   \n",
       "Small intestine  (1.18+/-0.19)e+11    2.8+/-0.7                   NaN   \n",
       "Colon              (5.6+/-2.0)e+10    2.8+/-0.5                   NaN   \n",
       "\n",
       "                       cell mass cellular mass turnovr rate  \\\n",
       "Stomach          (8.1+/-0.9)e+02                        NaN   \n",
       "Small intestine  (8.4+/-1.6)e+02                        NaN   \n",
       "Colon            (8.4+/-1.6)e+02                        NaN   \n",
       "\n",
       "                total cellular mass  \n",
       "Stomach                  14.1+/-2.5  \n",
       "Small intestine             99+/-25  \n",
       "Colon                       47+/-19  "
      ]
     },
     "execution_count": 362,
     "metadata": {},
     "output_type": "execute_result"
    }
   ],
   "source": [
    "mass_density = 1.05\n",
    "entrocyte_mass = ufloat(humanVnC['epithelial cell volume [mum3]'], humanVnC['epithelial cell volume error [mum3]'])*mass_density\n",
    "\n",
    "for segment in ['Small intestine', 'Colon']:\n",
    "    entrocyte_results.loc[segment,'cell mass'] = entrocyte_mass\n",
    "    entrocyte_results.loc[segment,'total cellular mass'] = entrocyte_mass*entrocyte_results.loc[segment,'number']/10**12\n"
   ]
  },
  {
   "cell_type": "markdown",
   "metadata": {},
   "source": [
    "### Number and mass of stomach epithelial cells\n",
    "\n",
    "To estimate the number of relevant epithelial cell (with fast turnover) in the stomach we use data regarding the mass composition of the stomach and the various cell types’ contribution ([Hogben et al., 1974](https://www.gastrojournal.org/article/S0016-5085(19)32700-3/fulltext))\n",
    "\n",
    "There are several types of cells that contribute to the epithelium of the stomach. According to [Forte, 1996](https://www.springer.com/gp/book/9783642646195) most of those cells have turnover of ~40-70 days (measured in mice) and thus we focus in our estimates only on the mucous surface cells which are similar to the small intestine enterocytes and have a turnover of ~4 days (hence, when addressing stomach epithelial cells or stomach enterocyte we address them, if not mentioned else)\n",
    "\n",
    "We use the total mass of stomach from  [ICRP, 2002](http://www.icrp.org/publication.asp?id=ICRP%20Publication%2089) ccombined with data regarding the percentage of mass contained in the stomach mucosa and especially in the relevant cells from [Hogben et al., 1974](https://www.gastrojournal.org/article/S0016-5085(19)32700-3/fulltext).\n",
    "\n",
    "\n",
    "However, the data from [Hogben et al., 1974](https://www.gastrojournal.org/article/S0016-5085(19)32700-3/fulltext) is taken from the corpus which comprise only  80% of the stomach. We extrapolate for the other 20% using different assumption regarding their cellular composition, based on the fact that in these other segments:cardia and pyloric, there are no enzyme secreting cells only epithelium cells:  mucous surface and neck cells.\n",
    "\n",
    "We get two boundaries using different assumption regarding the ratio of these types of cells and integrate them to a reference estimate for the total cellular mass of mucous surface cells, with its uncertainty.\n",
    "We then use data regarding the size of mucous surface cells ([Doidge et al., 1982](https://link.springer.com/article/10.1007%2FBF00210900)) to conclude an estimate for the total number of mucous surface cells in the stomach"
   ]
  },
  {
   "cell_type": "code",
   "execution_count": 352,
   "metadata": {},
   "outputs": [
    {
     "name": "stdout",
     "output_type": "stream",
     "text": [
      "Number of stomach mucous surface cells:(1.7±0.4)×10¹⁰ cells\n",
      "Cell mass of stomach mucous surface cells:814±88 pg\n",
      "Total cellular mass of stomach mucous surface cells:14.1±2.5 g\n"
     ]
    }
   ],
   "source": [
    "stomach_data = pd.read_excel('GIT_epithel_data.xlsx','stomach_properties',index_col=0, usecols = range(6))\n",
    "\n",
    "stomach_data['value + SD'] = unumpy.uarray(stomach_data['value'],stomach_data['SD'])\n",
    "\n",
    "stomach_parts = pd.DataFrame(index = ['corpus','cardia and pyloric'],\n",
    "                             columns = ['total mass','mucusa mass','total mucous surface cells mass min','total mucous surface cells mass max'])\n",
    "\n",
    "stomach_parts.loc['corpus','total mass'] = stomach_data.loc['total stomach mass','value + SD']*stomach_data.loc['gastric corpus as % of stomach weight','value + SD'] \n",
    "stomach_parts.loc['cardia and pyloric','total mass'] = stomach_data.loc['total stomach mass','value + SD']*(1-stomach_data.loc['gastric corpus as % of stomach weight','value + SD'])\n",
    "\n",
    "stomach_parts['mucusa mass'] = stomach_parts['total mass']*stomach_data.loc['corpus mucusa as % of stomach weight','value + SD']/stomach_data.loc['gastric corpus as % of stomach weight','value + SD'] \n",
    "\n",
    "'''\n",
    "We now what is the mass of corpus mucosa made out of mucous surface cells (~17%). In the other parts there are no cells that secret enzymes, \n",
    "but only all the cells appear to be of the mucous type. That population could contain more mucous neck cell that are more prelevant in the\n",
    "gastric pits.\n",
    "We have two bounderies for the % of mucous surface cells in the cardia and pyloric:\n",
    "- The same percentage as in the corpus, as the secreting cells are replaced only by mucous neck cell \n",
    "- Most of the cells are mucous surface cells, as given by the ratio of mucous surface cells to mucous neck cells (knowen for the corpus).\n",
    "  Their total % is given by the ratio multiplied bt the total % of mass in cells (~80% given for the corpus) \n",
    "'''\n",
    "#min - using the \"mucous surface cells % of corpus mucosa mass\" data from the corpus\n",
    "stomach_parts['total mucous surface cells mass min'] = stomach_parts['mucusa mass']*stomach_data.loc['mucous surface cells % of corpus mucosa  mass','value + SD']\n",
    "\n",
    "#max - assuming the same ratio of surface and neck mucous cells\n",
    "stomach_parts.loc['corpus','total mucous surface cells mass max']=stomach_parts.loc['corpus','total mucous surface cells mass min']\n",
    "\n",
    "surface_to_neck_ratio = stomach_data.loc['mucous surface cells % of corpus mucosa  mass',\n",
    "      'value + SD']/(stomach_data.loc['mucous surface cells % of corpus mucosa  mass','value + SD'] + stomach_data.loc['mucous neck cell % of corpus mucosa  mass','value + SD'])\n",
    "\n",
    "stomach_parts.loc['cardia and pyloric',\n",
    "     'total mucous surface cells mass max'] = stomach_parts.loc['cardia and pyloric','mucusa mass']*surface_to_neck_ratio*stomach_data.loc['total cells as %  of corpus mucosa  mass','value + SD']\n",
    "\n",
    "#for the reference of total mucous surface cells mass we take the average of the 2 boundries\n",
    "total_cell_mass=stomach_parts[['total mucous surface cells mass min','total mucous surface cells mass max']].sum().sum()/2\n",
    "\n",
    "#we need to add the uncertainty between the two method to the uncertianty we got that arise from their internal error:\n",
    "total_cell_mass_inter_unc = unumpy.nominal_values(stomach_parts[['total mucous surface cells mass min','total mucous surface cells mass max']].sum()).std()/np.sqrt(2)\n",
    "\n",
    "#using the uncertainty package to propogate the two kind of errors:\n",
    "total_cell_mass= total_cell_mass + ufloat(0,total_cell_mass_inter_unc)\n",
    "\n",
    "#saving the total cellular mass in its designated place:\n",
    "entrocyte_results.loc['Stomach','total cellular mass'] = total_cell_mass\n",
    "\n",
    "###########\n",
    "#using the reference volume of mucous surface cells to derive their total number from their total mass\n",
    "#########\n",
    "#assuming density 1.05 ml/g as for common cells\n",
    "mass_density =1.05\n",
    "entrocyte_results.loc['Stomach','cell mass'] = stomach_data.loc['volume of mucous surface cells','value + SD']*mass_density\n",
    "#fl translate to pg\n",
    "\n",
    "entrocyte_results.loc['Stomach','number'] = 10**12*entrocyte_results.loc['Stomach','total cellular mass']/entrocyte_results.loc['Stomach','cell mass']\n",
    "\n",
    "\n",
    "#using for loop to print the overall estimates.\n",
    "units = ['cells','pg','g']\n",
    "formats = ['{:0.1eP}','{:0.0fP}','{:0.1fP}']\n",
    "parameters =['number','cell mass','total cellular mass']\n",
    "\n",
    "for i,param in enumerate(parameters):\n",
    "    print(param.capitalize() + ' of stomach mucous surface cells:'+ formats[i].format(entrocyte_results.loc['Stomach',param])+ ' '+units[i])\n",
    " "
   ]
  },
  {
   "cell_type": "markdown",
   "metadata": {},
   "source": [
    "## Comaprison of cellular mass\n",
    "As a sanity check, we can compare the cellular mass we estimated based on the cells number estiamte with other estimates based on the potassium content in the different segments, taken from [Snyder et al., 1975](http://www.icrp.org/publication.asp?id=ICRP%20Publication%2023), based on the formula developed by [Wang et al., 2004](https://www.ncbi.nlm.nih.gov/pubmed/14532167) that connect the fraction of cellular mass based the differences of intra/extra-cellular potassium concentrations"
   ]
  },
  {
   "cell_type": "code",
   "execution_count": 464,
   "metadata": {},
   "outputs": [
    {
     "name": "stdout",
     "output_type": "stream",
     "text": [
      "Fraction of epithelial cells out of total cellular mass in the Stomach : 29±11%\n",
      "Fraction of epithelial cells out of total cellular mass in the Small intestine : 49±25%\n",
      "Fraction of epithelial cells out of total cellular mass in the Colon : 49±21%\n"
     ]
    }
   ],
   "source": [
    "pot_data = pd.read_excel('GIT_epithel_data.xlsx','potassium_data',index_col=0, usecols = range(4))\n",
    "\n",
    "pot_data['pottasium content'] = unumpy.uarray(pot_data['pottasium [g]'],pot_data['pottasium SD [g]'])\n",
    "\n",
    "\n",
    "cellmass_conv = pd.read_excel('GIT_epithel_data.xlsx','cellular_mass_conversion',index_col=0, usecols = range(5))\n",
    "cellmass_conv['val + SD']=unumpy.uarray(cellmass_conv['value'],cellmass_conv['SD'])\n",
    "\n",
    "\n",
    "pot_data['cellular mass'] = 10**6*pot_data['pottasium content']*cellmass_conv.loc['cell mass/potassium conc.',\n",
    "                                                                            'val + SD']/cellmass_conv.loc['potassium molar mass','val + SD']\n",
    "#we multiply twice by 1000 to convert kg to g  \n",
    "\n",
    "pot_data['epithelial cell mass fraction'] = entrocyte_results['total cellular mass']/pot_data['cellular mass']\n",
    "\n",
    "for segment in pot_data.index:\n",
    "    print('Fraction of epithelial cells out of total cellular mass in the',segment,': {:0.0fP}%'.format(100*pot_data.loc[segment,'epithelial cell mass fraction']) )\n",
    "\n"
   ]
  },
  {
   "cell_type": "markdown",
   "metadata": {},
   "source": [
    "It seems to be reasnoble that about half of the cellular mass of the intestine is compose of epithelial cells, which are very dominant. In the stomach the fraction of other cells is higher as we saw earlier an hence only close to third of the cellular mass is in the epithelial cells.  "
   ]
  },
  {
   "cell_type": "markdown",
   "metadata": {},
   "source": [
    "## Epithelial cells turnover time\n",
    "To calculate the lifespan of the gastrointestinal epithelial cells, we use a recent meta-analysis [Darwich et al., 2014](http://dmd.aspetjournals.org/content/42/12/2016.long). We use data from the SI, for the three segments in our interest: stomach, small intestine and colon. The data is given as the results from various sources, each contains the mean value, the number of patients (N) and the method of measurement (only some include the standard deviation of the results). Each segment has data derived by two different methods.\n",
    "\n",
    "We estimate the mean turnover of epithelial cells for each of the GIT segment in two stages:\n",
    "  1. First, we aggregate the results according to the measurement methods. For each method used we derive the mean turnover measured and\n",
    "       its SEM, by weighted average, considering the number of patients.\n",
    "  2. In the second stage, we average the values between the two different methods (simple arithmetic mean) and propagate the errors,considering two sources of uncertainty:\n",
    "           a. Intra method error - between different measurement using the same method\n",
    "           b. Inter method error  - the difference between the values of the two methods\n",
    "    \n"
   ]
  },
  {
   "cell_type": "code",
   "execution_count": 307,
   "metadata": {},
   "outputs": [
    {
     "name": "stderr",
     "output_type": "stream",
     "text": [
      "C:\\Users\\ronse\\anaconda3\\lib\\site-packages\\ipykernel_launcher.py:23: RuntimeWarning: invalid value encountered in true_divide\n",
      "C:\\Users\\ronse\\anaconda3\\lib\\site-packages\\numpy\\lib\\function_base.py:2167: RuntimeWarning: invalid value encountered in ? (vectorized)\n",
      "  outputs = ufunc(*inputs)\n"
     ]
    },
    {
     "data": {
      "image/png": "[encoded data removed]",
      "text/plain": [
       "<Figure size 720x432 with 1 Axes>"
      ]
     },
     "metadata": {
      "needs_background": "light"
     },
     "output_type": "display_data"
    },
    {
     "name": "stdout",
     "output_type": "stream",
     "text": [
      "The lifespan of the epithelial cells of the Stomach is: 3.5±0.3 days\n",
      "The lifespan of the epithelial cells of the Small intestine is: 2.8±0.7 days\n",
      "The lifespan of the epithelial cells of the Colon is: 2.8±0.5 days\n"
     ]
    }
   ],
   "source": [
    "# load the data from Darwich et al., 2014, SI\n",
    "TOdata = pd.read_excel('GIT_epithel_data.xlsx','enterocyte_turnover',usecols = range(8))\n",
    "TOdata.head()\n",
    "\n",
    "\n",
    "TO2plot =  pd.DataFrame() \n",
    "TO2plot['segment']= TOdata['Segment']\n",
    "TO2plot['lifespan']= TOdata['Turnover (Days)']\n",
    "\n",
    "\n",
    "\"\"\"\n",
    "Defining a function to extract the weighted average and std of the data, grouped by the segments of the GIT.\n",
    "Based on http://stackoverflow.com/a/2415343/190597 (EOL)\n",
    "\"\"\"\n",
    "def weighted_average_std(grp):\n",
    "    \"\"\"\n",
    "    Based on http://stackoverflow.com/a/2415343/190597 (EOL)\n",
    "    \"\"\"\n",
    "    tmp = grp.select_dtypes(include=[np.number])\n",
    "    weights = tmp['N']\n",
    "    values = tmp.drop('N', axis=1)\n",
    "    average = np.ma.average(values, weights=weights, axis=0)\n",
    "    variance = np.dot(weights, (values - average) ** 2) / weights.sum()\n",
    "    std = np.sqrt(variance)\n",
    "    sem = np.sqrt(variance/weights.sum())\n",
    "#     pd.DataFrame({'mean':average, 'std':std, 'sem':sem}, index=values.columns)\n",
    "    return pd.Series(unumpy.uarray(average,sem))\n",
    "\n",
    "# TO2plot.boxplot(by='segment',figsize= (10,5))\n",
    "TO2plot['N'] = TOdata['N']\n",
    "\n",
    "#using the defined function to extract the mean and std and then converging them to a single column using uncertainty package\n",
    "TO_sum = pd.DataFrame(TO2plot.groupby('segment').apply(weighted_average_std))\n",
    "\n",
    "#setting the sapce on the graph between the data and the averging \n",
    "WIDTH = 0.15\n",
    "\n",
    "#usingt the caregorical properties of the panda dataframe to creat numerical coding for ploting \n",
    "TO2plot['segment'] = pd.Categorical(TO2plot['segment'])\n",
    "TO2plot['x4plot'] = 3-TO2plot.segment.cat.codes-WIDTH \n",
    "#reversing the oreder: from alphabeticly (colon, small intestine, stomach) -> to descending  (stomach, small intestine ,colon) \n",
    "\n",
    "#defining markwer style and color for the plot\n",
    "SHAPES= ['o','p', 's', '8']\n",
    "COLORS =  ['r','b','g']\n",
    "\n",
    "#defining dataframe that will contain the mean and sem of the different method for each of the segments\n",
    "TO_means = pd.DataFrame(index = TOdata['Segment'].unique(), columns = TOdata['Method'].unique() )\n",
    "\"\"\"\n",
    "Going over the different methods and for each:\n",
    "    1.computing the mean and sem of each of the segment;  \n",
    "    2.plotting the data as bubbles representing the number of patients in the study;\n",
    "    3.plotting error bars for the mean and sem of the method\n",
    "\"\"\"\n",
    "for indx,methd in enumerate(TOdata['Method'].unique()):\n",
    "\n",
    "    #using scatter to crear a plot in which the bubles sizes represent the number of measurements in the different sources.\n",
    "        plt.scatter(TO2plot['x4plot'].loc[TOdata['Method']==methd], TO2plot['lifespan'].loc[TOdata['Method']==methd],\n",
    "                    c=COLORS[indx], marker=SHAPES[indx], alpha=0.5, label = methd,s=10*(TO2plot['N'].loc[TOdata['Method']==methd])**0.7 )\n",
    "        \n",
    "        #using the fucntion we defined to extract the mean and sems for each of the method for each of the segments\n",
    "        TO_means[methd] =  TO2plot[['lifespan','segment','N']].loc[TOdata['Method']==methd].groupby('segment').apply(weighted_average_std)\n",
    "        #using the function of unumpy to extract the mean and sem for the plot:\n",
    "        means = unumpy.nominal_values(TO_means[methd])\n",
    "        sem = unumpy.std_devs(TO_means[methd])\n",
    "\n",
    "        #plotting the mean and sem of the method:\n",
    "        plt.errorbar(range(1,4), means ,yerr =sem,marker=SHAPES[indx], ls = '',c=COLORS[indx], alpha=0.5,\n",
    "                     label = methd +' mean',ms=13, mfc = 'None'  )\n",
    "\n",
    "TO_sum=TO_sum.sort_index(ascending=False) #reversing the order of the index to get: (stomach, small intestine ,colon)\n",
    "\n",
    "#defining the font size of the graph before updating the ticks and labels\n",
    "plt.rcParams.update({'font.size': 11})\n",
    "plt.xticks(range(1,4), TO_sum.index) \n",
    "\n",
    "plt.xlabel('GIT segment')\n",
    "plt.ylabel('lifespan of epithelial cells [days]')\n",
    "plt.title('Distribution of lifespan measurements of epithelial cells in the different segments of the GIT (mean in triangle)')\n",
    "\n",
    "plt.grid()\n",
    "plt.xlim((0.5,3.5))\n",
    "\n",
    "'''\n",
    "Using the means and sems we got for each of the method to compute the overall reference values for each of the GIT segments\n",
    "    1. The means are given as the arithmetic mean of the mean values of the 2 relevant methods.\n",
    "    2. The total SEM is given as a propogation of the intra error (the \"Euclidean average\" of the SEM for the two methods)\n",
    "       and the inter error (between the means of the two methods, computed as STD of the two means divided by sqrt(2) )\n",
    "'''\n",
    "#the inrtra method variance is given by the expected varaince = mean of variance of the differebt method\n",
    "intra_method_mean_and_sem = np.nanmean(TO_means,axis=1)\n",
    "\n",
    "#the inter (between) method variance is given by the variance in the expected mean. The difference between the means of the 2 methods\n",
    "bw_method_sem = np.nanstd(unumpy.nominal_values(TO_means), axis=1)/np.sqrt(2)\n",
    "\n",
    "#using tge uncertainty packacge to propogate the two variances (intra and inter)\n",
    "TO_means['total'] = intra_method_mean_and_sem + unumpy.uarray(np.zeros(3),bw_method_sem)\n",
    "plt.errorbar(range(1,4)+WIDTH*np.ones(3), unumpy.nominal_values(TO_means['total']),yerr =unumpy.std_devs(TO_means['total']),\n",
    "             marker='^', ls = '',c='k', alpha=0.5,label = 'GIT segment means',ms=18, mfc = 'None'  )\n",
    "\n",
    "\n",
    "plt.legend(loc='center left', bbox_to_anchor=(1, 0.5))\n",
    "fig = plt.gcf()\n",
    "fig.set_size_inches(10, 6)\n",
    "\n",
    "plt.show()\n",
    "\n",
    "entrocyte_results['lifespan'] = TO_means['total']\n",
    "for segment in entrocyte_results.index:\n",
    "    print('The lifespan of the epithelial cells of the',segment, 'is: {:0.1fP} days'.format(entrocyte_results.loc[segment,'lifespan']))\n"
   ]
  },
  {
   "cell_type": "markdown",
   "metadata": {},
   "source": [
    "## Cellular and cellular mass turnover\n",
    "Now we can combine the estimates for the number and mass of the epithelial cells with their lifespan to estimate theie total daily turnover   "
   ]
  },
  {
   "cell_type": "code",
   "execution_count": 387,
   "metadata": {},
   "outputs": [
    {
     "name": "stdout",
     "output_type": "stream",
     "text": [
      "\u001b[1mStomach:\u001b[0m\n",
      "The cellular turnover of the epithelial cells of the Stomach is: (5±1)×10⁹ cell per days\n",
      "The cellular mass turnover of the epithelial cells of the Stomach is: 4±1 grams per day\n",
      "__________\n",
      "\u001b[1mSmall intestine:\u001b[0m\n",
      "The cellular turnover of the epithelial cells of the Small intestine is: (4±1)×10¹⁰ cell per days\n",
      "The cellular mass turnover of the epithelial cells of the Small intestine is: 35±12 grams per day\n",
      "__________\n",
      "\u001b[1mColon:\u001b[0m\n",
      "The cellular turnover of the epithelial cells of the Colon is: (2±1)×10¹⁰ cell per days\n",
      "The cellular mass turnover of the epithelial cells of the Colon is: 17±7 grams per day\n"
     ]
    }
   ],
   "source": [
    "entrocyte_results['cellular turnovr rate'] = entrocyte_results['number']/entrocyte_results['lifespan']\n",
    "entrocyte_results['cellular mass turnovr rate'] = entrocyte_results['total cellular mass']/entrocyte_results['lifespan']\n",
    "\n",
    "\n",
    "for segment in entrocyte_results.index:\n",
    "    if(segment!='Stomach'):\n",
    "        print('__________')\n",
    "    print('\\x1b[1m'+ segment+':' +'\\x1b[0m')  #using ANSI to print in bold\n",
    "    print('The cellular turnover of the epithelial cells of the',segment,\n",
    "          'is: {:0.0eP} cell per days'.format(entrocyte_results.loc[segment,'cellular turnovr rate']))\n",
    "    print('The cellular mass turnover of the epithelial cells of the',segment,\n",
    "          'is: {:0.0fP} grams per day'.format(entrocyte_results.loc[segment,'cellular mass turnovr rate']))\n"
   ]
  },
  {
   "cell_type": "markdown",
   "metadata": {},
   "source": [
    "### Comparison to direct measurement\n",
    "[Croft et al.,1968](http://www.thelancet.com/journals/lancet/article/PIIS0140-6736(68)90355-3/fulltext) has measured the D.N.A loss per minute from 5cm segments of the duodenum (part of the small intenstine). Assuming the D.N.A loss rate is constant across the whole small intestine, the concluded a loss of 20-50 million cells per minute\n",
    "Here we use their data to compare to the daily cell turnover we have calculated.\n"
   ]
  },
  {
   "cell_type": "code",
   "execution_count": 389,
   "metadata": {},
   "outputs": [
    {
     "name": "stdout",
     "output_type": "stream",
     "text": [
      "Following Croft et al.,1968, estimated daily cell loss is 1.4e+08 days\n"
     ]
    }
   ],
   "source": [
    "dna_per_min_per_seg = 12*10**-9 #in grams\n",
    "dna_per_cell = 7*10**-12 \n",
    "cell_per_min_seg = dna_per_min_per_seg/dna_per_cell\n",
    "\n",
    "seg_len = 5 #cm\n",
    "SI_len = 290 #SI = small intesine. in cm\n",
    "\n",
    "min_SI_cell_loss = (SI_len/seg_len)*cell_per_min_seg\n",
    "daily_SI_cell_loss =  min_SI_cell_loss *24*60\n",
    "\n",
    "print ('Following Croft et al.,1968, estimated daily cell loss is {:.1e} days'.format(daily_SI_cell_loss))\n"
   ]
  },
  {
   "cell_type": "markdown",
   "metadata": {},
   "source": [
    "There is over 2 orders of magnitude difference. It seems that it indicate some problem with the the measurement method "
   ]
  },
  {
   "cell_type": "markdown",
   "metadata": {},
   "source": [
    "## Survival function and age\n",
    "We use the data gather for the lifespan and transit time to plot the relevant survival function and cells age\n",
    "\n",
    "### Survival function\n",
    "We show the survival function for two different assumptions regarding the distribution of lifespan:\n",
    "1. Geometric - constants probability of death (hazard)\n",
    "2. Uniform - all cells die at the mean lifespan "
   ]
  },
  {
   "cell_type": "code",
   "execution_count": 411,
   "metadata": {},
   "outputs": [
    {
     "data": {
      "text/plain": [
       "<matplotlib.legend.Legend at 0xeeb0668>"
      ]
     },
     "execution_count": 411,
     "metadata": {},
     "output_type": "execute_result"
    },
    {
     "data": {
      "image/png": "[encoded data removed]",
      "text/plain": [
       "<Figure size 432x288 with 1 Axes>"
      ]
     },
     "metadata": {
      "needs_background": "light"
     },
     "output_type": "display_data"
    }
   ],
   "source": [
    "# Sample different time (days)\n",
    "days = np.linspace(0,20)\n",
    "\n",
    "geom_cdf = lambda n,p: 1-(1-p)**n\n",
    "uni_cdf  = lambda n,max_value: 1-1*(n<max_value)\n",
    "\n",
    "\n",
    "# uni_cdf  = lambda n,max_value: np.minimum(n/max_value,1)\n",
    "\n",
    "COLORS = ['b','k','g']\n",
    "Sfun_geom = np.empty([3, days.size])\n",
    "Sfun_uni = np.empty([3, days.size])\n",
    "\n",
    "for i,segment in enumerate(entrocyte_results.index): \n",
    "    mean_turnover =  entrocyte_results.loc[segment,'lifespan'].nominal_value\n",
    "    Sfun_geom[i] = 1- geom_cdf(days,1/mean_turnover)\n",
    "    Sfun_uni[i] = 1- uni_cdf(days,mean_turnover)\n",
    "\n",
    "    # Plot the survival functions vs. the time\n",
    "    plt.plot(days,Sfun_geom[i],c=COLORS[i],lw =2,ls = '-',label = segment +'- geometric')\n",
    "    plt.plot(days,Sfun_uni[i],c=COLORS[i],lw =2,ls = '--',label = segment +'- unifotm')\n",
    "plt.xlabel('time [days]')\n",
    "plt.ylabel('% of survival')\n",
    "plt.legend()"
   ]
  },
  {
   "cell_type": "markdown",
   "metadata": {},
   "source": [
    "### Cells age\n",
    "We know that the age distribution look like the survival functio, hence we can calculate the age cdf by integrating the survival function and normalize it:"
   ]
  },
  {
   "cell_type": "code",
   "execution_count": 412,
   "metadata": {},
   "outputs": [
    {
     "data": {
      "text/plain": [
       "Text(0, 0.5, 'age cdf')"
      ]
     },
     "execution_count": 412,
     "metadata": {},
     "output_type": "execute_result"
    },
    {
     "data": {
      "image/png": "[encoded data removed]",
      "text/plain": [
       "<Figure size 432x288 with 1 Axes>"
      ]
     },
     "metadata": {
      "needs_background": "light"
     },
     "output_type": "display_data"
    }
   ],
   "source": [
    "for i,segment in enumerate(entrocyte_results.index):\n",
    "\n",
    "    sf_uni_integral = integrate.cumtrapz(Sfun_uni[i], days, initial=0)\n",
    "    age_cdf_uni =sf_uni_integral/max(sf_uni_integral)\n",
    "\n",
    "    sf_geom_integral = integrate.cumtrapz(Sfun_geom[i], days, initial=0)\n",
    "    age_cdf_geom = sf_geom_integral/max(sf_geom_integral)\n",
    "\n",
    "# Plot the age functions vs. the time\n",
    "    plt.plot(days,age_cdf_geom,c=COLORS[i],lw =2,ls = '-',label = segment +'- geometric')\n",
    "    plt.plot(days,age_cdf_uni,c=COLORS[i],lw =2,ls = '--',label = segment +'- unifotm')\n",
    "    plt.xlabel('time [days]')\n",
    "    plt.ylabel('% of survival')\n",
    "plt.legend()\n",
    "plt.xlabel('time [days]')\n",
    "plt.ylabel('age cdf')"
   ]
  },
  {
   "cell_type": "markdown",
   "metadata": {},
   "source": [
    "## Saving the results to excell\n",
    "So it can be used for summary \n"
   ]
  },
  {
   "cell_type": "code",
   "execution_count": 455,
   "metadata": {},
   "outputs": [],
   "source": [
    "to_excell =pd.DataFrame(index = range(6), columns=['Parameter','Value','Units','Uncertainty','Comments']) \n",
    "\n",
    "to_excell['Parameter'] =  pd.Series(entrocyte_results.columns)\n",
    "to_excell['Units'] = pd.Series(['Cells','days','cells per day','pg','grams per day', 'grams'])\n",
    "\n",
    "file = 'Summary.xlsx'\n",
    "book = load_workbook(file)\n",
    "writer = pd.ExcelWriter(file, engine = 'openpyxl')\n",
    "writer.book = book\n",
    "\n",
    "writer.sheets = dict((ws.title, ws) for ws in book.worksheets)\n",
    "sheet=writer.book.active\n",
    "    \n",
    "#we go through the types of cells and for each we arrange the results in a dataframe for extracting to excel.\n",
    "\n",
    "for segment in entrocyte_results.index:\n",
    "    to_excell['Value'] =pd.Series(unumpy.nominal_values(entrocyte_results.loc[segment]))\n",
    "    to_excell['Uncertainty'] = pd.Series(unumpy.std_devs(entrocyte_results.loc[segment]))\n",
    "    to_excell['Comments'] = pd.Series(['linear uncertainty' for c in entrocyte_results.loc[segment]])\n",
    "\n",
    "    sheet_name = segment + ' epithelia'\n",
    "    \n",
    "#     print(sheet_name)\n",
    "    \n",
    "    \n",
    "    to_excell.to_excel(writer, sheet_name = sheet_name ,index=False)\n",
    "    worksheet = writer.sheets[sheet_name]   \n",
    "#     using the colors defined in the color sheet to color the tabs. Using the extraction of the data in the Utility_Functions.ipynb notebook\n",
    "    worksheet.sheet_properties.tabColor= colors_data.loc[sheet_name,'hex'] \n",
    "    writer.save()\n",
    "    \n",
    "\n",
    "\n"
   ]
  },
  {
   "cell_type": "code",
   "execution_count": null,
   "metadata": {},
   "outputs": [],
   "source": []
  }
 ],
 "metadata": {
  "kernelspec": {
   "display_name": "Python 3",
   "language": "python",
   "name": "python3"
  },
  "language_info": {
   "codemirror_mode": {
    "name": "ipython",
    "version": 3
   },
   "file_extension": ".py",
   "mimetype": "text/x-python",
   "name": "python",
   "nbconvert_exporter": "python",
   "pygments_lexer": "ipython3",
   "version": "3.7.3"
  }
 },
 "nbformat": 4,
 "nbformat_minor": 2
}
