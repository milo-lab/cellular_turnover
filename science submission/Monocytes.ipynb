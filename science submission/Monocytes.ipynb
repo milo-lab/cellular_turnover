{
 "cells": [
  {
   "cell_type": "code",
   "execution_count": 301,
   "metadata": {},
   "outputs": [],
   "source": [
    "# loading all the dependencies\n",
    "import pandas as pd\n",
    "import numpy as np\n",
    "pd.options.display.float_format ='{:,.1f}'.format\n",
    "import matplotlib.pyplot as plt\n",
    "\n",
    "%matplotlib inline  \n",
    "from scipy.stats import gmean\n",
    "from scipy import integrate\n",
    "from openpyxl import load_workbook\n",
    "\n",
    "import uncertainties as uc\n",
    "from uncertainties import ufloat\n",
    "from uncertainties import unumpy\n",
    "%run Utility_Functions.ipynb"
   ]
  },
  {
   "cell_type": "markdown",
   "metadata": {},
   "source": [
    "# Monocytes\n",
    "The estimation of monocytes numebr and turnover overlap, as one of the main sources that connect the different compartments where monocyte reside used a model that integrate both the fraction of subpopulation and their turnover time/."
   ]
  },
  {
   "cell_type": "markdown",
   "metadata": {},
   "source": [
    "## Number of monocytes\n",
    "We have measurements for two seperated compartments of monocytes:\n",
    "1. Reference ranges for circulating monocytes in the blood multiplied by the blood volume. \n",
    "2. Bone marrow cellularity and its fraction of monocytes taken from [Harrison, 1962](https://www.ncbi.nlm.nih.gov/pmc/articles/PMC480393/)"
   ]
  },
  {
   "cell_type": "markdown",
   "metadata": {},
   "source": [
    "### Blood monocyte\n",
    "We use blood volume estimate from: [Snyder,1975](http://www.icrp.org/publication.asp?id=ICRP%20Publication%2023), [Boer, 1984](https://www.ncbi.nlm.nih.gov/pubmed/6496691) and [Nadler et al., 1962](https://www.ncbi.nlm.nih.gov/pubmed/21936146) \n",
    "\n",
    "We use reference interval for monocyte concentration from:\n",
    "[Wakeman et al., 2007](https://www.ncbi.nlm.nih.gov/pubmed/17617078), \n",
    "[Pekelharing et al., 2010](https://www.sysmex.dk/fileadmin/media/f100/Diagnostic_Perspectives/Pekelharing_DiagPersp_Vol1_1-11.pdf), \n",
    "[Dosoo et al., 2012](https://journals.plos.org/plosone/article?id=10.1371/journal.pone.0036308), \n",
    "[Ambayya et al., 2014](https://journals.plos.org/plosone/article?id=10.1371/journal.pone.0091968)\n",
    "\n",
    "Some of the sources give only 95% confidence reference interval. We use the middle of this range as a reference. \n",
    "We then compute the uncertainty using errorpropogation of the inter studies and intra studies SEM.\n"
   ]
  },
  {
   "cell_type": "code",
   "execution_count": 115,
   "metadata": {},
   "outputs": [
    {
     "name": "stdout",
     "output_type": "stream",
     "text": [
      "Number of monocytes circulating in the blood: (2.7±0.4)×10⁹\n"
     ]
    }
   ],
   "source": [
    "#uploading the blood volume data\n",
    "blood_volume= pd.read_excel('Monocytes_data.xlsx','Blood_Volume',usecols = range(6))\n",
    "#using the uncertainty package to propogate the SEM of the values from the sourcs (intra/inter)\n",
    "ref_BV = ufloat(blood_volume['mean [L]'].mean(),blood_volume['SEM [L]'].mean()) + ufloat(0,blood_volume['mean [L]'].sem())\n",
    "\n",
    "#uploading the monocyte concentration data\n",
    "mono_conc= pd.read_excel('Monocytes_data.xlsx','Blood_concentration',index_col=0,usecols = range(9))\n",
    "#assuming the median equal to the mean where there is no specific data:\n",
    "mono_conc.loc[:,'mean [10^9 cells/liter]'][np.isnan(mono_conc['mean [10^9 cells/liter]'])*(~np.isnan(mono_conc['median [10^9 cells/liter]']))]= mono_conc.loc[:,'median [10^9 cells/liter]'][np.isnan(mono_conc['mean [10^9 cells/liter]'])*(~np.isnan(mono_conc['median [10^9 cells/liter]']))] \n",
    "#using the middle of the reference range as the mean\n",
    "mono_conc.loc[:,'mean [10^9 cells/liter]'][np.isnan(mono_conc['mean [10^9 cells/liter]'])] = mono_conc[['min reg range','max reg range']][np.isnan(mono_conc['mean [10^9 cells/liter]'])].mean(axis=1)\n",
    "#using the uncertainty package to propogate the SEM of the values from the sourcs (intra/inter)\n",
    "ref_mono_conc = ufloat(mono_conc['mean [10^9 cells/liter]'].mean(),mono_conc['SEM'].mean()) + ufloat(0,mono_conc['mean [10^9 cells/liter]'].sem())\n",
    "\n",
    "#the reference estimate for bloof monocyte is given from the multiplication of the two: \n",
    "blood_mono = ref_mono_conc*ref_BV*10**9\n",
    "\n",
    "print('Number of monocytes circulating in the blood: {:0.1eP}'.format(blood_mono))"
   ]
  },
  {
   "cell_type": "markdown",
   "metadata": {},
   "source": [
    "#### Blood monocytes subpopulations\n",
    "We use data from [Wong et a;. 2011](https://www.ncbi.nlm.nih.gov/pubmed/21653326) to divide the blood monocytes population into three distinctive subpopulation, which play different parts in terms of kinetics: classical monocyte, intermmediate monocytes and non-classical monocytes.\n",
    "The basic model is that some of the classical monocytes differentiate into intermmediate monocytes that in turn differentiate one more time to nonc-lassical monocytes."
   ]
  },
  {
   "cell_type": "code",
   "execution_count": 132,
   "metadata": {},
   "outputs": [
    {
     "data": {
      "text/html": [
       "<div>\n",
       "<style scoped>\n",
       "    .dataframe tbody tr th:only-of-type {\n",
       "        vertical-align: middle;\n",
       "    }\n",
       "\n",
       "    .dataframe tbody tr th {\n",
       "        vertical-align: top;\n",
       "    }\n",
       "\n",
       "    .dataframe thead th {\n",
       "        text-align: right;\n",
       "    }\n",
       "</style>\n",
       "<table border=\"1\" class=\"dataframe\">\n",
       "  <thead>\n",
       "    <tr style=\"text-align: right;\">\n",
       "      <th></th>\n",
       "      <th>mean %</th>\n",
       "      <th>SD</th>\n",
       "      <th>N</th>\n",
       "      <th>SEM</th>\n",
       "      <th>total</th>\n",
       "    </tr>\n",
       "    <tr>\n",
       "      <th>pool</th>\n",
       "      <th></th>\n",
       "      <th></th>\n",
       "      <th></th>\n",
       "      <th></th>\n",
       "      <th></th>\n",
       "    </tr>\n",
       "  </thead>\n",
       "  <tbody>\n",
       "    <tr>\n",
       "      <th>classical monocytes</th>\n",
       "      <td>0.8</td>\n",
       "      <td>0.1</td>\n",
       "      <td>16</td>\n",
       "      <td>0.0</td>\n",
       "      <td>(2.30+/-0.31)e+09</td>\n",
       "    </tr>\n",
       "    <tr>\n",
       "      <th>intermediate monocytes</th>\n",
       "      <td>0.1</td>\n",
       "      <td>0.0</td>\n",
       "      <td>16</td>\n",
       "      <td>0.0</td>\n",
       "      <td>(1.46+/-0.23)e+08</td>\n",
       "    </tr>\n",
       "    <tr>\n",
       "      <th>non-classical monocytes</th>\n",
       "      <td>0.1</td>\n",
       "      <td>0.0</td>\n",
       "      <td>16</td>\n",
       "      <td>0.0</td>\n",
       "      <td>(2.5+/-0.4)e+08</td>\n",
       "    </tr>\n",
       "  </tbody>\n",
       "</table>\n",
       "</div>"
      ],
      "text/plain": [
       "                         mean %  SD   N  SEM              total\n",
       "pool                                                           \n",
       "classical monocytes         0.8 0.1  16  0.0  (2.30+/-0.31)e+09\n",
       "intermediate monocytes      0.1 0.0  16  0.0  (1.46+/-0.23)e+08\n",
       "non-classical monocytes     0.1 0.0  16  0.0    (2.5+/-0.4)e+08"
      ]
     },
     "execution_count": 132,
     "metadata": {},
     "output_type": "execute_result"
    }
   ],
   "source": [
    "blood_subp= pd.read_excel('Monocytes_data.xlsx','Subpopulations',usecols = range(5),index_col=0)\n",
    "\n",
    "blood_subp['total'] = unumpy.uarray(blood_subp['mean %'],blood_subp['SEM'])*blood_mono\n",
    "blood_subp.head()"
   ]
  },
  {
   "cell_type": "markdown",
   "metadata": {},
   "source": [
    "### Bone marrow monocytes\n",
    "We use bone marrow cellularity data from [Harrison, 1962](https://www.ncbi.nlm.nih.gov/pmc/articles/PMC480393/): the number of nucleated cells per kg of person's weight and the percentage of monocytes out of the cells. "
   ]
  },
  {
   "cell_type": "code",
   "execution_count": 122,
   "metadata": {},
   "outputs": [
    {
     "name": "stdout",
     "output_type": "stream",
     "text": [
      "Number of BM monocytes according to Harrison, 1962: (2.3±0.3)×10⁹\n"
     ]
    }
   ],
   "source": [
    "BM_data= pd.read_excel('Monocytes_data.xlsx','BM_population',usecols = range(8),index_col=0)\n",
    "\n",
    "#saving the 'monocytes nuceleated cells' parameter seperated and dropping it from the data frame to ease the integration of the \n",
    "#cellularity data\n",
    "perc_mono = BM_data.loc['monocytes nuceleated cells','value']\n",
    "BM_data = BM_data.drop('monocytes nuceleated cells')\n",
    "\n",
    "#trimming the index. Using the first word instead of the entire text\n",
    "BM_data.index = BM_data.index.str.split(' ',1).str.get(0)\n",
    "\n",
    "#using the uncertainty package to propogate the SEM of the values from the sourcs (intra/inter)\n",
    "BM_nuc_cells = ufloat(BM_data['value'].mean(),BM_data['SEM'].mean()) + ufloat(0,BM_data['value'].sem())\n",
    "\n",
    "ref_man_mass= 70 #kg\n",
    "\n",
    "#combining the cellularity with the mass and percentage of monocyte to get their overall numbers in the marrow.\n",
    "BM_mono = perc_mono*BM_nuc_cells*ref_man_mass\n",
    "\n",
    "print('Number of BM monocytes according to Harrison, 1962: {:0.1eP}'.format(BM_mono))"
   ]
  },
  {
   "cell_type": "markdown",
   "metadata": {},
   "source": [
    "## Monocytes kinetics\n",
    "\n",
    "We base our analysis on the kinetic model developed by [Patel et al., 2017](http://jem.rupress.org/content/214/7/1913). \n",
    "The model divide the population of monocyte into 4 compartments.\n",
    "A. Bone marrow:\n",
    "    1. proliferating pool - producing the influx of new monocytes,\n",
    "       post proliferating (classical monocytes) pool - waiting to be transfered to the blood \n",
    "       the model fit a parameter for the delay time in the post-proliferative pool, but as we are interested in the steady state, the only \n",
    "       effect is has is on the shape of the distribution of monocytes ages when the transfer to the blood, it doesn't affect the mean resident \n",
    "       time in the bone marraw pool which follows from the poliferation rate (as proliferation rate equal removal rate in steady state)    \n",
    "B. Blood: \n",
    "    2. classical monocytes - circulating in the blood. Only little fraction of them differentitate to the intermmediate,\n",
    "        the main fraction either die or transfer outside from the blood and into the tissues (creating the monocte-deriven macrophages in \n",
    "        tissues as the dermis and intestine) . \n",
    "    3. intermmediate\n",
    "    4. non-classical monocytes\n",
    "\n",
    "We know that monocytes are able to differentiate into tissue resident macrophages and dendritic cells. They migrate to outside of the blood in response to injury. In some tissues the macropage resident population is mostly made out of monocytes dereived macrophages, such as the intestinal and dermal macrophages populations, but it is not known what fraction of the monocytes leave the blood for these tissues ([Italiani and Boraschi, 2014](https://www.ncbi.nlm.nih.gov/pmc/articles/PMC4201108/pdf/fimmu-05-00514.pdf)).\n",
    "\n",
    "As [Patel et al., 2017](http://jem.rupress.org/content/214/7/1913) model doesn't seperate between monocytes that die or leave the blood, we assume that the most of the monocyte die and treat their estimated lifespan as representing the time until death. In this manner, our estimates may serve as an upper bound for total turnover of monocytes (as some of them may differentiate rather than die)   \n",
    "\n",
    "Because the estimates for the number of monocytes in the blood and bone marrow not necessarily agree, considering the kinetic data, we derive two distinct estimates and average them in the end:\n",
    "1. From the estimate of blood monocytes number we derive the number of bone marrow monocytes, assuming that the flux of monocyte into the blood equal to the flux of proliferating monocytes in the bone marrow\n",
    "2. From the bone marrow monocytes estimate we derive the number of blood monocytes, assuming that the rate of monocyte entering the blood equal to the production rate in the marrow.   \n"
   ]
  },
  {
   "cell_type": "code",
   "execution_count": 309,
   "metadata": {},
   "outputs": [
    {
     "name": "stdout",
     "output_type": "stream",
     "text": [
      "Number of monocytes: 5.2e+09 cells SD range: 3.6e+09 - 7.7e+09  cells\n",
      "Lifespan of monocytes: 3.5 days SD range: 2.9 - 4.1  days\n",
      "Cellular turnover rate of monocytes: 1.5e+09 cells per day SD range: 1.0e+09 - 2.3e+09  cells per day\n"
     ]
    }
   ],
   "source": [
    "mono_comp = pd.read_excel('Monocytes_data.xlsx','Kinetics_model',usecols = range(9),index_col=0)\n",
    "\n",
    "#combining the values and the uncertainties into uarray: \n",
    "mono_comp['lifespan'] = unumpy.uarray(mono_comp['mean lifespan [d]'],mono_comp['SEM lifespan [d]']) \n",
    "mono_comp['proliferation'] = unumpy.uarray(mono_comp['proliferation rate [1/d]'],mono_comp['proliferation SEM [1/d]'])\n",
    "\n",
    "'''\n",
    "integrating the numbers using the two seperate estimates - using reference values for blood and bone marrow\n",
    "keeping them as seperate columns.\n",
    "Using the the relation that the rate of output from the bone marrow need to equal the input rate of the blood  \n",
    "'''\n",
    "\n",
    "# combining the estimates based on blood\n",
    "mono_comp['number - blood est'] = blood_subp['total']\n",
    "\n",
    "# combining the estimates based on blood marrow measurements\n",
    "mono_comp['number - BM est'] = 0\n",
    "mono_comp.loc['bone marrow','number - BM est'] = BM_mono\n",
    "\n",
    "'''\n",
    "Defining new data frame - its index is the two basic estimates (blood or BM) and it columns are relevant paramaters\n",
    "the basic parameter we use to derive the two estimate is the rate in which classical monocytes enter the blood\n",
    "we use this rate to derive the estimate for number of bone marrow monocyte from the blood estimate prespective and to derive the \n",
    "classical monocyte from the bone marrow perspective\n",
    "'''\n",
    "mono_est = pd.DataFrame(index = ['blood est', 'BM est'],columns=['blood enter','number','cellular turnover rate','lifespan']) \n",
    "\n",
    "#from blood estimate prespective the rate in which monocyte reach the blood equal to the number of classical monocyte divided by their lifespan\n",
    "mono_est.loc['blood est','blood enter'] = mono_comp.loc['classical monocytes','number - blood est']/mono_comp.loc['classical monocytes','lifespan']\n",
    "#from BM estimate prespective the rate in which monocyte reach the blood equal to the number of BM monocytemultiplied  by their proliferation\n",
    "mono_est.loc['BM est','blood enter'] =  mono_comp.loc['bone marrow','number - BM est']*mono_comp.loc['bone marrow','proliferation']\n",
    "\n",
    "#By following the computation backawrd we can derive the missing data for each estimate:\n",
    "mono_comp.loc['bone marrow','number - blood est'] = mono_est.loc['blood est','blood enter']/mono_comp.loc['bone marrow','proliferation']\n",
    "\n",
    "mono_comp.loc['classical monocytes','number - BM est'] = mono_est.loc['BM est','blood enter']*mono_comp.loc['classical monocytes','lifespan']\n",
    "\n",
    "# from the ratio of classical monocyte to the other group we can estimate their number in the BM estimate:\n",
    "mono_comp.loc['intermediate monocytes','number - BM est'] = mono_comp.loc['classical monocytes','number - BM est']*mono_comp.loc['intermediate monocytes',\n",
    "                                                            'number - blood est']/mono_comp.loc['classical monocytes','number - blood est']\n",
    "mono_comp.loc['non-classical monocytes','number - BM est'] = mono_comp.loc['classical monocytes','number - BM est']*mono_comp.loc['non-classical monocytes',\n",
    "                                                            'number - blood est']/mono_comp.loc['classical monocytes','number - blood est']\n",
    "\n",
    "#we set the total number of monocyte by each estimate by summing on all groups \n",
    "mono_est['number']=mono_comp[['number - blood est','number - BM est']].sum(axis =0).tolist()\n",
    "\n",
    "#using for loop we can also derive from the sum of the number divide by lifespan of each of the blood monocytes groups the cellular turnover for each estiamte \n",
    "for est in mono_est.index:\n",
    "    mono_est.loc[est,'cellular turnover rate']=np.nansum((mono_comp['number - ' + est]/mono_comp['lifespan']))\n",
    "    \n",
    "    \n",
    "#we can estimate the mean lifespaan from the total number and turnover rate\n",
    "mono_est['lifespan'] =  mono_est['number']/ mono_est['cellular turnover rate']\n",
    "\n",
    "#we don't need the parameter of blood enter rate anymore. For convinience we remove it\n",
    "mono_est = mono_est.drop('blood enter',axis=1)\n",
    "\n",
    "#we define new dataframe to save the results. two columns one for the mean value and one for the uncertainty as a multiplication factor \n",
    "monocyte_results = pd.DataFrame(index=['number','lifespan','cellular turnover rate','cell mass','cellular mass turnovr rate',\n",
    "                                       'total cellular mass'], columns = ['Value','Units','Uncertainty','Formats'])\n",
    "\n",
    "monocyte_results['Units'] = ['cells','days','cells per day','pg','grams per day', 'grams']\n",
    "monocyte_results['Formats'] = ['{:0.1e}','{:0.1f}','{:0.1e}','{:0.0f}','{:0.1f}','{:0.1f}']\n",
    "\n",
    "'''\n",
    "To calculate the mean and its uncertainty we use a for loop and for each paramter we:\n",
    "1. take the geometric mean of the two method as the ref value\n",
    "2. We compute the intra method uncertainty using a utility function we define to estimate a linear uncertainty (of an uarray) by a multiplication factor\n",
    "3. We use a log10 to translate the error into trems of linear error in logspace (as logX is a normal variable)\n",
    "4. We use the SEM of the inter-estimates by computing the STD of the log values and divid by sqrt(2)\n",
    "5. We combine the two types of error: intra/inter-estimate in the logspace using euclidian error propogation \n",
    "6. We take the 10th power of the error in the logspace as the multiplication uncertainty error for the reference values\n",
    "'''\n",
    "for param in mono_est.columns:\n",
    "    monocyte_results.loc[param,'Value'] = gmean(unumpy.nominal_values(mono_est[param]))\n",
    "    intra_unc = Uarr2MulF(mono_est[param])\n",
    "    log_intra_unc = np.log10(intra_unc)\n",
    "    log_inter_unc = np.log10(unumpy.nominal_values(mono_est[param])).std()/np.sqrt(2)\n",
    "    log_unc = np.sqrt(log_intra_unc.mean()**2+log_inter_unc**2)\n",
    "    monocyte_results.loc[param,'Uncertainty'] =10**log_unc\n",
    "\n",
    "#printing the results for the number of monocytes, their lifespan and cellular turnover rate, including the uncrtainty range.    \n",
    "for param in monocyte_results.index:\n",
    "    if ~np.isnan(monocyte_results.loc[param,'Value']):\n",
    "        print(param.capitalize() + ' of monocytes: '+ monocyte_results.loc[param,'Formats'].format(monocyte_results.loc[param,'Value'])+ ' '+monocyte_results.loc[param,'Units'],\n",
    "            'SD range: ' + monocyte_results.loc[param,'Formats'].format(monocyte_results.loc[param,'Value']/monocyte_results.loc[param,'Uncertainty']),              \n",
    "            '- ' + monocyte_results.loc[param,'Formats'].format(monocyte_results.loc[param,'Value']*monocyte_results.loc[param,'Uncertainty']),\n",
    "            ' '+monocyte_results.loc[param,'Units'])\n",
    "\n",
    "    \n",
    "\n",
    "\n"
   ]
  },
  {
   "cell_type": "markdown",
   "metadata": {},
   "source": [
    "## Monocytes mass and cellular mass turnover\n",
    "We use data regarding the volume and density of monocytes to conclude their mass.\n",
    "sources: [Zipursky et al., 1976](https://www.ncbi.nlm.nih.gov/pubmed/1066173),\n",
    "[Chapam et al., 1981](https://www.ncbi.nlm.nih.gov/pmc/articles/PMC494369/pdf/jclinpath00491-0013.pdf),\n",
    "[Ince et al., 1987](https://www.sciencedirect.com/science/article/pii/000527368790023X?via%3Dihub), \n",
    "[Nibbering et al., 1990](https://www.ncbi.nlm.nih.gov/pubmed/2110946) \n",
    "\n",
    "Integrating the estimate for a single cell mass with the estiamte for total number of monocytes and their lifespan, we can estiamte the total cellular mass and the cellular mass turnover"
   ]
  },
  {
   "cell_type": "code",
   "execution_count": 311,
   "metadata": {},
   "outputs": [
    {
     "name": "stdout",
     "output_type": "stream",
     "text": [
      "Cell mass of monocytes: 459 pg SD range: 418 - 503  pg\n",
      "Cellular mass turnovr rate of monocytes: 0.7 grams per day SD range: 0.5 - 1.1  grams per day\n",
      "Total cellular mass of monocytes: 2.4 grams SD range: 1.6 - 3.6  grams\n"
     ]
    }
   ],
   "source": [
    "mass_data= pd.read_excel('Monocytes_data.xlsx','Volume_and_mass',usecols = range(8))\n",
    "\n",
    "#storing the density in a designated variable \n",
    "density = ufloat(mass_data['value'][mass_data['parameter']=='monocyte mass density'],\n",
    "                 mass_data['SEM'][mass_data['parameter']=='monocyte mass density'][0])\n",
    "\n",
    "#removing the parameters that are not 'monocyte volume'\n",
    "mass_data = mass_data[mass_data['parameter']=='monocyte volume']\n",
    "\n",
    "'''\n",
    "taking the average of the values as the reference value\n",
    "The uncertainty is given by the euclidean sum of the intra variabiallty (mean of the SEM of the studies) and the inter error\n",
    "standard error of the mean of the various studies\n",
    "'''\n",
    "mono_volume = ufloat(mass_data['value'].mean(),mass_data['SEM'].mean()) +  ufloat(0,mass_data['value'].std()/np.sqrt(mass_data['value'].size))\n",
    "\n",
    "#the mass is given by the multiplication of the volume and density\n",
    "mono_mass = mono_volume*density \n",
    "\n",
    "#and because all the number and turnover uncertainties are in terms of multiplication factors we use the utility function to convert the terms of error:\n",
    "monocyte_results.loc['cell mass','Value'] = mono_mass.nominal_value\n",
    "monocyte_results.loc['cell mass','Uncertainty'] = AddErr2MulF(mono_mass)\n",
    "\n",
    "#using the estimate for the cell mass we can estimate the total cell mass of monocytes (translating it from pg to g)\n",
    "monocyte_results.loc['total cellular mass','Value'] = monocyte_results.loc['cell mass','Value']* monocyte_results.loc['number','Value']/10**12\n",
    "monocyte_results.loc['total cellular mass','Uncertainty'] =FacMulProp([monocyte_results.loc['cell mass','Uncertainty'],monocyte_results.loc['number','Uncertainty']])\n",
    "\n",
    "#using the estimate for the cell mass we can estimate the total cellular mass turnover of monocytes (translating it from pg/d to g/d)\n",
    "monocyte_results.loc['cellular mass turnovr rate','Value'] = monocyte_results.loc['cell mass','Value']* monocyte_results.loc['cellular turnover rate','Value']/10**12\n",
    "monocyte_results.loc['cellular mass turnovr rate','Uncertainty'] = FacMulProp([monocyte_results.loc['cell mass','Uncertainty'],monocyte_results.loc['cellular turnover rate','Uncertainty']])\n",
    "\n",
    "\n",
    "#printing the results for the mass/total mass/cellular mass turnover rate of monocytes\n",
    "for param in monocyte_results.index[3:6]:\n",
    "    print(param.capitalize() + ' of monocytes: '+ monocyte_results.loc[param,'Formats'].format(monocyte_results.loc[param,'Value'])+ ' '+monocyte_results.loc[param,'Units'],\n",
    "            'SD range: ' + monocyte_results.loc[param,'Formats'].format(monocyte_results.loc[param,'Value']/monocyte_results.loc[param,'Uncertainty']),              \n",
    "            '- ' + monocyte_results.loc[param,'Formats'].format(monocyte_results.loc[param,'Value']*monocyte_results.loc[param,'Uncertainty']),\n",
    "            ' '+monocyte_results.loc[param,'Units'])\n",
    "\n",
    "    "
   ]
  },
  {
   "cell_type": "markdown",
   "metadata": {},
   "source": [
    "## Saving the results to excel\n"
   ]
  },
  {
   "cell_type": "code",
   "execution_count": 307,
   "metadata": {},
   "outputs": [],
   "source": [
    "#We use the dataframe monocyte_results to save the results. \n",
    "#some change are needed for it to fit our format\n",
    "\n",
    "monocyte_results.reset_index(level=0, inplace=True) #We need the paramaters as a column, not an index\n",
    "monocyte_results = monocyte_results.rename(columns = {'index':'Parameter'}) #changing its name to parameters\n",
    "monocyte_results = monocyte_results.drop(columns=['Formats']) #lossing the Format columns usefull only for printings in python \n",
    "monocyte_results['Comments'] = 'uncertainty by multiplication factor' #adding a comment about the nature of the uncertainty factor"
   ]
  },
  {
   "cell_type": "code",
   "execution_count": 308,
   "metadata": {},
   "outputs": [],
   "source": [
    "file = 'Summary.xlsx'\n",
    "book = load_workbook(file)\n",
    "writer = pd.ExcelWriter(file, engine = 'openpyxl')\n",
    "writer.book = book\n",
    "\n",
    "writer.sheets = dict((ws.title, ws) for ws in book.worksheets)\n",
    "sheet=writer.book.active\n",
    "\n",
    "monocyte_results.to_excel(writer, sheet_name = 'Monocytes',index=False)\n",
    "worksheet = writer.sheets['Monocytes']   \n",
    "worksheet.sheet_properties.tabColor= colors_data.loc['Monocytes','hex'] \n",
    "writer.save()"
   ]
  }
 ],
 "metadata": {
  "kernelspec": {
   "display_name": "Python 3",
   "language": "python",
   "name": "python3"
  },
  "language_info": {
   "codemirror_mode": {
    "name": "ipython",
    "version": 3
   },
   "file_extension": ".py",
   "mimetype": "text/x-python",
   "name": "python",
   "nbconvert_exporter": "python",
   "pygments_lexer": "ipython3",
   "version": "3.7.3"
  }
 },
 "nbformat": 4,
 "nbformat_minor": 2
}
